{
 "cells": [
  {
   "cell_type": "markdown",
   "metadata": {},
   "source": [
    "# CAICT 風機結冰預測 - Data Preprocess"
   ]
  },
  {
   "cell_type": "markdown",
   "metadata": {},
   "source": [
    "2017/07/12  \n",
    "http://www.industrial-bigdata.com/competition/competitionAction!showDetail.action?competition.competitionId=1"
   ]
  },
  {
   "cell_type": "markdown",
   "metadata": {},
   "source": [
    "## 1. 題目簡介"
   ]
  },
  {
   "cell_type": "markdown",
   "metadata": {},
   "source": [
    "### 1.1 赛程安排\n",
    "本次大赛分为初赛和复赛两个阶段，其中：初赛由参赛队伍下载数据在本地进行算法设计和调试；复赛要求参赛者进行现场答辩。具体安排和要求如下：  \n",
    "\n",
    "#### 初赛（2017年6月15日—9月1日）  \n",
    "- 1、6月15日打开报名通道，9月1日关闭报名通道，报名规则详见组队规则。  \n",
    "- 2、参赛队伍$\\color{blue}{7月3日可下载数据}$，并在本地调试算法，提交结果。  \n",
    "- 3、7月3日起提供每天1 次的评测和排名机会，选手上传数据即可获得评分与排名，实时更新排行榜，按照评测指标从高到低排序；(排行榜将选择选手在本阶段的历史最优成绩进行排名展示，不做最终排名计算)。  \n",
    "- 4、$\\color{blue}{8月18日组委会将提供最终数据}$，所有参赛者对这组数据仅有一次提交机会，且选手除提交数据外，还需上传技术原理及相关源代码，参赛者的初赛最终成绩将由这组最终数据的预测结果决定。 注：不提供技术原理及相关代码的队伍，初赛成绩视为无效。    \n",
    "- 5、$\\color{blue}{9月1日关闭报名通道且最终数据结果提交截止}$。  \n",
    "- 6、$\\color{blue}{9月8日初赛排名团队公布}$。  \n",
    "- 7、初赛截止时间是9月8日18:00，同时满足以下条件的队伍进入复赛：  \n",
    "- a.在大赛官方完成注册且“昵称/姓名/邮箱/队名和队伍结构“一致。  \n",
    "- b.初赛成绩排名前5名。  \n",
    "- c.参赛队伍需要提供源代码和技术文档（技术文档应包括算法原理）。编程语言不限（java,scala, python，r均可）。  \n",
    "\n",
    "#### 复赛（2017年9月中旬）  \n",
    "- 复赛将聘请专家在以现场答辩会的形式对参赛队伍的算法原理、代码质量等进行评审，结合初赛排行榜评比出比赛前三名(排行榜的成绩占80%，专家答辩会的成绩占20%)。 \n",
    "- 获奖团队奖受邀参与高峰论坛暨颁奖仪式。  "
   ]
  },
  {
   "cell_type": "markdown",
   "metadata": {},
   "source": [
    "### 1.2 问题描述\n",
    "叶片结冰：叶片结冰是风电领域的一个全球范围难题。$\\color{blue}{低温环境}$所导致的叶片结冰、材料及结构性能改变、载荷改变的问题等，对风机的发电性能和安全运行造成较大的威胁。随着风机的设计功率不断提升，现有风机塔筒高度也在不断增长，因此即使在北部沿海和山区地区，$\\color{blue}{冬季里大量风机都会触碰到较低的云层，在低温和潮湿环境下非常容易结冰}$。目前风机运行的实时数据主要由SCADA（注）系统进行存储，对叶片结冰故障的监测手段主要是比较风机实际功率与理论功率之间的偏差，当偏差达到一定值后会触发风机的报警和停机。然而，触发报警时往往已经发生叶片大面积结冰现象，在这样的情况下运行会增加叶片折断损坏的风险。虽然许多新型风机都设计了自动除冰系统，但是$\\color{blue}{实际应用中面临的挑战是很难对结冰的早期过程进行精确预测}$，以便能够尽早开启除冰系统。对结冰过程的预测准确度决定了除冰系统的效率、风机的效率损失和风机运行的风险。  \n",
    "\n",
    "注：SCADA是风场设备管理、监测、和控制的重要系统，通过实时收集风机运行的环境参数、工况参数、状态参数和控制参数使风场管理者能够实时了解风电装备资产的运行和健康状态。  \n",
    "\n",
    "SCADA系统每天产生大量的数据，但是$\\color{blue}{目前大部分的系统依然局限于对已发生故障的报警}$。这些故障到达报警阶段时往往已经比较严重，需要对风机进行停机和维修，造成巨大的发电损失和维护成本。通过对SCADA系统产生的大数据环境进行挖掘和建模，能够对一些严重故障进行预测和诊断，从而$\\color{blue}{使过去应激型的维护方式转变为主动预测型的维护方式}$，能够有效地改善风电设备的使用率和运维成本。"
   ]
  },
  {
   "cell_type": "markdown",
   "metadata": {},
   "source": [
    "### 1.3 评分规则\n",
    "参赛者在提交结果后，系统将根据以下规则自动对结果进行评分：\n",
    "- 故障时间区间覆盖的数据行标记为1。\n",
    "- 正常时间区间覆盖的数据行标记为0。\n",
    "- 无效数据不参与评价。\n",
    "![](doc/score.png)"
   ]
  },
  {
   "cell_type": "markdown",
   "metadata": {},
   "source": [
    "### 1.4 训练与测试数据集描述\n",
    "'train'数据集中包括两个风机的数据，存在两个以风机编号命名的文件夹中。每个文件夹中的数据包括三个文件：  \n",
    "- 编号_data.csv：风机连续时间内的SCADA原始数据（详细内容如表一所示）。  \n",
    "- 编号_normalinfo.csv：风机正常状态的时间段，第一列为起始时间，第二列为结束时间。  \n",
    "- 编号_failureinfo.csv：风机结冰故障的时间段，第一列为起始时间，第二列为结束时间。  \n",
    "- 风机正常时间区间和风机结冰时间区间均不覆盖的数据视为无效数据。  \n",
    "  \n",
    "'test'测试数据集和'final'最终数据集，数据集中同样有若干个以风机编号为命名的文件夹，每个文件夹中包括一个文件：\n",
    "- 编号_data.csv：风机连续时间内的SCADA原始数据。  \n",
    "  \n",
    "需要注意的是  \n",
    "- 'train'数据集中'time'变量和一列为真实的时间戳，会存在数据不连续的情况，期间会出现停机或人为删除部分数据的情况；\n",
    "- 'test'和'final'数据集中的'time'变量为连续的数字序号，序号的排列是按照时间的先后顺序，但中间会存在由于停机等原因造成的数据不连续情况"
   ]
  },
  {
   "cell_type": "markdown",
   "metadata": {},
   "source": [
    "# **1. Load Data and Modules**"
   ]
  },
  {
   "cell_type": "markdown",
   "metadata": {},
   "source": [
    "**Load Python modules:**"
   ]
  },
  {
   "cell_type": "code",
   "execution_count": 3,
   "metadata": {
    "collapsed": true
   },
   "outputs": [],
   "source": [
    "%matplotlib inline\n",
    "import numpy as np\n",
    "import pandas as pd\n",
    "import datetime\n",
    "import pandas as pd\n",
    "import os\n",
    "import sys\n",
    "from PIL import Image\n",
    "import numpy as np\n",
    "import lzma\n",
    "import pickle\n",
    "from IPython.display import display\n",
    "import tensorflow as tf\n",
    "from tensorflow.contrib.tensorboard.plugins import projector\n",
    "import shutil\n",
    "import csv\n",
    "import sklearn as sk\n",
    "from sklearn.metrics import precision_score\n",
    "import matplotlib.pyplot as plt\n",
    "import matplotlib.gridspec as gridspec\n",
    "import seaborn as sns\n",
    "from pylab import *\n",
    "\n",
    "pd.set_option('display.max_columns', None)\n",
    "from IPython.core.interactiveshell import InteractiveShell\n",
    "InteractiveShell.ast_node_interactivity = \"all\"\n",
    "\n",
    "def timerangeCheck(t, start, end):\n",
    "    return (t>=start) & (t<=end)\n",
    "\n",
    "def variable_summaries(var, name):  \n",
    "    with tf.name_scope('summaries_'+str(name)):  \n",
    "        mean = tf.reduce_mean(var)  \n",
    "        tf.summary.scalar('mean', mean)  \n",
    "        stddev = tf.sqrt(tf.reduce_mean(tf.square(var - mean)))  \n",
    "        tf.summary.scalar('stddev', stddev)  \n",
    "        tf.summary.scalar('max', tf.reduce_max(var))  \n",
    "        tf.summary.scalar('min', tf.reduce_min(var))  \n",
    "        tf.summary.histogram('histogram', var)  \n",
    "        \n",
    "def updateProgress(msg):\n",
    "    sys.stdout.write('\\r')\n",
    "    sys.stdout.write(msg)\n",
    "    sys.stdout.flush()\n",
    "    \n",
    "    "
   ]
  },
  {
   "cell_type": "markdown",
   "metadata": {},
   "source": [
    "**Load input data.** "
   ]
  },
  {
   "cell_type": "code",
   "execution_count": 4,
   "metadata": {
    "collapsed": true
   },
   "outputs": [],
   "source": [
    "train_data = pd.read_csv('data/ice1/train/15/15_data.csv')\n",
    "train_normlabel = pd.read_csv('data/ice1/train/15/15_normalInfo.csv')\n",
    "train_abnormlabel = pd.read_csv('data/ice1/train/15/15_failureInfo.csv')\n",
    "\n",
    "valida_data = pd.read_csv('data/ice1/train/21/21_data.csv')\n",
    "valida_normlabel = pd.read_csv('data/ice1/train/21/21_normalInfo.csv')\n",
    "valida_abnormlabel = pd.read_csv('data/ice1/train/21/21_failureInfo.csv')\n",
    "\n",
    "test_data = pd.read_csv('data/ice1/test/08/08_data.csv')\n",
    "\n",
    "column_desc=pd.read_csv('doc/columndesc.csv')"
   ]
  },
  {
   "cell_type": "markdown",
   "metadata": {},
   "source": [
    "# 2. Initial Exploration\n",
    "**Look at your data in as many different ways as possible.**"
   ]
  },
  {
   "cell_type": "markdown",
   "metadata": {},
   "source": [
    "**数据描述**"
   ]
  },
  {
   "cell_type": "markdown",
   "metadata": {},
   "source": [
    "SCADA系统的数据通常有上百个变量，本次竞赛的数据经过筛选保留了其中28个连续数值型变量，涵盖了\n",
    "- 风机的工况参数、\n",
    "- 环境参数和\n",
    "- 状态参数 \n",
    "等多个维度。变量的名称及说明如下表所示：     \n",
    "  \n",
    "叶片结冰比赛，此次公布的数据有两组，分别是  \n",
    "- 带有故障标签的训练数据train，和  \n",
    "- 一起公布测试数据test。  \n",
    "\n",
    "参赛团队对测试数据中的文件所代表的状态进行预测后，可以提交到竞赛网站上进行评分，每天限提交一次结果。评分系统将根据评分规则对参赛者的每一次提交反馈一个分数，但不会提供每一个文件的预测结果信息。\n",
    "在8月18日组委会将提供初赛最终数据（final），所有参赛者对这组数据仅有一次提交机会，参赛者的最终成绩将来自于对这组最终数据的预测结果。"
   ]
  },
  {
   "cell_type": "code",
   "execution_count": 5,
   "metadata": {
    "scrolled": false
   },
   "outputs": [
    {
     "data": {
      "text/html": [
       "<div>\n",
       "<style>\n",
       "    .dataframe thead tr:only-child th {\n",
       "        text-align: right;\n",
       "    }\n",
       "\n",
       "    .dataframe thead th {\n",
       "        text-align: left;\n",
       "    }\n",
       "\n",
       "    .dataframe tbody tr th {\n",
       "        vertical-align: top;\n",
       "    }\n",
       "</style>\n",
       "<table border=\"1\" class=\"dataframe\">\n",
       "  <thead>\n",
       "    <tr style=\"text-align: right;\">\n",
       "      <th></th>\n",
       "      <th>字段名</th>\n",
       "      <th>说明</th>\n",
       "    </tr>\n",
       "  </thead>\n",
       "  <tbody>\n",
       "    <tr>\n",
       "      <th>0</th>\n",
       "      <td>time</td>\n",
       "      <td>时间戳</td>\n",
       "    </tr>\n",
       "    <tr>\n",
       "      <th>1</th>\n",
       "      <td>wind_speed</td>\n",
       "      <td>风速</td>\n",
       "    </tr>\n",
       "    <tr>\n",
       "      <th>2</th>\n",
       "      <td>generator_speed</td>\n",
       "      <td>发电机转速</td>\n",
       "    </tr>\n",
       "    <tr>\n",
       "      <th>3</th>\n",
       "      <td>power</td>\n",
       "      <td>网侧有功功率(kw)</td>\n",
       "    </tr>\n",
       "    <tr>\n",
       "      <th>4</th>\n",
       "      <td>wind_direction</td>\n",
       "      <td>对风角(°)</td>\n",
       "    </tr>\n",
       "    <tr>\n",
       "      <th>5</th>\n",
       "      <td>wind_direction_mean</td>\n",
       "      <td>25秒平均风向角</td>\n",
       "    </tr>\n",
       "    <tr>\n",
       "      <th>6</th>\n",
       "      <td>yaw_position</td>\n",
       "      <td>偏航位置</td>\n",
       "    </tr>\n",
       "    <tr>\n",
       "      <th>7</th>\n",
       "      <td>yaw_speed</td>\n",
       "      <td>偏航速度</td>\n",
       "    </tr>\n",
       "    <tr>\n",
       "      <th>8</th>\n",
       "      <td>pitch1_angle</td>\n",
       "      <td>叶片1角度</td>\n",
       "    </tr>\n",
       "    <tr>\n",
       "      <th>9</th>\n",
       "      <td>pitch2_angle</td>\n",
       "      <td>叶片2角度</td>\n",
       "    </tr>\n",
       "    <tr>\n",
       "      <th>10</th>\n",
       "      <td>pitch3_angle</td>\n",
       "      <td>叶片3角度</td>\n",
       "    </tr>\n",
       "    <tr>\n",
       "      <th>11</th>\n",
       "      <td>pitch1_speed</td>\n",
       "      <td>叶片1速度</td>\n",
       "    </tr>\n",
       "    <tr>\n",
       "      <th>12</th>\n",
       "      <td>pitch2_speed</td>\n",
       "      <td>叶片2速度</td>\n",
       "    </tr>\n",
       "    <tr>\n",
       "      <th>13</th>\n",
       "      <td>pitch3_speed</td>\n",
       "      <td>叶片3速度</td>\n",
       "    </tr>\n",
       "    <tr>\n",
       "      <th>14</th>\n",
       "      <td>pitch1_moto_tmp</td>\n",
       "      <td>变桨电机1温度</td>\n",
       "    </tr>\n",
       "    <tr>\n",
       "      <th>15</th>\n",
       "      <td>pitch2_moto_tmp</td>\n",
       "      <td>变桨电机2温度</td>\n",
       "    </tr>\n",
       "    <tr>\n",
       "      <th>16</th>\n",
       "      <td>pitch3_moto_tmp</td>\n",
       "      <td>变桨电机3温度</td>\n",
       "    </tr>\n",
       "    <tr>\n",
       "      <th>17</th>\n",
       "      <td>acc_x</td>\n",
       "      <td>x方向加速度</td>\n",
       "    </tr>\n",
       "    <tr>\n",
       "      <th>18</th>\n",
       "      <td>acc_y</td>\n",
       "      <td>y方向加速度</td>\n",
       "    </tr>\n",
       "    <tr>\n",
       "      <th>19</th>\n",
       "      <td>environment_tmp</td>\n",
       "      <td>环境温度</td>\n",
       "    </tr>\n",
       "    <tr>\n",
       "      <th>20</th>\n",
       "      <td>int_tmp</td>\n",
       "      <td>机舱温度</td>\n",
       "    </tr>\n",
       "    <tr>\n",
       "      <th>21</th>\n",
       "      <td>pitch1_ng5_tmp</td>\n",
       "      <td>ng5 1温度</td>\n",
       "    </tr>\n",
       "    <tr>\n",
       "      <th>22</th>\n",
       "      <td>pitch2_ng5_tmp</td>\n",
       "      <td>ng5 2温度</td>\n",
       "    </tr>\n",
       "    <tr>\n",
       "      <th>23</th>\n",
       "      <td>pitch3_ng5_tmp</td>\n",
       "      <td>ng5 3温度</td>\n",
       "    </tr>\n",
       "    <tr>\n",
       "      <th>24</th>\n",
       "      <td>pitch1_ng5_DC</td>\n",
       "      <td>ng5 1充电器直流电流</td>\n",
       "    </tr>\n",
       "    <tr>\n",
       "      <th>25</th>\n",
       "      <td>pitch2_ng5_DC</td>\n",
       "      <td>ng5 2充电器直流电流</td>\n",
       "    </tr>\n",
       "    <tr>\n",
       "      <th>26</th>\n",
       "      <td>pitch3_ng5_DC</td>\n",
       "      <td>ng5 3充电器直流电流</td>\n",
       "    </tr>\n",
       "    <tr>\n",
       "      <th>27</th>\n",
       "      <td>group</td>\n",
       "      <td>数据分组标识</td>\n",
       "    </tr>\n",
       "  </tbody>\n",
       "</table>\n",
       "</div>"
      ],
      "text/plain": [
       "                    字段名            说明\n",
       "0                  time           时间戳\n",
       "1            wind_speed            风速\n",
       "2       generator_speed         发电机转速\n",
       "3                 power    网侧有功功率(kw)\n",
       "4        wind_direction        对风角(°)\n",
       "5   wind_direction_mean      25秒平均风向角\n",
       "6          yaw_position          偏航位置\n",
       "7             yaw_speed          偏航速度\n",
       "8          pitch1_angle         叶片1角度\n",
       "9          pitch2_angle         叶片2角度\n",
       "10         pitch3_angle         叶片3角度\n",
       "11         pitch1_speed         叶片1速度\n",
       "12         pitch2_speed         叶片2速度\n",
       "13         pitch3_speed         叶片3速度\n",
       "14      pitch1_moto_tmp       变桨电机1温度\n",
       "15      pitch2_moto_tmp       变桨电机2温度\n",
       "16      pitch3_moto_tmp       变桨电机3温度\n",
       "17                acc_x        x方向加速度\n",
       "18                acc_y        y方向加速度\n",
       "19      environment_tmp          环境温度\n",
       "20              int_tmp          机舱温度\n",
       "21       pitch1_ng5_tmp       ng5 1温度\n",
       "22       pitch2_ng5_tmp       ng5 2温度\n",
       "23       pitch3_ng5_tmp       ng5 3温度\n",
       "24        pitch1_ng5_DC  ng5 1充电器直流电流\n",
       "25        pitch2_ng5_DC  ng5 2充电器直流电流\n",
       "26        pitch3_ng5_DC  ng5 3充电器直流电流\n",
       "27                group        数据分组标识"
      ]
     },
     "execution_count": 5,
     "metadata": {},
     "output_type": "execute_result"
    }
   ],
   "source": [
    "column_desc"
   ]
  },
  {
   "cell_type": "markdown",
   "metadata": {},
   "source": [
    "#### 风机的工况、环境、状态參數"
   ]
  },
  {
   "cell_type": "code",
   "execution_count": 6,
   "metadata": {},
   "outputs": [
    {
     "name": "stdout",
     "output_type": "stream",
     "text": [
      "training data size: (393886, 28)\n",
      "validation data size: (190494, 28)\n",
      "test data size: (202328, 28)\n"
     ]
    },
    {
     "data": {
      "text/html": [
       "<div>\n",
       "<style>\n",
       "    .dataframe thead tr:only-child th {\n",
       "        text-align: right;\n",
       "    }\n",
       "\n",
       "    .dataframe thead th {\n",
       "        text-align: left;\n",
       "    }\n",
       "\n",
       "    .dataframe tbody tr th {\n",
       "        vertical-align: top;\n",
       "    }\n",
       "</style>\n",
       "<table border=\"1\" class=\"dataframe\">\n",
       "  <thead>\n",
       "    <tr style=\"text-align: right;\">\n",
       "      <th></th>\n",
       "      <th>time</th>\n",
       "      <th>wind_speed</th>\n",
       "      <th>generator_speed</th>\n",
       "      <th>power</th>\n",
       "      <th>wind_direction</th>\n",
       "      <th>wind_direction_mean</th>\n",
       "      <th>yaw_position</th>\n",
       "      <th>yaw_speed</th>\n",
       "      <th>pitch1_angle</th>\n",
       "      <th>pitch2_angle</th>\n",
       "      <th>pitch3_angle</th>\n",
       "      <th>pitch1_speed</th>\n",
       "      <th>pitch2_speed</th>\n",
       "      <th>pitch3_speed</th>\n",
       "      <th>pitch1_moto_tmp</th>\n",
       "      <th>pitch2_moto_tmp</th>\n",
       "      <th>pitch3_moto_tmp</th>\n",
       "      <th>acc_x</th>\n",
       "      <th>acc_y</th>\n",
       "      <th>environment_tmp</th>\n",
       "      <th>int_tmp</th>\n",
       "      <th>pitch1_ng5_tmp</th>\n",
       "      <th>pitch2_ng5_tmp</th>\n",
       "      <th>pitch3_ng5_tmp</th>\n",
       "      <th>pitch1_ng5_DC</th>\n",
       "      <th>pitch2_ng5_DC</th>\n",
       "      <th>pitch3_ng5_DC</th>\n",
       "      <th>group</th>\n",
       "    </tr>\n",
       "  </thead>\n",
       "  <tbody>\n",
       "    <tr>\n",
       "      <th>0</th>\n",
       "      <td>2015-11-01 20:20:16</td>\n",
       "      <td>1.859993</td>\n",
       "      <td>1.223595</td>\n",
       "      <td>2.515790</td>\n",
       "      <td>-2.072739</td>\n",
       "      <td>-2.073627</td>\n",
       "      <td>-0.655343</td>\n",
       "      <td>0.030804</td>\n",
       "      <td>0.555556</td>\n",
       "      <td>0.506667</td>\n",
       "      <td>0.551111</td>\n",
       "      <td>-1.68</td>\n",
       "      <td>-1.72</td>\n",
       "      <td>-1.68</td>\n",
       "      <td>0.759</td>\n",
       "      <td>0.600</td>\n",
       "      <td>0.590</td>\n",
       "      <td>-1.023986</td>\n",
       "      <td>0.061109</td>\n",
       "      <td>-0.403919</td>\n",
       "      <td>0.014918</td>\n",
       "      <td>1.307692</td>\n",
       "      <td>1.123077</td>\n",
       "      <td>0.783077</td>\n",
       "      <td>1.36</td>\n",
       "      <td>0.00</td>\n",
       "      <td>1.56</td>\n",
       "      <td>1</td>\n",
       "    </tr>\n",
       "    <tr>\n",
       "      <th>1</th>\n",
       "      <td>2015-11-01 20:20:23</td>\n",
       "      <td>1.911625</td>\n",
       "      <td>1.293394</td>\n",
       "      <td>2.313551</td>\n",
       "      <td>-2.010591</td>\n",
       "      <td>-1.615140</td>\n",
       "      <td>-0.655343</td>\n",
       "      <td>0.030804</td>\n",
       "      <td>0.195556</td>\n",
       "      <td>0.133333</td>\n",
       "      <td>0.191111</td>\n",
       "      <td>0.00</td>\n",
       "      <td>0.00</td>\n",
       "      <td>0.00</td>\n",
       "      <td>0.769</td>\n",
       "      <td>0.609</td>\n",
       "      <td>0.600</td>\n",
       "      <td>1.225767</td>\n",
       "      <td>-1.209522</td>\n",
       "      <td>-0.421277</td>\n",
       "      <td>-0.002291</td>\n",
       "      <td>1.307692</td>\n",
       "      <td>1.123077</td>\n",
       "      <td>0.783077</td>\n",
       "      <td>0.44</td>\n",
       "      <td>2.88</td>\n",
       "      <td>-2.60</td>\n",
       "      <td>1</td>\n",
       "    </tr>\n",
       "    <tr>\n",
       "      <th>2</th>\n",
       "      <td>2015-11-01 20:20:30</td>\n",
       "      <td>1.635027</td>\n",
       "      <td>1.280099</td>\n",
       "      <td>2.507799</td>\n",
       "      <td>-2.053750</td>\n",
       "      <td>-0.282742</td>\n",
       "      <td>-0.649566</td>\n",
       "      <td>0.170338</td>\n",
       "      <td>0.964444</td>\n",
       "      <td>0.951111</td>\n",
       "      <td>0.960000</td>\n",
       "      <td>-1.88</td>\n",
       "      <td>-1.84</td>\n",
       "      <td>-1.64</td>\n",
       "      <td>0.769</td>\n",
       "      <td>0.609</td>\n",
       "      <td>0.609</td>\n",
       "      <td>0.100890</td>\n",
       "      <td>0.061109</td>\n",
       "      <td>-0.421277</td>\n",
       "      <td>-0.002291</td>\n",
       "      <td>1.307692</td>\n",
       "      <td>1.123077</td>\n",
       "      <td>0.783077</td>\n",
       "      <td>1.76</td>\n",
       "      <td>0.60</td>\n",
       "      <td>2.56</td>\n",
       "      <td>1</td>\n",
       "    </tr>\n",
       "    <tr>\n",
       "      <th>3</th>\n",
       "      <td>2015-11-01 20:20:37</td>\n",
       "      <td>1.786234</td>\n",
       "      <td>1.280099</td>\n",
       "      <td>2.349593</td>\n",
       "      <td>-2.007138</td>\n",
       "      <td>-2.234477</td>\n",
       "      <td>-0.655343</td>\n",
       "      <td>-0.004080</td>\n",
       "      <td>0.168889</td>\n",
       "      <td>0.137778</td>\n",
       "      <td>0.177778</td>\n",
       "      <td>0.00</td>\n",
       "      <td>0.00</td>\n",
       "      <td>0.00</td>\n",
       "      <td>0.780</td>\n",
       "      <td>0.630</td>\n",
       "      <td>0.619</td>\n",
       "      <td>0.100890</td>\n",
       "      <td>0.061109</td>\n",
       "      <td>-0.403919</td>\n",
       "      <td>-0.002291</td>\n",
       "      <td>1.307692</td>\n",
       "      <td>1.123077</td>\n",
       "      <td>0.783077</td>\n",
       "      <td>2.80</td>\n",
       "      <td>-0.48</td>\n",
       "      <td>0.12</td>\n",
       "      <td>1</td>\n",
       "    </tr>\n",
       "    <tr>\n",
       "      <th>4</th>\n",
       "      <td>2015-11-01 20:20:47</td>\n",
       "      <td>1.786234</td>\n",
       "      <td>1.263480</td>\n",
       "      <td>2.321566</td>\n",
       "      <td>-2.264365</td>\n",
       "      <td>-1.428959</td>\n",
       "      <td>-0.637917</td>\n",
       "      <td>0.414524</td>\n",
       "      <td>0.182222</td>\n",
       "      <td>0.168889</td>\n",
       "      <td>0.204444</td>\n",
       "      <td>0.00</td>\n",
       "      <td>0.00</td>\n",
       "      <td>0.00</td>\n",
       "      <td>0.780</td>\n",
       "      <td>0.630</td>\n",
       "      <td>0.619</td>\n",
       "      <td>-1.023986</td>\n",
       "      <td>-1.209522</td>\n",
       "      <td>-0.403919</td>\n",
       "      <td>0.014918</td>\n",
       "      <td>1.307692</td>\n",
       "      <td>1.123077</td>\n",
       "      <td>0.783077</td>\n",
       "      <td>-0.88</td>\n",
       "      <td>1.72</td>\n",
       "      <td>0.92</td>\n",
       "      <td>1</td>\n",
       "    </tr>\n",
       "  </tbody>\n",
       "</table>\n",
       "</div>"
      ],
      "text/plain": [
       "                  time  wind_speed  generator_speed     power  wind_direction  \\\n",
       "0  2015-11-01 20:20:16    1.859993         1.223595  2.515790       -2.072739   \n",
       "1  2015-11-01 20:20:23    1.911625         1.293394  2.313551       -2.010591   \n",
       "2  2015-11-01 20:20:30    1.635027         1.280099  2.507799       -2.053750   \n",
       "3  2015-11-01 20:20:37    1.786234         1.280099  2.349593       -2.007138   \n",
       "4  2015-11-01 20:20:47    1.786234         1.263480  2.321566       -2.264365   \n",
       "\n",
       "   wind_direction_mean  yaw_position  yaw_speed  pitch1_angle  pitch2_angle  \\\n",
       "0            -2.073627     -0.655343   0.030804      0.555556      0.506667   \n",
       "1            -1.615140     -0.655343   0.030804      0.195556      0.133333   \n",
       "2            -0.282742     -0.649566   0.170338      0.964444      0.951111   \n",
       "3            -2.234477     -0.655343  -0.004080      0.168889      0.137778   \n",
       "4            -1.428959     -0.637917   0.414524      0.182222      0.168889   \n",
       "\n",
       "   pitch3_angle  pitch1_speed  pitch2_speed  pitch3_speed  pitch1_moto_tmp  \\\n",
       "0      0.551111         -1.68         -1.72         -1.68            0.759   \n",
       "1      0.191111          0.00          0.00          0.00            0.769   \n",
       "2      0.960000         -1.88         -1.84         -1.64            0.769   \n",
       "3      0.177778          0.00          0.00          0.00            0.780   \n",
       "4      0.204444          0.00          0.00          0.00            0.780   \n",
       "\n",
       "   pitch2_moto_tmp  pitch3_moto_tmp     acc_x     acc_y  environment_tmp  \\\n",
       "0            0.600            0.590 -1.023986  0.061109        -0.403919   \n",
       "1            0.609            0.600  1.225767 -1.209522        -0.421277   \n",
       "2            0.609            0.609  0.100890  0.061109        -0.421277   \n",
       "3            0.630            0.619  0.100890  0.061109        -0.403919   \n",
       "4            0.630            0.619 -1.023986 -1.209522        -0.403919   \n",
       "\n",
       "    int_tmp  pitch1_ng5_tmp  pitch2_ng5_tmp  pitch3_ng5_tmp  pitch1_ng5_DC  \\\n",
       "0  0.014918        1.307692        1.123077        0.783077           1.36   \n",
       "1 -0.002291        1.307692        1.123077        0.783077           0.44   \n",
       "2 -0.002291        1.307692        1.123077        0.783077           1.76   \n",
       "3 -0.002291        1.307692        1.123077        0.783077           2.80   \n",
       "4  0.014918        1.307692        1.123077        0.783077          -0.88   \n",
       "\n",
       "   pitch2_ng5_DC  pitch3_ng5_DC  group  \n",
       "0           0.00           1.56      1  \n",
       "1           2.88          -2.60      1  \n",
       "2           0.60           2.56      1  \n",
       "3          -0.48           0.12      1  \n",
       "4           1.72           0.92      1  "
      ]
     },
     "execution_count": 6,
     "metadata": {},
     "output_type": "execute_result"
    }
   ],
   "source": [
    "print('training data size:',train_data.shape)\n",
    "print('validation data size:',valida_data.shape)\n",
    "print('test data size:',test_data.shape)\n",
    "train_data.head(5)"
   ]
  },
  {
   "cell_type": "code",
   "execution_count": 7,
   "metadata": {},
   "outputs": [
    {
     "data": {
      "text/html": [
       "<div>\n",
       "<style>\n",
       "    .dataframe thead tr:only-child th {\n",
       "        text-align: right;\n",
       "    }\n",
       "\n",
       "    .dataframe thead th {\n",
       "        text-align: left;\n",
       "    }\n",
       "\n",
       "    .dataframe tbody tr th {\n",
       "        vertical-align: top;\n",
       "    }\n",
       "</style>\n",
       "<table border=\"1\" class=\"dataframe\">\n",
       "  <thead>\n",
       "    <tr style=\"text-align: right;\">\n",
       "      <th></th>\n",
       "      <th>wind_speed</th>\n",
       "      <th>generator_speed</th>\n",
       "      <th>power</th>\n",
       "      <th>wind_direction</th>\n",
       "      <th>wind_direction_mean</th>\n",
       "      <th>yaw_position</th>\n",
       "      <th>yaw_speed</th>\n",
       "      <th>pitch1_angle</th>\n",
       "      <th>pitch2_angle</th>\n",
       "      <th>pitch3_angle</th>\n",
       "      <th>pitch1_speed</th>\n",
       "      <th>pitch2_speed</th>\n",
       "      <th>pitch3_speed</th>\n",
       "      <th>pitch1_moto_tmp</th>\n",
       "      <th>pitch2_moto_tmp</th>\n",
       "      <th>pitch3_moto_tmp</th>\n",
       "      <th>acc_x</th>\n",
       "      <th>acc_y</th>\n",
       "      <th>environment_tmp</th>\n",
       "      <th>int_tmp</th>\n",
       "      <th>pitch1_ng5_tmp</th>\n",
       "      <th>pitch2_ng5_tmp</th>\n",
       "      <th>pitch3_ng5_tmp</th>\n",
       "      <th>pitch1_ng5_DC</th>\n",
       "      <th>pitch2_ng5_DC</th>\n",
       "      <th>pitch3_ng5_DC</th>\n",
       "      <th>group</th>\n",
       "    </tr>\n",
       "  </thead>\n",
       "  <tbody>\n",
       "    <tr>\n",
       "      <th>count</th>\n",
       "      <td>393886.000000</td>\n",
       "      <td>393886.000000</td>\n",
       "      <td>393886.000000</td>\n",
       "      <td>393886.000000</td>\n",
       "      <td>393886.000000</td>\n",
       "      <td>393886.000000</td>\n",
       "      <td>393886.000000</td>\n",
       "      <td>393886.000000</td>\n",
       "      <td>393886.000000</td>\n",
       "      <td>393886.000000</td>\n",
       "      <td>393886.000000</td>\n",
       "      <td>393886.000000</td>\n",
       "      <td>393886.000000</td>\n",
       "      <td>393886.000000</td>\n",
       "      <td>393886.000000</td>\n",
       "      <td>393886.000000</td>\n",
       "      <td>393886.000000</td>\n",
       "      <td>393886.000000</td>\n",
       "      <td>393886.000000</td>\n",
       "      <td>393886.000000</td>\n",
       "      <td>393886.000000</td>\n",
       "      <td>393886.000000</td>\n",
       "      <td>393886.000000</td>\n",
       "      <td>393886.000000</td>\n",
       "      <td>393886.000000</td>\n",
       "      <td>393886.000000</td>\n",
       "      <td>393886.000000</td>\n",
       "    </tr>\n",
       "    <tr>\n",
       "      <th>mean</th>\n",
       "      <td>-0.191960</td>\n",
       "      <td>-0.179717</td>\n",
       "      <td>-0.186445</td>\n",
       "      <td>-0.038769</td>\n",
       "      <td>-0.029129</td>\n",
       "      <td>0.062334</td>\n",
       "      <td>-0.003912</td>\n",
       "      <td>0.358042</td>\n",
       "      <td>0.354336</td>\n",
       "      <td>0.364184</td>\n",
       "      <td>0.000628</td>\n",
       "      <td>0.000572</td>\n",
       "      <td>0.000446</td>\n",
       "      <td>-1.135335</td>\n",
       "      <td>-1.150431</td>\n",
       "      <td>-1.131319</td>\n",
       "      <td>0.069699</td>\n",
       "      <td>-0.152925</td>\n",
       "      <td>-0.434677</td>\n",
       "      <td>-0.489827</td>\n",
       "      <td>0.901730</td>\n",
       "      <td>0.903601</td>\n",
       "      <td>0.877262</td>\n",
       "      <td>0.221418</td>\n",
       "      <td>0.379987</td>\n",
       "      <td>0.347584</td>\n",
       "      <td>1924.584926</td>\n",
       "    </tr>\n",
       "    <tr>\n",
       "      <th>std</th>\n",
       "      <td>0.914071</td>\n",
       "      <td>0.986147</td>\n",
       "      <td>0.904671</td>\n",
       "      <td>1.066382</td>\n",
       "      <td>1.142581</td>\n",
       "      <td>0.916932</td>\n",
       "      <td>0.176156</td>\n",
       "      <td>0.718962</td>\n",
       "      <td>0.715185</td>\n",
       "      <td>0.717325</td>\n",
       "      <td>0.370132</td>\n",
       "      <td>0.371338</td>\n",
       "      <td>0.345625</td>\n",
       "      <td>0.733717</td>\n",
       "      <td>0.698257</td>\n",
       "      <td>0.693738</td>\n",
       "      <td>0.831980</td>\n",
       "      <td>0.692905</td>\n",
       "      <td>1.064107</td>\n",
       "      <td>1.099583</td>\n",
       "      <td>0.239209</td>\n",
       "      <td>0.238215</td>\n",
       "      <td>0.220438</td>\n",
       "      <td>1.033161</td>\n",
       "      <td>0.983804</td>\n",
       "      <td>1.148018</td>\n",
       "      <td>1111.546402</td>\n",
       "    </tr>\n",
       "    <tr>\n",
       "      <th>min</th>\n",
       "      <td>-2.292657</td>\n",
       "      <td>-2.382734</td>\n",
       "      <td>-1.119719</td>\n",
       "      <td>-5.333827</td>\n",
       "      <td>-9.270093</td>\n",
       "      <td>-1.767166</td>\n",
       "      <td>-2.445940</td>\n",
       "      <td>0.080000</td>\n",
       "      <td>0.066667</td>\n",
       "      <td>0.088889</td>\n",
       "      <td>-9.720000</td>\n",
       "      <td>-10.200000</td>\n",
       "      <td>-9.520000</td>\n",
       "      <td>-2.539000</td>\n",
       "      <td>-2.520000</td>\n",
       "      <td>-2.550000</td>\n",
       "      <td>-5.523493</td>\n",
       "      <td>-8.833311</td>\n",
       "      <td>-2.692108</td>\n",
       "      <td>-3.025473</td>\n",
       "      <td>0.429231</td>\n",
       "      <td>0.398462</td>\n",
       "      <td>0.446154</td>\n",
       "      <td>-3.720000</td>\n",
       "      <td>-3.720000</td>\n",
       "      <td>-3.280000</td>\n",
       "      <td>1.000000</td>\n",
       "    </tr>\n",
       "    <tr>\n",
       "      <th>25%</th>\n",
       "      <td>-0.835910</td>\n",
       "      <td>-1.159574</td>\n",
       "      <td>-0.875135</td>\n",
       "      <td>-0.784877</td>\n",
       "      <td>-0.777959</td>\n",
       "      <td>-0.614620</td>\n",
       "      <td>-0.038964</td>\n",
       "      <td>0.204444</td>\n",
       "      <td>0.204444</td>\n",
       "      <td>0.208889</td>\n",
       "      <td>0.000000</td>\n",
       "      <td>0.000000</td>\n",
       "      <td>0.000000</td>\n",
       "      <td>-1.679000</td>\n",
       "      <td>-1.670000</td>\n",
       "      <td>-1.650000</td>\n",
       "      <td>0.100890</td>\n",
       "      <td>0.061109</td>\n",
       "      <td>-1.241870</td>\n",
       "      <td>-1.400106</td>\n",
       "      <td>0.692308</td>\n",
       "      <td>0.692308</td>\n",
       "      <td>0.676923</td>\n",
       "      <td>-0.640000</td>\n",
       "      <td>-0.440000</td>\n",
       "      <td>-0.520000</td>\n",
       "      <td>960.000000</td>\n",
       "    </tr>\n",
       "    <tr>\n",
       "      <th>50%</th>\n",
       "      <td>-0.356474</td>\n",
       "      <td>-0.441632</td>\n",
       "      <td>-0.537001</td>\n",
       "      <td>-0.071892</td>\n",
       "      <td>-0.028168</td>\n",
       "      <td>-0.370142</td>\n",
       "      <td>-0.004080</td>\n",
       "      <td>0.217778</td>\n",
       "      <td>0.217778</td>\n",
       "      <td>0.217778</td>\n",
       "      <td>0.000000</td>\n",
       "      <td>0.000000</td>\n",
       "      <td>0.000000</td>\n",
       "      <td>-1.119000</td>\n",
       "      <td>-1.119000</td>\n",
       "      <td>-1.100000</td>\n",
       "      <td>0.100890</td>\n",
       "      <td>0.061109</td>\n",
       "      <td>-0.482822</td>\n",
       "      <td>-0.614194</td>\n",
       "      <td>0.875385</td>\n",
       "      <td>0.875385</td>\n",
       "      <td>0.860000</td>\n",
       "      <td>0.000000</td>\n",
       "      <td>0.240000</td>\n",
       "      <td>0.200000</td>\n",
       "      <td>1923.000000</td>\n",
       "    </tr>\n",
       "    <tr>\n",
       "      <th>75%</th>\n",
       "      <td>0.296296</td>\n",
       "      <td>0.964338</td>\n",
       "      <td>0.279006</td>\n",
       "      <td>0.696337</td>\n",
       "      <td>0.734287</td>\n",
       "      <td>1.050084</td>\n",
       "      <td>0.065687</td>\n",
       "      <td>0.328889</td>\n",
       "      <td>0.320000</td>\n",
       "      <td>0.324444</td>\n",
       "      <td>0.000000</td>\n",
       "      <td>0.000000</td>\n",
       "      <td>0.000000</td>\n",
       "      <td>-0.680000</td>\n",
       "      <td>-0.690000</td>\n",
       "      <td>-0.669000</td>\n",
       "      <td>0.100890</td>\n",
       "      <td>0.061109</td>\n",
       "      <td>0.306209</td>\n",
       "      <td>0.435601</td>\n",
       "      <td>1.090769</td>\n",
       "      <td>1.090769</td>\n",
       "      <td>1.061538</td>\n",
       "      <td>0.920000</td>\n",
       "      <td>1.120000</td>\n",
       "      <td>1.400000</td>\n",
       "      <td>2888.000000</td>\n",
       "    </tr>\n",
       "    <tr>\n",
       "      <th>max</th>\n",
       "      <td>5.835621</td>\n",
       "      <td>1.542680</td>\n",
       "      <td>2.579883</td>\n",
       "      <td>5.417923</td>\n",
       "      <td>7.549526</td>\n",
       "      <td>3.110697</td>\n",
       "      <td>5.228478</td>\n",
       "      <td>10.195556</td>\n",
       "      <td>10.160000</td>\n",
       "      <td>10.200000</td>\n",
       "      <td>15.880000</td>\n",
       "      <td>15.400000</td>\n",
       "      <td>15.640000</td>\n",
       "      <td>1.860000</td>\n",
       "      <td>1.950000</td>\n",
       "      <td>1.679000</td>\n",
       "      <td>6.850151</td>\n",
       "      <td>7.684898</td>\n",
       "      <td>2.813749</td>\n",
       "      <td>1.814295</td>\n",
       "      <td>1.476923</td>\n",
       "      <td>2.444615</td>\n",
       "      <td>1.615385</td>\n",
       "      <td>3.280000</td>\n",
       "      <td>3.600000</td>\n",
       "      <td>3.240000</td>\n",
       "      <td>3853.000000</td>\n",
       "    </tr>\n",
       "  </tbody>\n",
       "</table>\n",
       "</div>"
      ],
      "text/plain": [
       "          wind_speed  generator_speed          power  wind_direction  \\\n",
       "count  393886.000000    393886.000000  393886.000000   393886.000000   \n",
       "mean       -0.191960        -0.179717      -0.186445       -0.038769   \n",
       "std         0.914071         0.986147       0.904671        1.066382   \n",
       "min        -2.292657        -2.382734      -1.119719       -5.333827   \n",
       "25%        -0.835910        -1.159574      -0.875135       -0.784877   \n",
       "50%        -0.356474        -0.441632      -0.537001       -0.071892   \n",
       "75%         0.296296         0.964338       0.279006        0.696337   \n",
       "max         5.835621         1.542680       2.579883        5.417923   \n",
       "\n",
       "       wind_direction_mean   yaw_position      yaw_speed   pitch1_angle  \\\n",
       "count        393886.000000  393886.000000  393886.000000  393886.000000   \n",
       "mean             -0.029129       0.062334      -0.003912       0.358042   \n",
       "std               1.142581       0.916932       0.176156       0.718962   \n",
       "min              -9.270093      -1.767166      -2.445940       0.080000   \n",
       "25%              -0.777959      -0.614620      -0.038964       0.204444   \n",
       "50%              -0.028168      -0.370142      -0.004080       0.217778   \n",
       "75%               0.734287       1.050084       0.065687       0.328889   \n",
       "max               7.549526       3.110697       5.228478      10.195556   \n",
       "\n",
       "        pitch2_angle   pitch3_angle   pitch1_speed   pitch2_speed  \\\n",
       "count  393886.000000  393886.000000  393886.000000  393886.000000   \n",
       "mean        0.354336       0.364184       0.000628       0.000572   \n",
       "std         0.715185       0.717325       0.370132       0.371338   \n",
       "min         0.066667       0.088889      -9.720000     -10.200000   \n",
       "25%         0.204444       0.208889       0.000000       0.000000   \n",
       "50%         0.217778       0.217778       0.000000       0.000000   \n",
       "75%         0.320000       0.324444       0.000000       0.000000   \n",
       "max        10.160000      10.200000      15.880000      15.400000   \n",
       "\n",
       "        pitch3_speed  pitch1_moto_tmp  pitch2_moto_tmp  pitch3_moto_tmp  \\\n",
       "count  393886.000000    393886.000000    393886.000000    393886.000000   \n",
       "mean        0.000446        -1.135335        -1.150431        -1.131319   \n",
       "std         0.345625         0.733717         0.698257         0.693738   \n",
       "min        -9.520000        -2.539000        -2.520000        -2.550000   \n",
       "25%         0.000000        -1.679000        -1.670000        -1.650000   \n",
       "50%         0.000000        -1.119000        -1.119000        -1.100000   \n",
       "75%         0.000000        -0.680000        -0.690000        -0.669000   \n",
       "max        15.640000         1.860000         1.950000         1.679000   \n",
       "\n",
       "               acc_x          acc_y  environment_tmp        int_tmp  \\\n",
       "count  393886.000000  393886.000000    393886.000000  393886.000000   \n",
       "mean        0.069699      -0.152925        -0.434677      -0.489827   \n",
       "std         0.831980       0.692905         1.064107       1.099583   \n",
       "min        -5.523493      -8.833311        -2.692108      -3.025473   \n",
       "25%         0.100890       0.061109        -1.241870      -1.400106   \n",
       "50%         0.100890       0.061109        -0.482822      -0.614194   \n",
       "75%         0.100890       0.061109         0.306209       0.435601   \n",
       "max         6.850151       7.684898         2.813749       1.814295   \n",
       "\n",
       "       pitch1_ng5_tmp  pitch2_ng5_tmp  pitch3_ng5_tmp  pitch1_ng5_DC  \\\n",
       "count   393886.000000   393886.000000   393886.000000  393886.000000   \n",
       "mean         0.901730        0.903601        0.877262       0.221418   \n",
       "std          0.239209        0.238215        0.220438       1.033161   \n",
       "min          0.429231        0.398462        0.446154      -3.720000   \n",
       "25%          0.692308        0.692308        0.676923      -0.640000   \n",
       "50%          0.875385        0.875385        0.860000       0.000000   \n",
       "75%          1.090769        1.090769        1.061538       0.920000   \n",
       "max          1.476923        2.444615        1.615385       3.280000   \n",
       "\n",
       "       pitch2_ng5_DC  pitch3_ng5_DC          group  \n",
       "count  393886.000000  393886.000000  393886.000000  \n",
       "mean        0.379987       0.347584    1924.584926  \n",
       "std         0.983804       1.148018    1111.546402  \n",
       "min        -3.720000      -3.280000       1.000000  \n",
       "25%        -0.440000      -0.520000     960.000000  \n",
       "50%         0.240000       0.200000    1923.000000  \n",
       "75%         1.120000       1.400000    2888.000000  \n",
       "max         3.600000       3.240000    3853.000000  "
      ]
     },
     "execution_count": 7,
     "metadata": {},
     "output_type": "execute_result"
    }
   ],
   "source": [
    "train_data.describe()"
   ]
  },
  {
   "cell_type": "markdown",
   "metadata": {},
   "source": [
    "### *Missing values*"
   ]
  },
  {
   "cell_type": "code",
   "execution_count": 8,
   "metadata": {},
   "outputs": [
    {
     "name": "stdout",
     "output_type": "stream",
     "text": [
      "<class 'pandas.core.frame.DataFrame'>\n",
      "RangeIndex: 393886 entries, 0 to 393885\n",
      "Data columns (total 28 columns):\n",
      "time                   393886 non-null object\n",
      "wind_speed             393886 non-null float64\n",
      "generator_speed        393886 non-null float64\n",
      "power                  393886 non-null float64\n",
      "wind_direction         393886 non-null float64\n",
      "wind_direction_mean    393886 non-null float64\n",
      "yaw_position           393886 non-null float64\n",
      "yaw_speed              393886 non-null float64\n",
      "pitch1_angle           393886 non-null float64\n",
      "pitch2_angle           393886 non-null float64\n",
      "pitch3_angle           393886 non-null float64\n",
      "pitch1_speed           393886 non-null float64\n",
      "pitch2_speed           393886 non-null float64\n",
      "pitch3_speed           393886 non-null float64\n",
      "pitch1_moto_tmp        393886 non-null float64\n",
      "pitch2_moto_tmp        393886 non-null float64\n",
      "pitch3_moto_tmp        393886 non-null float64\n",
      "acc_x                  393886 non-null float64\n",
      "acc_y                  393886 non-null float64\n",
      "environment_tmp        393886 non-null float64\n",
      "int_tmp                393886 non-null float64\n",
      "pitch1_ng5_tmp         393886 non-null float64\n",
      "pitch2_ng5_tmp         393886 non-null float64\n",
      "pitch3_ng5_tmp         393886 non-null float64\n",
      "pitch1_ng5_DC          393886 non-null float64\n",
      "pitch2_ng5_DC          393886 non-null float64\n",
      "pitch3_ng5_DC          393886 non-null float64\n",
      "group                  393886 non-null int64\n",
      "dtypes: float64(26), int64(1), object(1)\n",
      "memory usage: 84.1+ MB\n",
      "None\n",
      "----------\n",
      "<class 'pandas.core.frame.DataFrame'>\n",
      "RangeIndex: 190494 entries, 0 to 190493\n",
      "Data columns (total 28 columns):\n",
      "time                   190494 non-null object\n",
      "wind_speed             190494 non-null float64\n",
      "generator_speed        190494 non-null float64\n",
      "power                  190494 non-null float64\n",
      "wind_direction         190494 non-null float64\n",
      "wind_direction_mean    190494 non-null float64\n",
      "yaw_position           190494 non-null float64\n",
      "yaw_speed              190494 non-null float64\n",
      "pitch1_angle           190494 non-null float64\n",
      "pitch2_angle           190494 non-null float64\n",
      "pitch3_angle           190494 non-null float64\n",
      "pitch1_speed           190494 non-null float64\n",
      "pitch2_speed           190494 non-null float64\n",
      "pitch3_speed           190494 non-null float64\n",
      "pitch1_moto_tmp        190494 non-null float64\n",
      "pitch2_moto_tmp        190494 non-null float64\n",
      "pitch3_moto_tmp        190494 non-null float64\n",
      "acc_x                  190494 non-null float64\n",
      "acc_y                  190494 non-null float64\n",
      "environment_tmp        190494 non-null float64\n",
      "int_tmp                190494 non-null float64\n",
      "pitch1_ng5_tmp         190494 non-null float64\n",
      "pitch2_ng5_tmp         190494 non-null float64\n",
      "pitch3_ng5_tmp         190494 non-null float64\n",
      "pitch1_ng5_DC          190494 non-null float64\n",
      "pitch2_ng5_DC          190494 non-null float64\n",
      "pitch3_ng5_DC          190494 non-null float64\n",
      "group                  190494 non-null int64\n",
      "dtypes: float64(26), int64(1), object(1)\n",
      "memory usage: 40.7+ MB\n",
      "None\n",
      "----------\n",
      "<class 'pandas.core.frame.DataFrame'>\n",
      "RangeIndex: 202328 entries, 0 to 202327\n",
      "Data columns (total 28 columns):\n",
      "time                   202328 non-null float64\n",
      "wind_speed             202328 non-null float64\n",
      "generator_speed        202328 non-null float64\n",
      "power                  202328 non-null float64\n",
      "wind_direction         202328 non-null float64\n",
      "wind_direction_mean    202328 non-null float64\n",
      "yaw_position           202328 non-null float64\n",
      "yaw_speed              202328 non-null float64\n",
      "pitch1_angle           202328 non-null float64\n",
      "pitch2_angle           202328 non-null float64\n",
      "pitch3_angle           202328 non-null float64\n",
      "pitch1_speed           202328 non-null float64\n",
      "pitch2_speed           202328 non-null float64\n",
      "pitch3_speed           202328 non-null float64\n",
      "pitch1_moto_tmp        202328 non-null float64\n",
      "pitch2_moto_tmp        202328 non-null float64\n",
      "pitch3_moto_tmp        202328 non-null float64\n",
      "acc_x                  202328 non-null float64\n",
      "acc_y                  202328 non-null float64\n",
      "environment_tmp        202328 non-null float64\n",
      "int_tmp                202328 non-null float64\n",
      "pitch1_ng5_tmp         202328 non-null float64\n",
      "pitch2_ng5_tmp         202328 non-null float64\n",
      "pitch3_ng5_tmp         202328 non-null float64\n",
      "pitch1_ng5_DC          202328 non-null float64\n",
      "pitch2_ng5_DC          202328 non-null float64\n",
      "pitch3_ng5_DC          202328 non-null float64\n",
      "group                  202328 non-null int64\n",
      "dtypes: float64(27), int64(1)\n",
      "memory usage: 43.2 MB\n",
      "None\n"
     ]
    }
   ],
   "source": [
    "print(train_data.info())\n",
    "print('----------')\n",
    "print(valida_data.info())\n",
    "print('----------')\n",
    "print(test_data.info())"
   ]
  },
  {
   "cell_type": "markdown",
   "metadata": {},
   "source": [
    "#### 風機異常時間"
   ]
  },
  {
   "cell_type": "code",
   "execution_count": 9,
   "metadata": {},
   "outputs": [
    {
     "data": {
      "text/html": [
       "<div>\n",
       "<style>\n",
       "    .dataframe thead tr:only-child th {\n",
       "        text-align: right;\n",
       "    }\n",
       "\n",
       "    .dataframe thead th {\n",
       "        text-align: left;\n",
       "    }\n",
       "\n",
       "    .dataframe tbody tr th {\n",
       "        vertical-align: top;\n",
       "    }\n",
       "</style>\n",
       "<table border=\"1\" class=\"dataframe\">\n",
       "  <thead>\n",
       "    <tr style=\"text-align: right;\">\n",
       "      <th></th>\n",
       "      <th>startTime</th>\n",
       "      <th>endTime</th>\n",
       "    </tr>\n",
       "  </thead>\n",
       "  <tbody>\n",
       "    <tr>\n",
       "      <th>0</th>\n",
       "      <td>2015-11-04 21:37:06</td>\n",
       "      <td>2015-11-04 22:29:33</td>\n",
       "    </tr>\n",
       "    <tr>\n",
       "      <th>1</th>\n",
       "      <td>2015-11-09 04:43:09</td>\n",
       "      <td>2015-11-09 06:35:39</td>\n",
       "    </tr>\n",
       "    <tr>\n",
       "      <th>2</th>\n",
       "      <td>2015-11-09 21:21:52</td>\n",
       "      <td>2015-11-09 23:14:41</td>\n",
       "    </tr>\n",
       "  </tbody>\n",
       "</table>\n",
       "</div>"
      ],
      "text/plain": [
       "             startTime              endTime\n",
       "0  2015-11-04 21:37:06  2015-11-04 22:29:33\n",
       "1  2015-11-09 04:43:09  2015-11-09 06:35:39\n",
       "2  2015-11-09 21:21:52  2015-11-09 23:14:41"
      ]
     },
     "execution_count": 9,
     "metadata": {},
     "output_type": "execute_result"
    }
   ],
   "source": [
    "train_abnormlabel.head(3)"
   ]
  },
  {
   "cell_type": "markdown",
   "metadata": {},
   "source": [
    "#### 風機正常時間"
   ]
  },
  {
   "cell_type": "code",
   "execution_count": 10,
   "metadata": {},
   "outputs": [
    {
     "data": {
      "text/html": [
       "<div>\n",
       "<style>\n",
       "    .dataframe thead tr:only-child th {\n",
       "        text-align: right;\n",
       "    }\n",
       "\n",
       "    .dataframe thead th {\n",
       "        text-align: left;\n",
       "    }\n",
       "\n",
       "    .dataframe tbody tr th {\n",
       "        vertical-align: top;\n",
       "    }\n",
       "</style>\n",
       "<table border=\"1\" class=\"dataframe\">\n",
       "  <thead>\n",
       "    <tr style=\"text-align: right;\">\n",
       "      <th></th>\n",
       "      <th>startTime</th>\n",
       "      <th>endTime</th>\n",
       "    </tr>\n",
       "  </thead>\n",
       "  <tbody>\n",
       "    <tr>\n",
       "      <th>0</th>\n",
       "      <td>2015-11-01 20:20:16</td>\n",
       "      <td>2015-11-03 23:47:32</td>\n",
       "    </tr>\n",
       "    <tr>\n",
       "      <th>1</th>\n",
       "      <td>2015-11-04 14:04:51</td>\n",
       "      <td>2015-11-04 18:26:08</td>\n",
       "    </tr>\n",
       "    <tr>\n",
       "      <th>2</th>\n",
       "      <td>2015-11-05 11:06:59</td>\n",
       "      <td>2015-11-09 02:44:31</td>\n",
       "    </tr>\n",
       "  </tbody>\n",
       "</table>\n",
       "</div>"
      ],
      "text/plain": [
       "             startTime              endTime\n",
       "0  2015-11-01 20:20:16  2015-11-03 23:47:32\n",
       "1  2015-11-04 14:04:51  2015-11-04 18:26:08\n",
       "2  2015-11-05 11:06:59  2015-11-09 02:44:31"
      ]
     },
     "execution_count": 10,
     "metadata": {},
     "output_type": "execute_result"
    }
   ],
   "source": [
    "train_normlabel.head(3)"
   ]
  },
  {
   "cell_type": "markdown",
   "metadata": {},
   "source": [
    "** 把time轉成datetime, 方便後續的時間比對操作. ** "
   ]
  },
  {
   "cell_type": "code",
   "execution_count": 11,
   "metadata": {
    "collapsed": true
   },
   "outputs": [],
   "source": [
    "train_data['time']=pd.to_datetime(train_data['time'])\n",
    "train_data = train_data.sort_values(by='time')\n",
    "train_data['timestamp'] = train_data['time'].apply(lambda x: x.timestamp())\n",
    "\n",
    "valida_data['time']=pd.to_datetime(valida_data['time'])\n",
    "valida_data = valida_data.sort_values(by='time')\n",
    "valida_data['timestamp'] = valida_data['time'].apply(lambda x: x.timestamp())"
   ]
  },
  {
   "cell_type": "code",
   "execution_count": 12,
   "metadata": {
    "collapsed": true
   },
   "outputs": [],
   "source": [
    "train_normlabel['startTime']=pd.to_datetime(train_normlabel['startTime'])\n",
    "train_normlabel['endTime']=pd.to_datetime(train_normlabel['endTime'])\n",
    "train_normlabel = train_normlabel.sort_values(by='startTime')\n",
    "\n",
    "valida_normlabel['startTime']=pd.to_datetime(valida_normlabel['startTime'])\n",
    "valida_normlabel['endTime']=pd.to_datetime(valida_normlabel['endTime'])\n",
    "valida_normlabel = valida_normlabel.sort_values(by='startTime')\n",
    "\n",
    "train_abnormlabel['startTime']=pd.to_datetime(train_abnormlabel['startTime'])\n",
    "train_abnormlabel['endTime']=pd.to_datetime(train_abnormlabel['endTime'])\n",
    "train_abnormlabel = train_abnormlabel.sort_values(by='startTime')\n",
    "\n",
    "valida_abnormlabel['startTime']=pd.to_datetime(valida_abnormlabel['startTime'])\n",
    "valida_abnormlabel['endTime']=pd.to_datetime(valida_abnormlabel['endTime'])\n",
    "valida_abnormlabel = valida_abnormlabel.sort_values(by='startTime')"
   ]
  },
  {
   "cell_type": "markdown",
   "metadata": {},
   "source": [
    "** 風機參數與風機狀態的數據對應 ** "
   ]
  },
  {
   "cell_type": "code",
   "execution_count": 13,
   "metadata": {},
   "outputs": [
    {
     "name": "stdout",
     "output_type": "stream",
     "text": [
      "1min 43s ± 0 ns per loop (mean ± std. dev. of 1 run, 1 loop each)\n"
     ]
    },
    {
     "data": {
      "text/plain": [
       "<TimeitResult : 1min 43s ± 0 ns per loop (mean ± std. dev. of 1 run, 1 loop each)>"
      ]
     },
     "execution_count": 13,
     "metadata": {},
     "output_type": "execute_result"
    }
   ],
   "source": [
    "%%timeit -n 1 -r 1 -o\n",
    "for i in range(train_abnormlabel.shape[0]):\n",
    "    startTime, endTime = train_abnormlabel.iloc[i]\n",
    "    subset=train_data['time'].apply(lambda x: timerangeCheck(x,startTime,endTime))\n",
    "    train_data.loc[subset, 'label']=1\n",
    "\n",
    "for i in range(train_normlabel.shape[0]):\n",
    "    startTime, endTime = train_normlabel.iloc[i]\n",
    "    subset=train_data['time'].apply(lambda x: timerangeCheck(x,startTime,endTime))\n",
    "    train_data.loc[subset, 'label']=0\n",
    "    \n",
    "for i in range(valida_abnormlabel.shape[0]):\n",
    "    startTime, endTime = valida_abnormlabel.iloc[i]\n",
    "    subset=valida_data['time'].apply(lambda x: timerangeCheck(x,startTime,endTime))\n",
    "    valida_data.loc[subset, 'label']=1\n",
    "\n",
    "for i in range(valida_normlabel.shape[0]):\n",
    "    startTime, endTime = valida_normlabel.iloc[i]\n",
    "    subset=valida_data['time'].apply(lambda x: timerangeCheck(x,startTime,endTime))\n",
    "    valida_data.loc[subset, 'label']=0\n",
    "    \n",
    "    "
   ]
  },
  {
   "cell_type": "markdown",
   "metadata": {},
   "source": [
    "** 刪除無效數據 **  不要刪除, 改成標另一個符號!!!   \n",
    "风机正常时间区间和风机结冰时间区间均不覆盖的数据视为无效数据"
   ]
  },
  {
   "cell_type": "code",
   "execution_count": 14,
   "metadata": {
    "collapsed": true,
    "scrolled": false
   },
   "outputs": [],
   "source": [
    "#print('刪除前：','訓練數據：',train_data.shape, ',  驗證數據：',valida_data.shape)\n",
    "#train_data = train_data.dropna()\n",
    "#valida_data = valida_data.dropna()\n",
    "#print('刪除後：','訓練數據：',train_data.shape, ',  驗證數據：',valida_data.shape)"
   ]
  },
  {
   "cell_type": "code",
   "execution_count": 15,
   "metadata": {
    "collapsed": true
   },
   "outputs": [],
   "source": [
    "train_data = train_data.fillna(-1)\n",
    "valida_data = valida_data.fillna(-1)"
   ]
  },
  {
   "cell_type": "markdown",
   "metadata": {},
   "source": [
    "** Training Data (風機編號15) 風機狀態正常(0)/異常(1)比例 **"
   ]
  },
  {
   "cell_type": "code",
   "execution_count": 16,
   "metadata": {},
   "outputs": [
    {
     "name": "stdout",
     "output_type": "stream",
     "text": [
      "正常:350255 (0.89 percent), 結冰:23892 (0.06 percent), Total:393886\n"
     ]
    }
   ],
   "source": [
    "#train_data['label'].value_counts\n",
    "train_abnormal = train_data[train_data['label']==1]\n",
    "train_normal = train_data[train_data['label']==0]\n",
    "normal_col = \"green\"\n",
    "abnormal_col = \"red\"\n",
    "\n",
    "msg = '正常:{i} ({j:.2f} percent), 結冰:{k:} ({m:.2f} percent), Total:{n}'.format(i=len(train_normal), j=len(train_normal)/len(train_data),k=len(train_abnormal),m=len(train_abnormal)/len(train_data), n=len(train_data))\n",
    "print(msg)"
   ]
  },
  {
   "cell_type": "markdown",
   "metadata": {},
   "source": [
    "** Validation Data (風機編號21) 風機狀態正常(0)/異常(1)比例 **"
   ]
  },
  {
   "cell_type": "code",
   "execution_count": 17,
   "metadata": {},
   "outputs": [
    {
     "name": "stdout",
     "output_type": "stream",
     "text": [
      "正常:168930 (0.89 percent), 結冰:10638 (0.06 percent), Total:190494\n"
     ]
    }
   ],
   "source": [
    "#valida_data['label'].value_counts()\n",
    "valida_abnormal = valida_data[valida_data['label']==1]\n",
    "valida_normal = valida_data[valida_data['label']==0]\n",
    "\n",
    "msg = '正常:{i} ({j:.2f} percent), 結冰:{k:} ({m:.2f} percent), Total:{n}'.format(i=len(valida_normal), j=len(valida_normal)/len(valida_data),k=len(valida_abnormal),m=len(valida_abnormal)/len(valida_data), n=len(valida_data))\n",
    "print(msg)"
   ]
  },
  {
   "cell_type": "markdown",
   "metadata": {},
   "source": [
    "** Label(正常/異常)在時間軸上的分佈 **"
   ]
  },
  {
   "cell_type": "code",
   "execution_count": 18,
   "metadata": {},
   "outputs": [
    {
     "name": "stdout",
     "output_type": "stream",
     "text": [
      "/Users/jayhsu/work/github/JupRepo/CAICT_Competition\r\n"
     ]
    }
   ],
   "source": [
    "!pwd"
   ]
  },
  {
   "cell_type": "code",
   "execution_count": 19,
   "metadata": {},
   "outputs": [
    {
     "name": "stdout",
     "output_type": "stream",
     "text": [
      "Training Data\n"
     ]
    },
    {
     "data": {
      "image/png": "[encoded data removed]",
      "text/plain": [
       "<matplotlib.figure.Figure at 0x12aa03390>"
      ]
     },
     "metadata": {},
     "output_type": "display_data"
    },
    {
     "name": "stdout",
     "output_type": "stream",
     "text": [
      "Validation Data\n"
     ]
    },
    {
     "data": {
      "image/png": "[encoded data removed]",
      "text/plain": [
       "<matplotlib.figure.Figure at 0x1263b1198>"
      ]
     },
     "metadata": {},
     "output_type": "display_data"
    },
    {
     "name": "stdout",
     "output_type": "stream",
     "text": [
      "Training/Validation Data\n"
     ]
    },
    {
     "data": {
      "image/png": "[encoded data removed]",
      "text/plain": [
       "<matplotlib.figure.Figure at 0x1240f10f0>"
      ]
     },
     "metadata": {},
     "output_type": "display_data"
    }
   ],
   "source": [
    "dummy = plt.figure(figsize=[17,2])\n",
    "print('Training Data')\n",
    "dummy=plt.plot(train_data['timestamp'],train_data['label'],label='train',marker='o')\n",
    "dummy=plt.legend()\n",
    "dummy =plt.ylim(-1.25,1.25)\n",
    "dummy =plt.xlim(1.446*1e9,1.452*1e9)\n",
    "dummy=plt.show()\n",
    "\n",
    "dummy = plt.figure(figsize=[17,2])\n",
    "print('Validation Data')\n",
    "dummy=plt.plot(valida_data['timestamp'],valida_data['label'],label='validation', color='green',marker='v')\n",
    "dummy=plt.legend()\n",
    "dummy =plt.ylim(-1.25,1.25)\n",
    "dummy =plt.xlim(1.446*1e9,1.452*1e9)\n",
    "dummy=plt.show()\n",
    "\n",
    "dummy = plt.figure(figsize=[17,2])\n",
    "print('Training/Validation Data')\n",
    "dummy=plt.plot(train_data['timestamp'],train_data['label'],label='train',marker='o')\n",
    "dummy=plt.plot(valida_data['timestamp'],valida_data['label'],label='validation',marker='v')\n",
    "dummy =plt.ylim(-1.25,1.25)\n",
    "dummy =plt.xlim(1.446*1e9,1.452*1e9)\n",
    "dummy=plt.legend()"
   ]
  },
  {
   "cell_type": "markdown",
   "metadata": {},
   "source": [
    "** 所有參數的box plot **"
   ]
  },
  {
   "cell_type": "code",
   "execution_count": 20,
   "metadata": {},
   "outputs": [
    {
     "name": "stdout",
     "output_type": "stream",
     "text": [
      "Training\n",
      "Validataion\n"
     ]
    },
    {
     "data": {
      "image/png": "[encoded data removed]",
      "text/plain": [
       "<matplotlib.figure.Figure at 0x1248c1908>"
      ]
     },
     "metadata": {},
     "output_type": "display_data"
    },
    {
     "data": {
      "image/png": "[encoded data removed]",
      "text/plain": [
       "<matplotlib.figure.Figure at 0x1263f5c18>"
      ]
     },
     "metadata": {},
     "output_type": "display_data"
    }
   ],
   "source": [
    "print('Training')\n",
    "dummy = plt.figure(figsize=[17,5])\n",
    "dummy=boxplot(train_data.drop(['time','timestamp','group'], axis=1).values)\n",
    "dummy =plt.ylim(-5,5)\n",
    "dummy =range(1,28)\n",
    "dummy =plt.xticks( dummy,train_data.columns,rotation=20)\n",
    "\n",
    "print('Validataion')\n",
    "dummy = plt.figure(figsize=[17,5])\n",
    "dummy=boxplot(valida_data.drop(['time','timestamp','group'], axis=1).values)\n",
    "dummy =plt.ylim(-5,5)\n",
    "dummy =range(1,28)\n",
    "dummy =plt.xticks( dummy,valida_data.columns,rotation=20)"
   ]
  },
  {
   "cell_type": "code",
   "execution_count": 33,
   "metadata": {},
   "outputs": [
    {
     "name": "stdout",
     "output_type": "stream",
     "text": [
      "time\n",
      "wind_speed\n",
      "generator_speed\n",
      "power\n",
      "wind_direction\n",
      "wind_direction_mean\n",
      "yaw_position\n",
      "yaw_speed\n",
      "pitch1_angle\n",
      "pitch2_angle\n",
      "pitch3_angle\n",
      "pitch1_speed\n",
      "pitch2_speed\n",
      "pitch3_speed\n",
      "pitch1_moto_tmp\n",
      "pitch2_moto_tmp\n",
      "pitch3_moto_tmp\n",
      "acc_x\n",
      "acc_y\n",
      "environment_tmp\n",
      "int_tmp\n",
      "pitch1_ng5_tmp\n",
      "pitch2_ng5_tmp\n",
      "pitch3_ng5_tmp\n",
      "pitch1_ng5_DC\n",
      "pitch2_ng5_DC\n",
      "pitch3_ng5_DC\n",
      "group\n",
      "timestamp\n",
      "label\n"
     ]
    }
   ],
   "source": [
    "for i in train_data..columns:\n",
    "    print(i)"
   ]
  },
  {
   "cell_type": "code",
   "execution_count": null,
   "metadata": {
    "collapsed": true
   },
   "outputs": [],
   "source": [
    "#sns.boxplot(x='group',y=\"power\",hue='label', data=train_data)\n",
    "sns.violinplot(x='label', y=\"power\", data=train_data, split=True)"
   ]
  },
  {
   "cell_type": "markdown",
   "metadata": {},
   "source": [
    "** 所有參數正規化後的box plot **"
   ]
  },
  {
   "cell_type": "code",
   "execution_count": null,
   "metadata": {
    "collapsed": true,
    "scrolled": true
   },
   "outputs": [],
   "source": [
    "print('Training')\n",
    "summary = train_data.describe()\n",
    "train_normdata = train_data.copy()\n",
    "for i in range(27):\n",
    "    mean = summary.iloc[1,i]\n",
    "    sd = summary.iloc[2,i]\n",
    "    train_normdata.iloc[:,i:(i+1)]=(train_data.iloc[:,i:i+1] - mean)/sd\n",
    "\n",
    "dummy = plt.figure(figsize=[17,5])\n",
    "dummy=boxplot(train_normdata.drop(['time','timestamp','group'], axis=1).values)\n",
    "dummy =plt.ylim(-20,20)\n",
    "dummy =range(1,28)\n",
    "dummy =plt.xticks( dummy,train_normdata.columns,rotation=20)\n",
    "\n",
    "print('Validataion')\n",
    "summary = valida_data.describe()\n",
    "valida_normdata = valida_data.copy()\n",
    "for i in range(27):\n",
    "    mean = summary.iloc[1,i]\n",
    "    sd = summary.iloc[2,i]\n",
    "    valida_normdata.iloc[:,i:(i+1)]=(valida_data.iloc[:,i:i+1] - mean)/sd\n",
    "\n",
    "dummy = plt.figure(figsize=[17,5])\n",
    "dummy=boxplot(valida_normdata.drop(['time','timestamp','group'], axis=1).values)\n",
    "dummy =plt.ylim(-20,20)\n",
    "dummy =range(1,28)\n",
    "dummy =plt.xticks( dummy,valida_normdata.columns,rotation=20)"
   ]
  },
  {
   "cell_type": "markdown",
   "metadata": {},
   "source": [
    "** 屬性平行座標圖 **"
   ]
  },
  {
   "cell_type": "code",
   "execution_count": null,
   "metadata": {
    "collapsed": true,
    "scrolled": false
   },
   "outputs": [],
   "source": [
    "dummy = plt.figure(figsize=[17,5])\n",
    "tmp=train_data.drop(['time','timestamp','group'],axis=1)\n",
    "tmp=tmp[tmp['label']==1]\n",
    "tmp = tmp[:100]\n",
    "for index, row in tmp.iterrows():\n",
    "    pcolor='red'\n",
    "    dummy=row.plot(color=pcolor, alpha=0.5)\n",
    "    \n",
    "tmp=train_datatmp[train_datatmp['label']==0]\n",
    "tmp = tmp[:100]\n",
    "for index, row in tmp.iterrows():\n",
    "    pcolor='green'\n",
    "    dummy =range(1,28)\n",
    "    dummy=row.plot(color=pcolor, alpha=0.5)\n",
    "dummy =range(27)\n",
    "dummy =plt.xticks( dummy,tmp.columns,rotation=20)\n",
    "\n",
    "plt.show()\n",
    "dummy = plt.figure(figsize=[17,5])\n",
    "tmp=valida_data.drop(['time','timestamp','group'],axis=1)\n",
    "tmp=tmp[tmp['label']==1]\n",
    "tmp = tmp[:100]\n",
    "for index, row in tmp.iterrows():\n",
    "    pcolor='red'\n",
    "    dummy=row.plot(color=pcolor, alpha=0.5)\n",
    "    \n",
    "tmp=train_datatmp[train_datatmp['label']==0]\n",
    "tmp = tmp[:100]\n",
    "for index, row in tmp.iterrows():\n",
    "    pcolor='green'\n",
    "    dummy =range(1,28)\n",
    "    dummy=row.plot(color=pcolor, alpha=0.5)\n",
    "dummy =range(27)\n",
    "dummy =plt.xticks( dummy,tmp.columns,rotation=20)"
   ]
  },
  {
   "cell_type": "markdown",
   "metadata": {},
   "source": [
    "**屬性-目標 對照圖**"
   ]
  },
  {
   "cell_type": "code",
   "execution_count": null,
   "metadata": {
    "collapsed": true
   },
   "outputs": [],
   "source": []
  },
  {
   "cell_type": "markdown",
   "metadata": {},
   "source": [
    "** 每個參數的數值分佈圖 **"
   ]
  },
  {
   "cell_type": "code",
   "execution_count": null,
   "metadata": {
    "collapsed": true
   },
   "outputs": [],
   "source": [
    "print('Training Data')\n",
    "#warnings.filterwarnings(action=\"ignore\")\n",
    "dummy = plt.figure(figsize=[24,20])\n",
    "for i in range(1,28):\n",
    "    item=train_normal.columns[i]\n",
    "    dummy = plt.subplot(8,4,i)\n",
    "    dummy = sns.distplot(train_normal[item].values, kde=False, color=normal_col)\n",
    "    dummy = sns.distplot(train_abnormal[item].values, kde=False, color=abnormal_col, axlabel=item)\n",
    "plt.tight_layout()"
   ]
  },
  {
   "cell_type": "code",
   "execution_count": null,
   "metadata": {
    "collapsed": true
   },
   "outputs": [],
   "source": [
    "print('Validation Data')\n",
    "dummy = plt.figure(figsize=[24,20])\n",
    "for i in range(1,28):\n",
    "    item=valida_normal.columns[i]\n",
    "    dummy = plt.subplot(8,4,i)\n",
    "    dummy = sns.distplot(valida_normal[item].values, kde=False, color=normal_col)\n",
    "    dummy = sns.distplot(valida_abnormal[item].values, kde=False, color=abnormal_col, axlabel=item)\n",
    "plt.tight_layout()"
   ]
  },
  {
   "cell_type": "code",
   "execution_count": null,
   "metadata": {
    "collapsed": true
   },
   "outputs": [],
   "source": [
    "print('Training Data')\n",
    "plt.figure(figsize=(14,12))\n",
    "foo = sns.heatmap(train_data.drop(['time'],axis=1).corr(), vmax=0.6, square=True, annot=True)"
   ]
  },
  {
   "cell_type": "code",
   "execution_count": null,
   "metadata": {
    "collapsed": true
   },
   "outputs": [],
   "source": [
    "print('Validation Data')\n",
    "plt.figure(figsize=(14,12))\n",
    "foo = sns.heatmap(valida_data.drop(['time'],axis=1).corr(), vmax=0.6, square=True, annot=True)"
   ]
  },
  {
   "cell_type": "markdown",
   "metadata": {},
   "source": [
    "Note: 7/13\n",
    "1. cross correlation\n",
    "2. auto correlation\n",
    "3. common filter\n",
    "4. de-train "
   ]
  },
  {
   "cell_type": "markdown",
   "metadata": {},
   "source": [
    "1. 數據問題：\n",
    "- 異常區間裡面沒有X資料.  \n"
   ]
  }
 ],
 "metadata": {
  "kernelspec": {
   "display_name": "Python [conda root]",
   "language": "python",
   "name": "conda-root-py"
  },
  "language_info": {
   "codemirror_mode": {
    "name": "ipython",
    "version": 3
   },
   "file_extension": ".py",
   "mimetype": "text/x-python",
   "name": "python",
   "nbconvert_exporter": "python",
   "pygments_lexer": "ipython3",
   "version": "3.5.3"
  }
 },
 "nbformat": 4,
 "nbformat_minor": 2
}
