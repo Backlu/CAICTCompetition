{
 "cells": [
  {
   "cell_type": "markdown",
   "metadata": {},
   "source": [
    "# CAICT 風機結冰預測 - Model _ Predict Label"
   ]
  },
  {
   "cell_type": "markdown",
   "metadata": {},
   "source": [
    "2017/07/23  \n",
    "http://www.industrial-bigdata.com/competition/competitionAction!showDetail.action?competition.competitionId=1"
   ]
  },
  {
   "cell_type": "markdown",
   "metadata": {},
   "source": [
    "### Summary"
   ]
  },
  {
   "cell_type": "markdown",
   "metadata": {},
   "source": [
    "### Outline\n"
   ]
  },
  {
   "cell_type": "markdown",
   "metadata": {},
   "source": [
    "<a id='load'></a>\n",
    "## 1. Load Data and Modules"
   ]
  },
  {
   "cell_type": "code",
   "execution_count": 12,
   "metadata": {},
   "outputs": [],
   "source": [
    "import pandas as pd\n",
    "import os\n",
    "import sys\n",
    "from PIL import Image\n",
    "import numpy as np\n",
    "import lzma\n",
    "import pickle\n",
    "from IPython.display import display\n",
    "import tensorflow as tf\n",
    "from tensorflow.contrib.tensorboard.plugins import projector\n",
    "import shutil\n",
    "import matplotlib.pyplot as plt\n",
    "import shutil\n",
    "import csv\n",
    "import sklearn as sk\n",
    "from sklearn.metrics import roc_curve, auc \n",
    "from sklearn.metrics import precision_score\n",
    "import matplotlib.gridspec as gridspec\n",
    "import seaborn as sns\n",
    "from pylab import *\n",
    "from collections import OrderedDict\n",
    "\n",
    "from sklearn.linear_model import LogisticRegression\n",
    "from sklearn.linear_model import Perceptron\n",
    "from sklearn import tree\n",
    "from sklearn import cross_validation\n",
    "from sklearn.neighbors import KNeighborsClassifier\n",
    "from sklearn.ensemble import RandomForestClassifier\n",
    "from sklearn.ensemble import RandomForestRegressor\n",
    "from sklearn.ensemble import ExtraTreesClassifier\n",
    "from sklearn.ensemble import BaggingClassifier\n",
    "from sklearn.ensemble import AdaBoostClassifier\n",
    "from sklearn.ensemble import GradientBoostingClassifier\n",
    "from sklearn.ensemble import VotingClassifier\n",
    "from sklearn.feature_selection import RFE\n",
    "from sklearn import svm\n",
    "import xgboost as xgb\n",
    "from mlxtend.classifier import StackingClassifier\n",
    "from sklearn.metrics import precision_score\n",
    "from sklearn.metrics import recall_score\n",
    "from sklearn.metrics import accuracy_score\n",
    "from sklearn import preprocessing\n",
    "\n",
    "from sklearn.model_selection import cross_val_score\n",
    "from sklearn.model_selection import KFold\n",
    "from sklearn.metrics import confusion_matrix\n",
    "from sklearn.model_selection import train_test_split\n",
    "from sklearn.model_selection import GridSearchCV\n",
    "from IPython.core.interactiveshell import InteractiveShell\n",
    "%matplotlib inline\n",
    "pd.set_option('display.max_columns', None)\n",
    "InteractiveShell.ast_node_interactivity = \"all\""
   ]
  },
  {
   "cell_type": "code",
   "execution_count": 13,
   "metadata": {
    "collapsed": true
   },
   "outputs": [],
   "source": [
    "def StandardScaler(data):\n",
    "    standard_scaler = preprocessing.StandardScaler()\n",
    "    data_scaled = standard_scaler.fit_transform(data)\n",
    "    data_scaled = pd.DataFrame(data_scaled, columns = data.columns)\n",
    "    return data_scaled\n",
    "\n",
    "def MinMaxScaler(data):\n",
    "    standard_scaler = preprocessing.MinMaxScaler()\n",
    "    data_scaled = standard_scaler.fit_transform(data)\n",
    "    data_scaled = pd.DataFrame(data_scaled, columns = data.columns)\n",
    "    return data_scaled\n",
    "\n",
    "\n",
    "def load_resample_data(mid, policy=1,  ycol='power'):\n",
    "    filename = 'data/resample_data_p{POLICY}_{ID}.csv'.format(ID=mid,POLICY=policy)\n",
    "    print('load file:',filename)\n",
    "    data_resample = pd.read_csv(filename)\n",
    "    data_resample['label']=data_resample['label'].fillna(2)\n",
    "    data_X = data_resample.drop(['label','time','group','timestamp','event'], axis=1)\n",
    "    data_y = data_resample[ycol]\n",
    "    data_Y = np.eye(data_y.unique().size)[data_y.values.astype(int)]\n",
    "    return data_resample, data_X, data_Y, data_y\n",
    "\n",
    "\n",
    "def load_expo_data(mid=15,policy=0):\n",
    "    non_data_cols = ['label','time','group','timestamp','event']\n",
    "    data_raw, data_X, _, _ = load_resample_data(mid=mid,policy=policy)\n",
    "    data_scaled = MinMaxScaler(data_X)\n",
    "    for col in non_data_cols:\n",
    "        data_scaled[col] = data_raw[col]\n",
    "    return data_raw,data_scaled\n"
   ]
  },
  {
   "cell_type": "code",
   "execution_count": 14,
   "metadata": {
    "collapsed": true
   },
   "outputs": [],
   "source": [
    "def checkPath(path):\n",
    "    if not os.path.exists(os.path.dirname(path)):\n",
    "        try:\n",
    "            os.makedirs(os.path.dirname(path))\n",
    "        except OSError as exc: \n",
    "            if exc.errno != errno.EEXIST:\n",
    "                raise"
   ]
  },
  {
   "cell_type": "code",
   "execution_count": 15,
   "metadata": {
    "collapsed": true
   },
   "outputs": [],
   "source": [
    "def myscore(true_y, pred_y):\n",
    "    n,p =sk.metrics.confusion_matrix(true_y, pred_y)\n",
    "    tn = n[0]\n",
    "    fp = n[1]\n",
    "    fn = p[0]\n",
    "    tp = p[1]\n",
    "    score = 1- 0.5*(fp/(tn+fp))- 0.5*(fn/(fn+tp)) \n",
    "    prec= precision_score(true_y, pred_y)\n",
    "    recall = recall_score(true_y, pred_y)\n",
    "    accuracy = accuracy_score(true_y,pred_y)\n",
    "    confusions = (\n",
    "    ('tn', tn),\n",
    "    ('fn', fn),\n",
    "    ('tp', tp),\n",
    "    ('fp', fp)\n",
    "    )\n",
    "    msg = 'Score:{sco:.2f} \\n\\taccuracy:{acc:.2f}, \\n\\trecall:{rcl:.2f}, \\n\\tprecision:{psc:.2f}\\n\\t{cfmt}'.format(sco=score,acc=accuracy,rcl=recall,psc=prec,cfmt=confusions)\n",
    "    return score, accuracy, prec, recall, OrderedDict(confusions),msg\n",
    "\n",
    "def mycv(model_log, train_X, train_y):\n",
    "    skf = cross_validation.StratifiedKFold(train_y.values,10)\n",
    "    score_list=[]\n",
    "    accuracy_list=[]\n",
    "    precision_list = []\n",
    "    recall_list=[]\n",
    "    for train,test in skf:\n",
    "        model_log = model_log.fit(train_X.values[train],train_y.values[train])\n",
    "        pred_y = model_log.predict(train_X.values[test])       \n",
    "        score, accuracy, precision, recall, cmt, msg = myscore(train_y.values[test], pred_y)\n",
    "        score_list.append(score)\n",
    "        accuracy_list.append(accuracy)\n",
    "        precision_list.append(precision)\n",
    "        recall_list.append(recall)\n",
    "    msg = 'Score:{sco:.2f} \\n\\taccuracy:{acc:.2f}, \\n\\trecall:{rcl:.2f}, \\n\\tprecision:{psc:.2f}'.format(sco=np.mean(score_list),acc=np.mean(accuracy_list),rcl=np.mean(recall_list),psc=np.mean(precision_list))\n",
    "    return np.mean(score_list), msg"
   ]
  },
  {
   "cell_type": "code",
   "execution_count": 16,
   "metadata": {
    "collapsed": true
   },
   "outputs": [],
   "source": [
    "def getPostProp(data, col_name):\n",
    "    prop_Y = len(data[(data['label']==1)])/len(data)\n",
    "    \n",
    "    prop_X_dict={}\n",
    "    target_cut = pd.cut(data[col_name], np.arange(0.0, 1.1, 0.1), labels=range(10))\n",
    "    data[col_name+'_categ']=target_cut\n",
    "    target_cnt = target_cut.value_counts()\n",
    "    for idx, q in target_cnt.items():\n",
    "        prop_X_dict[idx]= q/len(data)\n",
    "    #print('prop_X_dict',prop_X_dict)\n",
    "    prop_XgivenY_dict={}\n",
    "    data_f = data[data['label']==1]\n",
    "    target_cnt = data_f[col_name+'_categ'].value_counts()\n",
    "    for idx, q in target_cnt.items():\n",
    "        prop_XgivenY_dict[idx]= q/len(data_f)\n",
    "    print('prop_XgivenY_dict',prop_XgivenY_dict)\n",
    "    data[col_name+'_postprop1'] = data[col_name+'_categ'].apply(lambda x: prop_Y*prop_XgivenY_dict.get(x)/prop_X_dict.get(x))\n",
    "\n",
    "def getPostProp2(data, col_name):\n",
    "    prop_Y1 = len(data[(data['label']==1)])/len(data)\n",
    "    prop_Y0 = len(data[(data['label']==0)])/len(data)\n",
    "    \n",
    "    prop_X_dict={}\n",
    "    target_cut = pd.cut(data[col_name], np.arange(0.0, 1.1, 0.1), labels=range(10))\n",
    "    data[col_name+'_categ']=target_cut\n",
    "    target_cnt = target_cut.value_counts()\n",
    "    for idx, q in target_cnt.items():\n",
    "        prop_X_dict[idx]= q/len(data)\n",
    "    #print('prop_X_dict',prop_X_dict)\n",
    "    \n",
    "    prop_XgivenY1_dict={}\n",
    "    data_f = data[data['label']==1]\n",
    "    target_cnt = data_f[col_name+'_categ'].value_counts()\n",
    "    for idx, q in target_cnt.items():\n",
    "        prop_XgivenY1_dict[idx]= q/len(data_f)\n",
    "    print('prop_XgivenY1_dict',prop_XgivenY1_dict)\n",
    "    \n",
    "    prop_XgivenY0_dict={}\n",
    "    data_p = data[data['label']==0]\n",
    "    target_cnt = data_p[col_name+'_categ'].value_counts()\n",
    "    for idx, q in target_cnt.items():\n",
    "        prop_XgivenY0_dict[idx]= q/len(data_p)\n",
    "    print('prop_XgivenY0_dict',prop_XgivenY0_dict)\n",
    "    \n",
    "    data[col_name+'_postprop2'] = data[col_name+'_categ'].apply(lambda x: prop_Y1*prop_XgivenY1_dict.get(x)/(prop_Y0*prop_XgivenY0_dict.get(x) + prop_Y1*prop_XgivenY1_dict.get(x)))\n",
    "    \n",
    "def getPostProp3(data, col_name):\n",
    "    prop_Y1 = 0.5\n",
    "    prop_Y0 = 0.5\n",
    "    \n",
    "    prop_X_dict={}\n",
    "    target_cut = pd.cut(data[col_name], np.arange(0.0, 1.1, 0.1), labels=range(10))\n",
    "    data[col_name+'_categ']=target_cut\n",
    "    target_cnt = target_cut.value_counts()\n",
    "    for idx, q in target_cnt.items():\n",
    "        prop_X_dict[idx]= q/len(data)\n",
    "    #print('prop_X_dict',prop_X_dict)\n",
    "    \n",
    "    prop_XgivenY1_dict={}\n",
    "    data_f = data[data['label']==1]\n",
    "    target_cnt = data_f[col_name+'_categ'].value_counts()\n",
    "    for idx, q in target_cnt.items():\n",
    "        prop_XgivenY1_dict[idx]= q/len(data_f)\n",
    "    print('prop_XgivenY1_dict',prop_XgivenY1_dict)\n",
    "    \n",
    "    prop_XgivenY0_dict={}\n",
    "    data_p = data[data['label']==0]\n",
    "    target_cnt = data_p[col_name+'_categ'].value_counts()\n",
    "    for idx, q in target_cnt.items():\n",
    "        prop_XgivenY0_dict[idx]= q/len(data_p)\n",
    "    print('prop_XgivenY0_dict',prop_XgivenY0_dict)\n",
    "    \n",
    "    data[col_name+'_postprop3'] = data[col_name+'_categ'].apply(lambda x: prop_Y1*prop_XgivenY1_dict.get(x)/(prop_Y0*prop_XgivenY0_dict.get(x) + prop_Y1*prop_XgivenY1_dict.get(x)))\n",
    "    "
   ]
  },
  {
   "cell_type": "markdown",
   "metadata": {},
   "source": [
    "***"
   ]
  },
  {
   "cell_type": "markdown",
   "metadata": {},
   "source": [
    "**Load input data.** "
   ]
  },
  {
   "cell_type": "code",
   "execution_count": 84,
   "metadata": {},
   "outputs": [
    {
     "name": "stdout",
     "output_type": "stream",
     "text": [
      "load file: data/resample_data_p0_15.csv\n",
      "load file: data/resample_data_p4_15.csv\n"
     ]
    },
    {
     "name": "stderr",
     "output_type": "stream",
     "text": [
      "/Users/jayhsu/anaconda/lib/python3.5/site-packages/ipykernel/__main__.py:4: SettingWithCopyWarning: \n",
      "A value is trying to be set on a copy of a slice from a DataFrame\n",
      "\n",
      "See the caveats in the documentation: http://pandas.pydata.org/pandas-docs/stable/indexing.html#indexing-view-versus-copy\n",
      "/Users/jayhsu/anaconda/lib/python3.5/site-packages/ipykernel/__main__.py:6: SettingWithCopyWarning: \n",
      "A value is trying to be set on a copy of a slice from a DataFrame\n",
      "\n",
      "See the caveats in the documentation: http://pandas.pydata.org/pandas-docs/stable/indexing.html#indexing-view-versus-copy\n"
     ]
    }
   ],
   "source": [
    "_, dat_scaled_M15 = load_expo_data(mid=15,policy=0)\n",
    "_, dat_scaled_M15_train = load_expo_data(mid=15,policy=4)\n",
    "\n",
    "dat_scaled_M15.label[dat_scaled_M15.label==2]=0.5\n",
    "\n",
    "dat_scaled_M15_train.label[dat_scaled_M15_train.label==2] = 0.5\n",
    "#dat_scaled_M15_Complete, _ = add_feature_windspeed(dat_scaled_M15_Complete)\n",
    "#dat_scaled_M15, _ = add_feature_windspeed(dat_scaled_M15)\n"
   ]
  },
  {
   "cell_type": "code",
   "execution_count": 123,
   "metadata": {},
   "outputs": [],
   "source": [
    "\n",
    "xcols=['wind_speed', 'wind_direction', 'generator_speed',\n",
    "       'wind_direction_mean', 'yaw_position', 'yaw_speed', 'pitch1_angle',\n",
    "       'pitch2_angle', 'pitch3_angle', 'pitch1_speed', 'pitch2_speed',\n",
    "       'pitch3_speed', 'pitch1_moto_tmp', 'pitch2_moto_tmp', 'pitch3_moto_tmp',\n",
    "       'acc_x', 'acc_y', 'environment_tmp', 'int_tmp', 'pitch1_ng5_tmp',\n",
    "       'pitch2_ng5_tmp', 'pitch3_ng5_tmp', 'pitch1_ng5_DC', 'pitch2_ng5_DC',\n",
    "       'pitch3_ng5_DC']\n",
    "\n",
    "train_y = dat_scaled_M15_train['label']\n",
    "test_y = dat_scaled_M15['label']\n",
    "\n",
    "events = dat_scaled_M15['event'].unique()\n",
    "data_predict_tmp_M15= dat_scaled_M15[['event','label']].copy()\n"
   ]
  },
  {
   "cell_type": "markdown",
   "metadata": {},
   "source": [
    "<a id='modeling'></a>\n",
    "### 3. Modeling"
   ]
  },
  {
   "cell_type": "markdown",
   "metadata": {},
   "source": [
    "**windspeed**"
   ]
  },
  {
   "cell_type": "code",
   "execution_count": 229,
   "metadata": {
    "collapsed": true
   },
   "outputs": [],
   "source": [
    "x='wind_speed'\n",
    "train_X = dat_scaled_M15_train[[x]]\n",
    "test_X = dat_scaled_M15[[x]]\n",
    "\n",
    "xgb_windspeed = xgb.XGBRegressor()\n",
    "xgb_windspeed = xgb_windspeed.fit(train_X,train_y)\n",
    "pred_windspeed = xgb_windspeed.predict(test_X)\n"
   ]
  },
  {
   "cell_type": "code",
   "execution_count": 230,
   "metadata": {
    "scrolled": true
   },
   "outputs": [
    {
     "name": "stdout",
     "output_type": "stream",
     "text": [
      "wind_speed min_prop 0.0160021\n"
     ]
    }
   ],
   "source": [
    "unique, counts = np.unique(pred_windspeed, return_counts=True)\n",
    "cumsum_c = counts.cumsum()\n",
    "min_prop = unique[np.where(cumsum_c==cumsum_c[cumsum_c>4000][0])][0]\n",
    "#min_prop = unique[0]\n",
    "print(x, 'min_prop',min_prop)\n",
    "data_predict_tmp_M15['prop-wind_speed']=pred_windspeed\n",
    "data_predict_tmp_M15['pass-wind_speed']=data_predict_tmp_M15['prop-wind_speed'].apply(lambda x: 1 if x==min_prop else 0 )\n",
    "\n"
   ]
  },
  {
   "cell_type": "markdown",
   "metadata": {},
   "source": [
    "**power**"
   ]
  },
  {
   "cell_type": "code",
   "execution_count": 136,
   "metadata": {
    "collapsed": true
   },
   "outputs": [],
   "source": [
    "x='power'\n",
    "train_X = dat_scaled_M15_train[[x]]\n",
    "test_X = dat_scaled_M15[[x]]\n",
    "\n",
    "xgb_power = xgb.XGBRegressor()\n",
    "xgb_power = xgb_power.fit(train_X,train_y)\n",
    "pred_power = xgb_power.predict(test_X)\n"
   ]
  },
  {
   "cell_type": "code",
   "execution_count": 231,
   "metadata": {},
   "outputs": [
    {
     "name": "stdout",
     "output_type": "stream",
     "text": [
      "wind_speed min_prop 0.00425273\n"
     ]
    }
   ],
   "source": [
    "unique, counts = np.unique(pred_power, return_counts=True)\n",
    "cumsum_c = counts.cumsum()\n",
    "min_prop = unique[np.where(cumsum_c==cumsum_c[cumsum_c>4000][0])][0]\n",
    "#min_prop = unique[0]\n",
    "print(x, 'min_prop',min_prop)\n",
    "data_predict_tmp_M15['prop-power']=pred_power\n",
    "data_predict_tmp_M15['pass-power']=data_predict_tmp_M15['prop-power'].apply(lambda x: 1 if x==min_prop else 0 )\n"
   ]
  },
  {
   "cell_type": "markdown",
   "metadata": {},
   "source": [
    "** yaw_position **"
   ]
  },
  {
   "cell_type": "code",
   "execution_count": 232,
   "metadata": {
    "collapsed": true
   },
   "outputs": [],
   "source": [
    "x='yaw_position'\n",
    "train_X = dat_scaled_M15_train[[x]]\n",
    "test_X = dat_scaled_M15[[x]]\n",
    "\n",
    "xgb_yaw_position = xgb.XGBRegressor()\n",
    "xgb_yaw_position = xgb_yaw_position.fit(train_X,train_y)\n",
    "pred_yaw_position = xgb_yaw_position.predict(test_X)\n"
   ]
  },
  {
   "cell_type": "code",
   "execution_count": 233,
   "metadata": {},
   "outputs": [
    {
     "name": "stdout",
     "output_type": "stream",
     "text": [
      "yaw_position min_prop 0.0413628\n"
     ]
    }
   ],
   "source": [
    "unique, counts = np.unique(pred_yaw_position, return_counts=True)\n",
    "cumsum_c = counts.cumsum()\n",
    "min_prop = unique[np.where(cumsum_c==cumsum_c[cumsum_c>4000][0])][0]\n",
    "#min_prop = unique[0]\n",
    "print(x, 'min_prop',min_prop)\n",
    "data_predict_tmp_M15['prop-yaw_position']=pred_yaw_position\n",
    "data_predict_tmp_M15['pass-yaw_position']=data_predict_tmp_M15['prop-yaw_position'].apply(lambda x: 1 if x==min_prop else 0 )\n"
   ]
  },
  {
   "cell_type": "markdown",
   "metadata": {},
   "source": [
    "** pitch1_angle **"
   ]
  },
  {
   "cell_type": "code",
   "execution_count": 234,
   "metadata": {
    "collapsed": true
   },
   "outputs": [],
   "source": [
    "x='pitch1_angle'\n",
    "train_X = dat_scaled_M15_train[[x]]\n",
    "test_X = dat_scaled_M15[[x]]\n",
    "\n",
    "xgb_pitch1_angle = xgb.XGBRegressor()\n",
    "xgb_pitch1_angle = xgb_pitch1_angle.fit(train_X,train_y)\n",
    "pred_pitch1_angle = xgb_pitch1_angle.predict(test_X)\n"
   ]
  },
  {
   "cell_type": "code",
   "execution_count": 235,
   "metadata": {
    "scrolled": true
   },
   "outputs": [
    {
     "name": "stdout",
     "output_type": "stream",
     "text": [
      "pitch1_angle min_prop 0.0103046\n"
     ]
    }
   ],
   "source": [
    "unique, counts = np.unique(pred_pitch1_angle, return_counts=True)\n",
    "cumsum_c = counts.cumsum()\n",
    "min_prop = unique[np.where(cumsum_c==cumsum_c[cumsum_c>4000][0])][0]\n",
    "#min_prop = unique[0]\n",
    "print(x, 'min_prop',min_prop)\n",
    "data_predict_tmp_M15['prop-pitch1_angle']=pred_pitch1_angle\n",
    "data_predict_tmp_M15['pass-pitch1_angle']=data_predict_tmp_M15['prop-pitch1_angle'].apply(lambda x: 1 if x==min_prop else 0 )\n"
   ]
  },
  {
   "cell_type": "markdown",
   "metadata": {},
   "source": [
    "** pitch2_angle **"
   ]
  },
  {
   "cell_type": "code",
   "execution_count": 236,
   "metadata": {
    "collapsed": true
   },
   "outputs": [],
   "source": [
    "x='pitch2_angle'\n",
    "train_X = dat_scaled_M15_train[[x]]\n",
    "test_X = dat_scaled_M15[[x]]\n",
    "\n",
    "xgb_pitch2_angle = xgb.XGBRegressor()\n",
    "xgb_pitch2_angle = xgb_pitch2_angle.fit(train_X,train_y)\n",
    "pred_pitch2_angle = xgb_pitch2_angle.predict(test_X)\n"
   ]
  },
  {
   "cell_type": "code",
   "execution_count": 237,
   "metadata": {},
   "outputs": [
    {
     "name": "stdout",
     "output_type": "stream",
     "text": [
      "pitch2_angle min_prop 0.00649798\n"
     ]
    }
   ],
   "source": [
    "unique, counts = np.unique(pred_pitch2_angle, return_counts=True)\n",
    "cumsum_c = counts.cumsum()\n",
    "min_prop = unique[np.where(cumsum_c==cumsum_c[cumsum_c>4000][0])][0]\n",
    "#min_prop = unique[0]\n",
    "print(x, 'min_prop',min_prop)\n",
    "data_predict_tmp_M15['prop-pitch2_angle']=pred_pitch2_angle\n",
    "data_predict_tmp_M15['pass-pitch2_angle']=data_predict_tmp_M15['prop-pitch2_angle'].apply(lambda x: 1 if x==min_prop else 0 )\n"
   ]
  },
  {
   "cell_type": "markdown",
   "metadata": {},
   "source": [
    "** pitch3_angle **"
   ]
  },
  {
   "cell_type": "code",
   "execution_count": 238,
   "metadata": {
    "collapsed": true
   },
   "outputs": [],
   "source": [
    "x='pitch3_angle'\n",
    "train_X = dat_scaled_M15_train[[x]]\n",
    "test_X = dat_scaled_M15[[x]]\n",
    "\n",
    "xgb_pitch3_angle = xgb.XGBRegressor()\n",
    "xgb_pitch3_angle = xgb_pitch3_angle.fit(train_X,train_y)\n",
    "pred_pitch3_angle = xgb_pitch3_angle.predict(test_X)\n"
   ]
  },
  {
   "cell_type": "code",
   "execution_count": 239,
   "metadata": {},
   "outputs": [
    {
     "name": "stdout",
     "output_type": "stream",
     "text": [
      "pitch3_angle min_prop 0.0122833\n"
     ]
    }
   ],
   "source": [
    "unique, counts = np.unique(pred_pitch3_angle, return_counts=True)\n",
    "cumsum_c = counts.cumsum()\n",
    "min_prop = unique[np.where(cumsum_c==cumsum_c[cumsum_c>4000][0])][0]\n",
    "#min_prop = unique[0]\n",
    "print(x, 'min_prop',min_prop)\n",
    "data_predict_tmp_M15['prop-pitch3_angle']=pred_pitch3_angle\n",
    "data_predict_tmp_M15['pass-pitch3_angle']=data_predict_tmp_M15['prop-pitch3_angle'].apply(lambda x: 1 if x==min_prop else 0 )\n"
   ]
  },
  {
   "cell_type": "markdown",
   "metadata": {},
   "source": [
    "** pitch1_speed **"
   ]
  },
  {
   "cell_type": "code",
   "execution_count": 240,
   "metadata": {
    "collapsed": true
   },
   "outputs": [],
   "source": [
    "x='pitch1_speed'\n",
    "train_X = dat_scaled_M15_train[[x]]\n",
    "test_X = dat_scaled_M15[[x]]\n",
    "\n",
    "xgb_pitch1_speed = xgb.XGBRegressor()\n",
    "xgb_pitch1_speed = xgb_pitch1_speed.fit(train_X,train_y)\n",
    "pred_pitch1_speed = xgb_pitch1_speed.predict(test_X)\n"
   ]
  },
  {
   "cell_type": "code",
   "execution_count": 241,
   "metadata": {},
   "outputs": [
    {
     "name": "stdout",
     "output_type": "stream",
     "text": [
      "pitch1_speed min_prop 0.00271699\n"
     ]
    }
   ],
   "source": [
    "unique, counts = np.unique(pred_pitch1_speed, return_counts=True)\n",
    "cumsum_c = counts.cumsum()\n",
    "min_prop = unique[np.where(cumsum_c==cumsum_c[cumsum_c>4000][0])][0]\n",
    "#min_prop = unique[0]\n",
    "print(x, 'min_prop',min_prop)\n",
    "data_predict_tmp_M15['prop-pitch1_speed']=pred_pitch1_speed\n",
    "data_predict_tmp_M15['pass-pitch1_speed']=data_predict_tmp_M15['prop-pitch1_speed'].apply(lambda x: 1 if x==min_prop else 0 )\n"
   ]
  },
  {
   "cell_type": "markdown",
   "metadata": {},
   "source": [
    "** pitch2_speed **"
   ]
  },
  {
   "cell_type": "code",
   "execution_count": 242,
   "metadata": {
    "collapsed": true
   },
   "outputs": [],
   "source": [
    "x='pitch2_speed'\n",
    "train_X = dat_scaled_M15_train[[x]]\n",
    "test_X = dat_scaled_M15[[x]]\n",
    "\n",
    "xgb_pitch2_speed = xgb.XGBRegressor()\n",
    "xgb_pitch2_speed = xgb_pitch2_speed.fit(train_X,train_y)\n",
    "pred_pitch2_speed = xgb_pitch2_speed.predict(test_X)\n"
   ]
  },
  {
   "cell_type": "code",
   "execution_count": 243,
   "metadata": {},
   "outputs": [
    {
     "name": "stdout",
     "output_type": "stream",
     "text": [
      "pitch2_speed min_prop 0.00314507\n"
     ]
    }
   ],
   "source": [
    "unique, counts = np.unique(pred_pitch2_speed, return_counts=True)\n",
    "cumsum_c = counts.cumsum()\n",
    "min_prop = unique[np.where(cumsum_c==cumsum_c[cumsum_c>4000][0])][0]\n",
    "#min_prop = unique[0]\n",
    "print(x, 'min_prop',min_prop)\n",
    "data_predict_tmp_M15['prop-pitch2_speed']=pred_pitch2_speed\n",
    "data_predict_tmp_M15['pass-pitch2_speed']=data_predict_tmp_M15['prop-pitch2_speed'].apply(lambda x: 1 if x==min_prop else 0 )\n"
   ]
  },
  {
   "cell_type": "markdown",
   "metadata": {},
   "source": [
    "** pitch3_speed **"
   ]
  },
  {
   "cell_type": "code",
   "execution_count": 244,
   "metadata": {
    "collapsed": true
   },
   "outputs": [],
   "source": [
    "x='pitch3_speed'\n",
    "train_X = dat_scaled_M15_train[[x]]\n",
    "test_X = dat_scaled_M15[[x]]\n",
    "\n",
    "xgb_pitch3_speed = xgb.XGBRegressor()\n",
    "xgb_pitch3_speed = xgb_pitch3_speed.fit(train_X,train_y)\n",
    "pred_pitch3_speed = xgb_pitch3_speed.predict(test_X)\n"
   ]
  },
  {
   "cell_type": "code",
   "execution_count": 245,
   "metadata": {},
   "outputs": [
    {
     "name": "stdout",
     "output_type": "stream",
     "text": [
      "pitch3_speed min_prop 0.00265706\n"
     ]
    }
   ],
   "source": [
    "unique, counts = np.unique(pred_pitch3_speed, return_counts=True)\n",
    "cumsum_c = counts.cumsum()\n",
    "min_prop = unique[np.where(cumsum_c==cumsum_c[cumsum_c>4000][0])][0]\n",
    "#min_prop = unique[0]\n",
    "print(x, 'min_prop',min_prop)\n",
    "data_predict_tmp_M15['prop-pitch3_speed']=pred_pitch3_speed\n",
    "data_predict_tmp_M15['pass-pitch3_speed']=data_predict_tmp_M15['prop-pitch3_speed'].apply(lambda x: 1 if x==min_prop else 0 )\n"
   ]
  },
  {
   "cell_type": "markdown",
   "metadata": {},
   "source": [
    "** pitch1_moto_tmp **"
   ]
  },
  {
   "cell_type": "code",
   "execution_count": 246,
   "metadata": {
    "collapsed": true
   },
   "outputs": [],
   "source": [
    "x='pitch1_moto_tmp'\n",
    "train_X = dat_scaled_M15_train[[x]]\n",
    "test_X = dat_scaled_M15[[x]]\n",
    "\n",
    "xgb_pitch1_moto_tmp = xgb.XGBRegressor()\n",
    "xgb_pitch1_moto_tmp = xgb_pitch1_moto_tmp.fit(train_X,train_y)\n",
    "pred_pitch1_moto_tmp = xgb_pitch1_moto_tmp.predict(test_X)\n"
   ]
  },
  {
   "cell_type": "code",
   "execution_count": 247,
   "metadata": {},
   "outputs": [
    {
     "name": "stdout",
     "output_type": "stream",
     "text": [
      "pitch1_moto_tmp min_prop 0.0401366\n"
     ]
    }
   ],
   "source": [
    "unique, counts = np.unique(pred_pitch1_moto_tmp, return_counts=True)\n",
    "cumsum_c = counts.cumsum()\n",
    "min_prop = unique[np.where(cumsum_c==cumsum_c[cumsum_c>4000][0])][0]\n",
    "#min_prop = unique[0]\n",
    "print(x, 'min_prop',min_prop)\n",
    "data_predict_tmp_M15['prop-pitch1_moto_tmp']=pred_pitch1_moto_tmp\n",
    "data_predict_tmp_M15['pass-pitch1_moto_tmp']=data_predict_tmp_M15['prop-pitch1_moto_tmp'].apply(lambda x: 1 if x==min_prop else 0 )\n"
   ]
  },
  {
   "cell_type": "markdown",
   "metadata": {},
   "source": [
    "** pitch2_moto_tmp **"
   ]
  },
  {
   "cell_type": "code",
   "execution_count": 248,
   "metadata": {
    "collapsed": true
   },
   "outputs": [],
   "source": [
    "x='pitch2_moto_tmp'\n",
    "train_X = dat_scaled_M15_train[[x]]\n",
    "test_X = dat_scaled_M15[[x]]\n",
    "\n",
    "xgb_pitch2_moto_tmp = xgb.XGBRegressor()\n",
    "xgb_pitch2_moto_tmp = xgb_pitch2_moto_tmp.fit(train_X,train_y)\n",
    "pred_pitch2_moto_tmp = xgb_pitch2_moto_tmp.predict(test_X)\n"
   ]
  },
  {
   "cell_type": "code",
   "execution_count": 249,
   "metadata": {},
   "outputs": [
    {
     "name": "stdout",
     "output_type": "stream",
     "text": [
      "pitch2_moto_tmp min_prop 0.0755414\n"
     ]
    }
   ],
   "source": [
    "unique, counts = np.unique(pred_pitch2_moto_tmp, return_counts=True)\n",
    "cumsum_c = counts.cumsum()\n",
    "min_prop = unique[np.where(cumsum_c==cumsum_c[cumsum_c>4000][0])][0]\n",
    "#min_prop = unique[0]\n",
    "print(x, 'min_prop',min_prop)\n",
    "data_predict_tmp_M15['prop-pitch2_moto_tmp']=pred_pitch2_moto_tmp\n",
    "data_predict_tmp_M15['pass-pitch2_moto_tmp']=data_predict_tmp_M15['prop-pitch2_moto_tmp'].apply(lambda x: 1 if x==min_prop else 0 )\n"
   ]
  },
  {
   "cell_type": "markdown",
   "metadata": {},
   "source": [
    "** pitch3_moto_tmp **"
   ]
  },
  {
   "cell_type": "code",
   "execution_count": 250,
   "metadata": {
    "collapsed": true
   },
   "outputs": [],
   "source": [
    "x='pitch3_moto_tmp'\n",
    "train_X = dat_scaled_M15_train[[x]]\n",
    "test_X = dat_scaled_M15[[x]]\n",
    "\n",
    "xgb_pitch3_moto_tmp = xgb.XGBRegressor()\n",
    "xgb_pitch3_moto_tmp = xgb_pitch3_moto_tmp.fit(train_X,train_y)\n",
    "pred_pitch3_moto_tmp = xgb_pitch3_moto_tmp.predict(test_X)\n"
   ]
  },
  {
   "cell_type": "code",
   "execution_count": 251,
   "metadata": {},
   "outputs": [
    {
     "name": "stdout",
     "output_type": "stream",
     "text": [
      "pitch3_moto_tmp min_prop 0.0578096\n"
     ]
    }
   ],
   "source": [
    "unique, counts = np.unique(pred_pitch3_moto_tmp, return_counts=True)\n",
    "cumsum_c = counts.cumsum()\n",
    "min_prop = unique[np.where(cumsum_c==cumsum_c[cumsum_c>4000][0])][0]\n",
    "#min_prop = unique[0]\n",
    "print(x, 'min_prop',min_prop)\n",
    "data_predict_tmp_M15['prop-pitch3_moto_tmp']=pred_pitch3_moto_tmp\n",
    "data_predict_tmp_M15['pass-pitch3_moto_tmp']=data_predict_tmp_M15['prop-pitch3_moto_tmp'].apply(lambda x: 1 if x==min_prop else 0 )\n"
   ]
  },
  {
   "cell_type": "markdown",
   "metadata": {},
   "source": [
    "** acc_x **"
   ]
  },
  {
   "cell_type": "code",
   "execution_count": 252,
   "metadata": {
    "collapsed": true
   },
   "outputs": [],
   "source": [
    "x='acc_x'\n",
    "train_X = dat_scaled_M15_train[[x]]\n",
    "test_X = dat_scaled_M15[[x]]\n",
    "\n",
    "xgb_acc_x = xgb.XGBRegressor()\n",
    "xgb_acc_x = xgb_acc_x.fit(train_X,train_y)\n",
    "pred_acc_x = xgb_acc_x.predict(test_X)\n"
   ]
  },
  {
   "cell_type": "code",
   "execution_count": 253,
   "metadata": {},
   "outputs": [
    {
     "name": "stdout",
     "output_type": "stream",
     "text": [
      "acc_x min_prop 0.329677\n"
     ]
    }
   ],
   "source": [
    "unique, counts = np.unique(pred_acc_x, return_counts=True)\n",
    "cumsum_c = counts.cumsum()\n",
    "min_prop = unique[np.where(cumsum_c==cumsum_c[cumsum_c>4000][0])][0]\n",
    "#min_prop = unique[0]\n",
    "print(x, 'min_prop',min_prop)\n",
    "data_predict_tmp_M15['prop-acc_x']=pred_acc_x\n",
    "data_predict_tmp_M15['pass-acc_x']=data_predict_tmp_M15['prop-acc_x'].apply(lambda x: 1 if x==min_prop else 0 )\n"
   ]
  },
  {
   "cell_type": "markdown",
   "metadata": {},
   "source": [
    "** acc_y **"
   ]
  },
  {
   "cell_type": "code",
   "execution_count": 254,
   "metadata": {
    "collapsed": true
   },
   "outputs": [],
   "source": [
    "x='acc_y'\n",
    "train_X = dat_scaled_M15_train[[x]]\n",
    "test_X = dat_scaled_M15[[x]]\n",
    "\n",
    "xgb_acc_y = xgb.XGBRegressor()\n",
    "xgb_acc_y = xgb_acc_y.fit(train_X,train_y)\n",
    "pred_acc_y = xgb_acc_y.predict(test_X)\n"
   ]
  },
  {
   "cell_type": "code",
   "execution_count": 255,
   "metadata": {},
   "outputs": [
    {
     "name": "stdout",
     "output_type": "stream",
     "text": [
      "acc_y min_prop 0.323298\n"
     ]
    }
   ],
   "source": [
    "unique, counts = np.unique(pred_acc_y, return_counts=True)\n",
    "cumsum_c = counts.cumsum()\n",
    "min_prop = unique[np.where(cumsum_c==cumsum_c[cumsum_c>4000][0])][0]\n",
    "#min_prop = unique[0]\n",
    "print(x, 'min_prop',min_prop)\n",
    "data_predict_tmp_M15['prop-acc_y']=pred_acc_y\n",
    "data_predict_tmp_M15['pass-acc_y']=data_predict_tmp_M15['prop-acc_y'].apply(lambda x: 1 if x==min_prop else 0 )\n"
   ]
  },
  {
   "cell_type": "markdown",
   "metadata": {},
   "source": [
    "**environment_tmp**"
   ]
  },
  {
   "cell_type": "code",
   "execution_count": 256,
   "metadata": {
    "collapsed": true
   },
   "outputs": [],
   "source": [
    "x='environment_tmp'\n",
    "train_X = dat_scaled_M15_train[[x]]\n",
    "test_X = dat_scaled_M15[[x]]\n",
    "\n",
    "xgb_environment_tmp = xgb.XGBRegressor()\n",
    "xgb_environment_tmp = xgb_environment_tmp.fit(train_X,train_y)\n",
    "pred_environment_tmp = xgb_environment_tmp.predict(test_X)\n"
   ]
  },
  {
   "cell_type": "code",
   "execution_count": 257,
   "metadata": {},
   "outputs": [
    {
     "name": "stdout",
     "output_type": "stream",
     "text": [
      "environment_tmp min_prop 0.115017\n"
     ]
    }
   ],
   "source": [
    "unique, counts = np.unique(pred_environment_tmp, return_counts=True)\n",
    "cumsum_c = counts.cumsum()\n",
    "min_prop = unique[np.where(cumsum_c==cumsum_c[cumsum_c>4000][0])][0]\n",
    "#min_prop = unique[0]\n",
    "print(x, 'min_prop',min_prop)\n",
    "data_predict_tmp_M15['prop-environment_tmp']=pred_environment_tmp\n",
    "data_predict_tmp_M15['pass-environment_tmp']=data_predict_tmp_M15['prop-environment_tmp'].apply(lambda x: 1 if x==min_prop else 0 )\n"
   ]
  },
  {
   "cell_type": "code",
   "execution_count": 177,
   "metadata": {},
   "outputs": [
    {
     "data": {
      "text/plain": [
       "'pass-wind_speed'"
      ]
     },
     "execution_count": 177,
     "metadata": {},
     "output_type": "execute_result"
    },
    {
     "data": {
      "text/plain": [
       "'pass-power'"
      ]
     },
     "execution_count": 177,
     "metadata": {},
     "output_type": "execute_result"
    },
    {
     "data": {
      "text/plain": [
       "'pass-yaw_position'"
      ]
     },
     "execution_count": 177,
     "metadata": {},
     "output_type": "execute_result"
    },
    {
     "data": {
      "text/plain": [
       "'pass-pitch1_angle'"
      ]
     },
     "execution_count": 177,
     "metadata": {},
     "output_type": "execute_result"
    },
    {
     "data": {
      "text/plain": [
       "'pass-pitch2_angle'"
      ]
     },
     "execution_count": 177,
     "metadata": {},
     "output_type": "execute_result"
    },
    {
     "data": {
      "text/plain": [
       "'pass-pitch3_angle'"
      ]
     },
     "execution_count": 177,
     "metadata": {},
     "output_type": "execute_result"
    },
    {
     "data": {
      "text/plain": [
       "'pass-pitch1_speed'"
      ]
     },
     "execution_count": 177,
     "metadata": {},
     "output_type": "execute_result"
    },
    {
     "data": {
      "text/plain": [
       "'pass-pitch2_speed'"
      ]
     },
     "execution_count": 177,
     "metadata": {},
     "output_type": "execute_result"
    },
    {
     "data": {
      "text/plain": [
       "'pass-pitch3_speed'"
      ]
     },
     "execution_count": 177,
     "metadata": {},
     "output_type": "execute_result"
    },
    {
     "data": {
      "text/plain": [
       "'pass-pitch1_moto_tmp'"
      ]
     },
     "execution_count": 177,
     "metadata": {},
     "output_type": "execute_result"
    },
    {
     "data": {
      "text/plain": [
       "'pass-pitch2_moto_tmp'"
      ]
     },
     "execution_count": 177,
     "metadata": {},
     "output_type": "execute_result"
    },
    {
     "data": {
      "text/plain": [
       "'pass-pitch3_moto_tmp'"
      ]
     },
     "execution_count": 177,
     "metadata": {},
     "output_type": "execute_result"
    },
    {
     "data": {
      "text/plain": [
       "'pass-acc_x'"
      ]
     },
     "execution_count": 177,
     "metadata": {},
     "output_type": "execute_result"
    },
    {
     "data": {
      "text/plain": [
       "'pass-acc_y'"
      ]
     },
     "execution_count": 177,
     "metadata": {},
     "output_type": "execute_result"
    },
    {
     "data": {
      "text/plain": [
       "'pass-environment_tmp'"
      ]
     },
     "execution_count": 177,
     "metadata": {},
     "output_type": "execute_result"
    }
   ],
   "source": [
    "'pass-wind_speed'\n",
    "'pass-power'\n",
    "'pass-yaw_position'\n",
    "'pass-pitch1_angle'\n",
    "'pass-pitch2_angle'\n",
    "'pass-pitch3_angle'\n",
    "'pass-pitch1_speed'\n",
    "'pass-pitch2_speed'\n",
    "'pass-pitch3_speed'\n",
    "'pass-pitch1_moto_tmp'\n",
    "'pass-pitch2_moto_tmp'\n",
    "'pass-pitch3_moto_tmp'\n",
    "'pass-acc_x'\n",
    "'pass-acc_y'\n",
    "'pass-environment_tmp'"
   ]
  },
  {
   "cell_type": "code",
   "execution_count": 179,
   "metadata": {},
   "outputs": [
    {
     "data": {
      "text/plain": [
       "['pass-wind_speed',\n",
       " 'pass-power',\n",
       " 'pass-yaw_position',\n",
       " 'pass-pitch1_angle',\n",
       " 'pass-pitch2_angle',\n",
       " 'pass-pitch3_angle',\n",
       " 'pass-pitch1_speed',\n",
       " 'pass-pitch2_speed',\n",
       " 'pass-pitch3_speed',\n",
       " 'pass-pitch1_moto_tmp',\n",
       " 'pass-pitch2_moto_tmp',\n",
       " 'pass-pitch3_moto_tmp',\n",
       " 'pass-acc_x',\n",
       " 'pass-acc_y',\n",
       " 'pass-environment_tmp']"
      ]
     },
     "execution_count": 179,
     "metadata": {},
     "output_type": "execute_result"
    }
   ],
   "source": [
    "passX = ['pass-wind_speed', 'pass-power', 'pass-yaw_position', 'pass-pitch1_angle', 'pass-pitch2_angle', 'pass-pitch3_angle', 'pass-pitch1_speed', 'pass-pitch2_speed', 'pass-pitch3_speed', 'pass-pitch1_moto_tmp', 'pass-pitch2_moto_tmp', 'pass-pitch3_moto_tmp', 'pass-acc_x', 'pass-acc_y', 'pass-environment_tmp']\n",
    "passX"
   ]
  },
  {
   "cell_type": "code",
   "execution_count": 258,
   "metadata": {},
   "outputs": [],
   "source": [
    "data_predict_tmp_M15['pass_sum'] = data_predict_tmp_M15[passX].sum(axis=1)"
   ]
  },
  {
   "cell_type": "code",
   "execution_count": 259,
   "metadata": {
    "scrolled": true
   },
   "outputs": [
    {
     "data": {
      "text/plain": [
       "0.0    350255\n",
       "1.0     23892\n",
       "0.5     19739\n",
       "Name: label, dtype: int64"
      ]
     },
     "execution_count": 259,
     "metadata": {},
     "output_type": "execute_result"
    }
   ],
   "source": [
    "data_predict_tmp_M15['label'].value_counts()"
   ]
  },
  {
   "cell_type": "code",
   "execution_count": 286,
   "metadata": {},
   "outputs": [
    {
     "data": {
      "text/html": [
       "<div>\n",
       "<style>\n",
       "    .dataframe thead tr:only-child th {\n",
       "        text-align: right;\n",
       "    }\n",
       "\n",
       "    .dataframe thead th {\n",
       "        text-align: left;\n",
       "    }\n",
       "\n",
       "    .dataframe tbody tr th {\n",
       "        vertical-align: top;\n",
       "    }\n",
       "</style>\n",
       "<table border=\"1\" class=\"dataframe\">\n",
       "  <thead>\n",
       "    <tr style=\"text-align: right;\">\n",
       "      <th></th>\n",
       "      <th>pass_sum</th>\n",
       "      <th>cumsum</th>\n",
       "    </tr>\n",
       "  </thead>\n",
       "  <tbody>\n",
       "    <tr>\n",
       "      <th>12</th>\n",
       "      <td>3</td>\n",
       "      <td>3</td>\n",
       "    </tr>\n",
       "    <tr>\n",
       "      <th>11</th>\n",
       "      <td>29</td>\n",
       "      <td>32</td>\n",
       "    </tr>\n",
       "    <tr>\n",
       "      <th>10</th>\n",
       "      <td>435</td>\n",
       "      <td>467</td>\n",
       "    </tr>\n",
       "    <tr>\n",
       "      <th>9</th>\n",
       "      <td>2151</td>\n",
       "      <td>2618</td>\n",
       "    </tr>\n",
       "    <tr>\n",
       "      <th>8</th>\n",
       "      <td>2802</td>\n",
       "      <td>5420</td>\n",
       "    </tr>\n",
       "    <tr>\n",
       "      <th>7</th>\n",
       "      <td>1085</td>\n",
       "      <td>6505</td>\n",
       "    </tr>\n",
       "    <tr>\n",
       "      <th>6</th>\n",
       "      <td>4107</td>\n",
       "      <td>10612</td>\n",
       "    </tr>\n",
       "    <tr>\n",
       "      <th>5</th>\n",
       "      <td>21272</td>\n",
       "      <td>31884</td>\n",
       "    </tr>\n",
       "    <tr>\n",
       "      <th>4</th>\n",
       "      <td>217456</td>\n",
       "      <td>249340</td>\n",
       "    </tr>\n",
       "    <tr>\n",
       "      <th>3</th>\n",
       "      <td>143684</td>\n",
       "      <td>393024</td>\n",
       "    </tr>\n",
       "    <tr>\n",
       "      <th>2</th>\n",
       "      <td>677</td>\n",
       "      <td>393701</td>\n",
       "    </tr>\n",
       "    <tr>\n",
       "      <th>1</th>\n",
       "      <td>135</td>\n",
       "      <td>393836</td>\n",
       "    </tr>\n",
       "    <tr>\n",
       "      <th>0</th>\n",
       "      <td>50</td>\n",
       "      <td>393886</td>\n",
       "    </tr>\n",
       "  </tbody>\n",
       "</table>\n",
       "</div>"
      ],
      "text/plain": [
       "    pass_sum  cumsum\n",
       "12         3       3\n",
       "11        29      32\n",
       "10       435     467\n",
       "9       2151    2618\n",
       "8       2802    5420\n",
       "7       1085    6505\n",
       "6       4107   10612\n",
       "5      21272   31884\n",
       "4     217456  249340\n",
       "3     143684  393024\n",
       "2        677  393701\n",
       "1        135  393836\n",
       "0         50  393886"
      ]
     },
     "execution_count": 286,
     "metadata": {},
     "output_type": "execute_result"
    }
   ],
   "source": [
    "tmp = pd.DataFrame(data_predict_tmp_M15['pass_sum'].value_counts())\n",
    "tmp = tmp.sort_index(ascending=False)\n",
    "tmp['cumsum']=tmp.pass_sum.cumsum()\n",
    "tmp"
   ]
  },
  {
   "cell_type": "code",
   "execution_count": 299,
   "metadata": {},
   "outputs": [
    {
     "data": {
      "text/plain": [
       "0    393024\n",
       "1       862\n",
       "Name: final_pred, dtype: int64"
      ]
     },
     "execution_count": 299,
     "metadata": {},
     "output_type": "execute_result"
    }
   ],
   "source": [
    "data_predict_tmp_M15['final_pred']=data_predict_tmp_M15['pass_sum'].apply(lambda x: 0 if x>2 else 1)\n",
    "data_predict_tmp_M15['final_pred'].value_counts()"
   ]
  },
  {
   "cell_type": "code",
   "execution_count": null,
   "metadata": {
    "collapsed": true
   },
   "outputs": [],
   "source": []
  },
  {
   "cell_type": "code",
   "execution_count": null,
   "metadata": {
    "collapsed": true
   },
   "outputs": [],
   "source": []
  },
  {
   "cell_type": "code",
   "execution_count": null,
   "metadata": {
    "collapsed": true
   },
   "outputs": [],
   "source": []
  },
  {
   "cell_type": "code",
   "execution_count": 300,
   "metadata": {
    "scrolled": false
   },
   "outputs": [
    {
     "data": {
      "text/plain": [
       "[<matplotlib.lines.Line2D at 0x121d374a8>]"
      ]
     },
     "execution_count": 300,
     "metadata": {},
     "output_type": "execute_result"
    },
    {
     "data": {
      "text/plain": [
       "[<matplotlib.lines.Line2D at 0x122210e10>]"
      ]
     },
     "execution_count": 300,
     "metadata": {},
     "output_type": "execute_result"
    },
    {
     "data": {
      "text/plain": [
       "[<matplotlib.lines.Line2D at 0x121d324a8>]"
      ]
     },
     "execution_count": 300,
     "metadata": {},
     "output_type": "execute_result"
    },
    {
     "data": {
      "text/plain": [
       "[<matplotlib.lines.Line2D at 0x1263ac2b0>]"
      ]
     },
     "execution_count": 300,
     "metadata": {},
     "output_type": "execute_result"
    },
    {
     "data": {
      "text/plain": [
       "[<matplotlib.lines.Line2D at 0x123509fd0>]"
      ]
     },
     "execution_count": 300,
     "metadata": {},
     "output_type": "execute_result"
    },
    {
     "data": {
      "text/plain": [
       "[<matplotlib.lines.Line2D at 0x123487a90>]"
      ]
     },
     "execution_count": 300,
     "metadata": {},
     "output_type": "execute_result"
    },
    {
     "data": {
      "text/plain": [
       "[<matplotlib.lines.Line2D at 0x123053710>]"
      ]
     },
     "execution_count": 300,
     "metadata": {},
     "output_type": "execute_result"
    },
    {
     "data": {
      "text/plain": [
       "[<matplotlib.lines.Line2D at 0x1230539e8>]"
      ]
     },
     "execution_count": 300,
     "metadata": {},
     "output_type": "execute_result"
    },
    {
     "data": {
      "text/plain": [
       "[<matplotlib.lines.Line2D at 0x1224b5828>]"
      ]
     },
     "execution_count": 300,
     "metadata": {},
     "output_type": "execute_result"
    },
    {
     "data": {
      "text/plain": [
       "[<matplotlib.lines.Line2D at 0x126174cf8>]"
      ]
     },
     "execution_count": 300,
     "metadata": {},
     "output_type": "execute_result"
    },
    {
     "data": {
      "text/plain": [
       "[<matplotlib.lines.Line2D at 0x1234ba390>]"
      ]
     },
     "execution_count": 300,
     "metadata": {},
     "output_type": "execute_result"
    },
    {
     "data": {
      "text/plain": [
       "[<matplotlib.lines.Line2D at 0x127059a90>]"
      ]
     },
     "execution_count": 300,
     "metadata": {},
     "output_type": "execute_result"
    },
    {
     "data": {
      "text/plain": [
       "[<matplotlib.lines.Line2D at 0x124313048>]"
      ]
     },
     "execution_count": 300,
     "metadata": {},
     "output_type": "execute_result"
    },
    {
     "data": {
      "text/plain": [
       "[<matplotlib.lines.Line2D at 0x14037c0b8>]"
      ]
     },
     "execution_count": 300,
     "metadata": {},
     "output_type": "execute_result"
    },
    {
     "data": {
      "text/plain": [
       "[<matplotlib.lines.Line2D at 0x13cfae7f0>]"
      ]
     },
     "execution_count": 300,
     "metadata": {},
     "output_type": "execute_result"
    },
    {
     "data": {
      "text/plain": [
       "[<matplotlib.lines.Line2D at 0x1261f16d8>]"
      ]
     },
     "execution_count": 300,
     "metadata": {},
     "output_type": "execute_result"
    },
    {
     "data": {
      "text/plain": [
       "[<matplotlib.lines.Line2D at 0x122eab860>]"
      ]
     },
     "execution_count": 300,
     "metadata": {},
     "output_type": "execute_result"
    },
    {
     "data": {
      "text/plain": [
       "[<matplotlib.lines.Line2D at 0x122eabac8>]"
      ]
     },
     "execution_count": 300,
     "metadata": {},
     "output_type": "execute_result"
    },
    {
     "data": {
      "text/plain": [
       "[<matplotlib.lines.Line2D at 0x12a01e6d8>]"
      ]
     },
     "execution_count": 300,
     "metadata": {},
     "output_type": "execute_result"
    },
    {
     "data": {
      "text/plain": [
       "[<matplotlib.lines.Line2D at 0x12a01ea90>]"
      ]
     },
     "execution_count": 300,
     "metadata": {},
     "output_type": "execute_result"
    },
    {
     "data": {
      "text/plain": [
       "[<matplotlib.lines.Line2D at 0x1223dd2b0>]"
      ]
     },
     "execution_count": 300,
     "metadata": {},
     "output_type": "execute_result"
    },
    {
     "data": {
      "text/plain": [
       "[<matplotlib.lines.Line2D at 0x11ffc1748>]"
      ]
     },
     "execution_count": 300,
     "metadata": {},
     "output_type": "execute_result"
    },
    {
     "data": {
      "text/plain": [
       "[<matplotlib.lines.Line2D at 0x124345a58>]"
      ]
     },
     "execution_count": 300,
     "metadata": {},
     "output_type": "execute_result"
    },
    {
     "data": {
      "text/plain": [
       "[<matplotlib.lines.Line2D at 0x122f88358>]"
      ]
     },
     "execution_count": 300,
     "metadata": {},
     "output_type": "execute_result"
    },
    {
     "data": {
      "text/plain": [
       "[<matplotlib.lines.Line2D at 0x1255be2e8>]"
      ]
     },
     "execution_count": 300,
     "metadata": {},
     "output_type": "execute_result"
    },
    {
     "data": {
      "text/plain": [
       "[<matplotlib.lines.Line2D at 0x12249b550>]"
      ]
     },
     "execution_count": 300,
     "metadata": {},
     "output_type": "execute_result"
    },
    {
     "data": {
      "text/plain": [
       "[<matplotlib.lines.Line2D at 0x1224ca0b8>]"
      ]
     },
     "execution_count": 300,
     "metadata": {},
     "output_type": "execute_result"
    },
    {
     "data": {
      "text/plain": [
       "[<matplotlib.lines.Line2D at 0x12a01b748>]"
      ]
     },
     "execution_count": 300,
     "metadata": {},
     "output_type": "execute_result"
    },
    {
     "data": {
      "text/plain": [
       "[<matplotlib.lines.Line2D at 0x12304f5f8>]"
      ]
     },
     "execution_count": 300,
     "metadata": {},
     "output_type": "execute_result"
    },
    {
     "data": {
      "text/plain": [
       "[<matplotlib.lines.Line2D at 0x122733240>]"
      ]
     },
     "execution_count": 300,
     "metadata": {},
     "output_type": "execute_result"
    },
    {
     "data": {
      "text/plain": [
       "[<matplotlib.lines.Line2D at 0x1312ba9b0>]"
      ]
     },
     "execution_count": 300,
     "metadata": {},
     "output_type": "execute_result"
    },
    {
     "data": {
      "text/plain": [
       "[<matplotlib.lines.Line2D at 0x126200cf8>]"
      ]
     },
     "execution_count": 300,
     "metadata": {},
     "output_type": "execute_result"
    },
    {
     "data": {
      "text/plain": [
       "[<matplotlib.lines.Line2D at 0x12241e748>]"
      ]
     },
     "execution_count": 300,
     "metadata": {},
     "output_type": "execute_result"
    },
    {
     "data": {
      "text/plain": [
       "[<matplotlib.lines.Line2D at 0x125791e80>]"
      ]
     },
     "execution_count": 300,
     "metadata": {},
     "output_type": "execute_result"
    },
    {
     "data": {
      "text/plain": [
       "[<matplotlib.lines.Line2D at 0x1231177b8>]"
      ]
     },
     "execution_count": 300,
     "metadata": {},
     "output_type": "execute_result"
    },
    {
     "data": {
      "text/plain": [
       "[<matplotlib.lines.Line2D at 0x1255cb860>]"
      ]
     },
     "execution_count": 300,
     "metadata": {},
     "output_type": "execute_result"
    },
    {
     "data": {
      "text/plain": [
       "[<matplotlib.lines.Line2D at 0x13f524898>]"
      ]
     },
     "execution_count": 300,
     "metadata": {},
     "output_type": "execute_result"
    },
    {
     "data": {
      "text/plain": [
       "[<matplotlib.lines.Line2D at 0x122f83be0>]"
      ]
     },
     "execution_count": 300,
     "metadata": {},
     "output_type": "execute_result"
    },
    {
     "data": {
      "text/plain": [
       "[<matplotlib.lines.Line2D at 0x13eca5358>]"
      ]
     },
     "execution_count": 300,
     "metadata": {},
     "output_type": "execute_result"
    },
    {
     "data": {
      "text/plain": [
       "[<matplotlib.lines.Line2D at 0x13ecabcc0>]"
      ]
     },
     "execution_count": 300,
     "metadata": {},
     "output_type": "execute_result"
    },
    {
     "name": "stderr",
     "output_type": "stream",
     "text": [
      "/Users/jayhsu/anaconda/lib/python3.5/site-packages/matplotlib/pyplot.py:524: RuntimeWarning: More than 20 figures have been opened. Figures created through the pyplot interface (`matplotlib.pyplot.figure`) are retained until explicitly closed and may consume too much memory. (To control this warning, see the rcParam `figure.max_open_warning`).\n",
      "  max_open_warning, RuntimeWarning)\n"
     ]
    },
    {
     "data": {
      "text/plain": [
       "[<matplotlib.lines.Line2D at 0x122d5a5f8>]"
      ]
     },
     "execution_count": 300,
     "metadata": {},
     "output_type": "execute_result"
    },
    {
     "data": {
      "text/plain": [
       "[<matplotlib.lines.Line2D at 0x12414c048>]"
      ]
     },
     "execution_count": 300,
     "metadata": {},
     "output_type": "execute_result"
    },
    {
     "data": {
      "text/plain": [
       "[<matplotlib.lines.Line2D at 0x13c5c5828>]"
      ]
     },
     "execution_count": 300,
     "metadata": {},
     "output_type": "execute_result"
    },
    {
     "data": {
      "text/plain": [
       "[<matplotlib.lines.Line2D at 0x1284d6d68>]"
      ]
     },
     "execution_count": 300,
     "metadata": {},
     "output_type": "execute_result"
    },
    {
     "data": {
      "text/plain": [
       "[<matplotlib.lines.Line2D at 0x122d99be0>]"
      ]
     },
     "execution_count": 300,
     "metadata": {},
     "output_type": "execute_result"
    },
    {
     "data": {
      "text/plain": [
       "[<matplotlib.lines.Line2D at 0x122d994e0>]"
      ]
     },
     "execution_count": 300,
     "metadata": {},
     "output_type": "execute_result"
    },
    {
     "data": {
      "text/plain": [
       "[<matplotlib.lines.Line2D at 0x13fd087f0>]"
      ]
     },
     "execution_count": 300,
     "metadata": {},
     "output_type": "execute_result"
    },
    {
     "data": {
      "text/plain": [
       "[<matplotlib.lines.Line2D at 0x13fd08320>]"
      ]
     },
     "execution_count": 300,
     "metadata": {},
     "output_type": "execute_result"
    },
    {
     "data": {
      "text/plain": [
       "[<matplotlib.lines.Line2D at 0x1235336a0>]"
      ]
     },
     "execution_count": 300,
     "metadata": {},
     "output_type": "execute_result"
    },
    {
     "data": {
      "text/plain": [
       "[<matplotlib.lines.Line2D at 0x125e36860>]"
      ]
     },
     "execution_count": 300,
     "metadata": {},
     "output_type": "execute_result"
    },
    {
     "data": {
      "image/png": "[encoded data removed]",
      "text/plain": [
       "<matplotlib.figure.Figure at 0x1403741d0>"
      ]
     },
     "metadata": {},
     "output_type": "display_data"
    },
    {
     "data": {
      "image/png": "[encoded data removed]",
      "text/plain": [
       "<matplotlib.figure.Figure at 0x122da5400>"
      ]
     },
     "metadata": {},
     "output_type": "display_data"
    },
    {
     "data": {
      "image/png": "[encoded data removed]",
      "text/plain": [
       "<matplotlib.figure.Figure at 0x129831e80>"
      ]
     },
     "metadata": {},
     "output_type": "display_data"
    },
    {
     "data": {
      "image/png": "[encoded data removed]",
      "text/plain": [
       "<matplotlib.figure.Figure at 0x1263aca58>"
      ]
     },
     "metadata": {},
     "output_type": "display_data"
    },
    {
     "data": {
      "image/png": "[encoded data removed]",
      "text/plain": [
       "<matplotlib.figure.Figure at 0x1230533c8>"
      ]
     },
     "metadata": {},
     "output_type": "display_data"
    },
    {
     "data": {
      "image/png": "[encoded data removed]",
      "text/plain": [
       "<matplotlib.figure.Figure at 0x13d031828>"
      ]
     },
     "metadata": {},
     "output_type": "display_data"
    },
    {
     "data": {
      "image/png": "[encoded data removed]",
      "text/plain": [
       "<matplotlib.figure.Figure at 0x1261740b8>"
      ]
     },
     "metadata": {},
     "output_type": "display_data"
    },
    {
     "data": {
      "image/png": "[encoded data removed]",
      "text/plain": [
       "<matplotlib.figure.Figure at 0x12176e898>"
      ]
     },
     "metadata": {},
     "output_type": "display_data"
    },
    {
     "data": {
      "image/png": "[encoded data removed]",
      "text/plain": [
       "<matplotlib.figure.Figure at 0x14037c908>"
      ]
     },
     "metadata": {},
     "output_type": "display_data"
    },
    {
     "data": {
      "image/png": "[encoded data removed]",
      "text/plain": [
       "<matplotlib.figure.Figure at 0x1263b8780>"
      ]
     },
     "metadata": {},
     "output_type": "display_data"
    },
    {
     "data": {
      "image/png": "[encoded data removed]",
      "text/plain": [
       "<matplotlib.figure.Figure at 0x129833c88>"
      ]
     },
     "metadata": {},
     "output_type": "display_data"
    },
    {
     "data": {
      "image/png": "[encoded data removed]",
      "text/plain": [
       "<matplotlib.figure.Figure at 0x11ffc1c88>"
      ]
     },
     "metadata": {},
     "output_type": "display_data"
    },
    {
     "data": {
      "image/png": "[encoded data removed]",
      "text/plain": [
       "<matplotlib.figure.Figure at 0x122f88080>"
      ]
     },
     "metadata": {},
     "output_type": "display_data"
    },
    {
     "data": {
      "image/png": "[encoded data removed]",
      "text/plain": [
       "<matplotlib.figure.Figure at 0x122d34748>"
      ]
     },
     "metadata": {},
     "output_type": "display_data"
    },
    {
     "data": {
      "image/png": "[encoded data removed]",
      "text/plain": [
       "<matplotlib.figure.Figure at 0x12249b278>"
      ]
     },
     "metadata": {},
     "output_type": "display_data"
    },
    {
     "data": {
      "image/png": "[encoded data removed]",
      "text/plain": [
       "<matplotlib.figure.Figure at 0x122733a90>"
      ]
     },
     "metadata": {},
     "output_type": "display_data"
    },
    {
     "data": {
      "image/png": "[encoded data removed]",
      "text/plain": [
       "<matplotlib.figure.Figure at 0x12980c9b0>"
      ]
     },
     "metadata": {},
     "output_type": "display_data"
    },
    {
     "data": {
      "image/png": "[encoded data removed]",
      "text/plain": [
       "<matplotlib.figure.Figure at 0x125791048>"
      ]
     },
     "metadata": {},
     "output_type": "display_data"
    },
    {
     "data": {
      "image/png": "[encoded data removed]",
      "text/plain": [
       "<matplotlib.figure.Figure at 0x1392ed470>"
      ]
     },
     "metadata": {},
     "output_type": "display_data"
    },
    {
     "data": {
      "image/png": "[encoded data removed]",
      "text/plain": [
       "<matplotlib.figure.Figure at 0x1255cb198>"
      ]
     },
     "metadata": {},
     "output_type": "display_data"
    },
    {
     "data": {
      "image/png": "[encoded data removed]",
      "text/plain": [
       "<matplotlib.figure.Figure at 0x13c602eb8>"
      ]
     },
     "metadata": {},
     "output_type": "display_data"
    },
    {
     "data": {
      "image/png": "[encoded data removed]",
      "text/plain": [
       "<matplotlib.figure.Figure at 0x13ecabda0>"
      ]
     },
     "metadata": {},
     "output_type": "display_data"
    },
    {
     "data": {
      "image/png": "[encoded data removed]",
      "text/plain": [
       "<matplotlib.figure.Figure at 0x1284d6940>"
      ]
     },
     "metadata": {},
     "output_type": "display_data"
    },
    {
     "data": {
      "image/png": "[encoded data removed]",
      "text/plain": [
       "<matplotlib.figure.Figure at 0x13c5c56d8>"
      ]
     },
     "metadata": {},
     "output_type": "display_data"
    },
    {
     "data": {
      "image/png": "[encoded data removed]",
      "text/plain": [
       "<matplotlib.figure.Figure at 0x13fd08630>"
      ]
     },
     "metadata": {},
     "output_type": "display_data"
    }
   ],
   "source": [
    "plot_y = data_predict_tmp_M15[['label','event','final_pred']]\n",
    "\n",
    "for e in events:\n",
    "    plot_y_e = plot_y[plot_y['event']==e]\n",
    "    dummy = plt.figure(figsize=[17,2])\n",
    "    plt.plot(plot_y_e['final_pred'], color = 'green', lw=0.5, label='predict')\n",
    "    plt.plot(plot_y_e['label'], color = 'royalblue', lw=0.5, label='label')\n",
    "#    plt.plot(plot_y_e['wind_speed'], color = 'red', lw=0.5, label='label')"
   ]
  },
  {
   "cell_type": "markdown",
   "metadata": {},
   "source": [
    "***"
   ]
  }
 ],
 "metadata": {
  "kernelspec": {
   "display_name": "Python [conda root]",
   "language": "python",
   "name": "conda-root-py"
  },
  "language_info": {
   "codemirror_mode": {
    "name": "ipython",
    "version": 3
   },
   "file_extension": ".py",
   "mimetype": "text/x-python",
   "name": "python",
   "nbconvert_exporter": "python",
   "pygments_lexer": "ipython3",
   "version": "3.5.3"
  }
 },
 "nbformat": 4,
 "nbformat_minor": 2
}
