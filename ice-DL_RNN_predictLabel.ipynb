{
 "cells": [
  {
   "cell_type": "markdown",
   "metadata": {},
   "source": [
    "# CAICT 風機結冰預測 - RNN"
   ]
  },
  {
   "cell_type": "markdown",
   "metadata": {},
   "source": [
    "2017/07/12  \n",
    "http://www.industrial-bigdata.com/competition/competitionAction!showDetail.action?competition.competitionId=1"
   ]
  },
  {
   "cell_type": "markdown",
   "metadata": {},
   "source": [
    "# **1. Load Data and Modules**"
   ]
  },
  {
   "cell_type": "markdown",
   "metadata": {},
   "source": [
    "**Load Python modules:**"
   ]
  },
  {
   "cell_type": "code",
   "execution_count": 189,
   "metadata": {},
   "outputs": [],
   "source": [
    "%matplotlib inline\n",
    "import numpy as np\n",
    "import pandas as pd\n",
    "import datetime\n",
    "import pandas as pd\n",
    "import os\n",
    "import sys\n",
    "from PIL import Image\n",
    "import numpy as np\n",
    "import lzma\n",
    "import pickle\n",
    "from IPython.display import display\n",
    "import tensorflow as tf\n",
    "from tensorflow.contrib.tensorboard.plugins import projector\n",
    "import shutil\n",
    "import csv\n",
    "import sklearn as sk\n",
    "from sklearn.metrics import precision_score\n",
    "import matplotlib.pyplot as plt\n",
    "import matplotlib.gridspec as gridspec\n",
    "import seaborn as sns\n",
    "from pylab import *\n",
    "from IPython.core.interactiveshell import InteractiveShell\n",
    "from keras.models import Sequential\n",
    "from keras.layers import Dense, Activation, Embedding, Dropout\n",
    "from keras.layers import LSTM, Bidirectional, GRU\n",
    "from keras.layers import Conv2D, MaxPooling2D, Flatten, Conv1D, MaxPooling1D\n",
    "from keras.optimizers import RMSprop, Adam\n",
    "from keras.layers.normalization import BatchNormalization\n",
    "from keras.layers.convolutional import Conv3D\n",
    "from keras.layers.convolutional_recurrent import ConvLSTM2D\n",
    "\n",
    "from keras.models import Sequential\n",
    "from sklearn.metrics import roc_curve, auc \n",
    "from sklearn import preprocessing\n",
    "\n",
    "import keras.backend as K\n",
    "import numpy as np\n",
    "import random\n",
    "import sys\n",
    "from IPython.display import SVG, display\n",
    "from keras.utils.vis_utils import model_to_dot\n",
    "from keras.preprocessing import sequence\n",
    "\n",
    "\n",
    "import warnings\n",
    "warnings.filterwarnings('ignore')\n",
    "\n",
    "\n",
    "pd.set_option('display.max_columns', None)\n",
    "InteractiveShell.ast_node_interactivity = \"last\""
   ]
  },
  {
   "cell_type": "code",
   "execution_count": 2,
   "metadata": {
    "collapsed": true
   },
   "outputs": [],
   "source": [
    "def myscore(true_y, pred_y):\n",
    "    n,p =sk.metrics.confusion_matrix(true_y, pred_y)\n",
    "    tn = n[0]\n",
    "    fp = n[1]\n",
    "    fn = p[0]\n",
    "    tp = p[1]\n",
    "    #print('tn:',tn,'fp:',fp,'fn:',fn,'fp:',fp)\n",
    "    score = 1- 0.5*(fp/(tn+fp))- 0.5*(fn/(fn+tp)) \n",
    "    #print('score',score)\n",
    "    return score, {'tn':tn,'fp':fp,'fn':fn,'tp':tp}\n"
   ]
  },
  {
   "cell_type": "code",
   "execution_count": 3,
   "metadata": {
    "collapsed": true
   },
   "outputs": [],
   "source": [
    "def StandardScaler(data):\n",
    "    standard_scaler = preprocessing.StandardScaler()\n",
    "    data_scaled = standard_scaler.fit_transform(data)\n",
    "    data_scaled = pd.DataFrame(data_scaled, columns = data.columns)\n",
    "    return data_scaled\n",
    "\n",
    "def MinMaxScaler(data):\n",
    "    standard_scaler = preprocessing.MinMaxScaler()\n",
    "    data_scaled = standard_scaler.fit_transform(data)\n",
    "    data_scaled = pd.DataFrame(data_scaled, columns = data.columns)\n",
    "    return data_scaled\n",
    "\n",
    "\n",
    "\n",
    "##------------------------\n",
    "\n",
    "def load_resample_data(mid, policy=1,  ycol='power', fillna=0):\n",
    "    filename = 'data/resample_data_p{POLICY}_{ID}.csv'.format(ID=mid,POLICY=policy)\n",
    "    print('load file:',filename)\n",
    "    data_resample = pd.read_csv(filename)\n",
    "    data_resample['label']=data_resample['label'].fillna(fillna)\n",
    "    data_resample[data_resample['label']==2]=0\n",
    "    data_X = data_resample.drop(['label','time','group','timestamp','event'], axis=1)\n",
    "    #data_Y = np.eye(data_y.unique().size)[data_y.values.astype(int)]\n",
    "    non_data_cols = ['label','time','group','timestamp','event']\n",
    "    data_scaled = MinMaxScaler(data_X)\n",
    "    for col in non_data_cols:\n",
    "        data_scaled[col] = data_resample[col]\n",
    "    return data_resample,data_scaled\n",
    "\n",
    "##------------------------\n",
    "\n",
    "def load_test2_data():\n",
    "    test_data = pd.read_csv('data/ice1/test/08/08_data.csv')\n",
    "    test_timeidx = test_data['time']\n",
    "    tmp = test_data.drop(['time','group','generator_speed'], axis=1)\n",
    "    test_X = tmp.values\n",
    "    return test_X, test_timeidx\n",
    "\n",
    "    "
   ]
  },
  {
   "cell_type": "code",
   "execution_count": 4,
   "metadata": {
    "collapsed": true
   },
   "outputs": [],
   "source": [
    "def rnn_dataset(data, n_steps):\n",
    "    dataset_new = []\n",
    "    for idx, _ in enumerate(data):\n",
    "        start_idx = idx-n_steps\n",
    "        end_idx = idx+1\n",
    "        if start_idx<0:\n",
    "            continue\n",
    "        n=np.concatenate(data[start_idx:end_idx], axis=0)\n",
    "        dataset_new.append(n)\n",
    "    dataset_new = np.asarray(dataset_new)\n",
    "    return dataset_new"
   ]
  },
  {
   "cell_type": "code",
   "execution_count": 5,
   "metadata": {
    "collapsed": true
   },
   "outputs": [],
   "source": [
    "def rnn_dataset(data, n_steps):\n",
    "    dataset_new = []\n",
    "    for idx, _ in enumerate(data):\n",
    "        start_idx = idx-n_steps\n",
    "        end_idx = idx\n",
    "        if start_idx<0:\n",
    "            continue\n",
    "        n=np.concatenate(data[start_idx:end_idx], axis=0)\n",
    "        dataset_new.append(n)\n",
    "    dataset_new = np.asarray(dataset_new)\n",
    "    return dataset_new\n",
    "    "
   ]
  },
  {
   "cell_type": "markdown",
   "metadata": {},
   "source": [
    "**Load input data.** "
   ]
  },
  {
   "cell_type": "code",
   "execution_count": 6,
   "metadata": {
    "collapsed": true
   },
   "outputs": [],
   "source": [
    "xcols=['wind_speed', 'wind_direction',\n",
    "       'wind_direction_mean', 'yaw_position', 'yaw_speed', 'pitch1_angle',\n",
    "       'pitch2_angle', 'pitch3_angle', 'pitch1_speed', 'pitch2_speed',\n",
    "       'pitch3_speed', 'pitch1_moto_tmp', 'pitch2_moto_tmp', 'pitch3_moto_tmp',\n",
    "       'acc_x', 'acc_y', 'environment_tmp', 'int_tmp', 'pitch1_ng5_tmp',\n",
    "       'pitch2_ng5_tmp', 'pitch3_ng5_tmp', 'pitch1_ng5_DC', 'pitch2_ng5_DC',\n",
    "       'pitch3_ng5_DC']\n"
   ]
  },
  {
   "cell_type": "code",
   "execution_count": 7,
   "metadata": {
    "scrolled": true
   },
   "outputs": [
    {
     "name": "stdout",
     "output_type": "stream",
     "text": [
      "load file: data/resample_data_p4_15.csv\n",
      "load file: data/resample_data_p0_21.csv\n"
     ]
    }
   ],
   "source": [
    "_, data_scaled_M15 = load_resample_data(mid=15,policy=4)\n",
    "\n",
    "data_M15_train = data_scaled_M15[data_scaled_M15['event']<20]\n",
    "data_M15_valid = data_scaled_M15[data_scaled_M15['event']>=20]\n",
    "\n",
    "ycol='label'\n",
    "data_M15_train_X = data_M15_train[xcols]\n",
    "data_M15_train_y = data_M15_train[ycol]\n",
    "data_M15_train_Y = np.eye(data_M15_train_y.unique().size)[data_M15_train_y.values.astype(int)]\n",
    "\n",
    "data_M15_valid_X = data_M15_valid[xcols]\n",
    "data_M15_valid_y = data_M15_valid[ycol]\n",
    "data_M15_valid_Y = np.eye(data_M15_valid_y.unique().size)[data_M15_valid_y.values.astype(int)]\n",
    "\n",
    "data_M15_test_X = data_scaled_M15[xcols]\n",
    "data_M15_test_y = data_scaled_M15[ycol]\n",
    "data_M15_test_Y = np.eye(data_M15_test_y.unique().size)[data_M15_test_y.values.astype(int)]\n",
    "\n",
    "_, data_scaled_M21 = load_resample_data(mid=21,policy=0)\n",
    "data_M21_test_X = data_scaled_M21[xcols]\n",
    "data_M21_test_y = data_scaled_M21[ycol]\n",
    "data_M21_test_Y = np.eye(data_M21_test_y.unique().size)[data_M21_test_y.values.astype(int)]\n",
    "\n",
    "\n",
    "#_, data_X_M21, data_Y_M21, data_y_M21  = load_training_data(mid=21,policy=0)\n",
    "\n",
    "#_, data_X_M21, data_Y_M21, data_y_M21  = load_training_data(mid=21,policy=0)\n",
    "#test_X,test_timeidx = load_test2_data()"
   ]
  },
  {
   "cell_type": "markdown",
   "metadata": {},
   "source": [
    "** 為了RNN需求, 更改X format **"
   ]
  },
  {
   "cell_type": "code",
   "execution_count": 8,
   "metadata": {
    "collapsed": true
   },
   "outputs": [],
   "source": [
    "n_steps = 50\n",
    "data_M15_train_X_new = rnn_dataset(data_M15_train_X.values,n_steps)\n",
    "data_M15_valid_X_new = rnn_dataset(data_M15_valid_X.values,n_steps)\n",
    "data_M21_test_X_new = rnn_dataset(data_M21_test_X.values,n_steps)\n",
    "data_M15_test_X_new = rnn_dataset(data_M15_test_X.values,n_steps)\n",
    "#test_X = rnn_dataset(test_X,n_steps_)\n",
    "\n",
    "data_M15_train_X_new = data_M15_train_X_new.reshape([-1, n_steps, len(xcols)])\n",
    "data_M15_valid_X_new = data_M15_valid_X_new.reshape([-1, n_steps, len(xcols)])\n",
    "data_M21_test_X_new = data_M21_test_X_new.reshape([-1, n_steps, len(xcols)])\n",
    "data_M15_test_X_new = data_M15_test_X_new.reshape([-1, n_steps, len(xcols)])\n",
    "#test_X = test_X.reshape([-1, 50, len(xcols)])"
   ]
  },
  {
   "cell_type": "code",
   "execution_count": 9,
   "metadata": {
    "collapsed": true
   },
   "outputs": [],
   "source": [
    "data_M15_train_Y_new=data_M15_train_Y[n_steps:]\n",
    "data_M15_train_y_new=data_M15_train_y[n_steps:]\n",
    "data_M15_valid_Y_new=data_M15_valid_Y[n_steps:]\n",
    "data_M15_valid_y_new=data_M15_valid_y[n_steps:]\n",
    "data_M21_test_Y_new=data_M21_test_Y[n_steps:]\n",
    "data_M21_test_y_new=data_M21_test_y[n_steps:]\n",
    "data_M15_test_Y_new=data_M15_test_Y[n_steps:]\n",
    "data_M15_test_y_new=data_M15_test_y[n_steps:]\n",
    "#test_timeidx_new=test_timeidx[n_steps_:]"
   ]
  },
  {
   "cell_type": "markdown",
   "metadata": {},
   "source": [
    "** RNN netwrok structure **  \n",
    "\n",
    "\n",
    "tips:  \n",
    "- output 2 個class時, activation用softmax, output一個value時, activation function用sigmoid\n",
    "- output 2 個class時, label data用xxx_Y, output一個value時, label data用xxx_y\n",
    "\n"
   ]
  },
  {
   "cell_type": "code",
   "execution_count": 265,
   "metadata": {
    "collapsed": true
   },
   "outputs": [],
   "source": [
    "def basic_GRU():\n",
    "    model = Sequential()\n",
    "    model.add(GRU(512, input_shape=(n_steps, len(xcols)),dropout=0.2, recurrent_dropout=0.2))\n",
    "    model.add(Dense(1))\n",
    "    model.add(Activation('sigmoid'))\n",
    "    optimizer = Adam(lr=0.001)\n",
    "    model.compile(loss='binary_crossentropy', optimizer=optimizer)\n",
    "    return model\n",
    "    \n",
    "\n",
    "def basic_LSTM():\n",
    "    model = Sequential()\n",
    "    model.add(LSTM(512, input_shape=(n_steps, len(xcols)),dropout=0.2, recurrent_dropout=0.2))\n",
    "    model.add(Dense(1))\n",
    "    model.add(Activation('sigmoid'))\n",
    "    optimizer = Adam(lr=0.001)\n",
    "    model.compile(loss='binary_crossentropy', optimizer=optimizer)\n",
    "    return model\n",
    "\n",
    "def multilayer_LSTM():\n",
    "    model = Sequential()\n",
    "    model.add(LSTM(50, input_shape=(n_steps, len(xcols)), return_sequences=True))\n",
    "    model.add(BatchNormalization())\n",
    "    model.add(Dropout(0.2))\n",
    "    model.add(LSTM(100,return_sequences=False))\n",
    "    model.add(BatchNormalization())\n",
    "    model.add(Dropout(0.2))\n",
    "    model.add(Dense(1))\n",
    "    model.add(Activation('sigmoid'))\n",
    "    optimizer = Adam(lr=0.001)\n",
    "    model.compile(loss=\"binary_crossentropy\", optimizer=optimizer)\n",
    "    return model\n",
    "\n",
    "def bidirectional_LSTM():\n",
    "    model = Sequential()\n",
    "    model.add(Bidirectional( LSTM(128),input_shape=(n_steps, len(xcols)) ))\n",
    "    model.add(BatchNormalization())\n",
    "    model.add(Dropout(0.5))\n",
    "    model.add(Dense(1))\n",
    "    model.add(Activation('sigmoid'))\n",
    "    optimizer = RMSprop(lr=0.001)\n",
    "    model.compile(loss=\"binary_crossentropy\", optimizer=optimizer)\n",
    "    return model\n",
    "\n",
    "def conv_LSTM():\n",
    "    pass\n",
    "\n",
    "def stateful_LSTM():\n",
    "    pass\n",
    "\n",
    "\n",
    "def basic_CNN():\n",
    "    model = Sequential()\n",
    "    model.add(Conv2D(32, kernel_size=(3, 3),\n",
    "                     padding='same',\n",
    "                     activation='relu',\n",
    "                     input_shape=(n_steps, len(xcols),1)))\n",
    "    model.add(MaxPooling2D(pool_size=(2, 2)))\n",
    "    model.add(BatchNormalization())\n",
    "    model.add(Dropout(0.2))\n",
    "    model.add(Conv2D(64, (3, 3), padding='same',activation='relu'))\n",
    "    model.add(MaxPooling2D(pool_size=(2, 2)))\n",
    "    model.add(BatchNormalization())\n",
    "    model.add(Dropout(0.2))\n",
    "    model.add(Flatten())\n",
    "    model.add(Dense(1024))\n",
    "    model.add(BatchNormalization())\n",
    "    model.add(Activation('relu'))\n",
    "    model.add(Dropout(0.2))\n",
    "    model.add(Dense(256))\n",
    "    model.add(BatchNormalization())\n",
    "    model.add(Activation('relu'))\n",
    "    model.add(Dense(1))\n",
    "    model.add(Activation('sigmoid'))\n",
    "    optimizer = Adam(lr=0.001)\n",
    "    model.compile(loss='binary_crossentropy', optimizer=optimizer)\n",
    "    return model\n",
    "\n",
    "def stateful_LSTM():\n",
    "    model = Sequential()\n",
    "    model.add(LSTM(50, input_shape=(n_steps, len(xcols)), return_sequences=True,stateful=True, batch_size=500))\n",
    "    model.add(BatchNormalization())\n",
    "    model.add(Dropout(0.2))\n",
    "    model.add(LSTM(100,return_sequences=False,stateful=True, batch_size=500))\n",
    "    model.add(BatchNormalization())\n",
    "    model.add(Dropout(0.2))\n",
    "    model.add(Dense(1))\n",
    "    model.add(Activation('sigmoid'))\n",
    "    optimizer = Adam(lr=0.001)\n",
    "    model.compile(loss=\"binary_crossentropy\", optimizer=optimizer)\n",
    "    return model    \n",
    "\n",
    "def CNN_LSTM():\n",
    "    model = Sequential()\n",
    "    model.add(Conv1D(32,\n",
    "                     4,\n",
    "                     padding='same',\n",
    "                     activation='relu',\n",
    "                     strides=1,input_shape=(n_steps, len(xcols))),\n",
    "                     )\n",
    "    model.add(MaxPooling1D(pool_size=2))\n",
    "    model.add(Dropout(0.15))\n",
    "    model.add(BatchNormalization())\n",
    "    model.add(Conv1D(64,\n",
    "                 4,\n",
    "                 padding='same',\n",
    "                 activation='relu',\n",
    "                 strides=1,input_shape=(n_steps, len(xcols))),\n",
    "                 )\n",
    "    model.add(MaxPooling1D(pool_size=2))\n",
    "    model.add(Dropout(0.15))\n",
    "    model.add(BatchNormalization())\n",
    "    model.add(LSTM(320))\n",
    "    model.add(Dropout(0.15))\n",
    "    model.add(Activation('sigmoid'))\n",
    "    model.add(Dense(100))\n",
    "    model.add(Dense(1))\n",
    "    model.add(Activation('sigmoid'))\n",
    "    model.compile(loss='binary_crossentropy',\n",
    "                  optimizer='adam')\n",
    "    return model"
   ]
  },
  {
   "cell_type": "code",
   "execution_count": 266,
   "metadata": {},
   "outputs": [],
   "source": [
    "model= CNN_LSTM()\n",
    "#model = basic_CNN()"
   ]
  },
  {
   "cell_type": "code",
   "execution_count": 267,
   "metadata": {
    "scrolled": false
   },
   "outputs": [
    {
     "data": {
      "image/svg+xml": [
       "<svg height=\"1217pt\" viewBox=\"0.00 0.00 426.00 1217.00\" width=\"426pt\" xmlns=\"http://www.w3.org/2000/svg\" xmlns:xlink=\"http://www.w3.org/1999/xlink\">\n",
       "<g class=\"graph\" id=\"graph0\" transform=\"scale(1 1) rotate(0) translate(4 1213)\">\n",
       "<title>G</title>\n",
       "<polygon fill=\"white\" points=\"-4,4 -4,-1213 422,-1213 422,4 -4,4\" stroke=\"none\"/>\n",
       "<!-- 140432121828632 -->\n",
       "<g class=\"node\" id=\"node1\"><title>140432121828632</title>\n",
       "<polygon fill=\"none\" points=\"43.5,-1162.5 43.5,-1208.5 374.5,-1208.5 374.5,-1162.5 43.5,-1162.5\" stroke=\"black\"/>\n",
       "<text font-family=\"Times,serif\" font-size=\"14.00\" text-anchor=\"middle\" x=\"133\" y=\"-1181.8\">conv1d_24_input: InputLayer</text>\n",
       "<polyline fill=\"none\" points=\"222.5,-1162.5 222.5,-1208.5 \" stroke=\"black\"/>\n",
       "<text font-family=\"Times,serif\" font-size=\"14.00\" text-anchor=\"middle\" x=\"250\" y=\"-1193.3\">input:</text>\n",
       "<polyline fill=\"none\" points=\"222.5,-1185.5 277.5,-1185.5 \" stroke=\"black\"/>\n",
       "<text font-family=\"Times,serif\" font-size=\"14.00\" text-anchor=\"middle\" x=\"250\" y=\"-1170.3\">output:</text>\n",
       "<polyline fill=\"none\" points=\"277.5,-1162.5 277.5,-1208.5 \" stroke=\"black\"/>\n",
       "<text font-family=\"Times,serif\" font-size=\"14.00\" text-anchor=\"middle\" x=\"326\" y=\"-1193.3\">(None, 50, 24)</text>\n",
       "<polyline fill=\"none\" points=\"277.5,-1185.5 374.5,-1185.5 \" stroke=\"black\"/>\n",
       "<text font-family=\"Times,serif\" font-size=\"14.00\" text-anchor=\"middle\" x=\"326\" y=\"-1170.3\">(None, 50, 24)</text>\n",
       "</g>\n",
       "<!-- 140432121828296 -->\n",
       "<g class=\"node\" id=\"node2\"><title>140432121828296</title>\n",
       "<polygon fill=\"none\" points=\"68,-1079.5 68,-1125.5 350,-1125.5 350,-1079.5 68,-1079.5\" stroke=\"black\"/>\n",
       "<text font-family=\"Times,serif\" font-size=\"14.00\" text-anchor=\"middle\" x=\"133\" y=\"-1098.8\">conv1d_24: Conv1D</text>\n",
       "<polyline fill=\"none\" points=\"198,-1079.5 198,-1125.5 \" stroke=\"black\"/>\n",
       "<text font-family=\"Times,serif\" font-size=\"14.00\" text-anchor=\"middle\" x=\"225.5\" y=\"-1110.3\">input:</text>\n",
       "<polyline fill=\"none\" points=\"198,-1102.5 253,-1102.5 \" stroke=\"black\"/>\n",
       "<text font-family=\"Times,serif\" font-size=\"14.00\" text-anchor=\"middle\" x=\"225.5\" y=\"-1087.3\">output:</text>\n",
       "<polyline fill=\"none\" points=\"253,-1079.5 253,-1125.5 \" stroke=\"black\"/>\n",
       "<text font-family=\"Times,serif\" font-size=\"14.00\" text-anchor=\"middle\" x=\"301.5\" y=\"-1110.3\">(None, 50, 24)</text>\n",
       "<polyline fill=\"none\" points=\"253,-1102.5 350,-1102.5 \" stroke=\"black\"/>\n",
       "<text font-family=\"Times,serif\" font-size=\"14.00\" text-anchor=\"middle\" x=\"301.5\" y=\"-1087.3\">(None, 50, 32)</text>\n",
       "</g>\n",
       "<!-- 140432121828632&#45;&gt;140432121828296 -->\n",
       "<g class=\"edge\" id=\"edge1\"><title>140432121828632-&gt;140432121828296</title>\n",
       "<path d=\"M209,-1162.37C209,-1154.15 209,-1144.66 209,-1135.73\" fill=\"none\" stroke=\"black\"/>\n",
       "<polygon fill=\"black\" points=\"212.5,-1135.61 209,-1125.61 205.5,-1135.61 212.5,-1135.61\" stroke=\"black\"/>\n",
       "</g>\n",
       "<!-- 140432006823384 -->\n",
       "<g class=\"node\" id=\"node3\"><title>140432006823384</title>\n",
       "<polygon fill=\"none\" points=\"26,-996.5 26,-1042.5 392,-1042.5 392,-996.5 26,-996.5\" stroke=\"black\"/>\n",
       "<text font-family=\"Times,serif\" font-size=\"14.00\" text-anchor=\"middle\" x=\"133\" y=\"-1015.8\">max_pooling1d_12: MaxPooling1D</text>\n",
       "<polyline fill=\"none\" points=\"240,-996.5 240,-1042.5 \" stroke=\"black\"/>\n",
       "<text font-family=\"Times,serif\" font-size=\"14.00\" text-anchor=\"middle\" x=\"267.5\" y=\"-1027.3\">input:</text>\n",
       "<polyline fill=\"none\" points=\"240,-1019.5 295,-1019.5 \" stroke=\"black\"/>\n",
       "<text font-family=\"Times,serif\" font-size=\"14.00\" text-anchor=\"middle\" x=\"267.5\" y=\"-1004.3\">output:</text>\n",
       "<polyline fill=\"none\" points=\"295,-996.5 295,-1042.5 \" stroke=\"black\"/>\n",
       "<text font-family=\"Times,serif\" font-size=\"14.00\" text-anchor=\"middle\" x=\"343.5\" y=\"-1027.3\">(None, 50, 32)</text>\n",
       "<polyline fill=\"none\" points=\"295,-1019.5 392,-1019.5 \" stroke=\"black\"/>\n",
       "<text font-family=\"Times,serif\" font-size=\"14.00\" text-anchor=\"middle\" x=\"343.5\" y=\"-1004.3\">(None, 25, 32)</text>\n",
       "</g>\n",
       "<!-- 140432121828296&#45;&gt;140432006823384 -->\n",
       "<g class=\"edge\" id=\"edge2\"><title>140432121828296-&gt;140432006823384</title>\n",
       "<path d=\"M209,-1079.37C209,-1071.15 209,-1061.66 209,-1052.73\" fill=\"none\" stroke=\"black\"/>\n",
       "<polygon fill=\"black\" points=\"212.5,-1052.61 209,-1042.61 205.5,-1052.61 212.5,-1052.61\" stroke=\"black\"/>\n",
       "</g>\n",
       "<!-- 140432006823104 -->\n",
       "<g class=\"node\" id=\"node4\"><title>140432006823104</title>\n",
       "<polygon fill=\"none\" points=\"67.5,-913.5 67.5,-959.5 350.5,-959.5 350.5,-913.5 67.5,-913.5\" stroke=\"black\"/>\n",
       "<text font-family=\"Times,serif\" font-size=\"14.00\" text-anchor=\"middle\" x=\"133\" y=\"-932.8\">dropout_27: Dropout</text>\n",
       "<polyline fill=\"none\" points=\"198.5,-913.5 198.5,-959.5 \" stroke=\"black\"/>\n",
       "<text font-family=\"Times,serif\" font-size=\"14.00\" text-anchor=\"middle\" x=\"226\" y=\"-944.3\">input:</text>\n",
       "<polyline fill=\"none\" points=\"198.5,-936.5 253.5,-936.5 \" stroke=\"black\"/>\n",
       "<text font-family=\"Times,serif\" font-size=\"14.00\" text-anchor=\"middle\" x=\"226\" y=\"-921.3\">output:</text>\n",
       "<polyline fill=\"none\" points=\"253.5,-913.5 253.5,-959.5 \" stroke=\"black\"/>\n",
       "<text font-family=\"Times,serif\" font-size=\"14.00\" text-anchor=\"middle\" x=\"302\" y=\"-944.3\">(None, 25, 32)</text>\n",
       "<polyline fill=\"none\" points=\"253.5,-936.5 350.5,-936.5 \" stroke=\"black\"/>\n",
       "<text font-family=\"Times,serif\" font-size=\"14.00\" text-anchor=\"middle\" x=\"302\" y=\"-921.3\">(None, 25, 32)</text>\n",
       "</g>\n",
       "<!-- 140432006823384&#45;&gt;140432006823104 -->\n",
       "<g class=\"edge\" id=\"edge3\"><title>140432006823384-&gt;140432006823104</title>\n",
       "<path d=\"M209,-996.366C209,-988.152 209,-978.658 209,-969.725\" fill=\"none\" stroke=\"black\"/>\n",
       "<polygon fill=\"black\" points=\"212.5,-969.607 209,-959.607 205.5,-969.607 212.5,-969.607\" stroke=\"black\"/>\n",
       "</g>\n",
       "<!-- 140432052879088 -->\n",
       "<g class=\"node\" id=\"node5\"><title>140432052879088</title>\n",
       "<polygon fill=\"none\" points=\"0,-830.5 0,-876.5 418,-876.5 418,-830.5 0,-830.5\" stroke=\"black\"/>\n",
       "<text font-family=\"Times,serif\" font-size=\"14.00\" text-anchor=\"middle\" x=\"133\" y=\"-849.8\">batch_normalization_23: BatchNormalization</text>\n",
       "<polyline fill=\"none\" points=\"266,-830.5 266,-876.5 \" stroke=\"black\"/>\n",
       "<text font-family=\"Times,serif\" font-size=\"14.00\" text-anchor=\"middle\" x=\"293.5\" y=\"-861.3\">input:</text>\n",
       "<polyline fill=\"none\" points=\"266,-853.5 321,-853.5 \" stroke=\"black\"/>\n",
       "<text font-family=\"Times,serif\" font-size=\"14.00\" text-anchor=\"middle\" x=\"293.5\" y=\"-838.3\">output:</text>\n",
       "<polyline fill=\"none\" points=\"321,-830.5 321,-876.5 \" stroke=\"black\"/>\n",
       "<text font-family=\"Times,serif\" font-size=\"14.00\" text-anchor=\"middle\" x=\"369.5\" y=\"-861.3\">(None, 25, 32)</text>\n",
       "<polyline fill=\"none\" points=\"321,-853.5 418,-853.5 \" stroke=\"black\"/>\n",
       "<text font-family=\"Times,serif\" font-size=\"14.00\" text-anchor=\"middle\" x=\"369.5\" y=\"-838.3\">(None, 25, 32)</text>\n",
       "</g>\n",
       "<!-- 140432006823104&#45;&gt;140432052879088 -->\n",
       "<g class=\"edge\" id=\"edge4\"><title>140432006823104-&gt;140432052879088</title>\n",
       "<path d=\"M209,-913.366C209,-905.152 209,-895.658 209,-886.725\" fill=\"none\" stroke=\"black\"/>\n",
       "<polygon fill=\"black\" points=\"212.5,-886.607 209,-876.607 205.5,-886.607 212.5,-886.607\" stroke=\"black\"/>\n",
       "</g>\n",
       "<!-- 140432006932016 -->\n",
       "<g class=\"node\" id=\"node6\"><title>140432006932016</title>\n",
       "<polygon fill=\"none\" points=\"68,-747.5 68,-793.5 350,-793.5 350,-747.5 68,-747.5\" stroke=\"black\"/>\n",
       "<text font-family=\"Times,serif\" font-size=\"14.00\" text-anchor=\"middle\" x=\"133\" y=\"-766.8\">conv1d_25: Conv1D</text>\n",
       "<polyline fill=\"none\" points=\"198,-747.5 198,-793.5 \" stroke=\"black\"/>\n",
       "<text font-family=\"Times,serif\" font-size=\"14.00\" text-anchor=\"middle\" x=\"225.5\" y=\"-778.3\">input:</text>\n",
       "<polyline fill=\"none\" points=\"198,-770.5 253,-770.5 \" stroke=\"black\"/>\n",
       "<text font-family=\"Times,serif\" font-size=\"14.00\" text-anchor=\"middle\" x=\"225.5\" y=\"-755.3\">output:</text>\n",
       "<polyline fill=\"none\" points=\"253,-747.5 253,-793.5 \" stroke=\"black\"/>\n",
       "<text font-family=\"Times,serif\" font-size=\"14.00\" text-anchor=\"middle\" x=\"301.5\" y=\"-778.3\">(None, 25, 32)</text>\n",
       "<polyline fill=\"none\" points=\"253,-770.5 350,-770.5 \" stroke=\"black\"/>\n",
       "<text font-family=\"Times,serif\" font-size=\"14.00\" text-anchor=\"middle\" x=\"301.5\" y=\"-755.3\">(None, 25, 64)</text>\n",
       "</g>\n",
       "<!-- 140432052879088&#45;&gt;140432006932016 -->\n",
       "<g class=\"edge\" id=\"edge5\"><title>140432052879088-&gt;140432006932016</title>\n",
       "<path d=\"M209,-830.366C209,-822.152 209,-812.658 209,-803.725\" fill=\"none\" stroke=\"black\"/>\n",
       "<polygon fill=\"black\" points=\"212.5,-803.607 209,-793.607 205.5,-803.607 212.5,-803.607\" stroke=\"black\"/>\n",
       "</g>\n",
       "<!-- 140432006654944 -->\n",
       "<g class=\"node\" id=\"node7\"><title>140432006654944</title>\n",
       "<polygon fill=\"none\" points=\"26,-664.5 26,-710.5 392,-710.5 392,-664.5 26,-664.5\" stroke=\"black\"/>\n",
       "<text font-family=\"Times,serif\" font-size=\"14.00\" text-anchor=\"middle\" x=\"133\" y=\"-683.8\">max_pooling1d_13: MaxPooling1D</text>\n",
       "<polyline fill=\"none\" points=\"240,-664.5 240,-710.5 \" stroke=\"black\"/>\n",
       "<text font-family=\"Times,serif\" font-size=\"14.00\" text-anchor=\"middle\" x=\"267.5\" y=\"-695.3\">input:</text>\n",
       "<polyline fill=\"none\" points=\"240,-687.5 295,-687.5 \" stroke=\"black\"/>\n",
       "<text font-family=\"Times,serif\" font-size=\"14.00\" text-anchor=\"middle\" x=\"267.5\" y=\"-672.3\">output:</text>\n",
       "<polyline fill=\"none\" points=\"295,-664.5 295,-710.5 \" stroke=\"black\"/>\n",
       "<text font-family=\"Times,serif\" font-size=\"14.00\" text-anchor=\"middle\" x=\"343.5\" y=\"-695.3\">(None, 25, 64)</text>\n",
       "<polyline fill=\"none\" points=\"295,-687.5 392,-687.5 \" stroke=\"black\"/>\n",
       "<text font-family=\"Times,serif\" font-size=\"14.00\" text-anchor=\"middle\" x=\"343.5\" y=\"-672.3\">(None, 12, 64)</text>\n",
       "</g>\n",
       "<!-- 140432006932016&#45;&gt;140432006654944 -->\n",
       "<g class=\"edge\" id=\"edge6\"><title>140432006932016-&gt;140432006654944</title>\n",
       "<path d=\"M209,-747.366C209,-739.152 209,-729.658 209,-720.725\" fill=\"none\" stroke=\"black\"/>\n",
       "<polygon fill=\"black\" points=\"212.5,-720.607 209,-710.607 205.5,-720.607 212.5,-720.607\" stroke=\"black\"/>\n",
       "</g>\n",
       "<!-- 140432005854264 -->\n",
       "<g class=\"node\" id=\"node8\"><title>140432005854264</title>\n",
       "<polygon fill=\"none\" points=\"67.5,-581.5 67.5,-627.5 350.5,-627.5 350.5,-581.5 67.5,-581.5\" stroke=\"black\"/>\n",
       "<text font-family=\"Times,serif\" font-size=\"14.00\" text-anchor=\"middle\" x=\"133\" y=\"-600.8\">dropout_28: Dropout</text>\n",
       "<polyline fill=\"none\" points=\"198.5,-581.5 198.5,-627.5 \" stroke=\"black\"/>\n",
       "<text font-family=\"Times,serif\" font-size=\"14.00\" text-anchor=\"middle\" x=\"226\" y=\"-612.3\">input:</text>\n",
       "<polyline fill=\"none\" points=\"198.5,-604.5 253.5,-604.5 \" stroke=\"black\"/>\n",
       "<text font-family=\"Times,serif\" font-size=\"14.00\" text-anchor=\"middle\" x=\"226\" y=\"-589.3\">output:</text>\n",
       "<polyline fill=\"none\" points=\"253.5,-581.5 253.5,-627.5 \" stroke=\"black\"/>\n",
       "<text font-family=\"Times,serif\" font-size=\"14.00\" text-anchor=\"middle\" x=\"302\" y=\"-612.3\">(None, 12, 64)</text>\n",
       "<polyline fill=\"none\" points=\"253.5,-604.5 350.5,-604.5 \" stroke=\"black\"/>\n",
       "<text font-family=\"Times,serif\" font-size=\"14.00\" text-anchor=\"middle\" x=\"302\" y=\"-589.3\">(None, 12, 64)</text>\n",
       "</g>\n",
       "<!-- 140432006654944&#45;&gt;140432005854264 -->\n",
       "<g class=\"edge\" id=\"edge7\"><title>140432006654944-&gt;140432005854264</title>\n",
       "<path d=\"M209,-664.366C209,-656.152 209,-646.658 209,-637.725\" fill=\"none\" stroke=\"black\"/>\n",
       "<polygon fill=\"black\" points=\"212.5,-637.607 209,-627.607 205.5,-637.607 212.5,-637.607\" stroke=\"black\"/>\n",
       "</g>\n",
       "<!-- 140432005854208 -->\n",
       "<g class=\"node\" id=\"node9\"><title>140432005854208</title>\n",
       "<polygon fill=\"none\" points=\"0,-498.5 0,-544.5 418,-544.5 418,-498.5 0,-498.5\" stroke=\"black\"/>\n",
       "<text font-family=\"Times,serif\" font-size=\"14.00\" text-anchor=\"middle\" x=\"133\" y=\"-517.8\">batch_normalization_24: BatchNormalization</text>\n",
       "<polyline fill=\"none\" points=\"266,-498.5 266,-544.5 \" stroke=\"black\"/>\n",
       "<text font-family=\"Times,serif\" font-size=\"14.00\" text-anchor=\"middle\" x=\"293.5\" y=\"-529.3\">input:</text>\n",
       "<polyline fill=\"none\" points=\"266,-521.5 321,-521.5 \" stroke=\"black\"/>\n",
       "<text font-family=\"Times,serif\" font-size=\"14.00\" text-anchor=\"middle\" x=\"293.5\" y=\"-506.3\">output:</text>\n",
       "<polyline fill=\"none\" points=\"321,-498.5 321,-544.5 \" stroke=\"black\"/>\n",
       "<text font-family=\"Times,serif\" font-size=\"14.00\" text-anchor=\"middle\" x=\"369.5\" y=\"-529.3\">(None, 12, 64)</text>\n",
       "<polyline fill=\"none\" points=\"321,-521.5 418,-521.5 \" stroke=\"black\"/>\n",
       "<text font-family=\"Times,serif\" font-size=\"14.00\" text-anchor=\"middle\" x=\"369.5\" y=\"-506.3\">(None, 12, 64)</text>\n",
       "</g>\n",
       "<!-- 140432005854264&#45;&gt;140432005854208 -->\n",
       "<g class=\"edge\" id=\"edge8\"><title>140432005854264-&gt;140432005854208</title>\n",
       "<path d=\"M209,-581.366C209,-573.152 209,-563.658 209,-554.725\" fill=\"none\" stroke=\"black\"/>\n",
       "<polygon fill=\"black\" points=\"212.5,-554.607 209,-544.607 205.5,-554.607 212.5,-554.607\" stroke=\"black\"/>\n",
       "</g>\n",
       "<!-- 140432005424184 -->\n",
       "<g class=\"node\" id=\"node10\"><title>140432005424184</title>\n",
       "<polygon fill=\"none\" points=\"80.5,-415.5 80.5,-461.5 337.5,-461.5 337.5,-415.5 80.5,-415.5\" stroke=\"black\"/>\n",
       "<text font-family=\"Times,serif\" font-size=\"14.00\" text-anchor=\"middle\" x=\"133\" y=\"-434.8\">lstm_23: LSTM</text>\n",
       "<polyline fill=\"none\" points=\"185.5,-415.5 185.5,-461.5 \" stroke=\"black\"/>\n",
       "<text font-family=\"Times,serif\" font-size=\"14.00\" text-anchor=\"middle\" x=\"213\" y=\"-446.3\">input:</text>\n",
       "<polyline fill=\"none\" points=\"185.5,-438.5 240.5,-438.5 \" stroke=\"black\"/>\n",
       "<text font-family=\"Times,serif\" font-size=\"14.00\" text-anchor=\"middle\" x=\"213\" y=\"-423.3\">output:</text>\n",
       "<polyline fill=\"none\" points=\"240.5,-415.5 240.5,-461.5 \" stroke=\"black\"/>\n",
       "<text font-family=\"Times,serif\" font-size=\"14.00\" text-anchor=\"middle\" x=\"289\" y=\"-446.3\">(None, 12, 64)</text>\n",
       "<polyline fill=\"none\" points=\"240.5,-438.5 337.5,-438.5 \" stroke=\"black\"/>\n",
       "<text font-family=\"Times,serif\" font-size=\"14.00\" text-anchor=\"middle\" x=\"289\" y=\"-423.3\">(None, 320)</text>\n",
       "</g>\n",
       "<!-- 140432005854208&#45;&gt;140432005424184 -->\n",
       "<g class=\"edge\" id=\"edge9\"><title>140432005854208-&gt;140432005424184</title>\n",
       "<path d=\"M209,-498.366C209,-490.152 209,-480.658 209,-471.725\" fill=\"none\" stroke=\"black\"/>\n",
       "<polygon fill=\"black\" points=\"212.5,-471.607 209,-461.607 205.5,-471.607 212.5,-471.607\" stroke=\"black\"/>\n",
       "</g>\n",
       "<!-- 140432005032816 -->\n",
       "<g class=\"node\" id=\"node11\"><title>140432005032816</title>\n",
       "<polygon fill=\"none\" points=\"74.5,-332.5 74.5,-378.5 343.5,-378.5 343.5,-332.5 74.5,-332.5\" stroke=\"black\"/>\n",
       "<text font-family=\"Times,serif\" font-size=\"14.00\" text-anchor=\"middle\" x=\"140\" y=\"-351.8\">dropout_29: Dropout</text>\n",
       "<polyline fill=\"none\" points=\"205.5,-332.5 205.5,-378.5 \" stroke=\"black\"/>\n",
       "<text font-family=\"Times,serif\" font-size=\"14.00\" text-anchor=\"middle\" x=\"233\" y=\"-363.3\">input:</text>\n",
       "<polyline fill=\"none\" points=\"205.5,-355.5 260.5,-355.5 \" stroke=\"black\"/>\n",
       "<text font-family=\"Times,serif\" font-size=\"14.00\" text-anchor=\"middle\" x=\"233\" y=\"-340.3\">output:</text>\n",
       "<polyline fill=\"none\" points=\"260.5,-332.5 260.5,-378.5 \" stroke=\"black\"/>\n",
       "<text font-family=\"Times,serif\" font-size=\"14.00\" text-anchor=\"middle\" x=\"302\" y=\"-363.3\">(None, 320)</text>\n",
       "<polyline fill=\"none\" points=\"260.5,-355.5 343.5,-355.5 \" stroke=\"black\"/>\n",
       "<text font-family=\"Times,serif\" font-size=\"14.00\" text-anchor=\"middle\" x=\"302\" y=\"-340.3\">(None, 320)</text>\n",
       "</g>\n",
       "<!-- 140432005424184&#45;&gt;140432005032816 -->\n",
       "<g class=\"edge\" id=\"edge10\"><title>140432005424184-&gt;140432005032816</title>\n",
       "<path d=\"M209,-415.366C209,-407.152 209,-397.658 209,-388.725\" fill=\"none\" stroke=\"black\"/>\n",
       "<polygon fill=\"black\" points=\"212.5,-388.607 209,-378.607 205.5,-388.607 212.5,-388.607\" stroke=\"black\"/>\n",
       "</g>\n",
       "<!-- 140432005031640 -->\n",
       "<g class=\"node\" id=\"node12\"><title>140432005031640</title>\n",
       "<polygon fill=\"none\" points=\"62.5,-249.5 62.5,-295.5 355.5,-295.5 355.5,-249.5 62.5,-249.5\" stroke=\"black\"/>\n",
       "<text font-family=\"Times,serif\" font-size=\"14.00\" text-anchor=\"middle\" x=\"140\" y=\"-268.8\">activation_47: Activation</text>\n",
       "<polyline fill=\"none\" points=\"217.5,-249.5 217.5,-295.5 \" stroke=\"black\"/>\n",
       "<text font-family=\"Times,serif\" font-size=\"14.00\" text-anchor=\"middle\" x=\"245\" y=\"-280.3\">input:</text>\n",
       "<polyline fill=\"none\" points=\"217.5,-272.5 272.5,-272.5 \" stroke=\"black\"/>\n",
       "<text font-family=\"Times,serif\" font-size=\"14.00\" text-anchor=\"middle\" x=\"245\" y=\"-257.3\">output:</text>\n",
       "<polyline fill=\"none\" points=\"272.5,-249.5 272.5,-295.5 \" stroke=\"black\"/>\n",
       "<text font-family=\"Times,serif\" font-size=\"14.00\" text-anchor=\"middle\" x=\"314\" y=\"-280.3\">(None, 320)</text>\n",
       "<polyline fill=\"none\" points=\"272.5,-272.5 355.5,-272.5 \" stroke=\"black\"/>\n",
       "<text font-family=\"Times,serif\" font-size=\"14.00\" text-anchor=\"middle\" x=\"314\" y=\"-257.3\">(None, 320)</text>\n",
       "</g>\n",
       "<!-- 140432005032816&#45;&gt;140432005031640 -->\n",
       "<g class=\"edge\" id=\"edge11\"><title>140432005032816-&gt;140432005031640</title>\n",
       "<path d=\"M209,-332.366C209,-324.152 209,-314.658 209,-305.725\" fill=\"none\" stroke=\"black\"/>\n",
       "<polygon fill=\"black\" points=\"212.5,-305.607 209,-295.607 205.5,-305.607 212.5,-305.607\" stroke=\"black\"/>\n",
       "</g>\n",
       "<!-- 140432005031416 -->\n",
       "<g class=\"node\" id=\"node13\"><title>140432005031416</title>\n",
       "<polygon fill=\"none\" points=\"85.5,-166.5 85.5,-212.5 332.5,-212.5 332.5,-166.5 85.5,-166.5\" stroke=\"black\"/>\n",
       "<text font-family=\"Times,serif\" font-size=\"14.00\" text-anchor=\"middle\" x=\"140\" y=\"-185.8\">dense_47: Dense</text>\n",
       "<polyline fill=\"none\" points=\"194.5,-166.5 194.5,-212.5 \" stroke=\"black\"/>\n",
       "<text font-family=\"Times,serif\" font-size=\"14.00\" text-anchor=\"middle\" x=\"222\" y=\"-197.3\">input:</text>\n",
       "<polyline fill=\"none\" points=\"194.5,-189.5 249.5,-189.5 \" stroke=\"black\"/>\n",
       "<text font-family=\"Times,serif\" font-size=\"14.00\" text-anchor=\"middle\" x=\"222\" y=\"-174.3\">output:</text>\n",
       "<polyline fill=\"none\" points=\"249.5,-166.5 249.5,-212.5 \" stroke=\"black\"/>\n",
       "<text font-family=\"Times,serif\" font-size=\"14.00\" text-anchor=\"middle\" x=\"291\" y=\"-197.3\">(None, 320)</text>\n",
       "<polyline fill=\"none\" points=\"249.5,-189.5 332.5,-189.5 \" stroke=\"black\"/>\n",
       "<text font-family=\"Times,serif\" font-size=\"14.00\" text-anchor=\"middle\" x=\"291\" y=\"-174.3\">(None, 100)</text>\n",
       "</g>\n",
       "<!-- 140432005031640&#45;&gt;140432005031416 -->\n",
       "<g class=\"edge\" id=\"edge12\"><title>140432005031640-&gt;140432005031416</title>\n",
       "<path d=\"M209,-249.366C209,-241.152 209,-231.658 209,-222.725\" fill=\"none\" stroke=\"black\"/>\n",
       "<polygon fill=\"black\" points=\"212.5,-222.607 209,-212.607 205.5,-222.607 212.5,-222.607\" stroke=\"black\"/>\n",
       "</g>\n",
       "<!-- 140432002448688 -->\n",
       "<g class=\"node\" id=\"node14\"><title>140432002448688</title>\n",
       "<polygon fill=\"none\" points=\"85.5,-83.5 85.5,-129.5 332.5,-129.5 332.5,-83.5 85.5,-83.5\" stroke=\"black\"/>\n",
       "<text font-family=\"Times,serif\" font-size=\"14.00\" text-anchor=\"middle\" x=\"140\" y=\"-102.8\">dense_48: Dense</text>\n",
       "<polyline fill=\"none\" points=\"194.5,-83.5 194.5,-129.5 \" stroke=\"black\"/>\n",
       "<text font-family=\"Times,serif\" font-size=\"14.00\" text-anchor=\"middle\" x=\"222\" y=\"-114.3\">input:</text>\n",
       "<polyline fill=\"none\" points=\"194.5,-106.5 249.5,-106.5 \" stroke=\"black\"/>\n",
       "<text font-family=\"Times,serif\" font-size=\"14.00\" text-anchor=\"middle\" x=\"222\" y=\"-91.3\">output:</text>\n",
       "<polyline fill=\"none\" points=\"249.5,-83.5 249.5,-129.5 \" stroke=\"black\"/>\n",
       "<text font-family=\"Times,serif\" font-size=\"14.00\" text-anchor=\"middle\" x=\"291\" y=\"-114.3\">(None, 100)</text>\n",
       "<polyline fill=\"none\" points=\"249.5,-106.5 332.5,-106.5 \" stroke=\"black\"/>\n",
       "<text font-family=\"Times,serif\" font-size=\"14.00\" text-anchor=\"middle\" x=\"291\" y=\"-91.3\">(None, 1)</text>\n",
       "</g>\n",
       "<!-- 140432005031416&#45;&gt;140432002448688 -->\n",
       "<g class=\"edge\" id=\"edge13\"><title>140432005031416-&gt;140432002448688</title>\n",
       "<path d=\"M209,-166.366C209,-158.152 209,-148.658 209,-139.725\" fill=\"none\" stroke=\"black\"/>\n",
       "<polygon fill=\"black\" points=\"212.5,-139.607 209,-129.607 205.5,-139.607 212.5,-139.607\" stroke=\"black\"/>\n",
       "</g>\n",
       "<!-- 140432001717696 -->\n",
       "<g class=\"node\" id=\"node15\"><title>140432001717696</title>\n",
       "<polygon fill=\"none\" points=\"69.5,-0.5 69.5,-46.5 348.5,-46.5 348.5,-0.5 69.5,-0.5\" stroke=\"black\"/>\n",
       "<text font-family=\"Times,serif\" font-size=\"14.00\" text-anchor=\"middle\" x=\"147\" y=\"-19.8\">activation_48: Activation</text>\n",
       "<polyline fill=\"none\" points=\"224.5,-0.5 224.5,-46.5 \" stroke=\"black\"/>\n",
       "<text font-family=\"Times,serif\" font-size=\"14.00\" text-anchor=\"middle\" x=\"252\" y=\"-31.3\">input:</text>\n",
       "<polyline fill=\"none\" points=\"224.5,-23.5 279.5,-23.5 \" stroke=\"black\"/>\n",
       "<text font-family=\"Times,serif\" font-size=\"14.00\" text-anchor=\"middle\" x=\"252\" y=\"-8.3\">output:</text>\n",
       "<polyline fill=\"none\" points=\"279.5,-0.5 279.5,-46.5 \" stroke=\"black\"/>\n",
       "<text font-family=\"Times,serif\" font-size=\"14.00\" text-anchor=\"middle\" x=\"314\" y=\"-31.3\">(None, 1)</text>\n",
       "<polyline fill=\"none\" points=\"279.5,-23.5 348.5,-23.5 \" stroke=\"black\"/>\n",
       "<text font-family=\"Times,serif\" font-size=\"14.00\" text-anchor=\"middle\" x=\"314\" y=\"-8.3\">(None, 1)</text>\n",
       "</g>\n",
       "<!-- 140432002448688&#45;&gt;140432001717696 -->\n",
       "<g class=\"edge\" id=\"edge14\"><title>140432002448688-&gt;140432001717696</title>\n",
       "<path d=\"M209,-83.3664C209,-75.1516 209,-65.6579 209,-56.7252\" fill=\"none\" stroke=\"black\"/>\n",
       "<polygon fill=\"black\" points=\"212.5,-56.6068 209,-46.6068 205.5,-56.6069 212.5,-56.6068\" stroke=\"black\"/>\n",
       "</g>\n",
       "</g>\n",
       "</svg>"
      ],
      "text/plain": [
       "<IPython.core.display.SVG object>"
      ]
     },
     "execution_count": 267,
     "metadata": {},
     "output_type": "execute_result"
    }
   ],
   "source": [
    "SVG(model_to_dot(model, show_shapes=True).create(prog='dot', format='svg'))\n"
   ]
  },
  {
   "cell_type": "code",
   "execution_count": 268,
   "metadata": {
    "scrolled": false
   },
   "outputs": [
    {
     "name": "stdout",
     "output_type": "stream",
     "text": [
      "Epoch 1/10\n",
      "78000/78000 [==============================] - 8s - loss: 0.5306     \n",
      "Epoch 2/10\n",
      "78000/78000 [==============================] - 7s - loss: 0.2529     \n",
      "Epoch 3/10\n",
      "78000/78000 [==============================] - 7s - loss: 0.1153     \n",
      "Epoch 4/10\n",
      "78000/78000 [==============================] - 7s - loss: 0.0707     \n",
      "Epoch 5/10\n",
      "78000/78000 [==============================] - 7s - loss: 0.0422     \n",
      "Epoch 6/10\n",
      "78000/78000 [==============================] - 7s - loss: 0.0393     \n",
      "Epoch 7/10\n",
      "78000/78000 [==============================] - 7s - loss: 0.0308     \n",
      "Epoch 8/10\n",
      "78000/78000 [==============================] - 7s - loss: 0.0292     \n",
      "Epoch 9/10\n",
      "78000/78000 [==============================] - 7s - loss: 0.0260     \n",
      "Epoch 10/10\n",
      "78000/78000 [==============================] - 7s - loss: 0.0220     \n"
     ]
    }
   ],
   "source": [
    "class_weight = {0 : 3., 1: 1.}\n",
    "\n",
    "history = model.fit(data_M15_train_X_new[:78000], data_M15_train_y_new[:78000], epochs=10, batch_size=500, class_weight = class_weight)\n",
    "\n",
    "#x_train_cnn_format = data_M15_train_X_new.reshape(data_M15_train_X_new.shape[0], 50, 24, 1)\n",
    "#history = model.fit(x_train_cnn_format, data_M15_train_y_new, validation_split=0.1, epochs=20, batch_size=500, class_weight = class_weight)\n",
    "\n",
    "#model1.fit(data_M15_train_X_new, data_M15_train_y_new, batch_size=500, epochs=20,class_weight = class_weight)\n",
    "#model1.fit(data_M15_train_X_new, data_M15_train_y_new, batch_size=500, epochs=5)\n"
   ]
  },
  {
   "cell_type": "code",
   "execution_count": 269,
   "metadata": {},
   "outputs": [
    {
     "name": "stdout",
     "output_type": "stream",
     "text": [
      "dict_keys(['loss'])\n"
     ]
    },
    {
     "data": {
      "image/png": "[encoded data removed]",
      "text/plain": [
       "<matplotlib.figure.Figure at 0x7fb8de62fc18>"
      ]
     },
     "metadata": {},
     "output_type": "display_data"
    },
    {
     "ename": "KeyError",
     "evalue": "'val_loss'",
     "output_type": "error",
     "traceback": [
      "\u001b[0;31m---------------------------------------------------------------------------\u001b[0m",
      "\u001b[0;31mKeyError\u001b[0m                                  Traceback (most recent call last)",
      "\u001b[0;32m<ipython-input-269-e91b1a6814e7>\u001b[0m in \u001b[0;36m<module>\u001b[0;34m()\u001b[0m\n\u001b[1;32m     17\u001b[0m \u001b[0mplt\u001b[0m\u001b[0;34m.\u001b[0m\u001b[0mshow\u001b[0m\u001b[0;34m(\u001b[0m\u001b[0;34m)\u001b[0m\u001b[0;34m\u001b[0m\u001b[0m\n\u001b[1;32m     18\u001b[0m \u001b[0mplt\u001b[0m\u001b[0;34m.\u001b[0m\u001b[0mplot\u001b[0m\u001b[0;34m(\u001b[0m\u001b[0mhistory\u001b[0m\u001b[0;34m.\u001b[0m\u001b[0mhistory\u001b[0m\u001b[0;34m[\u001b[0m\u001b[0;34m'loss'\u001b[0m\u001b[0;34m]\u001b[0m\u001b[0;34m)\u001b[0m\u001b[0;34m\u001b[0m\u001b[0m\n\u001b[0;32m---> 19\u001b[0;31m \u001b[0mplt\u001b[0m\u001b[0;34m.\u001b[0m\u001b[0mplot\u001b[0m\u001b[0;34m(\u001b[0m\u001b[0mhistory\u001b[0m\u001b[0;34m.\u001b[0m\u001b[0mhistory\u001b[0m\u001b[0;34m[\u001b[0m\u001b[0;34m'val_loss'\u001b[0m\u001b[0;34m]\u001b[0m\u001b[0;34m)\u001b[0m\u001b[0;34m\u001b[0m\u001b[0m\n\u001b[0m\u001b[1;32m     20\u001b[0m \u001b[0mplt\u001b[0m\u001b[0;34m.\u001b[0m\u001b[0mtitle\u001b[0m\u001b[0;34m(\u001b[0m\u001b[0;34m'model loss'\u001b[0m\u001b[0;34m)\u001b[0m\u001b[0;34m\u001b[0m\u001b[0m\n\u001b[1;32m     21\u001b[0m \u001b[0mplt\u001b[0m\u001b[0;34m.\u001b[0m\u001b[0mylabel\u001b[0m\u001b[0;34m(\u001b[0m\u001b[0;34m'loss'\u001b[0m\u001b[0;34m)\u001b[0m\u001b[0;34m\u001b[0m\u001b[0m\n",
      "\u001b[0;31mKeyError\u001b[0m: 'val_loss'"
     ]
    },
    {
     "data": {
      "image/png": "[encoded data removed]",
      "text/plain": [
       "<matplotlib.figure.Figure at 0x7fb8de5f6cc0>"
      ]
     },
     "metadata": {},
     "output_type": "display_data"
    }
   ],
   "source": [
    "# list all data in history\n",
    "print(history.history.keys())\n",
    "# summarize history for accuracy\n",
    "#plt.plot(history.history['acc'])\n",
    "#plt.plot(history.history['val_acc'])\n",
    "#plt.title('model accuracy')\n",
    "#plt.ylabel('accuracy')\n",
    "#plt.xlabel('epoch')\n",
    "#plt.legend(['train', 'test'], loc='upper left')\n",
    "#plt.show()\n",
    "# summarize history for loss\n",
    "plt.plot(history.history['loss'])\n",
    "plt.title('model loss')\n",
    "plt.ylabel('loss')\n",
    "plt.xlabel('epoch')\n",
    "plt.legend(loc='upper left')\n",
    "plt.show()\n",
    "plt.plot(history.history['loss'])\n",
    "plt.plot(history.history['val_loss'])\n",
    "plt.title('model loss')\n",
    "plt.ylabel('loss')\n",
    "plt.xlabel('epoch')\n",
    "plt.legend(loc='upper left')\n",
    "plt.show()"
   ]
  },
  {
   "cell_type": "markdown",
   "metadata": {},
   "source": [
    "** 4. 預測與準確率評估  Evaluation **"
   ]
  },
  {
   "cell_type": "code",
   "execution_count": 274,
   "metadata": {
    "collapsed": true
   },
   "outputs": [],
   "source": [
    "threshold=0.9"
   ]
  },
  {
   "cell_type": "code",
   "execution_count": 270,
   "metadata": {
    "scrolled": false
   },
   "outputs": [
    {
     "name": "stdout",
     "output_type": "stream",
     "text": [
      "Precision 0.994049852586\n",
      "Recall 0.783405855266\n",
      "score 0.890687095291 {'tn': 54524, 'fp': 111, 'fn': 5127, 'tp': 18544}\n"
     ]
    }
   ],
   "source": [
    "#x_test = data_M15_train_X_new.reshape(data_M15_train_X_new.shape[0], 50, 24, 1)\n",
    "#ret = model.predict(x_test)\n",
    "\n",
    "#ret = model.predict(data_M15_train_X_new[:78000],batch_size=500)\n",
    "ret = model.predict(data_M15_train_X_new)\n",
    "pred_t = pd.DataFrame(ret)\n",
    "pred_t_raw = pred_t.copy()\n",
    "#pred_t = pred_t.apply(np.argmax,axis=1)\n",
    "\n",
    "pred_t[pred_t >threshold] = 1\n",
    "pred_t[pred_t <=threshold] = 0\n",
    "pred_t[0].value_counts()\n",
    "\n",
    "pd.Series(data_M15_train_y_new).value_counts()\n",
    "\n",
    "print(\"Precision\", precision_score(data_M15_train_y_new, pred_t))\n",
    "print(\"Recall\", sk.metrics.recall_score(data_M15_train_y_new, pred_t))\n",
    "\n",
    "s,_=myscore(data_M15_train_y_new, pred_t)\n",
    "print('score',s,_)"
   ]
  },
  {
   "cell_type": "code",
   "execution_count": 275,
   "metadata": {
    "scrolled": false
   },
   "outputs": [
    {
     "name": "stdout",
     "output_type": "stream",
     "text": [
      "0.9\n",
      "Precision 0.372933745464\n",
      "Recall 0.643851508121\n",
      "score 0.550172696402 {'tn': 3919, 'fp': 4666, 'fn': 1535, 'tp': 2775}\n"
     ]
    }
   ],
   "source": [
    "#x_test = data_M15_valid_X_new.reshape(data_M15_valid_X_new.shape[0], 50, 24, 1)\n",
    "#ret = model.predict(x_test)\n",
    "\n",
    "ret = model.predict(data_M15_valid_X_new)\n",
    "pred_t = pd.DataFrame(ret)\n",
    "pred_t_raw = pred_t.copy()\n",
    "#pred_t = pred_t.apply(np.argmax,axis=1)\n",
    "print(threshold)\n",
    "pred_t[pred_t >threshold] = 1\n",
    "pred_t[pred_t <=threshold] = 0\n",
    "pred_t[0].value_counts()\n",
    "pd.Series(data_M15_valid_y_new).value_counts()\n",
    "\n",
    "print(\"Precision\", precision_score(data_M15_valid_y_new, pred_t))\n",
    "print(\"Recall\", sk.metrics.recall_score(data_M15_valid_y_new, pred_t))\n",
    "\n",
    "s,_=myscore(data_M15_valid_y_new, pred_t)\n",
    "print('score',s,_)"
   ]
  },
  {
   "cell_type": "code",
   "execution_count": 228,
   "metadata": {},
   "outputs": [
    {
     "name": "stdout",
     "output_type": "stream",
     "text": [
      "Precision 0.067734327056\n",
      "Recall 0.861158112427\n",
      "score 0.579956718805 {'tn': 53718, 'fp': 126088, 'fn': 1477, 'tp': 9161}\n"
     ]
    }
   ],
   "source": [
    "ret = model.predict(data_M21_test_X_new)\n",
    "pred_t = pd.DataFrame(ret)\n",
    "pred_t_raw = pred_t.copy()\n",
    "#pred_t = pred_t.apply(np.argmax,axis=1)\n",
    "pd.Series(data_M21_test_y_new).value_counts()\n",
    "\n",
    "pred_t[pred_t >threshold] = 1\n",
    "pred_t[pred_t <=threshold] = 0\n",
    "pred_t[0].value_counts()\n",
    "\n",
    "print(\"Precision\", precision_score(data_M21_test_y_new, pred_t))\n",
    "print(\"Recall\", sk.metrics.recall_score(data_M21_test_y_new, pred_t))\n",
    "\n",
    "s,_=myscore(data_M21_test_y_new, pred_t)\n",
    "print('score',s,_)"
   ]
  },
  {
   "cell_type": "code",
   "execution_count": 229,
   "metadata": {
    "scrolled": true
   },
   "outputs": [
    {
     "name": "stdout",
     "output_type": "stream",
     "text": [
      "Precision 0.769984051929\n",
      "Recall 0.983524534506\n",
      "score 0.926794668075 {'tn': 55049, 'fp': 8221, 'fn': 461, 'tp': 27520}\n"
     ]
    }
   ],
   "source": [
    "ret = model.predict(data_M15_test_X_new)\n",
    "pred_t = pd.DataFrame(ret)\n",
    "#pred_t = pred_t.apply(np.argmax,axis=1)\n",
    "pred_t_raw = pred_t.copy()\n",
    "pd.Series(data_M15_test_y_new).value_counts()\n",
    "pred_t[pred_t >threshold] = 1\n",
    "pred_t[pred_t <=threshold] = 0\n",
    "pred_t[0].value_counts()\n",
    "print(\"Precision\", precision_score(data_M15_test_y_new, pred_t))\n",
    "print(\"Recall\", sk.metrics.recall_score(data_M15_test_y_new, pred_t))\n",
    "\n",
    "s,_=myscore(data_M15_test_y_new, pred_t)\n",
    "print('score',s,_)\n"
   ]
  },
  {
   "cell_type": "code",
   "execution_count": null,
   "metadata": {
    "collapsed": true
   },
   "outputs": [],
   "source": []
  },
  {
   "cell_type": "code",
   "execution_count": 278,
   "metadata": {},
   "outputs": [
    {
     "name": "stdout",
     "output_type": "stream",
     "text": [
      "AUC: 0.507346488709\n"
     ]
    },
    {
     "data": {
      "image/png": "[encoded data removed]",
      "text/plain": [
       "<matplotlib.figure.Figure at 0x7fb8de5af208>"
      ]
     },
     "metadata": {},
     "output_type": "display_data"
    }
   ],
   "source": [
    "fpr, tpr, thresholds = roc_curve(data_M15_valid_y_new, pred_t_raw)\n",
    "roc_auc = auc(fpr, tpr)\n",
    "plt.plot(fpr, tpr, lw=1) \n",
    "plt.title('ROC Curve')\n",
    "print('AUC:',roc_auc)\n",
    "plt.show()\n",
    "roc_df = pd.DataFrame({'thresholds':thresholds, 'fpr':fpr,'tpr':tpr})\n",
    "roc_df = roc_df[roc_df['tpr']>0.8][:10]"
   ]
  },
  {
   "cell_type": "code",
   "execution_count": 48,
   "metadata": {},
   "outputs": [
    {
     "data": {
      "text/plain": [
       "[<matplotlib.lines.Line2D at 0x7fb9686c3d30>]"
      ]
     },
     "execution_count": 48,
     "metadata": {},
     "output_type": "execute_result"
    },
    {
     "name": "stderr",
     "output_type": "stream",
     "text": [
      "/home/bigdata/anaconda3/lib/python3.6/site-packages/matplotlib/font_manager.py:1297: UserWarning: findfont: Font family ['sans-serif'] not found. Falling back to DejaVu Sans\n",
      "  (prop.get_family(), self.defaultFamily[fontext]))\n"
     ]
    },
    {
     "data": {
      "image/png": "[encoded data removed]",
      "text/plain": [
       "<matplotlib.figure.Figure at 0x7fb968716128>"
      ]
     },
     "metadata": {},
     "output_type": "display_data"
    },
    {
     "name": "stdout",
     "output_type": "stream",
     "text": [
      "best_x: 0.68\n",
      "best_score: 0.674510563292\n"
     ]
    }
   ],
   "source": [
    "x_tmp = np.arange(0., 1, 0.01)\n",
    "y_tmp=[]\n",
    "for threshold in x_tmp:\n",
    "    pred_prob_tmp = pred_t_raw.copy()\n",
    "    pred_prob_tmp[pred_prob_tmp >threshold] = 1\n",
    "    pred_prob_tmp[pred_prob_tmp <=threshold] = 0\n",
    "    s,_=myscore(data_M21_test_y_new, pred_prob_tmp)\n",
    "    y_tmp.append(s)\n",
    "    del pred_prob_tmp\n",
    "\n",
    "plt.plot(x_tmp, y_tmp) \n",
    "plt.show()\n",
    "best_idx = np.argmax(y_tmp)\n",
    "best_x = x_tmp[best_idx]\n",
    "best_y = y_tmp[best_idx]\n",
    "print('best_x:',best_x)\n",
    "print('best_score:',best_y)"
   ]
  },
  {
   "cell_type": "code",
   "execution_count": null,
   "metadata": {
    "collapsed": true
   },
   "outputs": [],
   "source": []
  },
  {
   "cell_type": "code",
   "execution_count": null,
   "metadata": {
    "collapsed": true
   },
   "outputs": [],
   "source": [
    "pred_T2 = pd.DataFrame(ret)\n",
    "pred_T2 = pred_T2.apply(np.argmax,axis=1)\n",
    "a = np.array([0]*n_steps_)\n",
    "pred_test_y = np.concatenate([a, pred_T2.values])\n",
    "data_scaled_M21['label_pred'] = pred_test_y"
   ]
  },
  {
   "cell_type": "code",
   "execution_count": null,
   "metadata": {},
   "outputs": [],
   "source": [
    "data_scaled_M21['label_pred'].value_counts()\n",
    "data_scaled_M21['label'].value_counts()"
   ]
  },
  {
   "cell_type": "markdown",
   "metadata": {
    "scrolled": false
   },
   "source": [
    "r2_baseline=0.9\n",
    "events = data_scaled_M21['event'].unique()\n",
    "x='wind_speed'\n",
    "y='power'\n",
    "\n",
    "for e in events:\n",
    "    data_evt= data_scaled_M21[data_scaled_M21['event']==e]\n",
    "    #data_unknown_evt = data_unknown[data_unknown['event']==e]\n",
    "    dummy = plt.figure(figsize=[17,2])\n",
    "    plt.plot(data_evt['label'],  color = 'blue', lw=0.5, label='this event')\n",
    "    plt.plot(data_evt['label_pred'],  color = 'green', lw=0.5, label='this event')\n",
    "\n",
    "    "
   ]
  },
  {
   "cell_type": "markdown",
   "metadata": {},
   "source": [
    "***\n",
    "#### Predict Test Data"
   ]
  },
  {
   "cell_type": "code",
   "execution_count": null,
   "metadata": {
    "collapsed": true
   },
   "outputs": [],
   "source": []
  },
  {
   "cell_type": "markdown",
   "metadata": {},
   "source": [
    "## 5. 整理預測結果, 正確上傳格式"
   ]
  },
  {
   "cell_type": "code",
   "execution_count": null,
   "metadata": {
    "collapsed": true
   },
   "outputs": [],
   "source": [
    "pred_T.shape"
   ]
  },
  {
   "cell_type": "code",
   "execution_count": null,
   "metadata": {
    "collapsed": true
   },
   "outputs": [],
   "source": [
    "startTime=0\n",
    "endTIme=0\n",
    "search_start=True\n",
    "search_end=False\n",
    "abnormal_list=[]\n",
    "shift = test_timeidx_new.index[0]\n",
    "for i,v in enumerate(pred_T):\n",
    "    i=i+shift\n",
    "    if (v==1) & (search_start):\n",
    "        startTime = test_timeidx_new[i]\n",
    "        search_end=True\n",
    "        search_start=False\n",
    "    if (v==0) & (search_end):\n",
    "        endTIme=test_timeidx_new[i]\n",
    "        search_start=True\n",
    "        search_end=False\n",
    "        abnormal_list.append((startTime,test_timeidx_new[i-1]))\n",
    "len(abnormal_list)"
   ]
  },
  {
   "cell_type": "code",
   "execution_count": null,
   "metadata": {
    "collapsed": true,
    "scrolled": false
   },
   "outputs": [],
   "source": [
    "output_ans=True\n",
    "if(output_ans):\n",
    "    with open('test1_08_results.csv','w') as out:\n",
    "        csv_out=csv.writer(out)\n",
    "        csv_out.writerow(['startTime','endTime'])\n",
    "        for row in abnormal_list:\n",
    "            dummy = csv_out.writerow(row)\n",
    "\n",
    "print('done')\n"
   ]
  },
  {
   "cell_type": "code",
   "execution_count": null,
   "metadata": {
    "collapsed": true
   },
   "outputs": [],
   "source": [
    "abnormal_list[:4]"
   ]
  },
  {
   "cell_type": "markdown",
   "metadata": {},
   "source": [
    "## 6. Issue\n",
    "1. Data Imbalance\n",
    " - training batch sample 一半normal一半abnormal的data\n",
    " - 用兩台風機訓練兩個model, 取故障預測的聯集 \n",
    "\n",
    "2. 用Precision & Recall評估好壞, 算出Score\n",
    "\n",
    "\n",
    "other:\n",
    "- using weighted examples. Just amplify the per-instance loss by a larger weight when seeing positive examples. If you use online gradient descent, it can be as simple as using a larger learning rate when seeing positive examples.\n",
    "- A similar and slightly better approach (only if you use stochastic gradient descent) is randomly picking an example in each iteration, where the positive examples have higher probability of being picked."
   ]
  },
  {
   "cell_type": "markdown",
   "metadata": {
    "collapsed": true
   },
   "source": [
    "提交结果历史记录  \n",
    "参赛队伍:　556 / 参赛人数:　858  \n",
    " \n",
    "|竞赛阶段\t |上传者\t |分数\t |提交日期\t |排名\t |下载|\n",
    "| ---------| -------- | ------ | ------ | ------ | ------ |\n",
    "|初赛test1阶段|\t孔祥千\t|55.28684214|\t2017/7/12|\t50\t|下载|"
   ]
  },
  {
   "cell_type": "markdown",
   "metadata": {},
   "source": [
    "Note: 7/13\n",
    "1. cross correlation\n",
    "2. auto correlation\n",
    "3. common filter\n",
    "4. de-train "
   ]
  },
  {
   "cell_type": "code",
   "execution_count": null,
   "metadata": {
    "collapsed": true
   },
   "outputs": [],
   "source": []
  },
  {
   "cell_type": "code",
   "execution_count": null,
   "metadata": {
    "collapsed": true
   },
   "outputs": [],
   "source": []
  }
 ],
 "metadata": {
  "anaconda-cloud": {},
  "kernelspec": {
   "display_name": "Python 3",
   "language": "python",
   "name": "python3"
  },
  "language_info": {
   "codemirror_mode": {
    "name": "ipython",
    "version": 3
   },
   "file_extension": ".py",
   "mimetype": "text/x-python",
   "name": "python",
   "nbconvert_exporter": "python",
   "pygments_lexer": "ipython3",
   "version": "3.6.1"
  }
 },
 "nbformat": 4,
 "nbformat_minor": 2
}
