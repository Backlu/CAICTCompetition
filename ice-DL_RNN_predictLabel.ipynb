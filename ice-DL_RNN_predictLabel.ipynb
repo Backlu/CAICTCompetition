{
 "cells": [
  {
   "cell_type": "markdown",
   "metadata": {},
   "source": [
    "# CAICT 風機結冰預測 - Deep Learning"
   ]
  },
  {
   "cell_type": "markdown",
   "metadata": {},
   "source": [
    "2017/07/12  \n",
    "http://www.industrial-bigdata.com/competition/competitionAction!showDetail.action?competition.competitionId=1"
   ]
  },
  {
   "cell_type": "markdown",
   "metadata": {},
   "source": [
    "# **1. Load Data and Modules**"
   ]
  },
  {
   "cell_type": "markdown",
   "metadata": {},
   "source": [
    "**Load Python modules:**"
   ]
  },
  {
   "cell_type": "code",
   "execution_count": 1,
   "metadata": {},
   "outputs": [
    {
     "name": "stderr",
     "output_type": "stream",
     "text": [
      "Using TensorFlow backend.\n"
     ]
    }
   ],
   "source": [
    "%matplotlib inline\n",
    "import numpy as np\n",
    "import pandas as pd\n",
    "import datetime\n",
    "import pandas as pd\n",
    "import os\n",
    "import sys\n",
    "from PIL import Image\n",
    "import numpy as np\n",
    "import lzma\n",
    "import pickle\n",
    "from IPython.display import display\n",
    "import tensorflow as tf\n",
    "from tensorflow.contrib.tensorboard.plugins import projector\n",
    "import shutil\n",
    "import csv\n",
    "import sklearn as sk\n",
    "from sklearn.metrics import precision_score\n",
    "import matplotlib.pyplot as plt\n",
    "import matplotlib.gridspec as gridspec\n",
    "import seaborn as sns\n",
    "from pylab import *\n",
    "from IPython.core.interactiveshell import InteractiveShell\n",
    "from keras.models import Sequential\n",
    "from keras.layers import Dense, Activation, Embedding, Dropout\n",
    "from keras.layers import LSTM\n",
    "from keras.optimizers import RMSprop, Adam\n",
    "from keras.layers.normalization import BatchNormalization\n",
    "from keras.models import Sequential\n",
    "\n",
    "from sklearn import preprocessing\n",
    "\n",
    "import keras.backend as K\n",
    "import numpy as np\n",
    "import random\n",
    "import sys\n",
    "from IPython.display import SVG, display\n",
    "from keras.utils.vis_utils import model_to_dot\n",
    "from keras.preprocessing import sequence\n",
    "\n",
    "pd.set_option('display.max_columns', None)\n",
    "InteractiveShell.ast_node_interactivity = \"all\""
   ]
  },
  {
   "cell_type": "code",
   "execution_count": 2,
   "metadata": {
    "collapsed": true
   },
   "outputs": [],
   "source": [
    "def updateProgress(msg):\n",
    "    sys.stdout.write('\\r')\n",
    "    sys.stdout.write(msg)\n",
    "    sys.stdout.flush()\n",
    "    \n",
    "def myscore(true_y, pred_y):\n",
    "    n,p =sk.metrics.confusion_matrix(true_y, pred_y)\n",
    "    tn = n[0]\n",
    "    fp = n[1]\n",
    "    fn = p[0]\n",
    "    tp = p[1]\n",
    "    #print('tn:',tn,'fp:',fp,'fn:',fn,'fp:',fp)\n",
    "    score = 1- 0.5*(fp/(tn+fp))- 0.5*(fn/(fn+tp)) \n",
    "    #print('score',score)\n",
    "    return score, {'tn':tn,'fp':fp,'fn':fn,'tp':tp}\n"
   ]
  },
  {
   "cell_type": "code",
   "execution_count": 3,
   "metadata": {
    "collapsed": true
   },
   "outputs": [],
   "source": [
    "def StandardScaler(data):\n",
    "    standard_scaler = preprocessing.StandardScaler()\n",
    "    data_scaled = standard_scaler.fit_transform(data)\n",
    "    data_scaled = pd.DataFrame(data_scaled, columns = data.columns)\n",
    "    return data_scaled\n",
    "\n",
    "def MinMaxScaler(data):\n",
    "    standard_scaler = preprocessing.MinMaxScaler()\n",
    "    data_scaled = standard_scaler.fit_transform(data)\n",
    "    data_scaled = pd.DataFrame(data_scaled, columns = data.columns)\n",
    "    return data_scaled\n",
    "\n",
    "\n",
    "\n",
    "##------------------------\n",
    "\n",
    "def load_resample_data(mid, policy=1,  ycol='power', fillna=0):\n",
    "    filename = 'data/resample_data_p{POLICY}_{ID}.csv'.format(ID=mid,POLICY=policy)\n",
    "    print('load file:',filename)\n",
    "    data_resample = pd.read_csv(filename)\n",
    "    data_resample['label']=data_resample['label'].fillna(fillna)\n",
    "    data_resample[data_resample['label']==2]=0\n",
    "    data_X = data_resample.drop(['label','time','group','timestamp','event'], axis=1)\n",
    "    #data_Y = np.eye(data_y.unique().size)[data_y.values.astype(int)]\n",
    "    non_data_cols = ['label','time','group','timestamp','event']\n",
    "    data_scaled = MinMaxScaler(data_X)\n",
    "    for col in non_data_cols:\n",
    "        data_scaled[col] = data_resample[col]\n",
    "    return data_resample,data_scaled\n",
    "\n",
    "##------------------------\n",
    "\n",
    "def load_test2_data():\n",
    "    test_data = pd.read_csv('data/ice1/test/08/08_data.csv')\n",
    "    test_timeidx = test_data['time']\n",
    "    tmp = test_data.drop(['time','group','generator_speed'], axis=1)\n",
    "    test_X = tmp.values\n",
    "    return test_X, test_timeidx\n",
    "\n",
    "    "
   ]
  },
  {
   "cell_type": "code",
   "execution_count": 4,
   "metadata": {
    "collapsed": true
   },
   "outputs": [],
   "source": [
    "def rnn_dataset(data, n_steps):\n",
    "    dataset_new = []\n",
    "    for idx, _ in enumerate(data):\n",
    "        start_idx = idx-n_steps\n",
    "        end_idx = idx+1\n",
    "        if start_idx<0:\n",
    "            continue\n",
    "        n=np.concatenate(data[start_idx:end_idx], axis=0)\n",
    "        dataset_new.append(n)\n",
    "    dataset_new = np.asarray(dataset_new)\n",
    "    return dataset_new\n",
    "    "
   ]
  },
  {
   "cell_type": "markdown",
   "metadata": {},
   "source": [
    "**Load input data.** "
   ]
  },
  {
   "cell_type": "code",
   "execution_count": 5,
   "metadata": {
    "collapsed": true
   },
   "outputs": [],
   "source": [
    "xcols=['wind_speed', 'wind_direction',\n",
    "       'wind_direction_mean', 'yaw_position', 'yaw_speed', 'pitch1_angle',\n",
    "       'pitch2_angle', 'pitch3_angle', 'pitch1_speed', 'pitch2_speed',\n",
    "       'pitch3_speed', 'pitch1_moto_tmp', 'pitch2_moto_tmp', 'pitch3_moto_tmp',\n",
    "       'acc_x', 'acc_y', 'environment_tmp', 'int_tmp', 'pitch1_ng5_tmp',\n",
    "       'pitch2_ng5_tmp', 'pitch3_ng5_tmp', 'pitch1_ng5_DC', 'pitch2_ng5_DC',\n",
    "       'pitch3_ng5_DC']\n"
   ]
  },
  {
   "cell_type": "code",
   "execution_count": 45,
   "metadata": {},
   "outputs": [
    {
     "name": "stdout",
     "output_type": "stream",
     "text": [
      "load file: data/resample_data_p0_15.csv\n",
      "load file: data/resample_data_p0_21.csv\n"
     ]
    }
   ],
   "source": [
    "_, data_scaled_M15 = load_resample_data(mid=15,policy=0)\n",
    "\n",
    "data_M15_train = data_scaled_M15[data_scaled_M15['event']<20]\n",
    "data_M15_valid = data_scaled_M15[data_scaled_M15['event']>=20]\n",
    "\n",
    "ycol='label'\n",
    "data_M15_train_X = data_M15_train[xcols]\n",
    "data_M15_train_y = data_M15_train[ycol]\n",
    "data_M15_train_Y = np.eye(data_M15_train_y.unique().size)[data_M15_train_y.values.astype(int)]\n",
    "\n",
    "data_M15_valid_X = data_M15_valid[xcols]\n",
    "data_M15_valid_y = data_M15_valid[ycol]\n",
    "data_M15_valid_Y = np.eye(data_M15_valid_y.unique().size)[data_M15_valid_y.values.astype(int)]\n",
    "\n",
    "data_M15_test_X = data_scaled_M15[xcols]\n",
    "data_M15_test_y = data_scaled_M15[ycol]\n",
    "data_M15_test_Y = np.eye(data_M15_test_y.unique().size)[data_M15_test_y.values.astype(int)]\n",
    "\n",
    "_, data_scaled_M21 = load_resample_data(mid=21,policy=0)\n",
    "data_M21_test_X = data_scaled_M21[xcols]\n",
    "data_M21_test_y = data_scaled_M21[ycol]\n",
    "data_M21_test_Y = np.eye(data_M21_test_y.unique().size)[data_M21_test_y.values.astype(int)]\n",
    "\n",
    "\n",
    "#_, data_X_M21, data_Y_M21, data_y_M21  = load_training_data(mid=21,policy=0)\n",
    "\n",
    "#_, data_X_M21, data_Y_M21, data_y_M21  = load_training_data(mid=21,policy=0)\n",
    "#test_X,test_timeidx = load_test2_data()"
   ]
  },
  {
   "cell_type": "markdown",
   "metadata": {},
   "source": [
    "** 為了RNN需求, 更改X format **"
   ]
  },
  {
   "cell_type": "code",
   "execution_count": 46,
   "metadata": {
    "collapsed": true
   },
   "outputs": [],
   "source": [
    "n_steps = 50\n",
    "n_steps_=n_steps-1\n",
    "data_M15_train_X_new = rnn_dataset(data_M15_train_X.values,n_steps_)\n",
    "data_M15_valid_X_new = rnn_dataset(data_M15_valid_X.values,n_steps_)\n",
    "data_M21_test_X_new = rnn_dataset(data_M21_test_X.values,n_steps_)\n",
    "data_M15_test_X_new = rnn_dataset(data_M15_test_X.values,n_steps_)\n",
    "#test_X = rnn_dataset(test_X,n_steps_)\n",
    "\n",
    "data_M15_train_X_new = data_M15_train_X_new.reshape([-1, 50, len(xcols)])\n",
    "data_M15_valid_X_new = data_M15_valid_X_new.reshape([-1, 50, len(xcols)])\n",
    "data_M21_test_X_new = data_M21_test_X_new.reshape([-1, 50, len(xcols)])\n",
    "data_M15_test_X_new = data_M15_test_X_new.reshape([-1, 50, len(xcols)])\n",
    "#test_X = test_X.reshape([-1, 50, len(xcols)])"
   ]
  },
  {
   "cell_type": "code",
   "execution_count": 47,
   "metadata": {
    "collapsed": true
   },
   "outputs": [],
   "source": [
    "data_M15_train_Y_new=data_M15_train_Y[n_steps_:]\n",
    "data_M15_train_y_new=data_M15_train_y[n_steps_:]\n",
    "data_M15_valid_Y_new=data_M15_valid_Y[n_steps_:]\n",
    "data_M15_valid_y_new=data_M15_valid_y[n_steps_:]\n",
    "data_M21_test_Y_new=data_M21_test_Y[n_steps_:]\n",
    "data_M21_test_y_new=data_M21_test_y[n_steps_:]\n",
    "data_M15_test_Y_new=data_M15_test_Y[n_steps_:]\n",
    "data_M15_test_y_new=data_M15_test_y[n_steps_:]\n",
    "#test_timeidx_new=test_timeidx[n_steps_:]"
   ]
  },
  {
   "cell_type": "markdown",
   "metadata": {},
   "source": [
    "## 3. Deep Learning"
   ]
  },
  {
   "cell_type": "code",
   "execution_count": 48,
   "metadata": {
    "collapsed": true
   },
   "outputs": [],
   "source": [
    "#model1 = Sequential()\n",
    "#model1.add(LSTM(512, input_shape=(50, 25),dropout=0.2, recurrent_dropout=0.2))\n",
    "#model1.add(Dense(2))\n",
    "#model1.add(Activation('softmax'))\n",
    "#optimizer = Adam(lr=0.001)\n",
    "#model1.compile(loss='categorical_crossentropy', optimizer=optimizer)\n",
    "\n",
    "model1 = Sequential()\n",
    "model1.add(LSTM(50, input_shape=(50, len(xcols)), return_sequences=True))\n",
    "model1.add(BatchNormalization())\n",
    "model1.add(Dropout(0.2))\n",
    "model1.add(LSTM(100,return_sequences=False))\n",
    "model1.add(BatchNormalization())\n",
    "model1.add(Dropout(0.2))\n",
    "model1.add(Dense(2))\n",
    "model1.add(Activation('softmax'))\n",
    "optimizer = Adam(lr=0.001)\n",
    "model1.compile(loss=\"binary_crossentropy\", optimizer=optimizer)\n",
    "\n"
   ]
  },
  {
   "cell_type": "code",
   "execution_count": 49,
   "metadata": {
    "scrolled": true
   },
   "outputs": [
    {
     "data": {
      "image/svg+xml": [
       "<svg height=\"719pt\" viewBox=\"0.00 0.00 420.00 719.00\" width=\"420pt\" xmlns=\"http://www.w3.org/2000/svg\" xmlns:xlink=\"http://www.w3.org/1999/xlink\">\n",
       "<g class=\"graph\" id=\"graph0\" transform=\"scale(1 1) rotate(0) translate(4 715)\">\n",
       "<title>G</title>\n",
       "<polygon fill=\"white\" points=\"-4,4 -4,-715 416,-715 416,4 -4,4\" stroke=\"none\"/>\n",
       "<!-- 139716748557336 -->\n",
       "<g class=\"node\" id=\"node1\"><title>139716748557336</title>\n",
       "<polygon fill=\"none\" points=\"52,-664.5 52,-710.5 360,-710.5 360,-664.5 52,-664.5\" stroke=\"black\"/>\n",
       "<text font-family=\"Times,serif\" font-size=\"14.00\" text-anchor=\"middle\" x=\"130\" y=\"-683.8\">lstm_3_input: InputLayer</text>\n",
       "<polyline fill=\"none\" points=\"208,-664.5 208,-710.5 \" stroke=\"black\"/>\n",
       "<text font-family=\"Times,serif\" font-size=\"14.00\" text-anchor=\"middle\" x=\"235.5\" y=\"-695.3\">input:</text>\n",
       "<polyline fill=\"none\" points=\"208,-687.5 263,-687.5 \" stroke=\"black\"/>\n",
       "<text font-family=\"Times,serif\" font-size=\"14.00\" text-anchor=\"middle\" x=\"235.5\" y=\"-672.3\">output:</text>\n",
       "<polyline fill=\"none\" points=\"263,-664.5 263,-710.5 \" stroke=\"black\"/>\n",
       "<text font-family=\"Times,serif\" font-size=\"14.00\" text-anchor=\"middle\" x=\"311.5\" y=\"-695.3\">(None, 50, 24)</text>\n",
       "<polyline fill=\"none\" points=\"263,-687.5 360,-687.5 \" stroke=\"black\"/>\n",
       "<text font-family=\"Times,serif\" font-size=\"14.00\" text-anchor=\"middle\" x=\"311.5\" y=\"-672.3\">(None, 50, 24)</text>\n",
       "</g>\n",
       "<!-- 139716748569120 -->\n",
       "<g class=\"node\" id=\"node2\"><title>139716748569120</title>\n",
       "<polygon fill=\"none\" points=\"81,-581.5 81,-627.5 331,-627.5 331,-581.5 81,-581.5\" stroke=\"black\"/>\n",
       "<text font-family=\"Times,serif\" font-size=\"14.00\" text-anchor=\"middle\" x=\"130\" y=\"-600.8\">lstm_3: LSTM</text>\n",
       "<polyline fill=\"none\" points=\"179,-581.5 179,-627.5 \" stroke=\"black\"/>\n",
       "<text font-family=\"Times,serif\" font-size=\"14.00\" text-anchor=\"middle\" x=\"206.5\" y=\"-612.3\">input:</text>\n",
       "<polyline fill=\"none\" points=\"179,-604.5 234,-604.5 \" stroke=\"black\"/>\n",
       "<text font-family=\"Times,serif\" font-size=\"14.00\" text-anchor=\"middle\" x=\"206.5\" y=\"-589.3\">output:</text>\n",
       "<polyline fill=\"none\" points=\"234,-581.5 234,-627.5 \" stroke=\"black\"/>\n",
       "<text font-family=\"Times,serif\" font-size=\"14.00\" text-anchor=\"middle\" x=\"282.5\" y=\"-612.3\">(None, 50, 24)</text>\n",
       "<polyline fill=\"none\" points=\"234,-604.5 331,-604.5 \" stroke=\"black\"/>\n",
       "<text font-family=\"Times,serif\" font-size=\"14.00\" text-anchor=\"middle\" x=\"282.5\" y=\"-589.3\">(None, 50, 50)</text>\n",
       "</g>\n",
       "<!-- 139716748557336&#45;&gt;139716748569120 -->\n",
       "<g class=\"edge\" id=\"edge1\"><title>139716748557336-&gt;139716748569120</title>\n",
       "<path d=\"M206,-664.366C206,-656.152 206,-646.658 206,-637.725\" fill=\"none\" stroke=\"black\"/>\n",
       "<polygon fill=\"black\" points=\"209.5,-637.607 206,-627.607 202.5,-637.607 209.5,-637.607\" stroke=\"black\"/>\n",
       "</g>\n",
       "<!-- 139716748570464 -->\n",
       "<g class=\"node\" id=\"node3\"><title>139716748570464</title>\n",
       "<polygon fill=\"none\" points=\"0,-498.5 0,-544.5 412,-544.5 412,-498.5 0,-498.5\" stroke=\"black\"/>\n",
       "<text font-family=\"Times,serif\" font-size=\"14.00\" text-anchor=\"middle\" x=\"130\" y=\"-517.8\">batch_normalization_3: BatchNormalization</text>\n",
       "<polyline fill=\"none\" points=\"260,-498.5 260,-544.5 \" stroke=\"black\"/>\n",
       "<text font-family=\"Times,serif\" font-size=\"14.00\" text-anchor=\"middle\" x=\"287.5\" y=\"-529.3\">input:</text>\n",
       "<polyline fill=\"none\" points=\"260,-521.5 315,-521.5 \" stroke=\"black\"/>\n",
       "<text font-family=\"Times,serif\" font-size=\"14.00\" text-anchor=\"middle\" x=\"287.5\" y=\"-506.3\">output:</text>\n",
       "<polyline fill=\"none\" points=\"315,-498.5 315,-544.5 \" stroke=\"black\"/>\n",
       "<text font-family=\"Times,serif\" font-size=\"14.00\" text-anchor=\"middle\" x=\"363.5\" y=\"-529.3\">(None, 50, 50)</text>\n",
       "<polyline fill=\"none\" points=\"315,-521.5 412,-521.5 \" stroke=\"black\"/>\n",
       "<text font-family=\"Times,serif\" font-size=\"14.00\" text-anchor=\"middle\" x=\"363.5\" y=\"-506.3\">(None, 50, 50)</text>\n",
       "</g>\n",
       "<!-- 139716748569120&#45;&gt;139716748570464 -->\n",
       "<g class=\"edge\" id=\"edge2\"><title>139716748569120-&gt;139716748570464</title>\n",
       "<path d=\"M206,-581.366C206,-573.152 206,-563.658 206,-554.725\" fill=\"none\" stroke=\"black\"/>\n",
       "<polygon fill=\"black\" points=\"209.5,-554.607 206,-544.607 202.5,-554.607 209.5,-554.607\" stroke=\"black\"/>\n",
       "</g>\n",
       "<!-- 139716748555432 -->\n",
       "<g class=\"node\" id=\"node4\"><title>139716748555432</title>\n",
       "<polygon fill=\"none\" points=\"67.5,-415.5 67.5,-461.5 344.5,-461.5 344.5,-415.5 67.5,-415.5\" stroke=\"black\"/>\n",
       "<text font-family=\"Times,serif\" font-size=\"14.00\" text-anchor=\"middle\" x=\"130\" y=\"-434.8\">dropout_3: Dropout</text>\n",
       "<polyline fill=\"none\" points=\"192.5,-415.5 192.5,-461.5 \" stroke=\"black\"/>\n",
       "<text font-family=\"Times,serif\" font-size=\"14.00\" text-anchor=\"middle\" x=\"220\" y=\"-446.3\">input:</text>\n",
       "<polyline fill=\"none\" points=\"192.5,-438.5 247.5,-438.5 \" stroke=\"black\"/>\n",
       "<text font-family=\"Times,serif\" font-size=\"14.00\" text-anchor=\"middle\" x=\"220\" y=\"-423.3\">output:</text>\n",
       "<polyline fill=\"none\" points=\"247.5,-415.5 247.5,-461.5 \" stroke=\"black\"/>\n",
       "<text font-family=\"Times,serif\" font-size=\"14.00\" text-anchor=\"middle\" x=\"296\" y=\"-446.3\">(None, 50, 50)</text>\n",
       "<polyline fill=\"none\" points=\"247.5,-438.5 344.5,-438.5 \" stroke=\"black\"/>\n",
       "<text font-family=\"Times,serif\" font-size=\"14.00\" text-anchor=\"middle\" x=\"296\" y=\"-423.3\">(None, 50, 50)</text>\n",
       "</g>\n",
       "<!-- 139716748570464&#45;&gt;139716748555432 -->\n",
       "<g class=\"edge\" id=\"edge3\"><title>139716748570464-&gt;139716748555432</title>\n",
       "<path d=\"M206,-498.366C206,-490.152 206,-480.658 206,-471.725\" fill=\"none\" stroke=\"black\"/>\n",
       "<polygon fill=\"black\" points=\"209.5,-471.607 206,-461.607 202.5,-471.607 209.5,-471.607\" stroke=\"black\"/>\n",
       "</g>\n",
       "<!-- 139716476877344 -->\n",
       "<g class=\"node\" id=\"node5\"><title>139716476877344</title>\n",
       "<polygon fill=\"none\" points=\"81,-332.5 81,-378.5 331,-378.5 331,-332.5 81,-332.5\" stroke=\"black\"/>\n",
       "<text font-family=\"Times,serif\" font-size=\"14.00\" text-anchor=\"middle\" x=\"130\" y=\"-351.8\">lstm_4: LSTM</text>\n",
       "<polyline fill=\"none\" points=\"179,-332.5 179,-378.5 \" stroke=\"black\"/>\n",
       "<text font-family=\"Times,serif\" font-size=\"14.00\" text-anchor=\"middle\" x=\"206.5\" y=\"-363.3\">input:</text>\n",
       "<polyline fill=\"none\" points=\"179,-355.5 234,-355.5 \" stroke=\"black\"/>\n",
       "<text font-family=\"Times,serif\" font-size=\"14.00\" text-anchor=\"middle\" x=\"206.5\" y=\"-340.3\">output:</text>\n",
       "<polyline fill=\"none\" points=\"234,-332.5 234,-378.5 \" stroke=\"black\"/>\n",
       "<text font-family=\"Times,serif\" font-size=\"14.00\" text-anchor=\"middle\" x=\"282.5\" y=\"-363.3\">(None, 50, 50)</text>\n",
       "<polyline fill=\"none\" points=\"234,-355.5 331,-355.5 \" stroke=\"black\"/>\n",
       "<text font-family=\"Times,serif\" font-size=\"14.00\" text-anchor=\"middle\" x=\"282.5\" y=\"-340.3\">(None, 100)</text>\n",
       "</g>\n",
       "<!-- 139716748555432&#45;&gt;139716476877344 -->\n",
       "<g class=\"edge\" id=\"edge4\"><title>139716748555432-&gt;139716476877344</title>\n",
       "<path d=\"M206,-415.366C206,-407.152 206,-397.658 206,-388.725\" fill=\"none\" stroke=\"black\"/>\n",
       "<polygon fill=\"black\" points=\"209.5,-388.607 206,-378.607 202.5,-388.607 209.5,-388.607\" stroke=\"black\"/>\n",
       "</g>\n",
       "<!-- 139716475969376 -->\n",
       "<g class=\"node\" id=\"node6\"><title>139716475969376</title>\n",
       "<polygon fill=\"none\" points=\"7,-249.5 7,-295.5 405,-295.5 405,-249.5 7,-249.5\" stroke=\"black\"/>\n",
       "<text font-family=\"Times,serif\" font-size=\"14.00\" text-anchor=\"middle\" x=\"137\" y=\"-268.8\">batch_normalization_4: BatchNormalization</text>\n",
       "<polyline fill=\"none\" points=\"267,-249.5 267,-295.5 \" stroke=\"black\"/>\n",
       "<text font-family=\"Times,serif\" font-size=\"14.00\" text-anchor=\"middle\" x=\"294.5\" y=\"-280.3\">input:</text>\n",
       "<polyline fill=\"none\" points=\"267,-272.5 322,-272.5 \" stroke=\"black\"/>\n",
       "<text font-family=\"Times,serif\" font-size=\"14.00\" text-anchor=\"middle\" x=\"294.5\" y=\"-257.3\">output:</text>\n",
       "<polyline fill=\"none\" points=\"322,-249.5 322,-295.5 \" stroke=\"black\"/>\n",
       "<text font-family=\"Times,serif\" font-size=\"14.00\" text-anchor=\"middle\" x=\"363.5\" y=\"-280.3\">(None, 100)</text>\n",
       "<polyline fill=\"none\" points=\"322,-272.5 405,-272.5 \" stroke=\"black\"/>\n",
       "<text font-family=\"Times,serif\" font-size=\"14.00\" text-anchor=\"middle\" x=\"363.5\" y=\"-257.3\">(None, 100)</text>\n",
       "</g>\n",
       "<!-- 139716476877344&#45;&gt;139716475969376 -->\n",
       "<g class=\"edge\" id=\"edge5\"><title>139716476877344-&gt;139716475969376</title>\n",
       "<path d=\"M206,-332.366C206,-324.152 206,-314.658 206,-305.725\" fill=\"none\" stroke=\"black\"/>\n",
       "<polygon fill=\"black\" points=\"209.5,-305.607 206,-295.607 202.5,-305.607 209.5,-305.607\" stroke=\"black\"/>\n",
       "</g>\n",
       "<!-- 139716475419728 -->\n",
       "<g class=\"node\" id=\"node7\"><title>139716475419728</title>\n",
       "<polygon fill=\"none\" points=\"74.5,-166.5 74.5,-212.5 337.5,-212.5 337.5,-166.5 74.5,-166.5\" stroke=\"black\"/>\n",
       "<text font-family=\"Times,serif\" font-size=\"14.00\" text-anchor=\"middle\" x=\"137\" y=\"-185.8\">dropout_4: Dropout</text>\n",
       "<polyline fill=\"none\" points=\"199.5,-166.5 199.5,-212.5 \" stroke=\"black\"/>\n",
       "<text font-family=\"Times,serif\" font-size=\"14.00\" text-anchor=\"middle\" x=\"227\" y=\"-197.3\">input:</text>\n",
       "<polyline fill=\"none\" points=\"199.5,-189.5 254.5,-189.5 \" stroke=\"black\"/>\n",
       "<text font-family=\"Times,serif\" font-size=\"14.00\" text-anchor=\"middle\" x=\"227\" y=\"-174.3\">output:</text>\n",
       "<polyline fill=\"none\" points=\"254.5,-166.5 254.5,-212.5 \" stroke=\"black\"/>\n",
       "<text font-family=\"Times,serif\" font-size=\"14.00\" text-anchor=\"middle\" x=\"296\" y=\"-197.3\">(None, 100)</text>\n",
       "<polyline fill=\"none\" points=\"254.5,-189.5 337.5,-189.5 \" stroke=\"black\"/>\n",
       "<text font-family=\"Times,serif\" font-size=\"14.00\" text-anchor=\"middle\" x=\"296\" y=\"-174.3\">(None, 100)</text>\n",
       "</g>\n",
       "<!-- 139716475969376&#45;&gt;139716475419728 -->\n",
       "<g class=\"edge\" id=\"edge6\"><title>139716475969376-&gt;139716475419728</title>\n",
       "<path d=\"M206,-249.366C206,-241.152 206,-231.658 206,-222.725\" fill=\"none\" stroke=\"black\"/>\n",
       "<polygon fill=\"black\" points=\"209.5,-222.607 206,-212.607 202.5,-222.607 209.5,-222.607\" stroke=\"black\"/>\n",
       "</g>\n",
       "<!-- 139716721121992 -->\n",
       "<g class=\"node\" id=\"node8\"><title>139716721121992</title>\n",
       "<polygon fill=\"none\" points=\"86,-83.5 86,-129.5 326,-129.5 326,-83.5 86,-83.5\" stroke=\"black\"/>\n",
       "<text font-family=\"Times,serif\" font-size=\"14.00\" text-anchor=\"middle\" x=\"137\" y=\"-102.8\">dense_2: Dense</text>\n",
       "<polyline fill=\"none\" points=\"188,-83.5 188,-129.5 \" stroke=\"black\"/>\n",
       "<text font-family=\"Times,serif\" font-size=\"14.00\" text-anchor=\"middle\" x=\"215.5\" y=\"-114.3\">input:</text>\n",
       "<polyline fill=\"none\" points=\"188,-106.5 243,-106.5 \" stroke=\"black\"/>\n",
       "<text font-family=\"Times,serif\" font-size=\"14.00\" text-anchor=\"middle\" x=\"215.5\" y=\"-91.3\">output:</text>\n",
       "<polyline fill=\"none\" points=\"243,-83.5 243,-129.5 \" stroke=\"black\"/>\n",
       "<text font-family=\"Times,serif\" font-size=\"14.00\" text-anchor=\"middle\" x=\"284.5\" y=\"-114.3\">(None, 100)</text>\n",
       "<polyline fill=\"none\" points=\"243,-106.5 326,-106.5 \" stroke=\"black\"/>\n",
       "<text font-family=\"Times,serif\" font-size=\"14.00\" text-anchor=\"middle\" x=\"284.5\" y=\"-91.3\">(None, 2)</text>\n",
       "</g>\n",
       "<!-- 139716475419728&#45;&gt;139716721121992 -->\n",
       "<g class=\"edge\" id=\"edge7\"><title>139716475419728-&gt;139716721121992</title>\n",
       "<path d=\"M206,-166.366C206,-158.152 206,-148.658 206,-139.725\" fill=\"none\" stroke=\"black\"/>\n",
       "<polygon fill=\"black\" points=\"209.5,-139.607 206,-129.607 202.5,-139.607 209.5,-139.607\" stroke=\"black\"/>\n",
       "</g>\n",
       "<!-- 139716721122048 -->\n",
       "<g class=\"node\" id=\"node9\"><title>139716721122048</title>\n",
       "<polygon fill=\"none\" points=\"70,-0.5 70,-46.5 342,-46.5 342,-0.5 70,-0.5\" stroke=\"black\"/>\n",
       "<text font-family=\"Times,serif\" font-size=\"14.00\" text-anchor=\"middle\" x=\"144\" y=\"-19.8\">activation_2: Activation</text>\n",
       "<polyline fill=\"none\" points=\"218,-0.5 218,-46.5 \" stroke=\"black\"/>\n",
       "<text font-family=\"Times,serif\" font-size=\"14.00\" text-anchor=\"middle\" x=\"245.5\" y=\"-31.3\">input:</text>\n",
       "<polyline fill=\"none\" points=\"218,-23.5 273,-23.5 \" stroke=\"black\"/>\n",
       "<text font-family=\"Times,serif\" font-size=\"14.00\" text-anchor=\"middle\" x=\"245.5\" y=\"-8.3\">output:</text>\n",
       "<polyline fill=\"none\" points=\"273,-0.5 273,-46.5 \" stroke=\"black\"/>\n",
       "<text font-family=\"Times,serif\" font-size=\"14.00\" text-anchor=\"middle\" x=\"307.5\" y=\"-31.3\">(None, 2)</text>\n",
       "<polyline fill=\"none\" points=\"273,-23.5 342,-23.5 \" stroke=\"black\"/>\n",
       "<text font-family=\"Times,serif\" font-size=\"14.00\" text-anchor=\"middle\" x=\"307.5\" y=\"-8.3\">(None, 2)</text>\n",
       "</g>\n",
       "<!-- 139716721121992&#45;&gt;139716721122048 -->\n",
       "<g class=\"edge\" id=\"edge8\"><title>139716721121992-&gt;139716721122048</title>\n",
       "<path d=\"M206,-83.3664C206,-75.1516 206,-65.6579 206,-56.7252\" fill=\"none\" stroke=\"black\"/>\n",
       "<polygon fill=\"black\" points=\"209.5,-56.6068 206,-46.6068 202.5,-56.6069 209.5,-56.6068\" stroke=\"black\"/>\n",
       "</g>\n",
       "</g>\n",
       "</svg>"
      ],
      "text/plain": [
       "<IPython.core.display.SVG object>"
      ]
     },
     "execution_count": 49,
     "metadata": {},
     "output_type": "execute_result"
    }
   ],
   "source": [
    "SVG(model_to_dot(model1, show_shapes=True).create(prog='dot', format='svg'))"
   ]
  },
  {
   "cell_type": "code",
   "execution_count": 50,
   "metadata": {
    "scrolled": false
   },
   "outputs": [
    {
     "name": "stdout",
     "output_type": "stream",
     "text": [
      "Epoch 1/20\n",
      "289455/289455 [==============================] - 49s - loss: 0.1680    \n",
      "Epoch 2/20\n",
      "289455/289455 [==============================] - 49s - loss: 0.0362    \n",
      "Epoch 3/20\n",
      "289455/289455 [==============================] - 49s - loss: 0.0184    \n",
      "Epoch 4/20\n",
      "289455/289455 [==============================] - 49s - loss: 0.0129    \n",
      "Epoch 5/20\n",
      "289455/289455 [==============================] - 49s - loss: 0.0102    \n",
      "Epoch 6/20\n",
      "289455/289455 [==============================] - 49s - loss: 0.0074    \n",
      "Epoch 7/20\n",
      "289455/289455 [==============================] - 49s - loss: 0.0075    \n",
      "Epoch 8/20\n",
      "289455/289455 [==============================] - 49s - loss: 0.0058    \n",
      "Epoch 9/20\n",
      "289455/289455 [==============================] - 49s - loss: 0.0050    \n",
      "Epoch 10/20\n",
      "289455/289455 [==============================] - 49s - loss: 0.0038    \n",
      "Epoch 11/20\n",
      "289455/289455 [==============================] - 49s - loss: 0.0042    \n",
      "Epoch 12/20\n",
      "289455/289455 [==============================] - 49s - loss: 0.0047    \n",
      "Epoch 13/20\n",
      "289455/289455 [==============================] - 49s - loss: 0.0023    \n",
      "Epoch 14/20\n",
      "289455/289455 [==============================] - 49s - loss: 0.0042    \n",
      "Epoch 15/20\n",
      "289455/289455 [==============================] - 49s - loss: 0.0034    \n",
      "Epoch 16/20\n",
      "289455/289455 [==============================] - 49s - loss: 0.0040    \n",
      "Epoch 17/20\n",
      "289455/289455 [==============================] - 49s - loss: 0.0026    \n",
      "Epoch 18/20\n",
      "289455/289455 [==============================] - 49s - loss: 0.0016    \n",
      "Epoch 19/20\n",
      "289455/289455 [==============================] - 49s - loss: 0.0043    \n",
      "Epoch 20/20\n",
      "289455/289455 [==============================] - 49s - loss: 0.0021    \n"
     ]
    },
    {
     "data": {
      "text/plain": [
       "<keras.callbacks.History at 0x7f12570789b0>"
      ]
     },
     "execution_count": 50,
     "metadata": {},
     "output_type": "execute_result"
    }
   ],
   "source": [
    "model1.fit(data_M15_train_X_new, data_M15_train_Y_new, batch_size=500, epochs=20)\n"
   ]
  },
  {
   "cell_type": "markdown",
   "metadata": {},
   "source": [
    "** 4. 預測與準確率評估  Evaluation **"
   ]
  },
  {
   "cell_type": "code",
   "execution_count": 13,
   "metadata": {},
   "outputs": [
    {
     "data": {
      "text/plain": [
       "0.0    54636\n",
       "1.0    23671\n",
       "Name: label, dtype: int64"
      ]
     },
     "execution_count": 13,
     "metadata": {},
     "output_type": "execute_result"
    },
    {
     "data": {
      "text/plain": [
       "0    58795\n",
       "1    19512\n",
       "dtype: int64"
      ]
     },
     "execution_count": 13,
     "metadata": {},
     "output_type": "execute_result"
    },
    {
     "name": "stdout",
     "output_type": "stream",
     "text": [
      "Precision 0.983241082411\n",
      "Recall 0.810485404081\n",
      "score 0.902250169644 {'tn': 54309, 'fp': 327, 'fn': 4486, 'tp': 19185}\n"
     ]
    }
   ],
   "source": [
    "ret = model1.predict(data_M15_train_X_new)\n",
    "pred_t = pd.DataFrame(ret)\n",
    "pred_t = pred_t.apply(np.argmax,axis=1)\n",
    "pd.Series(data_M15_train_y_new).value_counts()\n",
    "pred_t.value_counts()\n",
    "print(\"Precision\", precision_score(data_M15_train_y_new, pred_t))\n",
    "print(\"Recall\", sk.metrics.recall_score(data_M15_train_y_new, pred_t))\n",
    "\n",
    "s,_=myscore(data_M15_train_y_new, pred_t)\n",
    "print('score',s,_)"
   ]
  },
  {
   "cell_type": "code",
   "execution_count": 14,
   "metadata": {
    "scrolled": true
   },
   "outputs": [
    {
     "data": {
      "text/plain": [
       "0.0    8586\n",
       "1.0    4310\n",
       "Name: label, dtype: int64"
      ]
     },
     "execution_count": 14,
     "metadata": {},
     "output_type": "execute_result"
    },
    {
     "data": {
      "text/plain": [
       "1    8496\n",
       "0    4400\n",
       "dtype: int64"
      ]
     },
     "execution_count": 14,
     "metadata": {},
     "output_type": "execute_result"
    },
    {
     "name": "stdout",
     "output_type": "stream",
     "text": [
      "Precision 0.455979284369\n",
      "Recall 0.898839907193\n",
      "score 0.680260857393 {'tn': 3964, 'fp': 4622, 'fn': 436, 'tp': 3874}\n"
     ]
    }
   ],
   "source": [
    "ret = model1.predict(data_M15_valid_X_new)\n",
    "pred_t = pd.DataFrame(ret)\n",
    "pred_t = pred_t.apply(np.argmax,axis=1)\n",
    "pd.Series(data_M15_valid_y_new).value_counts()\n",
    "pred_t.value_counts()\n",
    "print(\"Precision\", precision_score(data_M15_valid_y_new, pred_t))\n",
    "print(\"Recall\", sk.metrics.recall_score(data_M15_valid_y_new, pred_t))\n",
    "\n",
    "s,_=myscore(data_M15_valid_y_new, pred_t)\n",
    "print('score',s,_)"
   ]
  },
  {
   "cell_type": "code",
   "execution_count": 51,
   "metadata": {},
   "outputs": [
    {
     "data": {
      "text/plain": [
       "0.0    179807\n",
       "1.0     10638\n",
       "Name: label, dtype: int64"
      ]
     },
     "execution_count": 51,
     "metadata": {},
     "output_type": "execute_result"
    },
    {
     "data": {
      "text/plain": [
       "0    187690\n",
       "1      2755\n",
       "dtype: int64"
      ]
     },
     "execution_count": 51,
     "metadata": {},
     "output_type": "execute_result"
    },
    {
     "name": "stdout",
     "output_type": "stream",
     "text": [
      "Precision 0.356079854809\n",
      "Recall 0.0922165820643\n",
      "score 0.54117522391 {'tn': 178033, 'fp': 1774, 'fn': 9657, 'tp': 981}\n"
     ]
    }
   ],
   "source": [
    "ret = model1.predict(data_M21_test_X_new)\n",
    "pred_t = pd.DataFrame(ret)\n",
    "pred_t = pred_t.apply(np.argmax,axis=1)\n",
    "pd.Series(data_M21_test_y_new).value_counts()\n",
    "pred_t.value_counts()\n",
    "print(\"Precision\", precision_score(data_M21_test_y_new, pred_t))\n",
    "print(\"Recall\", sk.metrics.recall_score(data_M21_test_y_new, pred_t))\n",
    "\n",
    "s,_=myscore(data_M21_test_y_new, pred_t)\n",
    "print('score',s,_)"
   ]
  },
  {
   "cell_type": "code",
   "execution_count": 21,
   "metadata": {
    "scrolled": true
   },
   "outputs": [
    {
     "data": {
      "text/plain": [
       "0.0    63271\n",
       "1.0    27981\n",
       "Name: label, dtype: int64"
      ]
     },
     "execution_count": 21,
     "metadata": {},
     "output_type": "execute_result"
    },
    {
     "data": {
      "text/plain": [
       "0    63157\n",
       "1    28095\n",
       "dtype: int64"
      ]
     },
     "execution_count": 21,
     "metadata": {},
     "output_type": "execute_result"
    },
    {
     "name": "stdout",
     "output_type": "stream",
     "text": [
      "Precision 0.822922228154\n",
      "Recall 0.826274972303\n",
      "score 0.873822476115 {'tn': 58296, 'fp': 4975, 'fn': 4861, 'tp': 23120}\n"
     ]
    }
   ],
   "source": [
    "ret = model1.predict(data_M15_test_X_new)\n",
    "pred_t = pd.DataFrame(ret)\n",
    "pred_t = pred_t.apply(np.argmax,axis=1)\n",
    "pd.Series(data_M15_test_y_new).value_counts()\n",
    "pred_t.value_counts()\n",
    "print(\"Precision\", precision_score(data_M15_test_y_new, pred_t))\n",
    "print(\"Recall\", sk.metrics.recall_score(data_M15_test_y_new, pred_t))\n",
    "\n",
    "s,_=myscore(data_M15_test_y_new, pred_t)\n",
    "print('score',s,_)\n"
   ]
  },
  {
   "cell_type": "code",
   "execution_count": null,
   "metadata": {
    "collapsed": true
   },
   "outputs": [],
   "source": []
  },
  {
   "cell_type": "code",
   "execution_count": 52,
   "metadata": {
    "collapsed": true
   },
   "outputs": [],
   "source": [
    "pred_T2 = pd.DataFrame(ret)\n",
    "pred_T2 = pred_T2.apply(np.argmax,axis=1)\n",
    "a = np.array([0]*n_steps_)\n",
    "pred_test_y = np.concatenate([a, pred_T2.values])\n",
    "data_scaled_M21['label_pred'] = pred_test_y"
   ]
  },
  {
   "cell_type": "code",
   "execution_count": 53,
   "metadata": {},
   "outputs": [
    {
     "data": {
      "text/plain": [
       "0    187739\n",
       "1      2755\n",
       "Name: label_pred, dtype: int64"
      ]
     },
     "execution_count": 53,
     "metadata": {},
     "output_type": "execute_result"
    },
    {
     "data": {
      "text/plain": [
       "0.0    179856\n",
       "1.0     10638\n",
       "Name: label, dtype: int64"
      ]
     },
     "execution_count": 53,
     "metadata": {},
     "output_type": "execute_result"
    }
   ],
   "source": [
    "data_scaled_M21['label_pred'].value_counts()\n",
    "data_scaled_M21['label'].value_counts()"
   ]
  },
  {
   "cell_type": "code",
   "execution_count": 55,
   "metadata": {
    "scrolled": false
   },
   "outputs": [
    {
     "data": {
      "text/plain": [
       "[<matplotlib.lines.Line2D at 0x7f124f624390>]"
      ]
     },
     "execution_count": 55,
     "metadata": {},
     "output_type": "execute_result"
    },
    {
     "data": {
      "text/plain": [
       "[<matplotlib.lines.Line2D at 0x7f124f624cc0>]"
      ]
     },
     "execution_count": 55,
     "metadata": {},
     "output_type": "execute_result"
    },
    {
     "data": {
      "text/plain": [
       "[<matplotlib.lines.Line2D at 0x7f124f60b630>]"
      ]
     },
     "execution_count": 55,
     "metadata": {},
     "output_type": "execute_result"
    },
    {
     "data": {
      "text/plain": [
       "[<matplotlib.lines.Line2D at 0x7f124f60bf28>]"
      ]
     },
     "execution_count": 55,
     "metadata": {},
     "output_type": "execute_result"
    },
    {
     "data": {
      "text/plain": [
       "[<matplotlib.lines.Line2D at 0x7f124f58c128>]"
      ]
     },
     "execution_count": 55,
     "metadata": {},
     "output_type": "execute_result"
    },
    {
     "data": {
      "text/plain": [
       "[<matplotlib.lines.Line2D at 0x7f124f58ca20>]"
      ]
     },
     "execution_count": 55,
     "metadata": {},
     "output_type": "execute_result"
    },
    {
     "data": {
      "text/plain": [
       "[<matplotlib.lines.Line2D at 0x7f12499e2e80>]"
      ]
     },
     "execution_count": 55,
     "metadata": {},
     "output_type": "execute_result"
    },
    {
     "data": {
      "text/plain": [
       "[<matplotlib.lines.Line2D at 0x7f12499eb7b8>]"
      ]
     },
     "execution_count": 55,
     "metadata": {},
     "output_type": "execute_result"
    },
    {
     "data": {
      "text/plain": [
       "[<matplotlib.lines.Line2D at 0x7f12499866a0>]"
      ]
     },
     "execution_count": 55,
     "metadata": {},
     "output_type": "execute_result"
    },
    {
     "data": {
      "text/plain": [
       "[<matplotlib.lines.Line2D at 0x7f1249a1f780>]"
      ]
     },
     "execution_count": 55,
     "metadata": {},
     "output_type": "execute_result"
    },
    {
     "data": {
      "text/plain": [
       "[<matplotlib.lines.Line2D at 0x7f1245d0ec18>]"
      ]
     },
     "execution_count": 55,
     "metadata": {},
     "output_type": "execute_result"
    },
    {
     "data": {
      "text/plain": [
       "[<matplotlib.lines.Line2D at 0x7f1245d155c0>]"
      ]
     },
     "execution_count": 55,
     "metadata": {},
     "output_type": "execute_result"
    },
    {
     "data": {
      "text/plain": [
       "[<matplotlib.lines.Line2D at 0x7f1245cfafd0>]"
      ]
     },
     "execution_count": 55,
     "metadata": {},
     "output_type": "execute_result"
    },
    {
     "data": {
      "text/plain": [
       "[<matplotlib.lines.Line2D at 0x7f1245c83908>]"
      ]
     },
     "execution_count": 55,
     "metadata": {},
     "output_type": "execute_result"
    },
    {
     "data": {
      "text/plain": [
       "[<matplotlib.lines.Line2D at 0x7f1245c04390>]"
      ]
     },
     "execution_count": 55,
     "metadata": {},
     "output_type": "execute_result"
    },
    {
     "data": {
      "text/plain": [
       "[<matplotlib.lines.Line2D at 0x7f1245c04c88>]"
      ]
     },
     "execution_count": 55,
     "metadata": {},
     "output_type": "execute_result"
    },
    {
     "data": {
      "text/plain": [
       "[<matplotlib.lines.Line2D at 0x7f1245bf1a20>]"
      ]
     },
     "execution_count": 55,
     "metadata": {},
     "output_type": "execute_result"
    },
    {
     "data": {
      "text/plain": [
       "[<matplotlib.lines.Line2D at 0x7f1245bf93c8>]"
      ]
     },
     "execution_count": 55,
     "metadata": {},
     "output_type": "execute_result"
    },
    {
     "data": {
      "text/plain": [
       "[<matplotlib.lines.Line2D at 0x7f1245c180f0>]"
      ]
     },
     "execution_count": 55,
     "metadata": {},
     "output_type": "execute_result"
    },
    {
     "data": {
      "text/plain": [
       "[<matplotlib.lines.Line2D at 0x7f1245b5aac8>]"
      ]
     },
     "execution_count": 55,
     "metadata": {},
     "output_type": "execute_result"
    },
    {
     "data": {
      "text/plain": [
       "[<matplotlib.lines.Line2D at 0x7f1245ad8b00>]"
      ]
     },
     "execution_count": 55,
     "metadata": {},
     "output_type": "execute_result"
    },
    {
     "data": {
      "text/plain": [
       "[<matplotlib.lines.Line2D at 0x7f1245ae04a8>]"
      ]
     },
     "execution_count": 55,
     "metadata": {},
     "output_type": "execute_result"
    },
    {
     "data": {
      "text/plain": [
       "[<matplotlib.lines.Line2D at 0x7f1245a4d3c8>]"
      ]
     },
     "execution_count": 55,
     "metadata": {},
     "output_type": "execute_result"
    },
    {
     "data": {
      "text/plain": [
       "[<matplotlib.lines.Line2D at 0x7f1245a4dcc0>]"
      ]
     },
     "execution_count": 55,
     "metadata": {},
     "output_type": "execute_result"
    },
    {
     "data": {
      "text/plain": [
       "[<matplotlib.lines.Line2D at 0x7f12459ce630>]"
      ]
     },
     "execution_count": 55,
     "metadata": {},
     "output_type": "execute_result"
    },
    {
     "data": {
      "text/plain": [
       "[<matplotlib.lines.Line2D at 0x7f12459cef28>]"
      ]
     },
     "execution_count": 55,
     "metadata": {},
     "output_type": "execute_result"
    },
    {
     "data": {
      "text/plain": [
       "[<matplotlib.lines.Line2D at 0x7f12459badd8>]"
      ]
     },
     "execution_count": 55,
     "metadata": {},
     "output_type": "execute_result"
    },
    {
     "data": {
      "text/plain": [
       "[<matplotlib.lines.Line2D at 0x7f1245943780>]"
      ]
     },
     "execution_count": 55,
     "metadata": {},
     "output_type": "execute_result"
    },
    {
     "name": "stderr",
     "output_type": "stream",
     "text": [
      "/home/bigdata/anaconda3/lib/python3.6/site-packages/matplotlib/font_manager.py:1297: UserWarning: findfont: Font family ['sans-serif'] not found. Falling back to DejaVu Sans\n",
      "  (prop.get_family(), self.defaultFamily[fontext]))\n"
     ]
    },
    {
     "data": {
      "image/png": "[encoded data removed]",
      "text/plain": [
       "<matplotlib.figure.Figure at 0x7f12500f06a0>"
      ]
     },
     "metadata": {},
     "output_type": "display_data"
    },
    {
     "data": {
      "image/png": "[encoded data removed]",
      "text/plain": [
       "<matplotlib.figure.Figure at 0x7f124f76ab38>"
      ]
     },
     "metadata": {},
     "output_type": "display_data"
    },
    {
     "data": {
      "image/png": "[encoded data removed]",
      "text/plain": [
       "<matplotlib.figure.Figure at 0x7f124f60bf60>"
      ]
     },
     "metadata": {},
     "output_type": "display_data"
    },
    {
     "data": {
      "image/png": "[encoded data removed]",
      "text/plain": [
       "<matplotlib.figure.Figure at 0x7f124f612898>"
      ]
     },
     "metadata": {},
     "output_type": "display_data"
    },
    {
     "data": {
      "image/png": "[encoded data removed]",
      "text/plain": [
       "<matplotlib.figure.Figure at 0x7f1249a023c8>"
      ]
     },
     "metadata": {},
     "output_type": "display_data"
    },
    {
     "data": {
      "image/png": "[encoded data removed]",
      "text/plain": [
       "<matplotlib.figure.Figure at 0x7f1249a1f668>"
      ]
     },
     "metadata": {},
     "output_type": "display_data"
    },
    {
     "data": {
      "image/png": "[encoded data removed]",
      "text/plain": [
       "<matplotlib.figure.Figure at 0x7f124f5c7128>"
      ]
     },
     "metadata": {},
     "output_type": "display_data"
    },
    {
     "data": {
      "image/png": "[encoded data removed]",
      "text/plain": [
       "<matplotlib.figure.Figure at 0x7f1245d15ef0>"
      ]
     },
     "metadata": {},
     "output_type": "display_data"
    },
    {
     "data": {
      "image/png": "[encoded data removed]",
      "text/plain": [
       "<matplotlib.figure.Figure at 0x7f1245c8d208>"
      ]
     },
     "metadata": {},
     "output_type": "display_data"
    },
    {
     "data": {
      "image/png": "[encoded data removed]",
      "text/plain": [
       "<matplotlib.figure.Figure at 0x7f1245c0d588>"
      ]
     },
     "metadata": {},
     "output_type": "display_data"
    },
    {
     "data": {
      "image/png": "[encoded data removed]",
      "text/plain": [
       "<matplotlib.figure.Figure at 0x7f1245bf9c88>"
      ]
     },
     "metadata": {},
     "output_type": "display_data"
    },
    {
     "data": {
      "image/png": "[encoded data removed]",
      "text/plain": [
       "<matplotlib.figure.Figure at 0x7f1245b6a390>"
      ]
     },
     "metadata": {},
     "output_type": "display_data"
    },
    {
     "data": {
      "image/png": "[encoded data removed]",
      "text/plain": [
       "<matplotlib.figure.Figure at 0x7f1245ae0d68>"
      ]
     },
     "metadata": {},
     "output_type": "display_data"
    },
    {
     "data": {
      "image/png": "[encoded data removed]",
      "text/plain": [
       "<matplotlib.figure.Figure at 0x7f1245a4dfd0>"
      ]
     },
     "metadata": {},
     "output_type": "display_data"
    }
   ],
   "source": [
    "r2_baseline=0.9\n",
    "events = data_scaled_M21['event'].unique()\n",
    "x='wind_speed'\n",
    "y='power'\n",
    "\n",
    "for e in events:\n",
    "    data_evt= data_scaled_M21[data_scaled_M21['event']==e]\n",
    "    #data_unknown_evt = data_unknown[data_unknown['event']==e]\n",
    "    dummy = plt.figure(figsize=[17,2])\n",
    "    plt.plot(data_evt['label'],  color = 'blue', lw=0.5, label='this event')\n",
    "    plt.plot(data_evt['label_pred'],  color = 'green', lw=0.5, label='this event')\n",
    "\n",
    "    "
   ]
  },
  {
   "cell_type": "markdown",
   "metadata": {},
   "source": [
    "***\n",
    "#### Predict Test Data"
   ]
  },
  {
   "cell_type": "code",
   "execution_count": null,
   "metadata": {
    "collapsed": true
   },
   "outputs": [],
   "source": []
  },
  {
   "cell_type": "markdown",
   "metadata": {},
   "source": [
    "## 5. 整理預測結果, 正確上傳格式"
   ]
  },
  {
   "cell_type": "code",
   "execution_count": null,
   "metadata": {
    "collapsed": true
   },
   "outputs": [],
   "source": [
    "pred_T.shape"
   ]
  },
  {
   "cell_type": "code",
   "execution_count": null,
   "metadata": {
    "collapsed": true
   },
   "outputs": [],
   "source": [
    "startTime=0\n",
    "endTIme=0\n",
    "search_start=True\n",
    "search_end=False\n",
    "abnormal_list=[]\n",
    "shift = test_timeidx_new.index[0]\n",
    "for i,v in enumerate(pred_T):\n",
    "    i=i+shift\n",
    "    if (v==1) & (search_start):\n",
    "        startTime = test_timeidx_new[i]\n",
    "        search_end=True\n",
    "        search_start=False\n",
    "    if (v==0) & (search_end):\n",
    "        endTIme=test_timeidx_new[i]\n",
    "        search_start=True\n",
    "        search_end=False\n",
    "        abnormal_list.append((startTime,test_timeidx_new[i-1]))\n",
    "len(abnormal_list)"
   ]
  },
  {
   "cell_type": "code",
   "execution_count": null,
   "metadata": {
    "collapsed": true,
    "scrolled": false
   },
   "outputs": [],
   "source": [
    "output_ans=True\n",
    "if(output_ans):\n",
    "    with open('test1_08_results.csv','w') as out:\n",
    "        csv_out=csv.writer(out)\n",
    "        csv_out.writerow(['startTime','endTime'])\n",
    "        for row in abnormal_list:\n",
    "            dummy = csv_out.writerow(row)\n",
    "\n",
    "print('done')\n"
   ]
  },
  {
   "cell_type": "code",
   "execution_count": null,
   "metadata": {
    "collapsed": true
   },
   "outputs": [],
   "source": [
    "abnormal_list[:4]"
   ]
  },
  {
   "cell_type": "markdown",
   "metadata": {},
   "source": [
    "## 6. Issue\n",
    "1. Data Imbalance\n",
    " - training batch sample 一半normal一半abnormal的data\n",
    " - 用兩台風機訓練兩個model, 取故障預測的聯集 \n",
    "\n",
    "2. 用Precision & Recall評估好壞, 算出Score\n",
    "\n",
    "\n",
    "other:\n",
    "- using weighted examples. Just amplify the per-instance loss by a larger weight when seeing positive examples. If you use online gradient descent, it can be as simple as using a larger learning rate when seeing positive examples.\n",
    "- A similar and slightly better approach (only if you use stochastic gradient descent) is randomly picking an example in each iteration, where the positive examples have higher probability of being picked."
   ]
  },
  {
   "cell_type": "markdown",
   "metadata": {
    "collapsed": true
   },
   "source": [
    "提交结果历史记录  \n",
    "参赛队伍:　556 / 参赛人数:　858  \n",
    " \n",
    "|竞赛阶段\t |上传者\t |分数\t |提交日期\t |排名\t |下载|\n",
    "| ---------| -------- | ------ | ------ | ------ | ------ |\n",
    "|初赛test1阶段|\t孔祥千\t|55.28684214|\t2017/7/12|\t50\t|下载|"
   ]
  },
  {
   "cell_type": "markdown",
   "metadata": {},
   "source": [
    "Note: 7/13\n",
    "1. cross correlation\n",
    "2. auto correlation\n",
    "3. common filter\n",
    "4. de-train "
   ]
  }
 ],
 "metadata": {
  "anaconda-cloud": {},
  "kernelspec": {
   "display_name": "Python 3",
   "language": "python",
   "name": "python3"
  },
  "language_info": {
   "codemirror_mode": {
    "name": "ipython",
    "version": 3
   },
   "file_extension": ".py",
   "mimetype": "text/x-python",
   "name": "python",
   "nbconvert_exporter": "python",
   "pygments_lexer": "ipython3",
   "version": "3.6.1"
  }
 },
 "nbformat": 4,
 "nbformat_minor": 2
}
