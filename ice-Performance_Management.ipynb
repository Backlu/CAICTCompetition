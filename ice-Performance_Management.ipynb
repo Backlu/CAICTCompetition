{
 "cells": [
  {
   "cell_type": "markdown",
   "metadata": {},
   "source": [
    "## Performance Management"
   ]
  },
  {
   "cell_type": "code",
   "execution_count": 162,
   "metadata": {
    "scrolled": true
   },
   "outputs": [
    {
     "data": {
      "text/html": [
       "<script>\n",
       "presentation = 1;\n",
       "code_show=true; \n",
       "function code_toggle() {\n",
       " if (!presentation){\n",
       "     return;\n",
       " }\n",
       " if (code_show){\n",
       " $('div.input').hide();\n",
       " } else {\n",
       " $('div.input').show();\n",
       " }\n",
       " code_show = !code_show\n",
       "} \n",
       "$( document ).ready(code_toggle);\n",
       "</script>\n",
       "<form action=\"javascript:code_toggle()\"><input type=\"submit\" value=\"Click here to toggle on/off the raw code.\"></form>\n"
      ],
      "text/plain": [
       "<IPython.core.display.HTML object>"
      ]
     },
     "execution_count": 162,
     "metadata": {},
     "output_type": "execute_result"
    }
   ],
   "source": [
    "\n",
    "from IPython.display import HTML\n",
    "HTML('''<script>\n",
    "presentation = 1;\n",
    "code_show=true; \n",
    "function code_toggle() {\n",
    " if (!presentation){\n",
    "     return;\n",
    " }\n",
    " if (code_show){\n",
    " $('div.input').hide();\n",
    " } else {\n",
    " $('div.input').show();\n",
    " }\n",
    " code_show = !code_show\n",
    "} \n",
    "$( document ).ready(code_toggle);\n",
    "</script>\n",
    "<form action=\"javascript:code_toggle()\"><input type=\"submit\" value=\"Click here to toggle on/off the raw code.\"></form>\n",
    "''')"
   ]
  },
  {
   "cell_type": "code",
   "execution_count": 224,
   "metadata": {},
   "outputs": [],
   "source": [
    "import numpy as np\n",
    "import os\n",
    "pd.set_option('display.max_colwidth', -1)\n",
    "pd.set_option('display.colheader_justify','left')\n"
   ]
  },
  {
   "cell_type": "code",
   "execution_count": 359,
   "metadata": {},
   "outputs": [],
   "source": [
    "def generateHtml(table, filename, table_title='--', title='CM-Case Feature Summary'):\n",
    "    html_str='''\n",
    "    <html>\n",
    "    <style type=\"text/css\" scoped>\n",
    "        <td background-color: rgb(251,251,251);>\n",
    "    </style>\n",
    "    <head><meta http-equiv=\"Content-Type\" content=\"text/html; charset=UTF-8\">\n",
    "       <TITLE>{title}</TITLE> \n",
    "    </head>\n",
    "    <body>\n",
    "    <CAPTION ALIGN=\"left\">{table_title}</CAPTION>\n",
    "    {tb}\n",
    "    </body>\n",
    "    </html>\n",
    "    '''.format(title=title, table_title=table_title, tb=table)\n",
    "    Html_file= open(filename,'w')\n",
    "    Html_file.write(html_str)\n",
    "    Html_file.close()\n",
    "    return html_str"
   ]
  },
  {
   "cell_type": "code",
   "execution_count": 307,
   "metadata": {
    "collapsed": true
   },
   "outputs": [],
   "source": [
    "def insertObservation(df):\n",
    "    cols=df.columns\n",
    "    df['observation']=''\n",
    "    new_cols = cols.insert(1,'observation')\n",
    "    df =df[new_cols]\n",
    "    return df\n"
   ]
  },
  {
   "cell_type": "code",
   "execution_count": 349,
   "metadata": {},
   "outputs": [],
   "source": [
    "def addObservations(case, msg, df):\n",
    "    if isinstance(case, (list, tuple)):\n",
    "        if isinstance(msg, (list, tuple)):\n",
    "            pass\n",
    "        else:\n",
    "            msg=[msg]*len(case)\n",
    "        for idx, c in enumerate(case):\n",
    "            tmp = df.get_value(c,'observation')\n",
    "            if tmp !='':\n",
    "                newmsg = '{x},{new}'.format(x=tmp, new=msg[idx])\n",
    "            else:\n",
    "                newmsg=msg[idx]\n",
    "            df.set_value(c,'observation', newmsg)\n",
    "    else:\n",
    "        tmp = df.get_value(case,'observation')\n",
    "        if tmp !='':\n",
    "            newmsg = '{x},{new}'.format(x=tmp, new=msg)\n",
    "        else:\n",
    "            newmsg=msg\n",
    "        df.set_value(case,'observation', newmsg)\n",
    "        \n",
    "    "
   ]
  },
  {
   "cell_type": "markdown",
   "metadata": {},
   "source": [
    "***"
   ]
  },
  {
   "cell_type": "markdown",
   "metadata": {},
   "source": [
    "** Index.html **"
   ]
  },
  {
   "cell_type": "code",
   "execution_count": 360,
   "metadata": {},
   "outputs": [],
   "source": [
    "filename='case_management/index.html'\n",
    "\n",
    "html_files=[]\n",
    "for f in os.listdir('case_management'):\n",
    "    if f.endswith('html'):\n",
    "        html_files.append(f)\n",
    "    \n",
    "table_df = pd.DataFrame({'id':range(len(html_files))})\n",
    "\n",
    "table_df['files'] = html_files\n",
    "table_df['files'] = table_df['files'].apply(lambda x: '<a href=\"/{file}\">{file}</a>'.format(file=x) )\n",
    "htmlstr =generateHtml(title='CM-Index', table_title='index', table = table_df.to_html(escape=False,index=False), filename=filename)\n",
    "#display(HTML(htmlstr))\n",
    "\n",
    "#<a href=\"/ParameterFeatureSummary.html\">test link</a>"
   ]
  },
  {
   "cell_type": "markdown",
   "metadata": {},
   "source": [
    "** Parameter-FeatureSummary **"
   ]
  },
  {
   "cell_type": "code",
   "execution_count": 246,
   "metadata": {},
   "outputs": [],
   "source": [
    "cols = ['wind_speed', 'generator_speed', 'power', 'wind_direction',\n",
    "       'wind_direction_mean', 'yaw_position', 'yaw_speed', 'pitch1_angle',\n",
    "       'pitch2_angle', 'pitch3_angle', 'pitch1_speed', 'pitch2_speed',\n",
    "       'pitch3_speed', 'pitch1_moto_tmp', 'pitch2_moto_tmp', 'pitch3_moto_tmp',\n",
    "       'acc_x', 'acc_y', 'environment_tmp', 'int_tmp', 'pitch1_ng5_tmp',\n",
    "       'pitch2_ng5_tmp', 'pitch3_ng5_tmp', 'pitch1_ng5_DC', 'pitch2_ng5_DC',\n",
    "       'pitch3_ng5_DC']\n",
    "\n",
    "filename='case_management/ParameterFeatureSummary.html'\n",
    "\n",
    "path_scatter_wind_speed='img/feature_importance/scatter_wind_speed/'\n",
    "path_scatter_power='img/feature_importance/scatter_power/'\n",
    "path_heatmap1='img/feature_importance/heatmap1/'\n",
    "path_rss_wind_speed='img/feature_importance/rss_wind_speed/'\n",
    "path_distribution='img/feature_importance/distribution/'\n",
    "\n",
    "table_df = pd.DataFrame({'X Factor':cols})\n",
    "table_df['scatter_power'] = table_df['X Factor'].apply(lambda x: '<img src=\"{path}{file}.jpg\" width=300px/>'.format(path=path_scatter_power, file=x) )\n",
    "table_df['scatter_wind_speed'] = table_df['X Factor'].apply(lambda x: '<img src=\"{path}{file}.jpg\" width=300px/>'.format(path=path_scatter_wind_speed, file=x) )\n",
    "table_df['rss_wind_speed'] = table_df['X Factor'].apply(lambda x: '<img src=\"{path}{file}.jpg\" width=300px/>'.format(path=path_rss_wind_speed, file=x) )\n",
    "table_df['distribution'] = table_df['X Factor'].apply(lambda x: '<img src=\"{path}{file}.jpg\" width=300px/>'.format(path=path_distribution, file=x) )\n",
    "table_df = insertObservation(table_df)\n",
    "\n",
    "\n",
    "htmlstr =generateHtml(table = table_df.to_html(escape=False,index=False), filename=filename)\n",
    "#display(HTML(htmlstr))"
   ]
  },
  {
   "cell_type": "markdown",
   "metadata": {},
   "source": [
    "** Case-FeatureSummary **"
   ]
  },
  {
   "cell_type": "code",
   "execution_count": 350,
   "metadata": {
    "scrolled": false
   },
   "outputs": [],
   "source": [
    "filename='case_management/CaseFeatureSummary.html'\n",
    "\n",
    "path_scatter1='img/primary_windspeed/scatter1/'\n",
    "path_trend1='img/primary_windspeed/trend1/'\n",
    "path_trend2='img/primary_windspeed/trend2/'\n",
    "\n",
    "table_df = pd.DataFrame({'Event id':range(25)})\n",
    "table_df['power-wind_speed_scatter'] = table_df['Event id'].apply(lambda x: '<img src=\"{path}{file}.jpg\" width=250px/>'.format(path=path_scatter1, file=x) )\n",
    "table_df['trend1(datapoint)'] = table_df['Event id'].apply(lambda x: '<img src=\"{path}{file}.jpg\" width=1000px/>'.format(path=path_trend1, file=x) )\n",
    "table_df['trend(timestamp)'] = table_df['Event id'].apply(lambda x: '<img src=\"{path}{file}.jpg\" width=1000px/>'.format(path=path_trend2, file=x) )\n",
    "table_df = insertObservation(table_df)\n",
    "\n",
    "addObservations(case=[1,6,7,9,11,13,14,15,16,17,20],msg='左下角異常', df=table_df)\n",
    "#addObservations(case=[0,3,4,5,8,10,12,18,19,21,22,23,24],msg='正常', df=table_df)\n",
    "\n",
    "\n",
    "table_df.style.set_properties(**{'text-align': 'left'})\n",
    "htmlstr =generateHtml(table_title='Primary_Parameter(wind_speed)', table = table_df.to_html(escape=False,index=False), filename=filename)\n",
    "#display(HTML(htmlstr))"
   ]
  },
  {
   "cell_type": "code",
   "execution_count": 341,
   "metadata": {},
   "outputs": [
    {
     "data": {
      "text/html": [
       "<div>\n",
       "<style>\n",
       "    .dataframe thead tr:only-child th {\n",
       "        text-align: right;\n",
       "    }\n",
       "\n",
       "    .dataframe thead th {\n",
       "        text-align: left;\n",
       "    }\n",
       "\n",
       "    .dataframe tbody tr th {\n",
       "        vertical-align: top;\n",
       "    }\n",
       "</style>\n",
       "<table border=\"1\" class=\"dataframe\">\n",
       "  <thead>\n",
       "    <tr style=\"text-align: left;\">\n",
       "      <th></th>\n",
       "      <th>Event id</th>\n",
       "      <th>observation</th>\n",
       "      <th>power-wind_speed_scatter</th>\n",
       "      <th>trend1(datapoint)</th>\n",
       "      <th>trend(timestamp)</th>\n",
       "    </tr>\n",
       "  </thead>\n",
       "  <tbody>\n",
       "    <tr>\n",
       "      <th>0</th>\n",
       "      <td>0</td>\n",
       "      <td></td>\n",
       "      <td>&lt;img src=\"img/primary_windspeed/scatter1/0.jpg\" width=250px/&gt;</td>\n",
       "      <td>&lt;img src=\"img/primary_windspeed/trend1/0.jpg\" width=1000px/&gt;</td>\n",
       "      <td>&lt;img src=\"img/primary_windspeed/trend2/0.jpg\" width=1000px/&gt;</td>\n",
       "    </tr>\n",
       "    <tr>\n",
       "      <th>1</th>\n",
       "      <td>1</td>\n",
       "      <td></td>\n",
       "      <td>&lt;img src=\"img/primary_windspeed/scatter1/1.jpg\" width=250px/&gt;</td>\n",
       "      <td>&lt;img src=\"img/primary_windspeed/trend1/1.jpg\" width=1000px/&gt;</td>\n",
       "      <td>&lt;img src=\"img/primary_windspeed/trend2/1.jpg\" width=1000px/&gt;</td>\n",
       "    </tr>\n",
       "    <tr>\n",
       "      <th>2</th>\n",
       "      <td>2</td>\n",
       "      <td>,正常,部分偏下</td>\n",
       "      <td>&lt;img src=\"img/primary_windspeed/scatter1/2.jpg\" width=250px/&gt;</td>\n",
       "      <td>&lt;img src=\"img/primary_windspeed/trend1/2.jpg\" width=1000px/&gt;</td>\n",
       "      <td>&lt;img src=\"img/primary_windspeed/trend2/2.jpg\" width=1000px/&gt;</td>\n",
       "    </tr>\n",
       "    <tr>\n",
       "      <th>3</th>\n",
       "      <td>3</td>\n",
       "      <td>,正常,部分偏下</td>\n",
       "      <td>&lt;img src=\"img/primary_windspeed/scatter1/3.jpg\" width=250px/&gt;</td>\n",
       "      <td>&lt;img src=\"img/primary_windspeed/trend1/3.jpg\" width=1000px/&gt;</td>\n",
       "      <td>&lt;img src=\"img/primary_windspeed/trend2/3.jpg\" width=1000px/&gt;</td>\n",
       "    </tr>\n",
       "    <tr>\n",
       "      <th>4</th>\n",
       "      <td>4</td>\n",
       "      <td>,正常,部分偏下</td>\n",
       "      <td>&lt;img src=\"img/primary_windspeed/scatter1/4.jpg\" width=250px/&gt;</td>\n",
       "      <td>&lt;img src=\"img/primary_windspeed/trend1/4.jpg\" width=1000px/&gt;</td>\n",
       "      <td>&lt;img src=\"img/primary_windspeed/trend2/4.jpg\" width=1000px/&gt;</td>\n",
       "    </tr>\n",
       "    <tr>\n",
       "      <th>5</th>\n",
       "      <td>5</td>\n",
       "      <td>,正常,部分偏下</td>\n",
       "      <td>&lt;img src=\"img/primary_windspeed/scatter1/5.jpg\" width=250px/&gt;</td>\n",
       "      <td>&lt;img src=\"img/primary_windspeed/trend1/5.jpg\" width=1000px/&gt;</td>\n",
       "      <td>&lt;img src=\"img/primary_windspeed/trend2/5.jpg\" width=1000px/&gt;</td>\n",
       "    </tr>\n",
       "    <tr>\n",
       "      <th>6</th>\n",
       "      <td>6</td>\n",
       "      <td></td>\n",
       "      <td>&lt;img src=\"img/primary_windspeed/scatter1/6.jpg\" width=250px/&gt;</td>\n",
       "      <td>&lt;img src=\"img/primary_windspeed/trend1/6.jpg\" width=1000px/&gt;</td>\n",
       "      <td>&lt;img src=\"img/primary_windspeed/trend2/6.jpg\" width=1000px/&gt;</td>\n",
       "    </tr>\n",
       "    <tr>\n",
       "      <th>7</th>\n",
       "      <td>7</td>\n",
       "      <td></td>\n",
       "      <td>&lt;img src=\"img/primary_windspeed/scatter1/7.jpg\" width=250px/&gt;</td>\n",
       "      <td>&lt;img src=\"img/primary_windspeed/trend1/7.jpg\" width=1000px/&gt;</td>\n",
       "      <td>&lt;img src=\"img/primary_windspeed/trend2/7.jpg\" width=1000px/&gt;</td>\n",
       "    </tr>\n",
       "    <tr>\n",
       "      <th>8</th>\n",
       "      <td>8</td>\n",
       "      <td></td>\n",
       "      <td>&lt;img src=\"img/primary_windspeed/scatter1/8.jpg\" width=250px/&gt;</td>\n",
       "      <td>&lt;img src=\"img/primary_windspeed/trend1/8.jpg\" width=1000px/&gt;</td>\n",
       "      <td>&lt;img src=\"img/primary_windspeed/trend2/8.jpg\" width=1000px/&gt;</td>\n",
       "    </tr>\n",
       "    <tr>\n",
       "      <th>9</th>\n",
       "      <td>9</td>\n",
       "      <td></td>\n",
       "      <td>&lt;img src=\"img/primary_windspeed/scatter1/9.jpg\" width=250px/&gt;</td>\n",
       "      <td>&lt;img src=\"img/primary_windspeed/trend1/9.jpg\" width=1000px/&gt;</td>\n",
       "      <td>&lt;img src=\"img/primary_windspeed/trend2/9.jpg\" width=1000px/&gt;</td>\n",
       "    </tr>\n",
       "    <tr>\n",
       "      <th>10</th>\n",
       "      <td>10</td>\n",
       "      <td></td>\n",
       "      <td>&lt;img src=\"img/primary_windspeed/scatter1/10.jpg\" width=250px/&gt;</td>\n",
       "      <td>&lt;img src=\"img/primary_windspeed/trend1/10.jpg\" width=1000px/&gt;</td>\n",
       "      <td>&lt;img src=\"img/primary_windspeed/trend2/10.jpg\" width=1000px/&gt;</td>\n",
       "    </tr>\n",
       "    <tr>\n",
       "      <th>11</th>\n",
       "      <td>11</td>\n",
       "      <td></td>\n",
       "      <td>&lt;img src=\"img/primary_windspeed/scatter1/11.jpg\" width=250px/&gt;</td>\n",
       "      <td>&lt;img src=\"img/primary_windspeed/trend1/11.jpg\" width=1000px/&gt;</td>\n",
       "      <td>&lt;img src=\"img/primary_windspeed/trend2/11.jpg\" width=1000px/&gt;</td>\n",
       "    </tr>\n",
       "    <tr>\n",
       "      <th>12</th>\n",
       "      <td>12</td>\n",
       "      <td></td>\n",
       "      <td>&lt;img src=\"img/primary_windspeed/scatter1/12.jpg\" width=250px/&gt;</td>\n",
       "      <td>&lt;img src=\"img/primary_windspeed/trend1/12.jpg\" width=1000px/&gt;</td>\n",
       "      <td>&lt;img src=\"img/primary_windspeed/trend2/12.jpg\" width=1000px/&gt;</td>\n",
       "    </tr>\n",
       "    <tr>\n",
       "      <th>13</th>\n",
       "      <td>13</td>\n",
       "      <td></td>\n",
       "      <td>&lt;img src=\"img/primary_windspeed/scatter1/13.jpg\" width=250px/&gt;</td>\n",
       "      <td>&lt;img src=\"img/primary_windspeed/trend1/13.jpg\" width=1000px/&gt;</td>\n",
       "      <td>&lt;img src=\"img/primary_windspeed/trend2/13.jpg\" width=1000px/&gt;</td>\n",
       "    </tr>\n",
       "    <tr>\n",
       "      <th>14</th>\n",
       "      <td>14</td>\n",
       "      <td></td>\n",
       "      <td>&lt;img src=\"img/primary_windspeed/scatter1/14.jpg\" width=250px/&gt;</td>\n",
       "      <td>&lt;img src=\"img/primary_windspeed/trend1/14.jpg\" width=1000px/&gt;</td>\n",
       "      <td>&lt;img src=\"img/primary_windspeed/trend2/14.jpg\" width=1000px/&gt;</td>\n",
       "    </tr>\n",
       "    <tr>\n",
       "      <th>15</th>\n",
       "      <td>15</td>\n",
       "      <td></td>\n",
       "      <td>&lt;img src=\"img/primary_windspeed/scatter1/15.jpg\" width=250px/&gt;</td>\n",
       "      <td>&lt;img src=\"img/primary_windspeed/trend1/15.jpg\" width=1000px/&gt;</td>\n",
       "      <td>&lt;img src=\"img/primary_windspeed/trend2/15.jpg\" width=1000px/&gt;</td>\n",
       "    </tr>\n",
       "    <tr>\n",
       "      <th>16</th>\n",
       "      <td>16</td>\n",
       "      <td></td>\n",
       "      <td>&lt;img src=\"img/primary_windspeed/scatter1/16.jpg\" width=250px/&gt;</td>\n",
       "      <td>&lt;img src=\"img/primary_windspeed/trend1/16.jpg\" width=1000px/&gt;</td>\n",
       "      <td>&lt;img src=\"img/primary_windspeed/trend2/16.jpg\" width=1000px/&gt;</td>\n",
       "    </tr>\n",
       "    <tr>\n",
       "      <th>17</th>\n",
       "      <td>17</td>\n",
       "      <td></td>\n",
       "      <td>&lt;img src=\"img/primary_windspeed/scatter1/17.jpg\" width=250px/&gt;</td>\n",
       "      <td>&lt;img src=\"img/primary_windspeed/trend1/17.jpg\" width=1000px/&gt;</td>\n",
       "      <td>&lt;img src=\"img/primary_windspeed/trend2/17.jpg\" width=1000px/&gt;</td>\n",
       "    </tr>\n",
       "    <tr>\n",
       "      <th>18</th>\n",
       "      <td>18</td>\n",
       "      <td></td>\n",
       "      <td>&lt;img src=\"img/primary_windspeed/scatter1/18.jpg\" width=250px/&gt;</td>\n",
       "      <td>&lt;img src=\"img/primary_windspeed/trend1/18.jpg\" width=1000px/&gt;</td>\n",
       "      <td>&lt;img src=\"img/primary_windspeed/trend2/18.jpg\" width=1000px/&gt;</td>\n",
       "    </tr>\n",
       "    <tr>\n",
       "      <th>19</th>\n",
       "      <td>19</td>\n",
       "      <td></td>\n",
       "      <td>&lt;img src=\"img/primary_windspeed/scatter1/19.jpg\" width=250px/&gt;</td>\n",
       "      <td>&lt;img src=\"img/primary_windspeed/trend1/19.jpg\" width=1000px/&gt;</td>\n",
       "      <td>&lt;img src=\"img/primary_windspeed/trend2/19.jpg\" width=1000px/&gt;</td>\n",
       "    </tr>\n",
       "    <tr>\n",
       "      <th>20</th>\n",
       "      <td>20</td>\n",
       "      <td></td>\n",
       "      <td>&lt;img src=\"img/primary_windspeed/scatter1/20.jpg\" width=250px/&gt;</td>\n",
       "      <td>&lt;img src=\"img/primary_windspeed/trend1/20.jpg\" width=1000px/&gt;</td>\n",
       "      <td>&lt;img src=\"img/primary_windspeed/trend2/20.jpg\" width=1000px/&gt;</td>\n",
       "    </tr>\n",
       "    <tr>\n",
       "      <th>21</th>\n",
       "      <td>21</td>\n",
       "      <td></td>\n",
       "      <td>&lt;img src=\"img/primary_windspeed/scatter1/21.jpg\" width=250px/&gt;</td>\n",
       "      <td>&lt;img src=\"img/primary_windspeed/trend1/21.jpg\" width=1000px/&gt;</td>\n",
       "      <td>&lt;img src=\"img/primary_windspeed/trend2/21.jpg\" width=1000px/&gt;</td>\n",
       "    </tr>\n",
       "    <tr>\n",
       "      <th>22</th>\n",
       "      <td>22</td>\n",
       "      <td></td>\n",
       "      <td>&lt;img src=\"img/primary_windspeed/scatter1/22.jpg\" width=250px/&gt;</td>\n",
       "      <td>&lt;img src=\"img/primary_windspeed/trend1/22.jpg\" width=1000px/&gt;</td>\n",
       "      <td>&lt;img src=\"img/primary_windspeed/trend2/22.jpg\" width=1000px/&gt;</td>\n",
       "    </tr>\n",
       "    <tr>\n",
       "      <th>23</th>\n",
       "      <td>23</td>\n",
       "      <td></td>\n",
       "      <td>&lt;img src=\"img/primary_windspeed/scatter1/23.jpg\" width=250px/&gt;</td>\n",
       "      <td>&lt;img src=\"img/primary_windspeed/trend1/23.jpg\" width=1000px/&gt;</td>\n",
       "      <td>&lt;img src=\"img/primary_windspeed/trend2/23.jpg\" width=1000px/&gt;</td>\n",
       "    </tr>\n",
       "    <tr>\n",
       "      <th>24</th>\n",
       "      <td>24</td>\n",
       "      <td></td>\n",
       "      <td>&lt;img src=\"img/primary_windspeed/scatter1/24.jpg\" width=250px/&gt;</td>\n",
       "      <td>&lt;img src=\"img/primary_windspeed/trend1/24.jpg\" width=1000px/&gt;</td>\n",
       "      <td>&lt;img src=\"img/primary_windspeed/trend2/24.jpg\" width=1000px/&gt;</td>\n",
       "    </tr>\n",
       "  </tbody>\n",
       "</table>\n",
       "</div>"
      ],
      "text/plain": [
       "    Event id observation  \\\n",
       "0   0                      \n",
       "1   1                      \n",
       "2   2         ,正常,部分偏下     \n",
       "3   3         ,正常,部分偏下     \n",
       "4   4         ,正常,部分偏下     \n",
       "5   5         ,正常,部分偏下     \n",
       "6   6                      \n",
       "7   7                      \n",
       "8   8                      \n",
       "9   9                      \n",
       "10  10                     \n",
       "11  11                     \n",
       "12  12                     \n",
       "13  13                     \n",
       "14  14                     \n",
       "15  15                     \n",
       "16  16                     \n",
       "17  17                     \n",
       "18  18                     \n",
       "19  19                     \n",
       "20  20                     \n",
       "21  21                     \n",
       "22  22                     \n",
       "23  23                     \n",
       "24  24                     \n",
       "\n",
       "   power-wind_speed_scatter                                         \\\n",
       "0   <img src=\"img/primary_windspeed/scatter1/0.jpg\" width=250px/>    \n",
       "1   <img src=\"img/primary_windspeed/scatter1/1.jpg\" width=250px/>    \n",
       "2   <img src=\"img/primary_windspeed/scatter1/2.jpg\" width=250px/>    \n",
       "3   <img src=\"img/primary_windspeed/scatter1/3.jpg\" width=250px/>    \n",
       "4   <img src=\"img/primary_windspeed/scatter1/4.jpg\" width=250px/>    \n",
       "5   <img src=\"img/primary_windspeed/scatter1/5.jpg\" width=250px/>    \n",
       "6   <img src=\"img/primary_windspeed/scatter1/6.jpg\" width=250px/>    \n",
       "7   <img src=\"img/primary_windspeed/scatter1/7.jpg\" width=250px/>    \n",
       "8   <img src=\"img/primary_windspeed/scatter1/8.jpg\" width=250px/>    \n",
       "9   <img src=\"img/primary_windspeed/scatter1/9.jpg\" width=250px/>    \n",
       "10  <img src=\"img/primary_windspeed/scatter1/10.jpg\" width=250px/>   \n",
       "11  <img src=\"img/primary_windspeed/scatter1/11.jpg\" width=250px/>   \n",
       "12  <img src=\"img/primary_windspeed/scatter1/12.jpg\" width=250px/>   \n",
       "13  <img src=\"img/primary_windspeed/scatter1/13.jpg\" width=250px/>   \n",
       "14  <img src=\"img/primary_windspeed/scatter1/14.jpg\" width=250px/>   \n",
       "15  <img src=\"img/primary_windspeed/scatter1/15.jpg\" width=250px/>   \n",
       "16  <img src=\"img/primary_windspeed/scatter1/16.jpg\" width=250px/>   \n",
       "17  <img src=\"img/primary_windspeed/scatter1/17.jpg\" width=250px/>   \n",
       "18  <img src=\"img/primary_windspeed/scatter1/18.jpg\" width=250px/>   \n",
       "19  <img src=\"img/primary_windspeed/scatter1/19.jpg\" width=250px/>   \n",
       "20  <img src=\"img/primary_windspeed/scatter1/20.jpg\" width=250px/>   \n",
       "21  <img src=\"img/primary_windspeed/scatter1/21.jpg\" width=250px/>   \n",
       "22  <img src=\"img/primary_windspeed/scatter1/22.jpg\" width=250px/>   \n",
       "23  <img src=\"img/primary_windspeed/scatter1/23.jpg\" width=250px/>   \n",
       "24  <img src=\"img/primary_windspeed/scatter1/24.jpg\" width=250px/>   \n",
       "\n",
       "   trend1(datapoint)                                               \\\n",
       "0   <img src=\"img/primary_windspeed/trend1/0.jpg\" width=1000px/>    \n",
       "1   <img src=\"img/primary_windspeed/trend1/1.jpg\" width=1000px/>    \n",
       "2   <img src=\"img/primary_windspeed/trend1/2.jpg\" width=1000px/>    \n",
       "3   <img src=\"img/primary_windspeed/trend1/3.jpg\" width=1000px/>    \n",
       "4   <img src=\"img/primary_windspeed/trend1/4.jpg\" width=1000px/>    \n",
       "5   <img src=\"img/primary_windspeed/trend1/5.jpg\" width=1000px/>    \n",
       "6   <img src=\"img/primary_windspeed/trend1/6.jpg\" width=1000px/>    \n",
       "7   <img src=\"img/primary_windspeed/trend1/7.jpg\" width=1000px/>    \n",
       "8   <img src=\"img/primary_windspeed/trend1/8.jpg\" width=1000px/>    \n",
       "9   <img src=\"img/primary_windspeed/trend1/9.jpg\" width=1000px/>    \n",
       "10  <img src=\"img/primary_windspeed/trend1/10.jpg\" width=1000px/>   \n",
       "11  <img src=\"img/primary_windspeed/trend1/11.jpg\" width=1000px/>   \n",
       "12  <img src=\"img/primary_windspeed/trend1/12.jpg\" width=1000px/>   \n",
       "13  <img src=\"img/primary_windspeed/trend1/13.jpg\" width=1000px/>   \n",
       "14  <img src=\"img/primary_windspeed/trend1/14.jpg\" width=1000px/>   \n",
       "15  <img src=\"img/primary_windspeed/trend1/15.jpg\" width=1000px/>   \n",
       "16  <img src=\"img/primary_windspeed/trend1/16.jpg\" width=1000px/>   \n",
       "17  <img src=\"img/primary_windspeed/trend1/17.jpg\" width=1000px/>   \n",
       "18  <img src=\"img/primary_windspeed/trend1/18.jpg\" width=1000px/>   \n",
       "19  <img src=\"img/primary_windspeed/trend1/19.jpg\" width=1000px/>   \n",
       "20  <img src=\"img/primary_windspeed/trend1/20.jpg\" width=1000px/>   \n",
       "21  <img src=\"img/primary_windspeed/trend1/21.jpg\" width=1000px/>   \n",
       "22  <img src=\"img/primary_windspeed/trend1/22.jpg\" width=1000px/>   \n",
       "23  <img src=\"img/primary_windspeed/trend1/23.jpg\" width=1000px/>   \n",
       "24  <img src=\"img/primary_windspeed/trend1/24.jpg\" width=1000px/>   \n",
       "\n",
       "   trend(timestamp)                                                \n",
       "0   <img src=\"img/primary_windspeed/trend2/0.jpg\" width=1000px/>   \n",
       "1   <img src=\"img/primary_windspeed/trend2/1.jpg\" width=1000px/>   \n",
       "2   <img src=\"img/primary_windspeed/trend2/2.jpg\" width=1000px/>   \n",
       "3   <img src=\"img/primary_windspeed/trend2/3.jpg\" width=1000px/>   \n",
       "4   <img src=\"img/primary_windspeed/trend2/4.jpg\" width=1000px/>   \n",
       "5   <img src=\"img/primary_windspeed/trend2/5.jpg\" width=1000px/>   \n",
       "6   <img src=\"img/primary_windspeed/trend2/6.jpg\" width=1000px/>   \n",
       "7   <img src=\"img/primary_windspeed/trend2/7.jpg\" width=1000px/>   \n",
       "8   <img src=\"img/primary_windspeed/trend2/8.jpg\" width=1000px/>   \n",
       "9   <img src=\"img/primary_windspeed/trend2/9.jpg\" width=1000px/>   \n",
       "10  <img src=\"img/primary_windspeed/trend2/10.jpg\" width=1000px/>  \n",
       "11  <img src=\"img/primary_windspeed/trend2/11.jpg\" width=1000px/>  \n",
       "12  <img src=\"img/primary_windspeed/trend2/12.jpg\" width=1000px/>  \n",
       "13  <img src=\"img/primary_windspeed/trend2/13.jpg\" width=1000px/>  \n",
       "14  <img src=\"img/primary_windspeed/trend2/14.jpg\" width=1000px/>  \n",
       "15  <img src=\"img/primary_windspeed/trend2/15.jpg\" width=1000px/>  \n",
       "16  <img src=\"img/primary_windspeed/trend2/16.jpg\" width=1000px/>  \n",
       "17  <img src=\"img/primary_windspeed/trend2/17.jpg\" width=1000px/>  \n",
       "18  <img src=\"img/primary_windspeed/trend2/18.jpg\" width=1000px/>  \n",
       "19  <img src=\"img/primary_windspeed/trend2/19.jpg\" width=1000px/>  \n",
       "20  <img src=\"img/primary_windspeed/trend2/20.jpg\" width=1000px/>  \n",
       "21  <img src=\"img/primary_windspeed/trend2/21.jpg\" width=1000px/>  \n",
       "22  <img src=\"img/primary_windspeed/trend2/22.jpg\" width=1000px/>  \n",
       "23  <img src=\"img/primary_windspeed/trend2/23.jpg\" width=1000px/>  \n",
       "24  <img src=\"img/primary_windspeed/trend2/24.jpg\" width=1000px/>  "
      ]
     },
     "execution_count": 341,
     "metadata": {},
     "output_type": "execute_result"
    }
   ],
   "source": [
    "table_df"
   ]
  },
  {
   "cell_type": "markdown",
   "metadata": {},
   "source": [
    "** Case-Parameter-FeatureSummary **"
   ]
  },
  {
   "cell_type": "code",
   "execution_count": 331,
   "metadata": {
    "scrolled": false
   },
   "outputs": [],
   "source": [
    "filename='case_management/CaseParameterFeatureSummary.html'\n",
    "\n",
    "path_scatter2='img/primary_windspeed/scatter2/'\n",
    "\n",
    "cols = ['wind_speed', 'generator_speed', 'power', 'wind_direction',\n",
    "        'wind_direction_mean', 'yaw_position', 'yaw_speed', 'pitch1_angle',\n",
    "        'pitch2_angle', 'pitch3_angle', 'pitch1_speed', 'pitch2_speed',\n",
    "        'pitch3_speed', 'pitch1_moto_tmp', 'pitch2_moto_tmp', 'pitch3_moto_tmp',\n",
    "        'acc_x', 'acc_y', 'environment_tmp', 'int_tmp', 'pitch1_ng5_tmp',\n",
    "        'pitch2_ng5_tmp', 'pitch3_ng5_tmp', 'pitch1_ng5_DC', 'pitch2_ng5_DC',\n",
    "        'pitch3_ng5_DC']\n",
    "\n",
    "\n",
    "table_df = pd.DataFrame({'Event id':range(25)})\n",
    "for x in cols:\n",
    "    table_df[x] = table_df['Event id'].apply(lambda e: '<img src=\"{path}{x}{e}.jpg\" width=150px/>'.format(path=path_scatter2, e=e, x=x) )\n",
    "\n",
    "table_df = insertObservation(table_df)\n",
    "\n",
    "dum = table_df.style.set_properties(**{'text-align': 'left'})\n",
    "htmlstr =generateHtml(table = table_df.to_html(escape=False,index=False), filename=filename)\n",
    "#display(HTML(htmlstr))"
   ]
  },
  {
   "cell_type": "markdown",
   "metadata": {},
   "source": [
    "** Event Feature Summary **\n",
    "  - performance management"
   ]
  },
  {
   "cell_type": "code",
   "execution_count": 281,
   "metadata": {
    "collapsed": true
   },
   "outputs": [],
   "source": [
    "?table_df.set_value"
   ]
  },
  {
   "cell_type": "code",
   "execution_count": 291,
   "metadata": {
    "collapsed": true
   },
   "outputs": [],
   "source": []
  },
  {
   "cell_type": "code",
   "execution_count": 292,
   "metadata": {
    "scrolled": true
   },
   "outputs": [],
   "source": []
  },
  {
   "cell_type": "markdown",
   "metadata": {},
   "source": [
    "** secondary paramater - ? **"
   ]
  },
  {
   "cell_type": "code",
   "execution_count": 271,
   "metadata": {
    "scrolled": true
   },
   "outputs": [
    {
     "data": {
      "text/html": [
       "<div>\n",
       "<style>\n",
       "    .dataframe thead tr:only-child th {\n",
       "        text-align: right;\n",
       "    }\n",
       "\n",
       "    .dataframe thead th {\n",
       "        text-align: left;\n",
       "    }\n",
       "\n",
       "    .dataframe tbody tr th {\n",
       "        vertical-align: top;\n",
       "    }\n",
       "</style>\n",
       "<table border=\"1\" class=\"dataframe\">\n",
       "  <thead>\n",
       "    <tr style=\"text-align: left;\">\n",
       "      <th></th>\n",
       "      <th>Event id</th>\n",
       "      <th>power-wind_speed_scatter</th>\n",
       "      <th>trend1(datapoint)</th>\n",
       "      <th>trend(timestamp)</th>\n",
       "      <th>test</th>\n",
       "    </tr>\n",
       "  </thead>\n",
       "  <tbody>\n",
       "    <tr>\n",
       "      <th>0</th>\n",
       "      <td>0</td>\n",
       "      <td>&lt;img src=\"img/primary_windspeed/scatter1/0.jpg\" width=250px/&gt;</td>\n",
       "      <td>&lt;img src=\"img/primary_windspeed/trend1/0.jpg\" width=1000px/&gt;</td>\n",
       "      <td>&lt;img src=\"img/primary_windspeed/trend2/0.jpg\" width=1000px/&gt;</td>\n",
       "      <td></td>\n",
       "    </tr>\n",
       "    <tr>\n",
       "      <th>1</th>\n",
       "      <td>1</td>\n",
       "      <td>&lt;img src=\"img/primary_windspeed/scatter1/1.jpg\" width=250px/&gt;</td>\n",
       "      <td>&lt;img src=\"img/primary_windspeed/trend1/1.jpg\" width=1000px/&gt;</td>\n",
       "      <td>&lt;img src=\"img/primary_windspeed/trend2/1.jpg\" width=1000px/&gt;</td>\n",
       "      <td></td>\n",
       "    </tr>\n",
       "    <tr>\n",
       "      <th>2</th>\n",
       "      <td>2</td>\n",
       "      <td>&lt;img src=\"img/primary_windspeed/scatter1/2.jpg\" width=250px/&gt;</td>\n",
       "      <td>&lt;img src=\"img/primary_windspeed/trend1/2.jpg\" width=1000px/&gt;</td>\n",
       "      <td>&lt;img src=\"img/primary_windspeed/trend2/2.jpg\" width=1000px/&gt;</td>\n",
       "      <td></td>\n",
       "    </tr>\n",
       "  </tbody>\n",
       "</table>\n",
       "</div>"
      ],
      "text/plain": [
       "   Event id power-wind_speed_scatter                                        \\\n",
       "0  0         <img src=\"img/primary_windspeed/scatter1/0.jpg\" width=250px/>   \n",
       "1  1         <img src=\"img/primary_windspeed/scatter1/1.jpg\" width=250px/>   \n",
       "2  2         <img src=\"img/primary_windspeed/scatter1/2.jpg\" width=250px/>   \n",
       "\n",
       "  trend1(datapoint)                                              \\\n",
       "0  <img src=\"img/primary_windspeed/trend1/0.jpg\" width=1000px/>   \n",
       "1  <img src=\"img/primary_windspeed/trend1/1.jpg\" width=1000px/>   \n",
       "2  <img src=\"img/primary_windspeed/trend1/2.jpg\" width=1000px/>   \n",
       "\n",
       "  trend(timestamp)                                              test  \n",
       "0  <img src=\"img/primary_windspeed/trend2/0.jpg\" width=1000px/>       \n",
       "1  <img src=\"img/primary_windspeed/trend2/1.jpg\" width=1000px/>       \n",
       "2  <img src=\"img/primary_windspeed/trend2/2.jpg\" width=1000px/>       "
      ]
     },
     "execution_count": 271,
     "metadata": {},
     "output_type": "execute_result"
    }
   ],
   "source": [
    "table_df[:3]"
   ]
  },
  {
   "cell_type": "markdown",
   "metadata": {},
   "source": [
    "***"
   ]
  },
  {
   "cell_type": "code",
   "execution_count": 28,
   "metadata": {
    "scrolled": true
   },
   "outputs": [
    {
     "data": {
      "text/html": [
       "\n",
       "<object type=\"text/html\" data=\"table.html\"  width=800 height=200></object>\n"
      ],
      "text/plain": [
       "<IPython.core.display.HTML object>"
      ]
     },
     "metadata": {},
     "output_type": "display_data"
    }
   ],
   "source": [
    "html=HTML('''\n",
    "<object type=\"text/html\" data=\"table.html\"  width=800 height=200></object>\n",
    "''')\n",
    "display(html)"
   ]
  },
  {
   "cell_type": "code",
   "execution_count": 352,
   "metadata": {
    "collapsed": true
   },
   "outputs": [],
   "source": [
    "fulla = [1,2,3,4,5,6,7,8,9,10]"
   ]
  },
  {
   "cell_type": "code",
   "execution_count": 358,
   "metadata": {},
   "outputs": [
    {
     "data": {
      "text/plain": [
       "'<table border=\"1\" class=\"dataframe\">\\n  <thead>\\n    <tr style=\"text-align: left;\">\\n      <th></th>\\n      <th>id</th>\\n      <th>files</th>\\n    </tr>\\n  </thead>\\n  <tbody>\\n    <tr>\\n      <th>0</th>\\n      <td>0</td>\\n      <td>&lt;a href=\"/CaseFeatureSummary.html\"&gt;CaseFeatureSummary.html&lt;/a&gt;</td>\\n    </tr>\\n    <tr>\\n      <th>1</th>\\n      <td>1</td>\\n      <td>&lt;a href=\"/CaseParameterFeatureSummary.html\"&gt;CaseParameterFeatureSummary.html&lt;/a&gt;</td>\\n    </tr>\\n    <tr>\\n      <th>2</th>\\n      <td>2</td>\\n      <td>&lt;a href=\"/index.html\"&gt;index.html&lt;/a&gt;</td>\\n    </tr>\\n    <tr>\\n      <th>3</th>\\n      <td>3</td>\\n      <td>&lt;a href=\"/ParameterFeatureSummary.html\"&gt;ParameterFeatureSummary.html&lt;/a&gt;</td>\\n    </tr>\\n    <tr>\\n      <th>4</th>\\n      <td>4</td>\\n      <td>&lt;a href=\"/table.html\"&gt;table.html&lt;/a&gt;</td>\\n    </tr>\\n  </tbody>\\n</table>'"
      ]
     },
     "execution_count": 358,
     "metadata": {},
     "output_type": "execute_result"
    }
   ],
   "source": [
    "table_df.to_html()"
   ]
  }
 ],
 "metadata": {
  "kernelspec": {
   "display_name": "Python [conda root]",
   "language": "python",
   "name": "conda-root-py"
  },
  "language_info": {
   "codemirror_mode": {
    "name": "ipython",
    "version": 3
   },
   "file_extension": ".py",
   "mimetype": "text/x-python",
   "name": "python",
   "nbconvert_exporter": "python",
   "pygments_lexer": "ipython3",
   "version": "3.5.3"
  }
 },
 "nbformat": 4,
 "nbformat_minor": 2
}
