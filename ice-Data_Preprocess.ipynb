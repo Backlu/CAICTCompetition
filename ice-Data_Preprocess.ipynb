{
 "cells": [
  {
   "cell_type": "markdown",
   "metadata": {},
   "source": [
    "# CAICT 風機結冰預測 - Data Preprocess"
   ]
  },
  {
   "cell_type": "markdown",
   "metadata": {},
   "source": [
    "2017/07/12  \n",
    "http://www.industrial-bigdata.com/competition/competitionAction!showDetail.action?competition.competitionId=1"
   ]
  },
  {
   "cell_type": "markdown",
   "metadata": {},
   "source": [
    "<a id='home'></a>\n",
    "## Outline\n",
    "[Load Data and Modules](#load)  \n",
    "[Load raw data](#rawdata)  \n",
    "[time to datetime](#datetime)    \n",
    "[風機參數與風機狀態的數據對應](#merge)  \n",
    "[標示無效數據](#invalid)  \n",
    "[save ready-for-analysis data to csv](#csv)"
   ]
  },
  {
   "cell_type": "markdown",
   "metadata": {},
   "source": [
    "### Load Data and Modules"
   ]
  },
  {
   "cell_type": "code",
   "execution_count": 1,
   "metadata": {
    "collapsed": true
   },
   "outputs": [],
   "source": [
    "%matplotlib inline\n",
    "import numpy as np\n",
    "import pandas as pd\n",
    "import datetime\n",
    "import os\n",
    "import sys\n",
    "import lzma\n",
    "import pickle\n",
    "import csv\n",
    "from IPython.core.interactiveshell import InteractiveShell\n",
    "pd.set_option('display.max_columns', None)\n",
    "InteractiveShell.ast_node_interactivity = \"all\""
   ]
  },
  {
   "cell_type": "code",
   "execution_count": 2,
   "metadata": {
    "collapsed": true
   },
   "outputs": [],
   "source": [
    "def timerangeCheck(t, start, end):\n",
    "    return (t>=start) & (t<=end)\n",
    " \n",
    "def updateProgress(msg):\n",
    "    sys.stdout.write('\\r')\n",
    "    sys.stdout.write(msg)\n",
    "    sys.stdout.flush()\n"
   ]
  },
  {
   "cell_type": "markdown",
   "metadata": {},
   "source": [
    "<a id='rawdata'></a>\n",
    "** Load raw data ** "
   ]
  },
  {
   "cell_type": "code",
   "execution_count": 3,
   "metadata": {
    "collapsed": true
   },
   "outputs": [],
   "source": [
    "data_M15 = pd.read_csv('data/ice1/train/15/15_data.csv')\n",
    "normlabel_M15 = pd.read_csv('data/ice1/train/15/15_normalInfo.csv')\n",
    "abnormlabel_M15 = pd.read_csv('data/ice1/train/15/15_failureInfo.csv')\n",
    "\n",
    "data_M21 = pd.read_csv('data/ice1/train/21/21_data.csv')\n",
    "normlabel_M21 = pd.read_csv('data/ice1/train/21/21_normalInfo.csv')\n",
    "abnormlabel_M21 = pd.read_csv('data/ice1/train/21/21_failureInfo.csv')\n",
    "\n",
    "data_M08 = pd.read_csv('data/ice1/test/08/08_data.csv')\n",
    "\n",
    "column_desc=pd.read_csv('doc/columndesc.csv')"
   ]
  },
  {
   "cell_type": "markdown",
   "metadata": {},
   "source": [
    "- ** 15號風機異常時間 **"
   ]
  },
  {
   "cell_type": "code",
   "execution_count": 16,
   "metadata": {
    "collapsed": true
   },
   "outputs": [],
   "source": [
    "#abnormlabel_M15"
   ]
  },
  {
   "cell_type": "markdown",
   "metadata": {},
   "source": [
    "- ** 15號風機正常時間 **"
   ]
  },
  {
   "cell_type": "code",
   "execution_count": 5,
   "metadata": {
    "collapsed": true
   },
   "outputs": [],
   "source": [
    "#normlabel_M15"
   ]
  },
  {
   "cell_type": "markdown",
   "metadata": {},
   "source": [
    "<a id='把time轉成datetime'></a>\n",
    "** 把time轉成datetime, 方便後續的時間比對操作. ** "
   ]
  },
  {
   "cell_type": "code",
   "execution_count": 5,
   "metadata": {
    "collapsed": true
   },
   "outputs": [],
   "source": [
    "data_M15['time']=pd.to_datetime(data_M15['time'])\n",
    "data_M15 = data_M15.sort_values(by='time')\n",
    "data_M15['timestamp'] = data_M15['time'].apply(lambda x: x.timestamp())\n",
    "\n",
    "data_M21['time']=pd.to_datetime(data_M21['time'])\n",
    "data_M21 = data_M21.sort_values(by='time')\n",
    "data_M21['timestamp'] = data_M21['time'].apply(lambda x: x.timestamp())\n",
    "\n",
    "normlabel_M15['startTime']=pd.to_datetime(normlabel_M15['startTime'])\n",
    "normlabel_M15['endTime']=pd.to_datetime(normlabel_M15['endTime'])\n",
    "normlabel_M15 = normlabel_M15.sort_values(by='startTime')\n",
    "\n",
    "normlabel_M21['startTime']=pd.to_datetime(normlabel_M21['startTime'])\n",
    "normlabel_M21['endTime']=pd.to_datetime(normlabel_M21['endTime'])\n",
    "normlabel_M21 = normlabel_M21.sort_values(by='startTime')\n",
    "\n",
    "abnormlabel_M15['startTime']=pd.to_datetime(abnormlabel_M15['startTime'])\n",
    "abnormlabel_M15['endTime']=pd.to_datetime(abnormlabel_M15['endTime'])\n",
    "abnormlabel_M15 = abnormlabel_M15.sort_values(by='startTime')\n",
    "\n",
    "abnormlabel_M21['startTime']=pd.to_datetime(abnormlabel_M21['startTime'])\n",
    "abnormlabel_M21['endTime']=pd.to_datetime(abnormlabel_M21['endTime'])\n",
    "abnormlabel_M21 = abnormlabel_M21.sort_values(by='startTime')"
   ]
  },
  {
   "cell_type": "markdown",
   "metadata": {},
   "source": [
    "<a id='merge'></a>\n",
    "** 風機參數與風機狀態的數據對應 ** "
   ]
  },
  {
   "cell_type": "code",
   "execution_count": 6,
   "metadata": {},
   "outputs": [
    {
     "name": "stdout",
     "output_type": "stream",
     "text": [
      "2min 29s ± 0 ns per loop (mean ± std. dev. of 1 run, 1 loop each)\n"
     ]
    },
    {
     "data": {
      "text/plain": [
       "<TimeitResult : 2min 29s ± 0 ns per loop (mean ± std. dev. of 1 run, 1 loop each)>"
      ]
     },
     "execution_count": 6,
     "metadata": {},
     "output_type": "execute_result"
    }
   ],
   "source": [
    "%%timeit -n 1 -r 1 -o\n",
    "for i in range(abnormlabel_M15.shape[0]):\n",
    "    startTime, endTime = abnormlabel_M15.iloc[i]\n",
    "    subset=data_M15['time'].apply(lambda x: timerangeCheck(x,startTime,endTime))\n",
    "    data_M15.loc[subset, 'label']=1\n",
    "\n",
    "for i in range(normlabel_M15.shape[0]):\n",
    "    startTime, endTime = normlabel_M15.iloc[i]\n",
    "    subset=data_M15['time'].apply(lambda x: timerangeCheck(x,startTime,endTime))\n",
    "    data_M15.loc[subset, 'label']=0\n",
    "    \n",
    "for i in range(abnormlabel_M21.shape[0]):\n",
    "    startTime, endTime = abnormlabel_M21.iloc[i]\n",
    "    subset=data_M21['time'].apply(lambda x: timerangeCheck(x,startTime,endTime))\n",
    "    data_M21.loc[subset, 'label']=1\n",
    "\n",
    "for i in range(normlabel_M21.shape[0]):\n",
    "    startTime, endTime = normlabel_M21.iloc[i]\n",
    "    subset=data_M21['time'].apply(lambda x: timerangeCheck(x,startTime,endTime))\n",
    "    data_M21.loc[subset, 'label']=0\n",
    "    \n",
    "    "
   ]
  },
  {
   "cell_type": "markdown",
   "metadata": {},
   "source": [
    "<a id='invalid'></a>\n",
    "** 標示無效數據 **  \n",
    "(风机正常时间区间和风机结冰时间区间均不覆盖的数据视为无效数据)"
   ]
  },
  {
   "cell_type": "code",
   "execution_count": 8,
   "metadata": {
    "collapsed": true
   },
   "outputs": [],
   "source": [
    "data_M15 = data_M15.fillna(2)\n",
    "data_M21 = data_M21.fillna(2)"
   ]
  },
  {
   "cell_type": "markdown",
   "metadata": {},
   "source": [
    "<a id='csv'></a>\n",
    "** save read-to-analysis data to csv **"
   ]
  },
  {
   "cell_type": "code",
   "execution_count": 9,
   "metadata": {
    "collapsed": true
   },
   "outputs": [],
   "source": [
    "data_M15.to_csv('data/goodformat_15_FRESH.csv',index=False)\n",
    "data_M21.to_csv('data/goodformat_21_FRESH.csv',index=False)"
   ]
  },
  {
   "cell_type": "markdown",
   "metadata": {},
   "source": [
    "[home](#home)"
   ]
  },
  {
   "cell_type": "markdown",
   "metadata": {},
   "source": [
    "***"
   ]
  }
 ],
 "metadata": {
  "kernelspec": {
   "display_name": "Python [conda root]",
   "language": "python",
   "name": "conda-root-py"
  },
  "language_info": {
   "codemirror_mode": {
    "name": "ipython",
    "version": 3
   },
   "file_extension": ".py",
   "mimetype": "text/x-python",
   "name": "python",
   "nbconvert_exporter": "python",
   "pygments_lexer": "ipython3",
   "version": "3.5.3"
  }
 },
 "nbformat": 4,
 "nbformat_minor": 2
}
