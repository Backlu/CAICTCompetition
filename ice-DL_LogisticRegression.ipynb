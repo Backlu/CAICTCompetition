{
 "cells": [
  {
   "cell_type": "markdown",
   "metadata": {},
   "source": [
    "# CAICT 風機結冰預測 - DL-Logistic Regression"
   ]
  },
  {
   "cell_type": "markdown",
   "metadata": {},
   "source": [
    "2017/07/12  \n",
    "http://www.industrial-bigdata.com/competition/competitionAction!showDetail.action?competition.competitionId=1"
   ]
  },
  {
   "cell_type": "markdown",
   "metadata": {},
   "source": [
    "# **1. Load Data and Modules**"
   ]
  },
  {
   "cell_type": "markdown",
   "metadata": {},
   "source": [
    "**Load Python modules:**"
   ]
  },
  {
   "cell_type": "code",
   "execution_count": 1,
   "metadata": {
    "collapsed": true
   },
   "outputs": [],
   "source": [
    "%matplotlib inline\n",
    "import numpy as np\n",
    "import pandas as pd\n",
    "import datetime\n",
    "import pandas as pd\n",
    "import os\n",
    "import sys\n",
    "from PIL import Image\n",
    "import numpy as np\n",
    "import lzma\n",
    "import pickle\n",
    "from IPython.display import display\n",
    "import tensorflow as tf\n",
    "from tensorflow.contrib.tensorboard.plugins import projector\n",
    "import shutil\n",
    "import csv\n",
    "import sklearn as sk\n",
    "from sklearn.metrics import precision_score\n",
    "import matplotlib.pyplot as plt\n",
    "import matplotlib.gridspec as gridspec\n",
    "import seaborn as sns\n",
    "from pylab import *\n",
    "from IPython.core.interactiveshell import InteractiveShell\n",
    "from imblearn.under_sampling import TomekLinks\n",
    "from imblearn.over_sampling import RandomOverSampler\n",
    "from imblearn.under_sampling import RandomUnderSampler\n",
    "from imblearn.over_sampling import SMOTE\n",
    "\n",
    "pd.set_option('display.max_columns', None)\n",
    "InteractiveShell.ast_node_interactivity = \"all\""
   ]
  },
  {
   "cell_type": "code",
   "execution_count": 2,
   "metadata": {
    "collapsed": true
   },
   "outputs": [],
   "source": [
    "def timerangeCheck(t, start, end):\n",
    "    return (t>=start) & (t<=end)\n",
    "\n",
    "def variable_summaries(var, name):  \n",
    "    with tf.name_scope('summaries_'+str(name)):  \n",
    "        mean = tf.reduce_mean(var)  \n",
    "        tf.summary.scalar('mean', mean)  \n",
    "        stddev = tf.sqrt(tf.reduce_mean(tf.square(var - mean)))  \n",
    "        tf.summary.scalar('stddev', stddev)  \n",
    "        tf.summary.scalar('max', tf.reduce_max(var))  \n",
    "        tf.summary.scalar('min', tf.reduce_min(var))  \n",
    "        tf.summary.histogram('histogram', var)  \n",
    "        \n",
    "def updateProgress(msg):\n",
    "    sys.stdout.write('\\r')\n",
    "    sys.stdout.write(msg)\n",
    "    sys.stdout.flush()\n",
    "    \n",
    "def myscore(true_y, pred_y):\n",
    "    n,p =sk.metrics.confusion_matrix(true_y, pred_y)\n",
    "    tn = n[0]\n",
    "    fp = n[1]\n",
    "    fn = p[0]\n",
    "    tp = p[1]\n",
    "    #print('tn:',tn,'fp:',fp,'fn:',fn,'fp:',fp)\n",
    "    score = 1- 0.5*(fp/(tn+fp))- 0.5*(fn/(fn+tp)) \n",
    "    #print('score',score)\n",
    "    return score, {'tn':tn,'fp':fp,'fn':fn,'tp':tp}\n"
   ]
  },
  {
   "cell_type": "markdown",
   "metadata": {},
   "source": [
    "**Load input data.** "
   ]
  },
  {
   "cell_type": "code",
   "execution_count": 3,
   "metadata": {
    "collapsed": true
   },
   "outputs": [],
   "source": [
    "def load_resample_data(id, remove_unknown=True, split_case=20):\n",
    "    data_resample_15 = pd.read_csv('data/resample_data_15.csv')\n",
    "    if remove_unknown:\n",
    "        data_resample_15 = data_resample_15[data_resample_15['label']!=2]\n",
    "    \n",
    "    train_resample_15 = data_resample_15[data_resample_15['event']<split_case]\n",
    "    valid_resample_15 = data_resample_15[data_resample_15['event']>=split_case]\n",
    "    train_X = train_resample_15.drop(['label','time','group','timestamp','event'], axis=1).values\n",
    "    train_y = train_resample_15['label'].values.astype(int)\n",
    "    valid_X = valid_resample_15.drop(['label','time','group','timestamp','event'], axis=1).values\n",
    "    valid_y = valid_resample_15['label'].values.astype(int)\n",
    "    train_Y = np.eye(2)[train_y]\n",
    "    valid_Y = np.eye(2)[valid_y]\n",
    "    \n",
    "    train_abnormal = train_resample_15[train_resample_15['label']==1]\n",
    "    train_normal = train_resample_15[train_resample_15['label']==0]\n",
    "    train_desc = '正常:{i} ({j:.2f} percent), 結冰:{k:} ({m:.2f} percent), Total:{n}'.format(i=len(train_normal), j=len(train_normal)/len(train_resample_15),k=len(train_abnormal),m=len(train_abnormal)/len(train_resample_15), n=len(train_resample_15))\n",
    "    \n",
    "    valid_abnormal = valid_resample_15[valid_resample_15['label']==1]\n",
    "    valid_normal = valid_resample_15[valid_resample_15['label']==0]\n",
    "    valid_desc = '正常:{i} ({j:.2f} percent), 結冰:{k:} ({m:.2f} percent), Total:{n}'.format(i=len(valid_normal), j=len(valid_normal)/len(valid_resample_15),k=len(valid_abnormal),m=len(valid_abnormal)/len(valid_resample_15), n=len(valid_resample_15))\n",
    "    \n",
    "    return train_X, train_Y, train_y, valid_X, valid_Y, valid_y, train_desc, valid_desc\n",
    "\n",
    "def load_raw_data(id,remove_unknown=True):\n",
    "    data_raw_21 = pd.read_csv('data/goodformat_21.csv')\n",
    "    data_raw_21 = data_raw_21.dropna()\n",
    "    \n",
    "    data_X = data_raw_21.drop(['label','time','group','timestamp'], axis=1).values\n",
    "    data_y = data_raw_21['label'].values.astype(int)\n",
    "    data_Y = np.eye(2)[data_y]\n",
    "    \n",
    "    data_abnormal = data_raw_21[data_raw_21['label']==1]\n",
    "    data_normal = data_raw_21[data_raw_21['label']==0]\n",
    "    data_desc = '正常:{i} ({j:.2f} percent), 結冰:{k:} ({m:.2f} percent), Total:{n}'.format(i=len(data_normal), j=len(data_normal)/len(data_raw_21),k=len(data_abnormal),m=len(data_abnormal)/len(data_raw_21), n=len(data_raw_21))\n",
    "    \n",
    "    return data_X, data_Y, data_y, data_desc\n",
    "\n",
    "def load_test_data():\n",
    "    test_data = pd.read_csv('data/ice1/test/08/08_data.csv')\n",
    "    test_timeidx = test_data['time']\n",
    "    tmp = test_data.drop(['time','group'], axis=1)\n",
    "    test_X = tmp.values\n",
    "    return test_X, test_timeidx\n",
    "\n",
    "    "
   ]
  },
  {
   "cell_type": "code",
   "execution_count": 4,
   "metadata": {
    "collapsed": true
   },
   "outputs": [],
   "source": [
    "train_X, train_Y, train_y, valid_X, valid_Y, valid_y, train_desc, valid_desc = load_resample_data(15)\n",
    "valid_21_X, valid_21_Y, valid_21_y, valid_21_desc= load_raw_data(21)\n",
    "test_X,test_timeidx = load_test_data()"
   ]
  },
  {
   "cell_type": "markdown",
   "metadata": {},
   "source": [
    "# 2. Initial Exploration\n",
    "**Look at your data in as many different ways as possible.**"
   ]
  },
  {
   "cell_type": "markdown",
   "metadata": {},
   "source": [
    "**数据描述**"
   ]
  },
  {
   "cell_type": "markdown",
   "metadata": {},
   "source": [
    "** Training Data 風機狀態正常(0)/異常(1)比例 **"
   ]
  },
  {
   "cell_type": "code",
   "execution_count": 5,
   "metadata": {},
   "outputs": [
    {
     "name": "stdout",
     "output_type": "stream",
     "text": [
      "正常:35339 (0.61 percent), 結冰:22179 (0.39 percent), Total:57518\n"
     ]
    },
    {
     "data": {
      "text/html": [
       "<div>\n",
       "<style>\n",
       "    .dataframe thead tr:only-child th {\n",
       "        text-align: right;\n",
       "    }\n",
       "\n",
       "    .dataframe thead th {\n",
       "        text-align: left;\n",
       "    }\n",
       "\n",
       "    .dataframe tbody tr th {\n",
       "        vertical-align: top;\n",
       "    }\n",
       "</style>\n",
       "<table border=\"1\" class=\"dataframe\">\n",
       "  <thead>\n",
       "    <tr style=\"text-align: right;\">\n",
       "      <th></th>\n",
       "      <th>0</th>\n",
       "      <th>1</th>\n",
       "      <th>2</th>\n",
       "      <th>3</th>\n",
       "      <th>4</th>\n",
       "      <th>5</th>\n",
       "      <th>6</th>\n",
       "      <th>7</th>\n",
       "      <th>8</th>\n",
       "      <th>9</th>\n",
       "      <th>10</th>\n",
       "      <th>11</th>\n",
       "      <th>12</th>\n",
       "      <th>13</th>\n",
       "      <th>14</th>\n",
       "      <th>15</th>\n",
       "      <th>16</th>\n",
       "      <th>17</th>\n",
       "      <th>18</th>\n",
       "      <th>19</th>\n",
       "      <th>20</th>\n",
       "      <th>21</th>\n",
       "      <th>22</th>\n",
       "      <th>23</th>\n",
       "      <th>24</th>\n",
       "      <th>25</th>\n",
       "    </tr>\n",
       "  </thead>\n",
       "  <tbody>\n",
       "    <tr>\n",
       "      <th>0</th>\n",
       "      <td>2.568083</td>\n",
       "      <td>1.236890</td>\n",
       "      <td>2.483755</td>\n",
       "      <td>1.079588</td>\n",
       "      <td>0.218807</td>\n",
       "      <td>-0.614620</td>\n",
       "      <td>-0.213382</td>\n",
       "      <td>2.280000</td>\n",
       "      <td>2.244444</td>\n",
       "      <td>2.280000</td>\n",
       "      <td>-0.20</td>\n",
       "      <td>-0.16</td>\n",
       "      <td>-0.24</td>\n",
       "      <td>0.010</td>\n",
       "      <td>-0.139</td>\n",
       "      <td>-0.139</td>\n",
       "      <td>1.225767</td>\n",
       "      <td>0.061109</td>\n",
       "      <td>-0.200349</td>\n",
       "      <td>-0.422974</td>\n",
       "      <td>1.090769</td>\n",
       "      <td>1.061538</td>\n",
       "      <td>0.952308</td>\n",
       "      <td>0.64</td>\n",
       "      <td>2.84</td>\n",
       "      <td>0.16</td>\n",
       "    </tr>\n",
       "    <tr>\n",
       "      <th>1</th>\n",
       "      <td>2.405812</td>\n",
       "      <td>1.263480</td>\n",
       "      <td>2.495777</td>\n",
       "      <td>1.034703</td>\n",
       "      <td>1.482811</td>\n",
       "      <td>-0.614620</td>\n",
       "      <td>-0.178499</td>\n",
       "      <td>2.057778</td>\n",
       "      <td>2.031111</td>\n",
       "      <td>2.048889</td>\n",
       "      <td>0.24</td>\n",
       "      <td>0.36</td>\n",
       "      <td>0.12</td>\n",
       "      <td>0.040</td>\n",
       "      <td>-0.120</td>\n",
       "      <td>-0.120</td>\n",
       "      <td>1.225767</td>\n",
       "      <td>0.061109</td>\n",
       "      <td>-0.184568</td>\n",
       "      <td>-0.422974</td>\n",
       "      <td>1.076923</td>\n",
       "      <td>1.046154</td>\n",
       "      <td>0.952308</td>\n",
       "      <td>-0.36</td>\n",
       "      <td>0.28</td>\n",
       "      <td>0.00</td>\n",
       "    </tr>\n",
       "    <tr>\n",
       "      <th>2</th>\n",
       "      <td>2.402124</td>\n",
       "      <td>1.286747</td>\n",
       "      <td>2.485770</td>\n",
       "      <td>1.076135</td>\n",
       "      <td>1.320694</td>\n",
       "      <td>-0.591323</td>\n",
       "      <td>0.344757</td>\n",
       "      <td>2.297778</td>\n",
       "      <td>2.271111</td>\n",
       "      <td>2.271111</td>\n",
       "      <td>2.40</td>\n",
       "      <td>2.16</td>\n",
       "      <td>2.20</td>\n",
       "      <td>0.080</td>\n",
       "      <td>-0.100</td>\n",
       "      <td>-0.089</td>\n",
       "      <td>1.225767</td>\n",
       "      <td>0.061109</td>\n",
       "      <td>-0.200349</td>\n",
       "      <td>-0.422974</td>\n",
       "      <td>1.076923</td>\n",
       "      <td>1.046154</td>\n",
       "      <td>0.952308</td>\n",
       "      <td>-0.84</td>\n",
       "      <td>0.20</td>\n",
       "      <td>0.04</td>\n",
       "    </tr>\n",
       "    <tr>\n",
       "      <th>3</th>\n",
       "      <td>2.446380</td>\n",
       "      <td>1.263480</td>\n",
       "      <td>2.497769</td>\n",
       "      <td>1.036429</td>\n",
       "      <td>1.292830</td>\n",
       "      <td>-0.591323</td>\n",
       "      <td>0.240106</td>\n",
       "      <td>2.204444</td>\n",
       "      <td>2.186667</td>\n",
       "      <td>2.204444</td>\n",
       "      <td>1.16</td>\n",
       "      <td>0.84</td>\n",
       "      <td>0.68</td>\n",
       "      <td>0.100</td>\n",
       "      <td>-0.069</td>\n",
       "      <td>-0.060</td>\n",
       "      <td>1.225767</td>\n",
       "      <td>-1.209522</td>\n",
       "      <td>-0.200349</td>\n",
       "      <td>-0.422974</td>\n",
       "      <td>1.076923</td>\n",
       "      <td>1.046154</td>\n",
       "      <td>0.936923</td>\n",
       "      <td>0.44</td>\n",
       "      <td>1.88</td>\n",
       "      <td>0.12</td>\n",
       "    </tr>\n",
       "    <tr>\n",
       "      <th>4</th>\n",
       "      <td>2.420564</td>\n",
       "      <td>1.286747</td>\n",
       "      <td>2.497769</td>\n",
       "      <td>1.003628</td>\n",
       "      <td>0.370791</td>\n",
       "      <td>-0.614620</td>\n",
       "      <td>-0.318034</td>\n",
       "      <td>2.528889</td>\n",
       "      <td>2.511111</td>\n",
       "      <td>2.502222</td>\n",
       "      <td>1.44</td>\n",
       "      <td>1.48</td>\n",
       "      <td>1.48</td>\n",
       "      <td>0.139</td>\n",
       "      <td>-0.040</td>\n",
       "      <td>-0.050</td>\n",
       "      <td>1.225767</td>\n",
       "      <td>0.061109</td>\n",
       "      <td>-0.200349</td>\n",
       "      <td>-0.422974</td>\n",
       "      <td>1.061538</td>\n",
       "      <td>1.029231</td>\n",
       "      <td>0.936923</td>\n",
       "      <td>0.48</td>\n",
       "      <td>2.44</td>\n",
       "      <td>0.20</td>\n",
       "    </tr>\n",
       "  </tbody>\n",
       "</table>\n",
       "</div>"
      ],
      "text/plain": [
       "         0         1         2         3         4         5         6   \\\n",
       "0  2.568083  1.236890  2.483755  1.079588  0.218807 -0.614620 -0.213382   \n",
       "1  2.405812  1.263480  2.495777  1.034703  1.482811 -0.614620 -0.178499   \n",
       "2  2.402124  1.286747  2.485770  1.076135  1.320694 -0.591323  0.344757   \n",
       "3  2.446380  1.263480  2.497769  1.036429  1.292830 -0.591323  0.240106   \n",
       "4  2.420564  1.286747  2.497769  1.003628  0.370791 -0.614620 -0.318034   \n",
       "\n",
       "         7         8         9     10    11    12     13     14     15  \\\n",
       "0  2.280000  2.244444  2.280000 -0.20 -0.16 -0.24  0.010 -0.139 -0.139   \n",
       "1  2.057778  2.031111  2.048889  0.24  0.36  0.12  0.040 -0.120 -0.120   \n",
       "2  2.297778  2.271111  2.271111  2.40  2.16  2.20  0.080 -0.100 -0.089   \n",
       "3  2.204444  2.186667  2.204444  1.16  0.84  0.68  0.100 -0.069 -0.060   \n",
       "4  2.528889  2.511111  2.502222  1.44  1.48  1.48  0.139 -0.040 -0.050   \n",
       "\n",
       "         16        17        18        19        20        21        22    23  \\\n",
       "0  1.225767  0.061109 -0.200349 -0.422974  1.090769  1.061538  0.952308  0.64   \n",
       "1  1.225767  0.061109 -0.184568 -0.422974  1.076923  1.046154  0.952308 -0.36   \n",
       "2  1.225767  0.061109 -0.200349 -0.422974  1.076923  1.046154  0.952308 -0.84   \n",
       "3  1.225767 -1.209522 -0.200349 -0.422974  1.076923  1.046154  0.936923  0.44   \n",
       "4  1.225767  0.061109 -0.200349 -0.422974  1.061538  1.029231  0.936923  0.48   \n",
       "\n",
       "     24    25  \n",
       "0  2.84  0.16  \n",
       "1  0.28  0.00  \n",
       "2  0.20  0.04  \n",
       "3  1.88  0.12  \n",
       "4  2.44  0.20  "
      ]
     },
     "execution_count": 5,
     "metadata": {},
     "output_type": "execute_result"
    }
   ],
   "source": [
    "print(train_desc)\n",
    "pd.DataFrame(train_X)[:5]"
   ]
  },
  {
   "cell_type": "markdown",
   "metadata": {},
   "source": [
    "** Validation Data 風機狀態正常(0)/異常(1)比例 **"
   ]
  },
  {
   "cell_type": "code",
   "execution_count": 6,
   "metadata": {},
   "outputs": [
    {
     "name": "stdout",
     "output_type": "stream",
     "text": [
      "正常:7680 (0.64 percent), 結冰:4315 (0.36 percent), Total:11995\n"
     ]
    },
    {
     "data": {
      "text/html": [
       "<div>\n",
       "<style>\n",
       "    .dataframe thead tr:only-child th {\n",
       "        text-align: right;\n",
       "    }\n",
       "\n",
       "    .dataframe thead th {\n",
       "        text-align: left;\n",
       "    }\n",
       "\n",
       "    .dataframe tbody tr th {\n",
       "        vertical-align: top;\n",
       "    }\n",
       "</style>\n",
       "<table border=\"1\" class=\"dataframe\">\n",
       "  <thead>\n",
       "    <tr style=\"text-align: right;\">\n",
       "      <th></th>\n",
       "      <th>0</th>\n",
       "      <th>1</th>\n",
       "      <th>2</th>\n",
       "      <th>3</th>\n",
       "      <th>4</th>\n",
       "      <th>5</th>\n",
       "      <th>6</th>\n",
       "      <th>7</th>\n",
       "      <th>8</th>\n",
       "      <th>9</th>\n",
       "      <th>10</th>\n",
       "      <th>11</th>\n",
       "      <th>12</th>\n",
       "      <th>13</th>\n",
       "      <th>14</th>\n",
       "      <th>15</th>\n",
       "      <th>16</th>\n",
       "      <th>17</th>\n",
       "      <th>18</th>\n",
       "      <th>19</th>\n",
       "      <th>20</th>\n",
       "      <th>21</th>\n",
       "      <th>22</th>\n",
       "      <th>23</th>\n",
       "      <th>24</th>\n",
       "      <th>25</th>\n",
       "    </tr>\n",
       "  </thead>\n",
       "  <tbody>\n",
       "    <tr>\n",
       "      <th>0</th>\n",
       "      <td>-1.381729</td>\n",
       "      <td>-1.129659</td>\n",
       "      <td>-0.961232</td>\n",
       "      <td>-2.007138</td>\n",
       "      <td>-1.274441</td>\n",
       "      <td>2.679937</td>\n",
       "      <td>0.065687</td>\n",
       "      <td>0.208889</td>\n",
       "      <td>0.217778</td>\n",
       "      <td>0.204444</td>\n",
       "      <td>0.0</td>\n",
       "      <td>0.0</td>\n",
       "      <td>0.0</td>\n",
       "      <td>-1.989</td>\n",
       "      <td>-1.989</td>\n",
       "      <td>-1.96</td>\n",
       "      <td>0.10089</td>\n",
       "      <td>-1.209522</td>\n",
       "      <td>-2.218690</td>\n",
       "      <td>-1.952731</td>\n",
       "      <td>0.629231</td>\n",
       "      <td>0.569231</td>\n",
       "      <td>0.936923</td>\n",
       "      <td>1.28</td>\n",
       "      <td>1.76</td>\n",
       "      <td>0.68</td>\n",
       "    </tr>\n",
       "    <tr>\n",
       "      <th>1</th>\n",
       "      <td>-1.182579</td>\n",
       "      <td>-1.166221</td>\n",
       "      <td>-0.939204</td>\n",
       "      <td>-1.908736</td>\n",
       "      <td>-0.197884</td>\n",
       "      <td>2.720707</td>\n",
       "      <td>0.937780</td>\n",
       "      <td>0.208889</td>\n",
       "      <td>0.217778</td>\n",
       "      <td>0.204444</td>\n",
       "      <td>0.0</td>\n",
       "      <td>0.0</td>\n",
       "      <td>0.0</td>\n",
       "      <td>-1.989</td>\n",
       "      <td>-1.989</td>\n",
       "      <td>-1.96</td>\n",
       "      <td>0.10089</td>\n",
       "      <td>0.061109</td>\n",
       "      <td>-2.202909</td>\n",
       "      <td>-1.973765</td>\n",
       "      <td>0.629231</td>\n",
       "      <td>0.569231</td>\n",
       "      <td>0.923077</td>\n",
       "      <td>-0.92</td>\n",
       "      <td>-0.64</td>\n",
       "      <td>0.36</td>\n",
       "    </tr>\n",
       "    <tr>\n",
       "      <th>2</th>\n",
       "      <td>-1.267402</td>\n",
       "      <td>-1.159574</td>\n",
       "      <td>-0.947219</td>\n",
       "      <td>-1.744732</td>\n",
       "      <td>-1.128790</td>\n",
       "      <td>2.714883</td>\n",
       "      <td>0.588943</td>\n",
       "      <td>0.208889</td>\n",
       "      <td>0.217778</td>\n",
       "      <td>0.204444</td>\n",
       "      <td>0.0</td>\n",
       "      <td>0.0</td>\n",
       "      <td>0.0</td>\n",
       "      <td>-1.989</td>\n",
       "      <td>-1.989</td>\n",
       "      <td>-1.96</td>\n",
       "      <td>0.10089</td>\n",
       "      <td>-1.209522</td>\n",
       "      <td>-2.202909</td>\n",
       "      <td>-1.952731</td>\n",
       "      <td>0.629231</td>\n",
       "      <td>0.552308</td>\n",
       "      <td>0.923077</td>\n",
       "      <td>-0.72</td>\n",
       "      <td>0.12</td>\n",
       "      <td>-0.52</td>\n",
       "    </tr>\n",
       "    <tr>\n",
       "      <th>3</th>\n",
       "      <td>-1.230522</td>\n",
       "      <td>-1.172869</td>\n",
       "      <td>-0.959240</td>\n",
       "      <td>-1.780985</td>\n",
       "      <td>-1.342834</td>\n",
       "      <td>2.726531</td>\n",
       "      <td>0.728478</td>\n",
       "      <td>0.208889</td>\n",
       "      <td>0.217778</td>\n",
       "      <td>0.204444</td>\n",
       "      <td>0.0</td>\n",
       "      <td>0.0</td>\n",
       "      <td>0.0</td>\n",
       "      <td>-1.989</td>\n",
       "      <td>-1.989</td>\n",
       "      <td>-1.96</td>\n",
       "      <td>0.10089</td>\n",
       "      <td>0.061109</td>\n",
       "      <td>-2.202909</td>\n",
       "      <td>-1.952731</td>\n",
       "      <td>0.629231</td>\n",
       "      <td>0.552308</td>\n",
       "      <td>0.923077</td>\n",
       "      <td>-0.60</td>\n",
       "      <td>0.52</td>\n",
       "      <td>-1.20</td>\n",
       "    </tr>\n",
       "    <tr>\n",
       "      <th>4</th>\n",
       "      <td>-1.208395</td>\n",
       "      <td>-1.172869</td>\n",
       "      <td>-0.967231</td>\n",
       "      <td>-1.708478</td>\n",
       "      <td>-0.171287</td>\n",
       "      <td>2.720707</td>\n",
       "      <td>0.414524</td>\n",
       "      <td>0.208889</td>\n",
       "      <td>0.217778</td>\n",
       "      <td>0.204444</td>\n",
       "      <td>0.0</td>\n",
       "      <td>0.0</td>\n",
       "      <td>0.0</td>\n",
       "      <td>-1.989</td>\n",
       "      <td>-1.989</td>\n",
       "      <td>-1.96</td>\n",
       "      <td>0.10089</td>\n",
       "      <td>0.061109</td>\n",
       "      <td>-2.218690</td>\n",
       "      <td>-1.952731</td>\n",
       "      <td>0.615385</td>\n",
       "      <td>0.552308</td>\n",
       "      <td>0.923077</td>\n",
       "      <td>0.64</td>\n",
       "      <td>0.24</td>\n",
       "      <td>0.36</td>\n",
       "    </tr>\n",
       "  </tbody>\n",
       "</table>\n",
       "</div>"
      ],
      "text/plain": [
       "         0         1         2         3         4         5         6   \\\n",
       "0 -1.381729 -1.129659 -0.961232 -2.007138 -1.274441  2.679937  0.065687   \n",
       "1 -1.182579 -1.166221 -0.939204 -1.908736 -0.197884  2.720707  0.937780   \n",
       "2 -1.267402 -1.159574 -0.947219 -1.744732 -1.128790  2.714883  0.588943   \n",
       "3 -1.230522 -1.172869 -0.959240 -1.780985 -1.342834  2.726531  0.728478   \n",
       "4 -1.208395 -1.172869 -0.967231 -1.708478 -0.171287  2.720707  0.414524   \n",
       "\n",
       "         7         8         9    10   11   12     13     14    15       16  \\\n",
       "0  0.208889  0.217778  0.204444  0.0  0.0  0.0 -1.989 -1.989 -1.96  0.10089   \n",
       "1  0.208889  0.217778  0.204444  0.0  0.0  0.0 -1.989 -1.989 -1.96  0.10089   \n",
       "2  0.208889  0.217778  0.204444  0.0  0.0  0.0 -1.989 -1.989 -1.96  0.10089   \n",
       "3  0.208889  0.217778  0.204444  0.0  0.0  0.0 -1.989 -1.989 -1.96  0.10089   \n",
       "4  0.208889  0.217778  0.204444  0.0  0.0  0.0 -1.989 -1.989 -1.96  0.10089   \n",
       "\n",
       "         17        18        19        20        21        22    23    24  \\\n",
       "0 -1.209522 -2.218690 -1.952731  0.629231  0.569231  0.936923  1.28  1.76   \n",
       "1  0.061109 -2.202909 -1.973765  0.629231  0.569231  0.923077 -0.92 -0.64   \n",
       "2 -1.209522 -2.202909 -1.952731  0.629231  0.552308  0.923077 -0.72  0.12   \n",
       "3  0.061109 -2.202909 -1.952731  0.629231  0.552308  0.923077 -0.60  0.52   \n",
       "4  0.061109 -2.218690 -1.952731  0.615385  0.552308  0.923077  0.64  0.24   \n",
       "\n",
       "     25  \n",
       "0  0.68  \n",
       "1  0.36  \n",
       "2 -0.52  \n",
       "3 -1.20  \n",
       "4  0.36  "
      ]
     },
     "execution_count": 6,
     "metadata": {},
     "output_type": "execute_result"
    }
   ],
   "source": [
    "print(valid_desc)\n",
    "pd.DataFrame(valid_X)[:5]"
   ]
  },
  {
   "cell_type": "code",
   "execution_count": 7,
   "metadata": {},
   "outputs": [
    {
     "name": "stdout",
     "output_type": "stream",
     "text": [
      "正常:168930 (0.94 percent), 結冰:10638 (0.06 percent), Total:179568\n"
     ]
    }
   ],
   "source": [
    "print(valid_21_desc)"
   ]
  },
  {
   "cell_type": "markdown",
   "metadata": {},
   "source": [
    "## 3. Deep Learning"
   ]
  },
  {
   "cell_type": "markdown",
   "metadata": {},
   "source": [
    "### 3.1 Hyper Parameters"
   ]
  },
  {
   "cell_type": "code",
   "execution_count": 8,
   "metadata": {
    "collapsed": true
   },
   "outputs": [],
   "source": [
    "lr = 0.01 # learning rate\n",
    "n_inputs = 26 # 每一行的维度\n",
    "n_classes = 2  # RNN最后的输出類別個数"
   ]
  },
  {
   "cell_type": "markdown",
   "metadata": {},
   "source": [
    "### 3.2 Tensorflow 參數定義"
   ]
  },
  {
   "cell_type": "code",
   "execution_count": 9,
   "metadata": {
    "collapsed": true
   },
   "outputs": [],
   "source": [
    "tf.reset_default_graph()\n",
    "X =tf.placeholder(tf.float32, [None, n_inputs], name=\"X\")\n",
    "Y_ =tf.placeholder(tf.float32, [None, n_classes], name=\"Y_\")\n",
    "\n",
    "W = {\n",
    "    'out_h0': tf.Variable(tf.random_normal([n_inputs,n_classes], stddev=0.01)),\n",
    "    'wd_h2_1': tf.Variable(tf.random_normal([n_inputs,15], stddev=0.01)),\n",
    "    'wd_h2_2': tf.Variable(tf.random_normal([15,7], stddev=0.01)),\n",
    "    'out_h2': tf.Variable(tf.random_normal([7, n_classes]), name=\"out\")\n",
    "}\n",
    "#variable_summaries(W['wd1'],'wd1')\n",
    "#variable_summaries(W['wd2'],'wd2')\n",
    "#variable_summaries(W['out'],'out')\n",
    "\n",
    "B = {\n",
    "    'out_h0': tf.Variable(tf.random_normal([n_classes]), name=\"out\"),\n",
    "    'bd_h2_1': tf.Variable(tf.random_normal([15])),\n",
    "    'bd_h2_2': tf.Variable(tf.random_normal([7])),\n",
    "    'out_h2': tf.Variable(tf.random_normal([n_classes]), name=\"out\"),\n",
    "}\n",
    "\n",
    "#variable_summaries(B['bd1'],'bd1')\n",
    "#variable_summaries(B['bd2'],'bd2')\n",
    "#variable_summaries(B['out'],'out')\n",
    "\n",
    "#tfdot() 不看!"
   ]
  },
  {
   "cell_type": "markdown",
   "metadata": {},
   "source": [
    "### 3.2 網路結構 Network Structure"
   ]
  },
  {
   "cell_type": "code",
   "execution_count": 10,
   "metadata": {
    "collapsed": true
   },
   "outputs": [],
   "source": [
    "with tf.name_scope('outlayer_H0'):\n",
    "    _pred = tf.matmul(X, W['out_h0']) + B['out_h0']\n",
    "    pred = tf.nn.softmax(_pred, name=\"pred\")\n",
    "    \n",
    "with tf.name_scope('accuracy'):\n",
    "    correct_pred = tf.equal(tf.argmax(pred, 1), tf.argmax(Y_, 1))\n",
    "    accuracy = tf.reduce_mean(tf.cast(correct_pred, tf.float32))"
   ]
  },
  {
   "cell_type": "markdown",
   "metadata": {},
   "source": [
    "### 3.2 誤差函數 Loss Function"
   ]
  },
  {
   "cell_type": "code",
   "execution_count": 11,
   "metadata": {
    "collapsed": true,
    "scrolled": false
   },
   "outputs": [],
   "source": [
    "loss = tf.reduce_mean(tf.nn.softmax_cross_entropy_with_logits(logits=_pred, labels=Y_))"
   ]
  },
  {
   "cell_type": "markdown",
   "metadata": {},
   "source": [
    "### 3.2 Optimizer (gradient descent)"
   ]
  },
  {
   "cell_type": "code",
   "execution_count": 12,
   "metadata": {
    "collapsed": true
   },
   "outputs": [],
   "source": [
    "optimizer = tf.train.AdamOptimizer(lr).minimize(loss)"
   ]
  },
  {
   "cell_type": "markdown",
   "metadata": {},
   "source": [
    "### 3.3 開始訓練  Start Training"
   ]
  },
  {
   "cell_type": "code",
   "execution_count": 13,
   "metadata": {
    "collapsed": true
   },
   "outputs": [],
   "source": [
    "init = tf.global_variables_initializer()\n",
    "# Create a summary to monitor cost tensor\n",
    "#with tf.name_scope('performance'):  \n",
    "#    loss_scar = tf.summary.scalar('loss', loss)\n",
    "    # Create a summary to monitor accuracy tensor\n",
    "#    acc_scar = tf.summary.scalar('accuracy', accuracy)\n",
    "    # Merge all summaries into a single op\n",
    "#merged_summary_op = tf.summary.merge_all()"
   ]
  },
  {
   "cell_type": "code",
   "execution_count": 14,
   "metadata": {
    "collapsed": true
   },
   "outputs": [],
   "source": [
    "#先創造一個session, 然後記得要init variable\n",
    "sess = tf.InteractiveSession()\n",
    "sess.run(init)\n",
    "\n",
    "#if not os.path.exists('tb-log_1'):\n",
    "#    os.mkdir('tb-log_1')\n",
    "#summary_writer_train = tf.summary.FileWriter('tb-log1/train',graph=tf.get_default_graph())\n",
    "#summary_writer_validation = tf.summary.FileWriter('tb-log1/validation',graph=tf.get_default_graph())"
   ]
  },
  {
   "cell_type": "code",
   "execution_count": 15,
   "metadata": {},
   "outputs": [
    {
     "name": "stdout",
     "output_type": "stream",
     "text": [
      "epoch:0, batch:19, train loss:0.544 acc:0.728, test loss:0.628 acc:0.650\n",
      "epoch:1, batch:19, train loss:0.515 acc:0.773, test loss:0.637 acc:0.659\n",
      "epoch:2, batch:19, train loss:0.465 acc:0.808, test loss:0.582 acc:0.656\n",
      "epoch:3, batch:19, train loss:0.459 acc:0.800, test loss:0.599 acc:0.665\n",
      "epoch:4, batch:19, train loss:0.433 acc:0.816, test loss:0.552 acc:0.693\n",
      "epoch:5, batch:19, train loss:0.428 acc:0.808, test loss:0.564 acc:0.688\n",
      "epoch:6, batch:19, train loss:0.414 acc:0.816, test loss:0.537 acc:0.720\n",
      "epoch:7, batch:19, train loss:0.416 acc:0.816, test loss:0.530 acc:0.731\n",
      "epoch:8, batch:19, train loss:0.400 acc:0.823, test loss:0.536 acc:0.730\n",
      "epoch:9, batch:19, train loss:0.388 acc:0.827, test loss:0.545 acc:0.724\n",
      "epoch:10, batch:19, train loss:0.384 acc:0.829, test loss:0.559 acc:0.713\n",
      "epoch:11, batch:19, train loss:0.389 acc:0.826, test loss:0.570 acc:0.710\n",
      "epoch:12, batch:19, train loss:0.391 acc:0.821, test loss:0.555 acc:0.726\n",
      "epoch:13, batch:19, train loss:0.374 acc:0.837, test loss:0.580 acc:0.707\n",
      "epoch:14, batch:19, train loss:0.358 acc:0.842, test loss:0.555 acc:0.737\n",
      "epoch:15, batch:19, train loss:0.377 acc:0.817, test loss:0.583 acc:0.710\n"
     ]
    }
   ],
   "source": [
    "# training process\n",
    "epoch = 15\n",
    "batch_size = 3000\n",
    "total_batch= len(train_X) / batch_size\n",
    "for ep in range(epoch+1):\n",
    "    for i in range(int(total_batch)+1):\n",
    "        rnd_idx = np.random.choice(train_X.shape[0], batch_size, replace=False)\n",
    "        batch_x = train_X[rnd_idx]\n",
    "        batch_y = train_Y[rnd_idx]\n",
    "        _, acc_v1, loss_v1= sess.run([optimizer, accuracy,loss], feed_dict={X: batch_x, Y_:batch_y})\n",
    "        #summary_writer_train.add_summary(summary, ep * total_batch + i)\n",
    "        #if i%100 ==0:\n",
    "    acc_v2, loss_v2= sess.run([accuracy,loss], feed_dict={X: valid_X , Y_: valid_Y})\n",
    "    #summary_writer_validation.add_summary(summary, ep * total_batch + i)\n",
    "    updateProgress('epoch:{x0}, batch:{x4}, train loss:{x1:.3f} acc:{x5:.3f}, test loss:{x3:.3f} acc:{x2:.3f}'.format(x0=ep,x2=round(acc_v2,3),x3=round(loss_v2,3),x4=i,x1=round(loss_v1,3), x5=round(acc_v1,3)))\n",
    "    print()"
   ]
  },
  {
   "cell_type": "markdown",
   "metadata": {},
   "source": [
    "## 4. 預測與準確率評估  Evaluation "
   ]
  },
  {
   "cell_type": "markdown",
   "metadata": {},
   "source": [
    "#### Predict Training Data"
   ]
  },
  {
   "cell_type": "code",
   "execution_count": 16,
   "metadata": {},
   "outputs": [
    {
     "name": "stdout",
     "output_type": "stream",
     "text": [
      "Accuracy: 0.83433\n"
     ]
    },
    {
     "data": {
      "text/plain": [
       "0    35339\n",
       "1    22179\n",
       "dtype: int64"
      ]
     },
     "execution_count": 16,
     "metadata": {},
     "output_type": "execute_result"
    },
    {
     "data": {
      "text/plain": [
       "0    36066\n",
       "1    21452\n",
       "dtype: int64"
      ]
     },
     "execution_count": 16,
     "metadata": {},
     "output_type": "execute_result"
    },
    {
     "name": "stdout",
     "output_type": "stream",
     "text": [
      "Precision 0.794844303561\n",
      "Recall 0.768790297128\n",
      "score 0.822126833105 {'tn': 30938, 'fp': 4401, 'tp': 17051, 'fn': 5128}\n"
     ]
    }
   ],
   "source": [
    "# predict all X and get the accuracy\n",
    "_ = accuracy.eval({X: train_X , Y_: train_Y})\n",
    "print('Accuracy:',_)\n",
    "pred_ = pd.DataFrame(pred.eval({X: train_X}))\n",
    "train_pred = pred_.apply(np.argmax,axis=1)\n",
    "pd.Series(train_y).value_counts()\n",
    "train_pred.value_counts()\n",
    "\n",
    "print(\"Precision\", precision_score(train_y, train_pred))\n",
    "print(\"Recall\", sk.metrics.recall_score(train_y, train_pred))\n",
    "\n",
    "s,_=myscore(train_y, train_pred)\n",
    "print('score',s,_)"
   ]
  },
  {
   "cell_type": "markdown",
   "metadata": {},
   "source": [
    "#### Predict  Validataion Data"
   ]
  },
  {
   "cell_type": "code",
   "execution_count": 17,
   "metadata": {},
   "outputs": [
    {
     "name": "stdout",
     "output_type": "stream",
     "text": [
      "Accuracy: 0.710046\n"
     ]
    },
    {
     "data": {
      "text/plain": [
       "1    6015\n",
       "0    5980\n",
       "dtype: int64"
      ]
     },
     "execution_count": 17,
     "metadata": {},
     "output_type": "execute_result"
    },
    {
     "name": "stdout",
     "output_type": "stream",
     "text": [
      "Precision 0.56957605985\n",
      "Recall 0.793974507532\n",
      "score 0.728432566266 {'tn': 5091, 'fp': 2589, 'tp': 3426, 'fn': 889}\n"
     ]
    }
   ],
   "source": [
    "# predict all X and get the accuracy\n",
    "_ = accuracy.eval({X: valid_X , Y_: valid_Y})\n",
    "print('Accuracy:',_)\n",
    "pred_ = pd.DataFrame(pred.eval({X: valid_X}))\n",
    "valid_pred = pred_.apply(np.argmax,axis=1)\n",
    "valid_pred.value_counts()\n",
    "\n",
    "print(\"Precision\", precision_score(valid_y, valid_pred))\n",
    "print(\"Recall\", sk.metrics.recall_score(valid_y, valid_pred))\n",
    "\n",
    "s,_=myscore(valid_y, valid_pred)\n",
    "print('score',s,_)"
   ]
  },
  {
   "cell_type": "markdown",
   "metadata": {},
   "source": [
    "** Predict another machine **"
   ]
  },
  {
   "cell_type": "code",
   "execution_count": 18,
   "metadata": {},
   "outputs": [
    {
     "name": "stdout",
     "output_type": "stream",
     "text": [
      "Accuracy: 0.912585\n"
     ]
    },
    {
     "data": {
      "text/plain": [
       "0    164547\n",
       "1     15021\n",
       "dtype: int64"
      ]
     },
     "execution_count": 18,
     "metadata": {},
     "output_type": "execute_result"
    },
    {
     "name": "stdout",
     "output_type": "stream",
     "text": [
      "Precision 0.331602423274\n",
      "Recall 0.468227110359\n",
      "score 0.704397104579 {'tn': 158890, 'fp': 10040, 'tp': 4981, 'fn': 5657}\n"
     ]
    }
   ],
   "source": [
    "# predict all X and get the accuracy\n",
    "_ = accuracy.eval({X: valid_21_X , Y_: valid_21_Y})\n",
    "print('Accuracy:',_)\n",
    "pred_ = pd.DataFrame(pred.eval({X: valid_21_X}))\n",
    "valid_pred = pred_.apply(np.argmax,axis=1)\n",
    "valid_pred.value_counts()\n",
    "\n",
    "print(\"Precision\", precision_score(valid_21_y, valid_pred))\n",
    "print(\"Recall\", sk.metrics.recall_score(valid_21_y, valid_pred))\n",
    "\n",
    "s,_=myscore(valid_21_y, valid_pred)\n",
    "print('score',s,_)"
   ]
  },
  {
   "cell_type": "markdown",
   "metadata": {},
   "source": [
    "#### Predict Test Data"
   ]
  },
  {
   "cell_type": "code",
   "execution_count": 19,
   "metadata": {},
   "outputs": [
    {
     "data": {
      "text/plain": [
       "0    188235\n",
       "1     14093\n",
       "dtype: int64"
      ]
     },
     "execution_count": 19,
     "metadata": {},
     "output_type": "execute_result"
    }
   ],
   "source": [
    "pred_ = pd.DataFrame(pred.eval({X: test_X}))\n",
    "test_pred = pred_.apply(np.argmax,axis=1)\n",
    "test_pred.value_counts()"
   ]
  },
  {
   "cell_type": "markdown",
   "metadata": {},
   "source": [
    "## 5. 整理預測結果, 正確上傳格式"
   ]
  },
  {
   "cell_type": "code",
   "execution_count": 74,
   "metadata": {
    "collapsed": true
   },
   "outputs": [],
   "source": [
    "startTime=0\n",
    "endTIme=0\n",
    "search_start=True\n",
    "search_end=False\n",
    "abnormal_list=[]\n",
    "for i,v in enumerate(test_pred):\n",
    "    if (v==1) & (search_start):\n",
    "        startTime = test_timeidx[i]\n",
    "        search_end=True\n",
    "        search_start=False\n",
    "    if (v==0) & (search_end):\n",
    "        endTIme=test_timeidx[i]\n",
    "        search_start=True\n",
    "        search_end=False\n",
    "        abnormal_list.append((startTime,test_timeidx[i-1]))"
   ]
  },
  {
   "cell_type": "code",
   "execution_count": 20,
   "metadata": {
    "scrolled": false
   },
   "outputs": [],
   "source": [
    "output_ans=False\n",
    "if(output_ans):\n",
    "    with open('test1_08_results.csv','w') as out:\n",
    "        csv_out=csv.writer(out)\n",
    "        #csv_out.writerow(['startTime','endTime'])\n",
    "        for row in abnormal_list:\n",
    "            csv_out.writerow(row)\n"
   ]
  }
 ],
 "metadata": {
  "kernelspec": {
   "display_name": "Python [conda root]",
   "language": "python",
   "name": "conda-root-py"
  },
  "language_info": {
   "codemirror_mode": {
    "name": "ipython",
    "version": 3
   },
   "file_extension": ".py",
   "mimetype": "text/x-python",
   "name": "python",
   "nbconvert_exporter": "python",
   "pygments_lexer": "ipython3",
   "version": "3.5.3"
  }
 },
 "nbformat": 4,
 "nbformat_minor": 2
}
