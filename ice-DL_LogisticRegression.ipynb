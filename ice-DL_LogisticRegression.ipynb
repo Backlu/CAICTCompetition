{
 "cells": [
  {
   "cell_type": "markdown",
   "metadata": {},
   "source": [
    "# CAICT 風機結冰預測 - DNN"
   ]
  },
  {
   "cell_type": "markdown",
   "metadata": {},
   "source": [
    "data sampling policy 2"
   ]
  },
  {
   "cell_type": "markdown",
   "metadata": {},
   "source": [
    "2017/07/19  \n",
    "http://www.industrial-bigdata.com/competition/competitionAction!showDetail.action?competition.competitionId=1"
   ]
  },
  {
   "cell_type": "markdown",
   "metadata": {},
   "source": [
    "# **1. Load Data and Modules**"
   ]
  },
  {
   "cell_type": "markdown",
   "metadata": {},
   "source": [
    "**Load Python modules:**"
   ]
  },
  {
   "cell_type": "code",
   "execution_count": 1,
   "metadata": {
    "collapsed": true
   },
   "outputs": [],
   "source": [
    "%matplotlib inline\n",
    "import numpy as np\n",
    "import pandas as pd\n",
    "import datetime\n",
    "import pandas as pd\n",
    "import os\n",
    "import sys\n",
    "from PIL import Image\n",
    "import numpy as np\n",
    "import lzma\n",
    "import pickle\n",
    "from IPython.display import display\n",
    "import tensorflow as tf\n",
    "from tensorflow.contrib.tensorboard.plugins import projector\n",
    "import shutil\n",
    "import csv\n",
    "import sklearn as sk\n",
    "from sklearn.metrics import roc_curve, auc \n",
    "from sklearn.metrics import precision_score\n",
    "import matplotlib.pyplot as plt\n",
    "import matplotlib.gridspec as gridspec\n",
    "import seaborn as sns\n",
    "from pylab import *\n",
    "from IPython.core.interactiveshell import InteractiveShell\n",
    "from imblearn.under_sampling import TomekLinks\n",
    "from imblearn.over_sampling import RandomOverSampler\n",
    "from imblearn.under_sampling import RandomUnderSampler\n",
    "from imblearn.over_sampling import SMOTE\n",
    "\n",
    "pd.set_option('display.max_columns', None)\n",
    "InteractiveShell.ast_node_interactivity = \"all\""
   ]
  },
  {
   "cell_type": "code",
   "execution_count": 2,
   "metadata": {
    "collapsed": true
   },
   "outputs": [],
   "source": [
    "def variable_summaries(var, name):  \n",
    "    with tf.name_scope('summaries_'+str(name)):  \n",
    "        mean = tf.reduce_mean(var)  \n",
    "        tf.summary.scalar('mean', mean)  \n",
    "        stddev = tf.sqrt(tf.reduce_mean(tf.square(var - mean)))  \n",
    "        tf.summary.scalar('stddev', stddev)  \n",
    "        tf.summary.scalar('max', tf.reduce_max(var))  \n",
    "        tf.summary.scalar('min', tf.reduce_min(var))  \n",
    "        tf.summary.histogram('histogram', var)  \n",
    "        \n",
    "def updateProgress(msg):\n",
    "    sys.stdout.write('\\r')\n",
    "    sys.stdout.write(msg)\n",
    "    sys.stdout.flush()\n",
    "    \n",
    "def myscore(true_y, pred_y):\n",
    "    n,p =sk.metrics.confusion_matrix(true_y, pred_y)\n",
    "    tn = n[0]\n",
    "    fp = n[1]\n",
    "    fn = p[0]\n",
    "    tp = p[1]\n",
    "    #print('tn:',tn,'fp:',fp,'fn:',fn,'fp:',fp)\n",
    "    score = 1- 0.5*(fp/(tn+fp))- 0.5*(fn/(fn+tp)) \n",
    "    #print('score',score)\n",
    "    return score, {'tn':tn,'fp':fp,'fn':fn,'tp':tp}\n"
   ]
  },
  {
   "cell_type": "code",
   "execution_count": 47,
   "metadata": {
    "collapsed": true
   },
   "outputs": [],
   "source": [
    "def variable_selection(data, isTest=False):\n",
    "    if isTest:\n",
    "        fixed_variable = ['time','group']\n",
    "    else:\n",
    "        fixed_variable = ['label','event','time','group','timestamp']\n",
    "    selected_variable = ['pitch1_angle','pitch2_angle','pitch3_angle','pitch1_speed','pitch3_speed','pitch2_speed']\n",
    "    #selected_variable = ['pitch1_angle','pitch2_angle','pitch3_angle','pitch1_speed','pitch3_speed','pitch2_speed','power','yaw_position','environment_tmp']\n",
    "    variable = selected_variable + fixed_variable \n",
    "    data = data[variable]\n",
    "    return data\n",
    "\n",
    "def load_resample_data(id, remove_unknown=True, split_case=20, split_validation=True, policy=1, varsel=False):\n",
    "    filename = 'data/resample_data_p{POLICY}_{ID}.csv'.format(ID=id,POLICY=policy)\n",
    "    data_resample = pd.read_csv(filename)\n",
    "    if varsel:\n",
    "        data_resample=variable_selection(data_resample)\n",
    "    \n",
    "    if remove_unknown:\n",
    "        data_resample = data_resample[data_resample['label']!=2]\n",
    "    \n",
    "    data_resample_train = data_resample[data_resample['event']<split_case]\n",
    "    data_resample_valid = data_resample[data_resample['event']>=split_case]\n",
    "\n",
    "    train_aX = data_resample.drop(['label','time','group','timestamp','event'], axis=1).values\n",
    "    train_ay = data_resample['label'].values.astype(int)\n",
    "    train_aY = np.eye(2)[train_ay]\n",
    "    \n",
    "    train_X = data_resample_train.drop(['label','time','group','timestamp','event'], axis=1).values\n",
    "    train_y = data_resample_train['label'].values.astype(int)\n",
    "    valid_X = data_resample_valid.drop(['label','time','group','timestamp','event'], axis=1).values\n",
    "    valid_y = data_resample_valid['label'].values.astype(int)\n",
    "    train_Y = np.eye(2)[train_y]\n",
    "    valid_Y = np.eye(2)[valid_y]\n",
    "\n",
    "    train_abnormal = data_resample_train[data_resample_train['label']==1]\n",
    "    train_normal = data_resample_train[data_resample_train['label']==0]\n",
    "    train_desc = '正常:{i} ({j:.2f} percent), 結冰:{k:} ({m:.2f} percent), Total:{n}'.format(i=len(train_normal), j=len(train_normal)/len(data_resample_train),k=len(train_abnormal),m=len(train_abnormal)/len(data_resample_train), n=len(data_resample_train))\n",
    "    \n",
    "    valid_abnormal = data_resample_valid[data_resample_valid['label']==1]\n",
    "    valid_normal = data_resample_valid[data_resample_valid['label']==0]\n",
    "    valid_desc = '正常:{i} ({j:.2f} percent), 結冰:{k:} ({m:.2f} percent), Total:{n}'.format(i=len(valid_normal), j=len(valid_normal)/len(data_resample_valid),k=len(valid_abnormal),m=len(valid_abnormal)/len(data_resample_valid), n=len(data_resample_valid))\n",
    "    if split_validation:\n",
    "        return data_resample, train_X, train_Y, train_y, valid_X, valid_Y, valid_y, train_desc, valid_desc\n",
    "    else:\n",
    "        return data_resample, train_aX, train_aY, train_ay\n",
    "\n",
    "def load_test1_data(id,remove_unknown=True, dropna=True, varsel=False):\n",
    "    filename = 'data/goodformat_{ID}.csv'.format(ID=id)\n",
    "    data_raw = pd.read_csv(filename)\n",
    "    if varsel:\n",
    "        data_raw=variable_selection(data_raw)\n",
    "    if dropna:\n",
    "        data_raw = data_raw.dropna()\n",
    "    else: \n",
    "        data_raw = data_raw.fillna(0)\n",
    "    \n",
    "    data_X = data_raw.drop(['label','time','group','timestamp'], axis=1).values\n",
    "    data_y = data_raw['label'].values.astype(int)\n",
    "    data_Y = np.eye(2)[data_y]\n",
    "    \n",
    "    data_abnormal = data_raw[data_raw['label']==1]\n",
    "    data_normal = data_raw[data_raw['label']==0]\n",
    "    data_desc = '正常:{i} ({j:.2f} percent), 結冰:{k:} ({m:.2f} percent), Total:{n}'.format(i=len(data_normal), j=len(data_normal)/len(data_raw),k=len(data_abnormal),m=len(data_abnormal)/len(data_raw), n=len(data_raw))\n",
    "    \n",
    "    return data_raw, data_X, data_Y, data_y, data_desc\n",
    "\n",
    "def load_test2_data(varsel=False):\n",
    "    test_data = pd.read_csv('data/ice1/test/08/08_data.csv')\n",
    "    if varsel:\n",
    "        test_data=variable_selection(test_data,isTest=True)\n",
    "    test_timeidx = test_data['time']\n",
    "    tmp = test_data.drop(['time','group'], axis=1)\n",
    "    test_X = tmp.values\n",
    "    return test_data, test_X, test_timeidx\n",
    "\n",
    "    "
   ]
  },
  {
   "cell_type": "markdown",
   "metadata": {},
   "source": [
    "**Load input data.** "
   ]
  },
  {
   "cell_type": "code",
   "execution_count": 48,
   "metadata": {},
   "outputs": [],
   "source": [
    "train_raw, train_X, train_Y, train_y, valid_X, valid_Y, valid_y, train_desc, valid_desc = load_resample_data(id=15,policy=1,varsel=True)\n",
    "valid_raw, valid_21_X, valid_21_Y, valid_21_y,= load_resample_data(id=21,policy=1,split_validation=False,split_case=8,varsel=True)\n",
    "test_raw, test_X,test_timeidx = load_test2_data(varsel=True)"
   ]
  },
  {
   "cell_type": "code",
   "execution_count": 49,
   "metadata": {},
   "outputs": [
    {
     "data": {
      "text/plain": [
       "(31375, 6)"
      ]
     },
     "execution_count": 49,
     "metadata": {},
     "output_type": "execute_result"
    }
   ],
   "source": [
    "valid_21_X.shape"
   ]
  },
  {
   "cell_type": "markdown",
   "metadata": {},
   "source": [
    "**風機15 Training Data 狀態正常(0)/異常(1)比例 **"
   ]
  },
  {
   "cell_type": "code",
   "execution_count": 50,
   "metadata": {},
   "outputs": [
    {
     "name": "stdout",
     "output_type": "stream",
     "text": [
      "正常:35339 (0.61 percent), 結冰:22179 (0.39 percent), Total:57518\n"
     ]
    }
   ],
   "source": [
    "print(train_desc)"
   ]
  },
  {
   "cell_type": "markdown",
   "metadata": {},
   "source": [
    "**風機15  Validation Data 狀態正常(0)/異常(1)比例 **"
   ]
  },
  {
   "cell_type": "code",
   "execution_count": 51,
   "metadata": {},
   "outputs": [
    {
     "name": "stdout",
     "output_type": "stream",
     "text": [
      "正常:7680 (0.64 percent), 結冰:4315 (0.36 percent), Total:11995\n"
     ]
    }
   ],
   "source": [
    "print(valid_desc)"
   ]
  },
  {
   "cell_type": "markdown",
   "metadata": {},
   "source": [
    "** 風機21 Testing Data 狀態正常(0)/異常(1)比例 **"
   ]
  },
  {
   "cell_type": "markdown",
   "metadata": {},
   "source": [
    "## 3. Deep Learning"
   ]
  },
  {
   "cell_type": "markdown",
   "metadata": {},
   "source": [
    "### 3.1 Tensorflow 參數定義"
   ]
  },
  {
   "cell_type": "code",
   "execution_count": 52,
   "metadata": {
    "collapsed": true
   },
   "outputs": [],
   "source": [
    "n_inputs = len(train_X[1]) # 每一行的维度\n",
    "n_classes = len(train_Y[1])  # RNN最后的输出類別個数\n",
    "\n",
    "tf.reset_default_graph()\n",
    "X =tf.placeholder(tf.float32, [None, n_inputs], name=\"X\")\n",
    "Y_ =tf.placeholder(tf.float32, [None, n_classes], name=\"Y_\")\n",
    "\n",
    "W = {\n",
    "    'out_h0': tf.Variable(tf.random_normal([n_inputs,n_classes], stddev=0.01)),\n",
    "}\n",
    "#variable_summaries(W['wd1'],'wd1')\n",
    "#variable_summaries(W['wd2'],'wd2')\n",
    "#variable_summaries(W['out'],'out')\n",
    "\n",
    "B = {\n",
    "    'out_h0': tf.Variable(tf.random_normal([n_classes]), name=\"out\"),\n",
    "}\n",
    "\n",
    "#variable_summaries(B['bd1'],'bd1')\n",
    "#variable_summaries(B['bd2'],'bd2')\n",
    "#variable_summaries(B['out'],'out')\n",
    "\n",
    "#tfdot() 不看!"
   ]
  },
  {
   "cell_type": "markdown",
   "metadata": {},
   "source": [
    "### 3.2 網路結構 Network Structure"
   ]
  },
  {
   "cell_type": "code",
   "execution_count": 53,
   "metadata": {
    "collapsed": true
   },
   "outputs": [],
   "source": [
    "with tf.name_scope('outlayer_H0'):\n",
    "    _pred = tf.matmul(X, W['out_h0']) + B['out_h0']\n",
    "    pred = tf.nn.softmax(_pred, name=\"pred\")\n",
    "    \n",
    "with tf.name_scope('accuracy'):\n",
    "    correct_pred = tf.equal(tf.argmax(pred, 1), tf.argmax(Y_, 1))\n",
    "    accuracy = tf.reduce_mean(tf.cast(correct_pred, tf.float32))"
   ]
  },
  {
   "cell_type": "markdown",
   "metadata": {},
   "source": [
    "### 3.3 誤差函數 Loss Function"
   ]
  },
  {
   "cell_type": "code",
   "execution_count": 54,
   "metadata": {
    "collapsed": true,
    "scrolled": false
   },
   "outputs": [],
   "source": [
    "with tf.name_scope('accuracy'):\n",
    "    correct_pred = tf.equal(tf.argmax(pred, 1), tf.argmax(Y_, 1))\n",
    "    accuracy = tf.reduce_mean(tf.cast(correct_pred, tf.float32))\n",
    "    loss = tf.reduce_mean(tf.nn.softmax_cross_entropy_with_logits(logits=_pred, labels=Y_))\n",
    "    loss_scar = tf.summary.scalar('loss', loss)\n",
    "    acc_scar = tf.summary.scalar('accuracy', accuracy)"
   ]
  },
  {
   "cell_type": "markdown",
   "metadata": {},
   "source": [
    "### 3.4 Optimizer (gradient descent)"
   ]
  },
  {
   "cell_type": "code",
   "execution_count": 55,
   "metadata": {
    "collapsed": true
   },
   "outputs": [],
   "source": [
    "lr = 0.01 # learning rate\n",
    "optimizer = tf.train.AdamOptimizer(lr).minimize(loss)"
   ]
  },
  {
   "cell_type": "markdown",
   "metadata": {},
   "source": [
    "### 3.5 開始訓練  Start Training"
   ]
  },
  {
   "cell_type": "code",
   "execution_count": 56,
   "metadata": {
    "collapsed": true
   },
   "outputs": [],
   "source": [
    "#先創造一個session, 然後記得要init variable\n",
    "init = tf.global_variables_initializer()\n",
    "merged_summary_op = tf.summary.merge_all()\n",
    "sess = tf.InteractiveSession()\n",
    "sess.run(init)\n",
    "\n",
    "#if not os.path.exists('tb-log_1'):\n",
    "#    os.mkdir('tb-log_1')\n",
    "#summary_writer_train = tf.summary.FileWriter('tb-log1/train',graph=tf.get_default_graph())\n",
    "#summary_writer_validation = tf.summary.FileWriter('tb-log1/validation',graph=tf.get_default_graph())"
   ]
  },
  {
   "cell_type": "code",
   "execution_count": 57,
   "metadata": {
    "scrolled": true
   },
   "outputs": [
    {
     "name": "stdout",
     "output_type": "stream",
     "text": [
      "epoch:0, batch:57, train loss:0.662 acc:0.622, test loss:0.621 acc:0.640\n",
      "epoch:1, batch:57, train loss:0.673 acc:0.601, test loss:0.622 acc:0.640\n",
      "epoch:2, batch:57, train loss:0.673 acc:0.598, test loss:0.623 acc:0.640\n",
      "epoch:3, batch:57, train loss:0.665 acc:0.612, test loss:0.623 acc:0.640\n",
      "epoch:4, batch:57, train loss:0.653 acc:0.634, test loss:0.623 acc:0.640\n",
      "epoch:5, batch:57, train loss:0.672 acc:0.596, test loss:0.625 acc:0.640\n",
      "epoch:6, batch:57, train loss:0.667 acc:0.607, test loss:0.625 acc:0.640\n",
      "epoch:7, batch:57, train loss:0.651 acc:0.636, test loss:0.624 acc:0.640\n",
      "epoch:8, batch:57, train loss:0.677 acc:0.589, test loss:0.624 acc:0.640\n",
      "epoch:9, batch:57, train loss:0.662 acc:0.613, test loss:0.624 acc:0.640\n",
      "epoch:10, batch:57, train loss:0.657 acc:0.625, test loss:0.624 acc:0.640\n",
      "epoch:11, batch:57, train loss:0.659 acc:0.615, test loss:0.624 acc:0.640\n",
      "epoch:12, batch:57, train loss:0.670 acc:0.591, test loss:0.623 acc:0.640\n",
      "epoch:13, batch:57, train loss:0.659 acc:0.614, test loss:0.623 acc:0.640\n",
      "epoch:14, batch:57, train loss:0.666 acc:0.603, test loss:0.623 acc:0.640\n",
      "epoch:15, batch:57, train loss:0.672 acc:0.588, test loss:0.622 acc:0.640\n"
     ]
    }
   ],
   "source": [
    "# training process\n",
    "epoch = 15\n",
    "batch_size = 1000\n",
    "total_batch= len(train_X) / batch_size\n",
    "for ep in range(epoch+1):\n",
    "    for i in range(int(total_batch)+1):\n",
    "        rnd_idx = np.random.choice(train_X.shape[0], batch_size, replace=False)\n",
    "        batch_x = train_X[rnd_idx]\n",
    "        batch_y = train_Y[rnd_idx]\n",
    "        _, acc_v1, loss_v1= sess.run([optimizer, accuracy,loss], feed_dict={X: batch_x, Y_:batch_y})\n",
    "        #summary_writer_train.add_summary(summary, ep * total_batch + i)\n",
    "\n",
    "    acc_v2, loss_v2= sess.run([accuracy,loss], feed_dict={X: valid_X , Y_: valid_Y})\n",
    "    #summary_writer_validation.add_summary(summary, ep * total_batch + i)\n",
    "    updateProgress('epoch:{x0}, batch:{x4}, train loss:{x1:.3f} acc:{x5:.3f}, test loss:{x3:.3f} acc:{x2:.3f}'.format(x0=ep,x2=round(acc_v2,3),x3=round(loss_v2,3),x4=i,x1=round(loss_v1,3), x5=round(acc_v1,3)))\n",
    "    print()"
   ]
  },
  {
   "cell_type": "markdown",
   "metadata": {},
   "source": [
    "## 4. 預測與準確率評估  Evaluation "
   ]
  },
  {
   "cell_type": "code",
   "execution_count": 58,
   "metadata": {
    "collapsed": true
   },
   "outputs": [],
   "source": [
    "threshold=0.36"
   ]
  },
  {
   "cell_type": "markdown",
   "metadata": {},
   "source": [
    "#### Predict Training Data"
   ]
  },
  {
   "cell_type": "code",
   "execution_count": 59,
   "metadata": {},
   "outputs": [
    {
     "data": {
      "text/plain": [
       "0    35339\n",
       "1    22179\n",
       "dtype: int64"
      ]
     },
     "execution_count": 59,
     "metadata": {},
     "output_type": "execute_result"
    },
    {
     "data": {
      "text/plain": [
       "1.0    50796\n",
       "0.0     6722\n",
       "Name: 1, dtype: int64"
      ]
     },
     "execution_count": 59,
     "metadata": {},
     "output_type": "execute_result"
    },
    {
     "name": "stdout",
     "output_type": "stream",
     "text": [
      "Accuracy: 0.614399\n",
      "Precision 0.412217497441\n",
      "Recall 0.944091257496\n",
      "score 0.549608661092 {'fp': 29857, 'fn': 1240, 'tn': 5482, 'tp': 20939}\n"
     ]
    }
   ],
   "source": [
    "acc_t = accuracy.eval({X: train_X , Y_: train_Y})\n",
    "pred_t = pd.DataFrame(pred.eval({X: train_X}))\n",
    "#pred_t = pred_t.apply(np.argmax,axis=1)\n",
    "pred_failprop = pred_t[1]\n",
    "pred_result = pred_failprop.copy()\n",
    "\n",
    "pred_result[pred_result >threshold] = 1\n",
    "pred_result[pred_result <=threshold] = 0\n",
    "\n",
    "pd.Series(train_y).value_counts()\n",
    "pred_result.value_counts()\n",
    "\n",
    "s,_=myscore(train_y, pred_result)\n",
    "\n",
    "print('Accuracy:',acc_t)\n",
    "print(\"Precision\", precision_score(train_y, pred_result))\n",
    "print(\"Recall\", sk.metrics.recall_score(train_y, pred_result))\n",
    "print('score',s,_)\n"
   ]
  },
  {
   "cell_type": "markdown",
   "metadata": {},
   "source": [
    "#### Predict  Validataion Data"
   ]
  },
  {
   "cell_type": "code",
   "execution_count": 60,
   "metadata": {},
   "outputs": [
    {
     "data": {
      "text/plain": [
       "1.0    9185\n",
       "0.0    2810\n",
       "Name: 1, dtype: int64"
      ]
     },
     "execution_count": 60,
     "metadata": {},
     "output_type": "execute_result"
    },
    {
     "name": "stdout",
     "output_type": "stream",
     "text": [
      "Accuracy: 0.640267\n",
      "Precision 0.40631464344\n",
      "Recall 0.864889918888\n",
      "score 0.57743193861 {'fp': 5453, 'fn': 583, 'tn': 2227, 'tp': 3732}\n"
     ]
    }
   ],
   "source": [
    "# predict all X and get the accuracy\n",
    "acc_v = accuracy.eval({X: valid_X , Y_: valid_Y})\n",
    "pred_v = pd.DataFrame(pred.eval({X: valid_X}))\n",
    "#pred_v = pred_v.apply(np.argmax,axis=1)\n",
    "pred_failprop = pred_v[1]\n",
    "pred_result = pred_failprop.copy()\n",
    "\n",
    "pred_result[pred_result >threshold] = 1\n",
    "pred_result[pred_result <=threshold] = 0\n",
    "\n",
    "pred_result.value_counts()\n",
    "\n",
    "s,_=myscore(valid_y, pred_result)\n",
    "\n",
    "print('Accuracy:',acc_v)\n",
    "print(\"Precision\", precision_score(valid_y, pred_result))\n",
    "print(\"Recall\", sk.metrics.recall_score(valid_y, pred_result))\n",
    "print('score',s,_)\n"
   ]
  },
  {
   "cell_type": "markdown",
   "metadata": {},
   "source": [
    "** Predict another machine **"
   ]
  },
  {
   "cell_type": "code",
   "execution_count": 61,
   "metadata": {},
   "outputs": [
    {
     "data": {
      "text/plain": [
       "1.0    28477\n",
       "0.0     2898\n",
       "Name: 1, dtype: int64"
      ]
     },
     "execution_count": 61,
     "metadata": {},
     "output_type": "execute_result"
    },
    {
     "name": "stdout",
     "output_type": "stream",
     "text": [
      "Accuracy: 0.617912\n",
      "Precision 0.371422551533\n",
      "Recall 0.882298965632\n",
      "score 0.479499923833 {'fp': 17900, 'fn': 1411, 'tn': 1487, 'tp': 10577}\n"
     ]
    }
   ],
   "source": [
    "# predict all X and get the accuracy\n",
    "acc_t = accuracy.eval({X: valid_21_X , Y_: valid_21_Y})\n",
    "pred_t = pd.DataFrame(pred.eval({X: valid_21_X}))\n",
    "#pred_t = pred_t.apply(np.argmax,axis=1)\n",
    "pred_failprop = pred_t[1]\n",
    "pred_result = pred_failprop.copy()\n",
    "\n",
    "pred_result[pred_result >threshold] = 1\n",
    "pred_result[pred_result <=threshold] = 0\n",
    "\n",
    "pred_result.value_counts()\n",
    "\n",
    "s,_=myscore(valid_21_y, pred_result)\n",
    "\n",
    "print('Accuracy:',acc_t)\n",
    "print(\"Precision\", precision_score(valid_21_y, pred_result))\n",
    "print(\"Recall\", sk.metrics.recall_score(valid_21_y, pred_result))\n",
    "print('score',s,_)\n"
   ]
  },
  {
   "cell_type": "markdown",
   "metadata": {},
   "source": [
    "#### Predict Test Data"
   ]
  },
  {
   "cell_type": "code",
   "execution_count": 62,
   "metadata": {},
   "outputs": [
    {
     "data": {
      "text/plain": [
       "1.0    167543\n",
       "0.0     34785\n",
       "Name: 1, dtype: int64"
      ]
     },
     "execution_count": 62,
     "metadata": {},
     "output_type": "execute_result"
    }
   ],
   "source": [
    "pred_T = pd.DataFrame(pred.eval({X: test_X}))\n",
    "#pred_T = pred_T.apply(np.argmax,axis=1)\n",
    "pred_failprop = pred_T[1]\n",
    "pred_T_result = pred_failprop.copy()\n",
    "\n",
    "\n",
    "pred_T_result[pred_T_result >threshold] = 1\n",
    "pred_T_result[pred_T_result <=threshold] = 0\n",
    "\n",
    "pred_T_result.value_counts()"
   ]
  },
  {
   "cell_type": "markdown",
   "metadata": {},
   "source": [
    "## 5. 整理預測結果, 正確上傳格式"
   ]
  },
  {
   "cell_type": "code",
   "execution_count": 63,
   "metadata": {},
   "outputs": [
    {
     "data": {
      "text/plain": [
       "680"
      ]
     },
     "execution_count": 63,
     "metadata": {},
     "output_type": "execute_result"
    },
    {
     "data": {
      "text/plain": [
       "[(1401, 1401),\n",
       " (1425, 1425),\n",
       " (1434, 1435),\n",
       " (1460, 1463),\n",
       " (1469, 1469),\n",
       " (1479, 1479),\n",
       " (1481, 1482),\n",
       " (1511, 1513),\n",
       " (1522, 1522),\n",
       " (1530, 1534)]"
      ]
     },
     "execution_count": 63,
     "metadata": {},
     "output_type": "execute_result"
    }
   ],
   "source": [
    "startTime=0\n",
    "endTIme=0\n",
    "search_start=True\n",
    "search_end=False\n",
    "abnormal_list=[]\n",
    "test_timeidx=test_timeidx.astype(int)\n",
    "for i,v in enumerate(pred_T_result):\n",
    "    if (v==1) & (search_start):\n",
    "        startTime = test_timeidx[i]\n",
    "        search_end=True\n",
    "        search_start=False\n",
    "    if (v==0) & (search_end):\n",
    "        endTIme=test_timeidx[i]\n",
    "        search_start=True\n",
    "        search_end=False\n",
    "        abnormal_list.append((startTime,test_timeidx[i-1]))\n",
    "len(abnormal_list)\n",
    "abnormal_list[:10]\n"
   ]
  },
  {
   "cell_type": "code",
   "execution_count": 64,
   "metadata": {
    "scrolled": false
   },
   "outputs": [
    {
     "data": {
      "text/plain": [
       "19"
      ]
     },
     "execution_count": 64,
     "metadata": {},
     "output_type": "execute_result"
    },
    {
     "name": "stdout",
     "output_type": "stream",
     "text": [
      "done\n"
     ]
    }
   ],
   "source": [
    "output_ans=True\n",
    "if(output_ans):\n",
    "    with open('test1_08_results.csv','w') as out:\n",
    "        csv_out=csv.writer(out)\n",
    "        csv_out.writerow(['startTime','endTime'])\n",
    "        for row in abnormal_list:\n",
    "            dummy = csv_out.writerow(row)\n",
    "\n",
    "print('done')\n"
   ]
  },
  {
   "cell_type": "markdown",
   "metadata": {},
   "source": [
    "## Store predict result and find the best threshold"
   ]
  },
  {
   "cell_type": "code",
   "execution_count": 65,
   "metadata": {},
   "outputs": [],
   "source": [
    "policy=1\n",
    "test_raw_N, test_N_X, test_N_Y, test_N_y= load_resample_data(id=21,policy=policy,split_validation=False,split_case=8,varsel=True)\n"
   ]
  },
  {
   "cell_type": "code",
   "execution_count": 66,
   "metadata": {},
   "outputs": [
    {
     "name": "stdout",
     "output_type": "stream",
     "text": [
      "Stored 'pred_failprop' (Series)\n",
      "Stored 'pred_t_sm' (Series)\n"
     ]
    }
   ],
   "source": [
    "pred_t = pd.DataFrame(pred.eval({X: test_N_X}))\n",
    "pred_t_sm = pred_t.apply(np.argmax,axis=1)\n",
    "\n",
    "pred_failprop = pred_t[1]\n",
    "%store pred_failprop\n",
    "%store pred_t_sm"
   ]
  },
  {
   "cell_type": "markdown",
   "metadata": {},
   "source": [
    "** Find the Best Threshold ** "
   ]
  },
  {
   "cell_type": "code",
   "execution_count": 67,
   "metadata": {
    "collapsed": true
   },
   "outputs": [],
   "source": [
    "data_target = test_raw_N.copy()"
   ]
  },
  {
   "cell_type": "code",
   "execution_count": 68,
   "metadata": {},
   "outputs": [
    {
     "data": {
      "text/plain": [
       "[<matplotlib.lines.Line2D at 0x13488eb38>]"
      ]
     },
     "execution_count": 68,
     "metadata": {},
     "output_type": "execute_result"
    },
    {
     "data": {
      "text/plain": [
       "<matplotlib.text.Text at 0x127b1dd68>"
      ]
     },
     "execution_count": 68,
     "metadata": {},
     "output_type": "execute_result"
    },
    {
     "name": "stdout",
     "output_type": "stream",
     "text": [
      "AUC: 0.607093105965\n"
     ]
    },
    {
     "data": {
      "image/png": "[encoded data removed]",
      "text/plain": [
       "<matplotlib.figure.Figure at 0x10b70a128>"
      ]
     },
     "metadata": {},
     "output_type": "display_data"
    }
   ],
   "source": [
    "true_labels =data_target['label'].copy().values \n",
    "true_labels[true_labels ==2] = 0\n",
    "fpr, tpr, thresholds = roc_curve(true_labels, pred_failprop)\n",
    "roc_auc = auc(fpr, tpr)\n",
    "plt.plot(fpr, tpr, lw=1) \n",
    "plt.title('ROC Curve')\n",
    "print('AUC:',roc_auc)\n",
    "plt.show()\n",
    "roc_df = pd.DataFrame({'thresholds':thresholds, 'fpr':fpr,'tpr':tpr})\n",
    "roc_df = roc_df[roc_df['tpr']>0.8][:10]"
   ]
  },
  {
   "cell_type": "code",
   "execution_count": 69,
   "metadata": {},
   "outputs": [
    {
     "data": {
      "text/plain": [
       "[<matplotlib.lines.Line2D at 0x12595d550>]"
      ]
     },
     "execution_count": 69,
     "metadata": {},
     "output_type": "execute_result"
    },
    {
     "data": {
      "image/png": "[encoded data removed]",
      "text/plain": [
       "<matplotlib.figure.Figure at 0x12780f710>"
      ]
     },
     "metadata": {},
     "output_type": "display_data"
    },
    {
     "name": "stdout",
     "output_type": "stream",
     "text": [
      "best_x: 0.37\n",
      "best_score: 0.644974780551\n"
     ]
    }
   ],
   "source": [
    "x_tmp = np.arange(0., 0.6, 0.01)\n",
    "y_tmp=[]\n",
    "for threshold in x_tmp:\n",
    "    pred_prob_tmp = pred_failprop.copy()\n",
    "    pred_prob_tmp[pred_prob_tmp >threshold] = 1\n",
    "    pred_prob_tmp[pred_prob_tmp <=threshold] = 0\n",
    "    s,_=myscore(true_labels, pred_prob_tmp)\n",
    "    y_tmp.append(s)\n",
    "    del pred_prob_tmp\n",
    "\n",
    "plt.plot(x_tmp, y_tmp) \n",
    "plt.show()\n",
    "best_idx = np.argmax(y_tmp)\n",
    "best_x = x_tmp[best_idx]\n",
    "best_y = y_tmp[best_idx]\n",
    "print('best_x:',best_x)\n",
    "print('best_score:',best_y)"
   ]
  },
  {
   "cell_type": "code",
   "execution_count": 70,
   "metadata": {},
   "outputs": [
    {
     "name": "stdout",
     "output_type": "stream",
     "text": [
      "Precision 0.0887780548628\n",
      "Recall 0.819890956947\n",
      "0.644974780551 {'fp': 89523, 'fn': 1916, 'tn': 79407, 'tp': 8722}\n"
     ]
    }
   ],
   "source": [
    "threshold = best_x\n",
    "pred_prob_tmp = pred_failprop.copy()\n",
    "pred_prob_tmp[pred_prob_tmp >threshold] = 1\n",
    "pred_prob_tmp[pred_prob_tmp <=threshold] = 0\n",
    "print(\"Precision\", precision_score(true_labels, pred_prob_tmp))\n",
    "print(\"Recall\", sk.metrics.recall_score(true_labels, pred_prob_tmp))\n",
    "s,_=myscore(true_labels, pred_prob_tmp)\n",
    "print(s,_)"
   ]
  },
  {
   "cell_type": "markdown",
   "metadata": {},
   "source": [
    "## 6. Issue\n",
    "1. Data Imbalance\n",
    " - training batch sample 一半normal一半abnormal的data\n",
    " - 用兩台風機訓練兩個model, 取故障預測的聯集 \n",
    "\n",
    "2. 用Precision & Recall評估好壞, 算出Score\n",
    "\n",
    "\n",
    "other:\n",
    "- using weighted examples. Just amplify the per-instance loss by a larger weight when seeing positive examples. If you use online gradient descent, it can be as simple as using a larger learning rate when seeing positive examples.\n",
    "- A similar and slightly better approach (only if you use stochastic gradient descent) is randomly picking an example in each iteration, where the positive examples have higher probability of being picked."
   ]
  },
  {
   "cell_type": "markdown",
   "metadata": {
    "collapsed": true
   },
   "source": [
    "提交结果历史记录  \n",
    "参赛队伍:　556 / 参赛人数:　858  \n",
    " \n",
    "|竞赛阶段\t |上传者\t |分数\t |提交日期\t |排名\t |下载|\n",
    "| ---------| -------- | ------ | ------ | ------ | ------ |\n",
    "|初赛test1阶段|\t孔祥千\t|55.28684214|\t2017/7/12|\t50\t|下载|"
   ]
  },
  {
   "cell_type": "markdown",
   "metadata": {},
   "source": [
    "Note: 7/13\n",
    "1. cross correlation\n",
    "2. auto correlation\n",
    "3. common filter\n",
    "4. de-train "
   ]
  }
 ],
 "metadata": {
  "kernelspec": {
   "display_name": "Python [conda root]",
   "language": "python",
   "name": "conda-root-py"
  },
  "language_info": {
   "codemirror_mode": {
    "name": "ipython",
    "version": 3
   },
   "file_extension": ".py",
   "mimetype": "text/x-python",
   "name": "python",
   "nbconvert_exporter": "python",
   "pygments_lexer": "ipython3",
   "version": "3.5.3"
  }
 },
 "nbformat": 4,
 "nbformat_minor": 2
}
