{
 "cells": [
  {
   "cell_type": "markdown",
   "metadata": {},
   "source": [
    "# CAICT 風機結冰預測 - (DNNAutoencoder)\n",
    "\n",
    "2017/07/21   \n",
    "徐仕杰"
   ]
  },
  {
   "cell_type": "markdown",
   "metadata": {},
   "source": [
    "## Outline\n",
    "\n",
    "-  [Load Data and Module](#load) \n",
    "-  [1. Import MNIST Data](#Import Data) \n",
    "-  [2. seMMA- Autoencoder](#開始Deep Learning)  \n",
    "-  [3. Reference](#reference)"
   ]
  },
  {
   "cell_type": "markdown",
   "metadata": {},
   "source": [
    "<a id='load'></a>\n",
    "## Load Data and Module"
   ]
  },
  {
   "cell_type": "code",
   "execution_count": 1,
   "metadata": {
    "collapsed": true
   },
   "outputs": [],
   "source": [
    "import pandas as pd\n",
    "import os\n",
    "import sys\n",
    "from PIL import Image\n",
    "import numpy as np\n",
    "import lzma\n",
    "import pickle\n",
    "from IPython.display import display\n",
    "import tensorflow as tf\n",
    "from tfdot import tfdot\n",
    "from tensorflow.contrib.tensorboard.plugins import projector\n",
    "import shutil\n",
    "import matplotlib.pyplot as plt\n",
    "import shutil\n",
    "import csv\n",
    "import sklearn as sk\n",
    "from sklearn.metrics import roc_curve, auc \n",
    "from sklearn.metrics import precision_score\n",
    "import matplotlib.gridspec as gridspec\n",
    "import seaborn as sns\n",
    "from pylab import *"
   ]
  },
  {
   "cell_type": "code",
   "execution_count": 3,
   "metadata": {
    "collapsed": true
   },
   "outputs": [],
   "source": [
    "def updateProgress(msg):\n",
    "    sys.stdout.write('\\r')\n",
    "    sys.stdout.write(msg)\n",
    "    sys.stdout.flush()"
   ]
  },
  {
   "cell_type": "code",
   "execution_count": 4,
   "metadata": {
    "collapsed": true
   },
   "outputs": [],
   "source": [
    "def variable_summaries(var, name):  \n",
    "    with tf.name_scope('summaries_'+str(name)):  \n",
    "        mean = tf.reduce_mean(var)  \n",
    "        tf.summary.scalar('mean', mean)  \n",
    "        stddev = tf.sqrt(tf.reduce_mean(tf.square(var - mean)))  \n",
    "        tf.summary.scalar('stddev', stddev)  \n",
    "        tf.summary.scalar('max', tf.reduce_max(var))  \n",
    "        tf.summary.scalar('min', tf.reduce_min(var))  \n",
    "        tf.summary.histogram('histogram', var)  "
   ]
  },
  {
   "cell_type": "markdown",
   "metadata": {},
   "source": [
    "<a id='Import MNIST Data'></a>\n",
    "## 1. Import MNIST Data"
   ]
  },
  {
   "cell_type": "markdown",
   "metadata": {},
   "source": [
    "#### 先把MNIST資料讀進來\n",
    "- Training Data: 訓練Model\n",
    "- Validataion Data: 訓練Model的時候, 同步監控目前模型的好壞\n",
    "- Testing Data: 訓練結束後, 評估模型的好壞"
   ]
  },
  {
   "cell_type": "code",
   "execution_count": 5,
   "metadata": {},
   "outputs": [
    {
     "name": "stdout",
     "output_type": "stream",
     "text": [
      "list裡的前面是picture X [[ 0.  0.  0. ...,  0.  0.  0.]\n",
      " [ 0.  0.  0. ...,  0.  0.  0.]\n",
      " [ 0.  0.  0. ...,  0.  0.  0.]\n",
      " ..., \n",
      " [ 0.  0.  0. ...,  0.  0.  0.]\n",
      " [ 0.  0.  0. ...,  0.  0.  0.]\n",
      " [ 0.  0.  0. ...,  0.  0.  0.]]\n",
      "後面是label Y [5 0 4 ..., 8 4 8]\n"
     ]
    }
   ],
   "source": [
    "with lzma.open(\"mnist.pkl.xz\", 'rb') as f:\n",
    "    train_set, validation_set, test_set = pickle.load(f, encoding='latin1')\n",
    "\n",
    "print('list裡的前面是picture X',train_set[0])\n",
    "print('後面是label Y',train_set[1])\n"
   ]
  },
  {
   "cell_type": "code",
   "execution_count": 6,
   "metadata": {},
   "outputs": [
    {
     "name": "stdout",
     "output_type": "stream",
     "text": [
      "training data size: 50000\n",
      "validataion data size: 10000\n",
      "testing data size: 10000\n",
      "picture shape: (784,)\n"
     ]
    }
   ],
   "source": [
    "train_X, train_y = train_set\n",
    "validation_X, validation_y = validation_set\n",
    "test_X, test_y = test_set\n",
    "print('training data size:',len(train_X))\n",
    "print('validataion data size:',len(validation_X))\n",
    "print('testing data size:',len(test_X))\n",
    "print('picture shape:',train_X[0].shape)"
   ]
  },
  {
   "cell_type": "markdown",
   "metadata": {},
   "source": [
    "#### 把Y label變成one-hot representation"
   ]
  },
  {
   "cell_type": "code",
   "execution_count": 7,
   "metadata": {
    "collapsed": true
   },
   "outputs": [],
   "source": [
    "train_Y = np.eye(10)[train_y]\n",
    "test_Y = np.eye(10)[test_y]\n",
    "validation_Y = np.eye(10)[validation_y]"
   ]
  },
  {
   "cell_type": "markdown",
   "metadata": {},
   "source": [
    "<a id='開始Deep Learning'></a>\n",
    "## 2. Autoencoder\n",
    "\n",
    "** DNN, Deep Neural Network (就是很多層的f(WX+B)) **\n"
   ]
  },
  {
   "cell_type": "markdown",
   "metadata": {},
   "source": [
    "** What is autoencoder ? **\n",
    "\n",
    "** autoencoder可以幹嘛？ **\n"
   ]
  },
  {
   "cell_type": "markdown",
   "metadata": {},
   "source": [
    "- Deep Learning ABC \n",
    "    -  [A. 定義參數](#定義參數) \n",
    "    -  [B. 設計一個Model從X預測Y](#設計一個) \n",
    "    -  [C. 選一個loss function,](#選一個loss) \n",
    "    -  [D. 選一個optimizer](#選一個o) \n",
    "    -  [E. 開始執行訓練](#開始執行) \n",
    "    -  [F. 算一下正確率](#算一下正)  "
   ]
  },
  {
   "cell_type": "markdown",
   "metadata": {},
   "source": [
    "<a id='定義參數'></a>\n",
    "### A. 定義參數(Placeholder, Variable, Constant)\n",
    "tips: 把要餵進Model的資料X,Y定義成placeholder, 把要讓電腦幫忙找的權重W,B定義成Variable"
   ]
  },
  {
   "cell_type": "code",
   "execution_count": 8,
   "metadata": {
    "collapsed": true
   },
   "outputs": [],
   "source": [
    "# hyperparameters\n",
    "n_inputs = 784 # 每一行的维度\n",
    "n_classes = 10  # RNN最后的输出類別個数"
   ]
  },
  {
   "cell_type": "markdown",
   "metadata": {},
   "source": [
    "** autoencoder **"
   ]
  },
  {
   "cell_type": "code",
   "execution_count": 9,
   "metadata": {
    "collapsed": true
   },
   "outputs": [],
   "source": [
    "encoded_neural = 20\n",
    "tf.reset_default_graph()\n",
    "X =tf.placeholder(tf.float32, [None, n_inputs], name=\"X\")\n",
    "Y_ = tf.placeholder(tf.float32, shape=[None, 10], name=\"Y_\")\n",
    "\n",
    "W = {\n",
    "    'enc_wd1': tf.Variable(tf.random_normal([784,300], stddev=0.01), name=\"enc_wd1\"),\n",
    "    'enc_wd2': tf.Variable(tf.random_normal([300,100], stddev=0.01), name=\"enc_wd2\"),\n",
    "    'enc_wd3': tf.Variable(tf.random_normal([100,encoded_neural], stddev=0.01), name=\"enc_wd3\"),\n",
    "    'dec_wd1': tf.Variable(tf.random_normal([encoded_neural,100], stddev=0.01), name=\"dec_wd1\"),\n",
    "    'dec_wd2': tf.Variable(tf.random_normal([100,300], stddev=0.01), name=\"dec_wd2\"),\n",
    "    'dec_wd3': tf.Variable(tf.random_normal([300,784], stddev=0.01), name=\"dec_wd3\"),\n",
    "}\n",
    "\n",
    "B = {\n",
    "    'enc_bd1': tf.Variable(tf.random_normal([300]),name=\"enc_bd1\"),\n",
    "    'enc_bd2': tf.Variable(tf.random_normal([100]), name=\"enc_bd2\"),\n",
    "    'enc_bd3': tf.Variable(tf.random_normal([encoded_neural]), name=\"enc_bd2\"),\n",
    "    'dec_bd1': tf.Variable(tf.random_normal([100]), name=\"dec_bd1\"),\n",
    "    'dec_bd2': tf.Variable(tf.random_normal([300]),name=\"dec_bd2\"),\n",
    "    'dec_bd3': tf.Variable(tf.random_normal([784]), name=\"dec_bd3\"),\n",
    "}\n"
   ]
  },
  {
   "cell_type": "markdown",
   "metadata": {},
   "source": [
    "** classification **"
   ]
  },
  {
   "cell_type": "code",
   "execution_count": 10,
   "metadata": {
    "collapsed": true
   },
   "outputs": [],
   "source": [
    "W2 = {\n",
    "    'cla_wd1': tf.Variable(tf.random_normal([encoded_neural,10], stddev=0.01), name=\"cla_wd1\"),\n",
    "}\n",
    "B2 = {\n",
    "    'cla_bd1': tf.Variable(tf.random_normal([10]),name=\"cla_bd1\"),\n",
    "}\n",
    "trainable_vars = [W2['cla_wd1'],B2['cla_bd1']]"
   ]
  },
  {
   "cell_type": "markdown",
   "metadata": {},
   "source": [
    "<a id='設計一個'></a>\n",
    "###  B. 設計一個Model從X預測X^ \n",
    "Input Layer: X  \n",
    "Hidden Layer 1: $H_1=f_1(W_1X+B_1)$  \n",
    "Hidden Layer 2: $H_2=f_2(W_2H_1+B_2)$  \n",
    "Output Layer : $Y=f_3(W_3H_2+B_3)$  \n"
   ]
  },
  {
   "cell_type": "markdown",
   "metadata": {},
   "source": [
    "### L1. Input Layer 輸入層\n",
    "- do nothing"
   ]
  },
  {
   "cell_type": "markdown",
   "metadata": {},
   "source": [
    "### L2. Hidden Layer 隱藏層 x 2\n",
    "- 線性(WX+B) + 非線性(activation function)  \n"
   ]
  },
  {
   "cell_type": "code",
   "execution_count": 11,
   "metadata": {
    "collapsed": true
   },
   "outputs": [],
   "source": [
    "with tf.name_scope(\"Hidden_Layer_enc1\"):\n",
    "    H1 = tf.matmul(X, W['enc_wd1']) + B['enc_bd1'] \n",
    "    H1 = tf.nn.sigmoid(H1, name=\"H1\")"
   ]
  },
  {
   "cell_type": "code",
   "execution_count": 12,
   "metadata": {
    "collapsed": true
   },
   "outputs": [],
   "source": [
    "with tf.name_scope(\"Hidden_Layer_enc1\"):\n",
    "    H2 = tf.matmul(H1, W['enc_wd2']) + B['enc_bd2'] \n",
    "    H2 = tf.nn.sigmoid(H2, name=\"H2\")"
   ]
  },
  {
   "cell_type": "code",
   "execution_count": 13,
   "metadata": {
    "collapsed": true
   },
   "outputs": [],
   "source": [
    "with tf.name_scope(\"Hidden_Layer_enc3\"):\n",
    "    encoded = tf.matmul(H2, W['enc_wd3']) + B['enc_bd3'] \n",
    "    encoded = tf.nn.sigmoid(encoded, name=\"encoded\")"
   ]
  },
  {
   "cell_type": "markdown",
   "metadata": {},
   "source": [
    "### L3. Output Layer 輸出層"
   ]
  },
  {
   "cell_type": "code",
   "execution_count": 14,
   "metadata": {
    "collapsed": true
   },
   "outputs": [],
   "source": [
    "with tf.name_scope(\"Hidden_Layer_dec1\"):\n",
    "    H10 = tf.matmul(encoded, W['dec_wd1']) + B['dec_bd1'] \n",
    "    H10 = tf.nn.relu(H10, name=\"H10\")"
   ]
  },
  {
   "cell_type": "code",
   "execution_count": 15,
   "metadata": {},
   "outputs": [
    {
     "data": {
      "text/plain": [
       "<tf.Variable 'dec_bd2:0' shape=(300,) dtype=float32_ref>"
      ]
     },
     "execution_count": 15,
     "metadata": {},
     "output_type": "execute_result"
    }
   ],
   "source": [
    "B['dec_bd2'] "
   ]
  },
  {
   "cell_type": "code",
   "execution_count": 16,
   "metadata": {
    "collapsed": true
   },
   "outputs": [],
   "source": [
    "with tf.name_scope(\"Hidden_Layer_dec2\"):\n",
    "    H11 = tf.matmul(H10, W['dec_wd2']) + B['dec_bd2'] \n",
    "    H11 = tf.nn.relu(H11, name=\"H11\")"
   ]
  },
  {
   "cell_type": "code",
   "execution_count": 17,
   "metadata": {
    "collapsed": true
   },
   "outputs": [],
   "source": [
    "with tf.name_scope(\"Hidden_Layer_dec2\"):\n",
    "    decoded = tf.matmul(H11, W['dec_wd3']) + B['dec_bd3'] \n",
    "    decoded = tf.nn.sigmoid(decoded, name=\"decoded\")"
   ]
  },
  {
   "cell_type": "markdown",
   "metadata": {},
   "source": [
    "### L4 Classification Layer "
   ]
  },
  {
   "cell_type": "code",
   "execution_count": 18,
   "metadata": {
    "collapsed": true
   },
   "outputs": [],
   "source": [
    "Y= tf.add(x= tf.matmul(encoded, W2['cla_wd1'], name='e'), y=B2['cla_bd1'], name='Y')\n",
    "Y_softmax = tf.nn.softmax(Y, name='Y_softmax') #這個是one-hot的格式\n",
    "Y_softmax_argmax = tf.argmax(Y_softmax, axis=1) #從one-hot的格式找出最大那個\n",
    "correct_prediction = tf.equal(Y_softmax_argmax, tf.argmax(Y_, 1))\n",
    "accuracy = tf.reduce_mean(tf.cast(correct_prediction, \"float\"))\n"
   ]
  },
  {
   "cell_type": "markdown",
   "metadata": {},
   "source": [
    "<a id='選一個loss'></a>\n",
    "###  C. Define loss function & Optimizer\n",
    "- cross_entorpy $-log(\\Pr(Y_{true}))$"
   ]
  },
  {
   "cell_type": "markdown",
   "metadata": {},
   "source": [
    "** Autoencoder **"
   ]
  },
  {
   "cell_type": "code",
   "execution_count": 19,
   "metadata": {
    "collapsed": true
   },
   "outputs": [],
   "source": [
    "# Cost Function basic term\n",
    "cross_entropy = -1. * X * tf.log(decoded) - (1. - X) * tf.log(1. - decoded)\n",
    "loss = tf.reduce_mean(cross_entropy)\n",
    "optimizer = tf.train.RMSPropOptimizer(0.01).minimize(loss)"
   ]
  },
  {
   "cell_type": "markdown",
   "metadata": {
    "collapsed": true
   },
   "source": [
    "** Classification **"
   ]
  },
  {
   "cell_type": "code",
   "execution_count": 20,
   "metadata": {
    "collapsed": true
   },
   "outputs": [],
   "source": [
    "loss_cla = tf.reduce_mean(tf.nn.softmax_cross_entropy_with_logits(labels=Y_, logits=Y))\n",
    "optimizer_cla = tf.train.RMSPropOptimizer(0.01).minimize(loss_cla,var_list=trainable_vars)"
   ]
  },
  {
   "cell_type": "markdown",
   "metadata": {},
   "source": [
    "<a id='開始執行'></a>\n",
    "### E1. Training Autoencoder"
   ]
  },
  {
   "cell_type": "code",
   "execution_count": 21,
   "metadata": {
    "collapsed": true
   },
   "outputs": [],
   "source": [
    "init = tf.global_variables_initializer()\n",
    "sess = tf.InteractiveSession()\n",
    "sess.run(init)"
   ]
  },
  {
   "cell_type": "code",
   "execution_count": 22,
   "metadata": {
    "scrolled": false
   },
   "outputs": [
    {
     "name": "stdout",
     "output_type": "stream",
     "text": [
      "epoch:0, batch:500 loss:0.24213919043540955\n",
      "epoch:1, batch:500 loss:0.20510199666023254\n",
      "epoch:2, batch:500 loss:0.18776308000087738\n",
      "epoch:3, batch:500 loss:0.17192156612873077\n",
      "epoch:4, batch:500 loss:0.16977192461490633\n",
      "epoch:5, batch:500 loss:0.16077344119548798\n",
      "epoch:6, batch:500 loss:0.15106005966663364\n",
      "epoch:7, batch:500 loss:0.15095590054988866\n",
      "epoch:8, batch:500 loss:0.14694295823574066\n",
      "epoch:9, batch:500 loss:0.15180905163288116\n",
      "epoch:10, batch:500 loss:0.14934760332107544\n",
      "epoch:11, batch:500 loss:0.14046455919742584\n",
      "epoch:12, batch:500 loss:0.13366372883319855\n",
      "epoch:13, batch:500 loss:0.12876971065998077\n",
      "epoch:14, batch:500 loss:0.13402418792247772\n",
      "epoch:15, batch:500 loss:0.13103510439395905\n",
      "epoch:16, batch:500 loss:0.13083803653717044\n",
      "epoch:17, batch:500 loss:0.12092138081789017\n",
      "epoch:18, batch:500 loss:0.12661527097225198\n",
      "epoch:19, batch:500 loss:0.12462119758129122\n",
      "epoch:20, batch:500 loss:0.12173298746347427\n"
     ]
    }
   ],
   "source": [
    "epoch = 20\n",
    "batch_size = 100\n",
    "total_batch= len(train_X) / batch_size\n",
    "for ep in range(epoch+1):\n",
    "    for i in range(int(total_batch)+1):\n",
    "        rnd_idx = np.random.choice(train_X.shape[0], batch_size, replace=False)\n",
    "        batch_x = train_X[rnd_idx]\n",
    "        #batch_y = train_Y[rnd_idx]\n",
    "        _, loss_v= sess.run([optimizer, loss], feed_dict={X: batch_x})\n",
    "        if i%100 ==0:\n",
    "            #loss_s, acc_s, summary= sess.run([loss], feed_dict={X: validation_X })\n",
    "            updateProgress('epoch:{x0}, batch:{x4} loss:{x3}'.format(x0=ep,x3=loss_v,x4=i))\n",
    "    print()\n"
   ]
  },
  {
   "cell_type": "code",
   "execution_count": 23,
   "metadata": {},
   "outputs": [
    {
     "data": {
      "image/png": "[encoded data removed]",
      "text/plain": [
       "<PIL.Image.Image image mode=L size=560x28 at 0x133C83F60>"
      ]
     },
     "metadata": {},
     "output_type": "display_data"
    },
    {
     "name": "stdout",
     "output_type": "stream",
     "text": [
      "\n"
     ]
    },
    {
     "data": {
      "image/png": "[encoded data removed]",
      "text/plain": [
       "<PIL.Image.Image image mode=L size=560x28 at 0x133992DD8>"
      ]
     },
     "metadata": {},
     "output_type": "display_data"
    }
   ],
   "source": [
    "showX(test_X[:20])\n",
    "batch_tx = test_X[:20]\n",
    "decoded_imgs = sess.run([decoded], feed_dict={X: batch_tx})\n",
    "\n",
    "decoded_imgs_1 = np.array(decoded_imgs)\n",
    "decoded_imgs_1 = decoded_imgs_1.reshape(20,784)\n",
    "print('')\n",
    "showX(decoded_imgs_1[:20])"
   ]
  },
  {
   "cell_type": "markdown",
   "metadata": {},
   "source": [
    "### other picture"
   ]
  },
  {
   "cell_type": "code",
   "execution_count": 24,
   "metadata": {},
   "outputs": [
    {
     "name": "stdout",
     "output_type": "stream",
     "text": [
      "Object `im.resize` not found.\n"
     ]
    }
   ],
   "source": [
    "?im.resize"
   ]
  },
  {
   "cell_type": "code",
   "execution_count": 36,
   "metadata": {
    "scrolled": true
   },
   "outputs": [
    {
     "data": {
      "image/png": "[encoded data removed]",
      "text/plain": [
       "<PIL.Image.Image image mode=L size=28x28 at 0x1128D65F8>"
      ]
     },
     "metadata": {},
     "output_type": "display_data"
    },
    {
     "data": {
      "image/png": "[encoded data removed]",
      "text/plain": [
       "<PIL.Image.Image image mode=L size=28x28 at 0x1128D65F8>"
      ]
     },
     "metadata": {},
     "output_type": "display_data"
    },
    {
     "data": {
      "image/png": "[encoded data removed]",
      "text/plain": [
       "<PIL.Image.Image image mode=L size=28x28 at 0x1128D65F8>"
      ]
     },
     "metadata": {},
     "output_type": "display_data"
    },
    {
     "data": {
      "image/png": "[encoded data removed]",
      "text/plain": [
       "<PIL.Image.Image image mode=L size=28x28 at 0x1128D65F8>"
      ]
     },
     "metadata": {},
     "output_type": "display_data"
    },
    {
     "data": {
      "image/png": "[encoded data removed]",
      "text/plain": [
       "<PIL.Image.Image image mode=L size=28x28 at 0x1128D65F8>"
      ]
     },
     "metadata": {},
     "output_type": "display_data"
    },
    {
     "data": {
      "image/png": "[encoded data removed]",
      "text/plain": [
       "<PIL.Image.Image image mode=L size=140x28 at 0x1128C8860>"
      ]
     },
     "metadata": {},
     "output_type": "display_data"
    }
   ],
   "source": [
    "from PIL import Image\n",
    "piclist = ['img/ae1.jpg','img/ae2.jpg','img/ae3.jpg','img/ae4.jpeg','img/ae5.jpeg']\n",
    "batch_tx=[]\n",
    "for pic in piclist:\n",
    "    im = Image.open(pic).convert('L') #Can be many different formats.\n",
    "    #display(im)\n",
    "    im = im.resize((28,28))\n",
    "    display(im)\n",
    "    pix = im.load()\n",
    "    pixels = list(im.getdata())\n",
    "    pixels = np.array(pixels).reshape(784,)\n",
    "    batch_tx.append(pixels)\n",
    "decoded_img_test = sess.run([decoded], feed_dict={X: batch_tx})\n",
    "decoded_img_test = np.array(decoded_img_test)\n",
    "decoded_img_test = decoded_img_test.reshape(-1,784)\n",
    "showX(decoded_img_test[:20])"
   ]
  },
  {
   "cell_type": "markdown",
   "metadata": {},
   "source": [
    "### E2. Training Classification"
   ]
  },
  {
   "cell_type": "code",
   "execution_count": 26,
   "metadata": {},
   "outputs": [
    {
     "name": "stdout",
     "output_type": "stream",
     "text": [
      "Ep:0, Bch:300, Tr: loss:0.987533688545227, acc:0.8046875, Vd: loss:0.871279776096344, acc:0.845700025558471748\n",
      "Ep:1, Bch:300, Tr: loss:0.6405439376831055, acc:0.8359375, Vd: loss:0.46304750442504883, acc:0.8899999856948853\n",
      "Ep:2, Bch:300, Tr: loss:0.3318834900856018, acc:0.875, Vd: loss:0.37347957491874695, acc:0.905600011348724460083\n",
      "Ep:3, Bch:300, Tr: loss:0.38083508610725403, acc:0.90625, Vd: loss:0.33773213624954224, acc:0.909300029277801547\n",
      "Ep:4, Bch:300, Tr: loss:0.26936668157577515, acc:0.9375, Vd: loss:0.31922224164009094, acc:0.9136999845504761008\n",
      "Ep:5, Bch:300, Tr: loss:0.3781154155731201, acc:0.921875, Vd: loss:0.30730709433555603, acc:0.9143000245094299\n",
      "Ep:6, Bch:300, Tr: loss:0.22317060828208923, acc:0.9453125, Vd: loss:0.2999330461025238, acc:0.9162999987602234\n",
      "Ep:7, Bch:300, Tr: loss:0.3465901017189026, acc:0.90625, Vd: loss:0.2955923080444336, acc:0.91729998588562017285\n",
      "Ep:8, Bch:300, Tr: loss:0.3159705400466919, acc:0.9375, Vd: loss:0.2890099585056305, acc:0.91809999942779549038\n",
      "Ep:9, Bch:300, Tr: loss:0.48519906401634216, acc:0.859375, Vd: loss:0.28735291957855225, acc:0.9187999963760376\n",
      "Ep:10, Bch:300, Tr: loss:0.37591078877449036, acc:0.8828125, Vd: loss:0.28483331203460693, acc:0.9193999767303467\n",
      "Ep:11, Bch:300, Tr: loss:0.4332254230976105, acc:0.921875, Vd: loss:0.28279387950897217, acc:0.9193000197410583\n",
      "Ep:12, Bch:300, Tr: loss:0.30098146200180054, acc:0.9140625, Vd: loss:0.2815699279308319, acc:0.9187999963760376\n",
      "Ep:13, Bch:300, Tr: loss:0.3249515891075134, acc:0.9140625, Vd: loss:0.28015387058258057, acc:0.9193999767303467\n",
      "Ep:14, Bch:300, Tr: loss:0.21961019933223724, acc:0.9453125, Vd: loss:0.2784138321876526, acc:0.9203000068664551\n",
      "Ep:15, Bch:300, Tr: loss:0.3294502794742584, acc:0.890625, Vd: loss:0.27884331345558167, acc:0.91979998350143434\n"
     ]
    }
   ],
   "source": [
    "epoch = 15\n",
    "batch_size = 128\n",
    "total_batch= len(train_X) / batch_size\n",
    "for ep in range(epoch+1):\n",
    "    for i in range(int(total_batch)+1):\n",
    "        rnd_idx = np.random.choice(train_X.shape[0], batch_size, replace=False)\n",
    "        batch_x = train_X[rnd_idx]\n",
    "        batch_y = train_Y[rnd_idx]\n",
    "        _, loss_v, acc_v= sess.run([optimizer_cla, loss_cla, accuracy], feed_dict={X: batch_x, Y_:batch_y})\n",
    "        if i%100 ==0:\n",
    "            loss_v2, acc_v2= sess.run([loss_cla, accuracy], feed_dict={X: validation_X , Y_: validation_Y})\n",
    "            updateProgress('Ep:{x0}, Bch:{x4}, Tr: loss:{x5}, acc:{x6}, Vd: loss:{x3}, acc:{x2}'.format(x0=ep,x1=i,x2=acc_v2,x3=loss_v2,x4=i,x6=acc_v,x5=loss_v))\n",
    "    print()\n",
    "\n"
   ]
  },
  {
   "cell_type": "markdown",
   "metadata": {},
   "source": [
    "### Accuracy"
   ]
  },
  {
   "cell_type": "code",
   "execution_count": 27,
   "metadata": {},
   "outputs": [
    {
     "name": "stdout",
     "output_type": "stream",
     "text": [
      "predict:  [0 9 1 1 2 4 3 2 7]\n"
     ]
    },
    {
     "data": {
      "image/png": "[encoded data removed]",
      "text/plain": [
       "<PIL.Image.Image image mode=L size=252x28 at 0x133DCB358>"
      ]
     },
     "metadata": {},
     "output_type": "display_data"
    },
    {
     "name": "stdout",
     "output_type": "stream",
     "text": [
      "answer:  [0 9 1 1 2 4 3 2 7]\n",
      "Training 第21~30筆資料的比對結果:       0\n",
      "0  True\n",
      "1  True\n",
      "2  True\n",
      "3  True\n",
      "4  True\n",
      "5  True\n",
      "6  True\n",
      "7  True\n",
      "8  True\n"
     ]
    }
   ],
   "source": [
    "# 抓出前五筆訓練資料的預測結果 Y_softmax (注意：這個是one-hot的格式)\n",
    "pred_tmp = Y_softmax.eval(feed_dict={X: train_X[21:30]})\n",
    "pred_tmp_df = pd.DataFrame(pred_tmp)\n",
    "_ = pred_tmp_df.apply(np.argmax,axis=1)\n",
    "print('predict: ',_.values)\n",
    "showX(train_X[21:30])\n",
    "print('answer: ',train_y[21:30])\n",
    "_ = correct_prediction.eval({X: train_X[21:30] , Y_: train_Y[21:30]})\n",
    "print('Training 第21~30筆資料的比對結果:',pd.DataFrame(_))"
   ]
  },
  {
   "cell_type": "code",
   "execution_count": 38,
   "metadata": {
    "scrolled": false
   },
   "outputs": [
    {
     "name": "stdout",
     "output_type": "stream",
     "text": [
      "predict:  [6 4 5 4 0 7 4 0 1]\n"
     ]
    },
    {
     "data": {
      "image/png": "[encoded data removed]",
      "text/plain": [
       "<PIL.Image.Image image mode=L size=2800x28 at 0x1128C6FD0>"
      ]
     },
     "metadata": {},
     "output_type": "display_data"
    },
    {
     "data": {
      "image/png": "[encoded data removed]",
      "text/plain": [
       "<PIL.Image.Image image mode=L size=2800x28 at 0x1128C7BA8>"
      ]
     },
     "metadata": {},
     "output_type": "display_data"
    },
    {
     "name": "stdout",
     "output_type": "stream",
     "text": [
      "answer:  [5 0 4 1 9 2 1 3 1 4 3 5 3 6 1 7 2 8 6 9 4 0 9 1 1 2 4 3 2 7 3 8 6 9 0 5 6\n",
      " 0 7 6 1 8 7 9 3 9 8 5 9 3 3 0 7 4 9 8 0 9 4 1 4 4 6 0 4 5 6 1 0 0 1 7 1 6\n",
      " 3 0 2 1 1 7 9 0 2 6 7 8 3 9 0 4 6 7 4 6 8 0 7 8 3 1]\n",
      "Testing 第21~30筆資料的比對結果:         0\n",
      "0    True\n",
      "1    True\n",
      "2    True\n",
      "3    True\n",
      "4    True\n",
      "5    True\n",
      "6    True\n",
      "7    True\n",
      "8    True\n",
      "9    True\n",
      "10   True\n",
      "11   True\n",
      "12   True\n",
      "13   True\n",
      "14   True\n",
      "15   True\n",
      "16   True\n",
      "17   True\n",
      "18   True\n",
      "19   True\n",
      "20   True\n",
      "21   True\n",
      "22  False\n",
      "23   True\n",
      "24   True\n",
      "25   True\n",
      "26   True\n",
      "27   True\n",
      "28   True\n",
      "29   True\n",
      "..    ...\n",
      "70   True\n",
      "71   True\n",
      "72   True\n",
      "73  False\n",
      "74   True\n",
      "75   True\n",
      "76   True\n",
      "77  False\n",
      "78   True\n",
      "79   True\n",
      "80  False\n",
      "81   True\n",
      "82   True\n",
      "83   True\n",
      "84   True\n",
      "85   True\n",
      "86   True\n",
      "87   True\n",
      "88   True\n",
      "89   True\n",
      "90   True\n",
      "91   True\n",
      "92   True\n",
      "93   True\n",
      "94   True\n",
      "95   True\n",
      "96   True\n",
      "97   True\n",
      "98  False\n",
      "99   True\n",
      "\n",
      "[100 rows x 1 columns]\n"
     ]
    }
   ],
   "source": [
    "# 抓出前五筆訓練資料的預測結果 Y_softmax (注意：這個是one-hot的格式)\n",
    "pred_tmp = Y_softmax.eval(feed_dict={X: test_X[:100]})\n",
    "pred_tmp_df = pd.DataFrame(pred_tmp)\n",
    "_ = pred_tmp_df.apply(np.argmax,axis=1)\n",
    "print('predict: ',_.values)\n",
    "showX(test_X[:100])\n",
    "batch_tx = test_X[:100]\n",
    "decoded_imgs = sess.run([decoded], feed_dict={X: batch_tx})\n",
    "decoded_imgs_1 = np.array(decoded_imgs)\n",
    "decoded_imgs_1 = decoded_imgs_1.reshape(-1,784)\n",
    "showX(decoded_imgs_1)\n",
    "print('answer: ',train_y[:100])\n",
    "_ = correct_prediction.eval({X: test_X[:100] , Y_: test_Y[:100]})\n",
    "print('Testing 第21~30筆資料的比對結果:',pd.DataFrame(_))"
   ]
  },
  {
   "cell_type": "code",
   "execution_count": 29,
   "metadata": {},
   "outputs": [
    {
     "name": "stdout",
     "output_type": "stream",
     "text": [
      "Accuracy: 0.9149\n"
     ]
    }
   ],
   "source": [
    "acc = sess.run(accuracy, feed_dict={X: test_X , Y_: test_Y})\n",
    "print('Accuracy:',acc)"
   ]
  },
  {
   "cell_type": "markdown",
   "metadata": {},
   "source": [
    "### Tensor Borad"
   ]
  },
  {
   "cell_type": "markdown",
   "metadata": {},
   "source": []
  },
  {
   "cell_type": "code",
   "execution_count": 30,
   "metadata": {
    "collapsed": true
   },
   "outputs": [],
   "source": [
    "LOG_DIR = 'tb-log0'\n",
    "input_data = train_X[:5000]\n",
    "input_y = train_y[:5000]\n",
    "if not os.path.exists(LOG_DIR):\n",
    "    os.mkdir(LOG_DIR)\n",
    "#把圖片的label存到metadata.tsv\n",
    "metadata_file_path = os.path.join(LOG_DIR, 'metadata.tsv')\n",
    "with open(metadata_file_path, 'w') as metadata_file:\n",
    "    for row in range(len(input_y)):\n",
    "        c=train_y[row]\n",
    "        metadata_file.write('{}\\n'.format(c))"
   ]
  },
  {
   "cell_type": "code",
   "execution_count": 31,
   "metadata": {
    "collapsed": true
   },
   "outputs": [],
   "source": [
    "#Save variable\n",
    "Input_Var = tf.Variable(input_data, name='Input_var')\n",
    "tmp_aevalue = encoded.eval({X: input_data})\n",
    "encoded_Var = tf.Variable(encoded.eval({X: input_data}), name='encoded_var')\n",
    "decoded_Var = tf.Variable(decoded.eval({X: input_data}), name='decoded_Var')\n",
    "\n",
    "saver = tf.train.Saver([Input_Var,encoded_Var,decoded_Var])\n",
    "sess.run(Input_Var.initializer)\n",
    "sess.run(encoded_Var.initializer)\n",
    "sess.run(decoded_Var.initializer)\n",
    "saver.save(sess, os.path.join(LOG_DIR, 'autoencoder_train.ckpt'))\n",
    "\n",
    "#在config裡面用一個embedding關聯 tensor & its metadata\n",
    "config = projector.ProjectorConfig()\n",
    "# One can add multiple embeddings.\n",
    "\n",
    "embedding1 = config.embeddings.add()\n",
    "embedding1.tensor_name = Input_Var.name\n",
    "embedding1.metadata_path = metadata_file_path\n",
    "\n",
    "embedding2 = config.embeddings.add()\n",
    "embedding2.tensor_name = encoded_Var.name\n",
    "embedding2.metadata_path = metadata_file_path\n",
    "\n",
    "embedding3 = config.embeddings.add()\n",
    "embedding3.tensor_name = decoded_Var.name\n",
    "embedding3.metadata_path = metadata_file_path\n",
    "\n",
    "#embedding4 = config.embeddings.add()\n",
    "#embedding4.tensor_name = Out_Var.name\n",
    "#embedding4.metadata_path = metadata_file_path\n",
    "\n",
    "#embedding.sprite.image_path = os.path.join(LOG_DIR, 'img/mnist_10k_sprite.png')\n",
    "# Specify the width and height of a single thumbnail.\n",
    "#embedding.sprite.single_image_dim.extend([28, 28])\n",
    "\n",
    "\n",
    "\n",
    "# Saves a config file that TensorBoard will read during startup.\n",
    "projector.visualize_embeddings(tf.summary.FileWriter(LOG_DIR), config)\n"
   ]
  },
  {
   "cell_type": "code",
   "execution_count": 32,
   "metadata": {
    "collapsed": true
   },
   "outputs": [],
   "source": [
    "#!tensorboard --logdir=tb-log0 --port=6006"
   ]
  }
 ],
 "metadata": {
  "anaconda-cloud": {},
  "kernelspec": {
   "display_name": "Python [conda root]",
   "language": "python",
   "name": "conda-root-py"
  },
  "language_info": {
   "codemirror_mode": {
    "name": "ipython",
    "version": 3
   },
   "file_extension": ".py",
   "mimetype": "text/x-python",
   "name": "python",
   "nbconvert_exporter": "python",
   "pygments_lexer": "ipython3",
   "version": "3.5.3"
  }
 },
 "nbformat": 4,
 "nbformat_minor": 2
}
